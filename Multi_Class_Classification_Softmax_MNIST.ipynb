{
  "nbformat": 4,
  "nbformat_minor": 0,
  "metadata": {
    "colab": {
      "name": "Multi-Class_Classification_Softmax-MNIST.ipynb",
      "provenance": [],
      "collapsed_sections": []
    },
    "kernelspec": {
      "name": "python3",
      "display_name": "Python 3"
    },
    "accelerator": "GPU"
  },
  "cells": [
    {
      "cell_type": "code",
      "metadata": {
        "id": "dYOSsZyFzzhQ"
      },
      "source": [
        "import numpy as np\r\n",
        "import pandas as pd\r\n",
        "import tensorflow as tf\r\n",
        "from tensorflow.keras import layers\r\n",
        "from matplotlib import pyplot as plt\r\n",
        "\r\n",
        "# The following lines adjust the granularity of reporting. \r\n",
        "pd.options.display.max_rows = 10\r\n",
        "pd.options.display.float_format = \"{:.1f}\".format\r\n",
        "\r\n",
        "# The following line improves formatting when ouputting NumPy arrays.\r\n",
        "np.set_printoptions(linewidth = 200)"
      ],
      "execution_count": 1,
      "outputs": []
    },
    {
      "cell_type": "markdown",
      "metadata": {
        "id": "0DoL0EEY0D6n"
      },
      "source": [
        "![Two images. The first image shows a somewhat fuzzy digit one. The second image shows a 14x14 floating-point array in which most of the cells contain 0 but a few cells contain values between 0.0 and 1.0. The pattern of nonzero values corresponds to the image of the fuzzy digit in the first image.](https://www.tensorflow.org/images/MNIST-Matrix.png)\r\n",
        "\r\n",
        "Each example in the MNIST dataset consists of:\r\n",
        "\r\n",
        "* A label specified by a [rater](https://developers.google.com/machine-learning/glossary/#rater).  Each label must be an integer from 0 to 9.  For example, in the preceding image, the rater would almost certainly assign the label `1` to the example.\r\n",
        "\r\n",
        "* A 28x28 pixel map, where each pixel is an integer between 0 and 255. The pixel values are on a gray scale in which 0 represents white, 255 represents black, and values between 0 and 255 represent various shades of gray.  "
      ]
    },
    {
      "cell_type": "code",
      "metadata": {
        "colab": {
          "base_uri": "https://localhost:8080/"
        },
        "id": "gJTE9er_0e1v",
        "outputId": "4e3c8957-bd4a-4b60-d06a-a28dccd99e44"
      },
      "source": [
        "(x_train, y_train),(x_test, y_test) = tf.keras.datasets.mnist.load_data()\r\n",
        "print('Training input size:', x_train.shape)\r\n",
        "print('Training input label size:', y_train.shape)\r\n",
        "print()\r\n",
        "print('Testing input size:', x_test.shape)\r\n",
        "print('Testing input label size:', y_test.shape)"
      ],
      "execution_count": 3,
      "outputs": [
        {
          "output_type": "stream",
          "text": [
            "Training input size: (60000, 28, 28)\n",
            "Training input label size: (60000,)\n",
            "\n",
            "Testing input size: (10000, 28, 28)\n",
            "Testing input label size: (10000,)\n"
          ],
          "name": "stdout"
        }
      ]
    },
    {
      "cell_type": "code",
      "metadata": {
        "colab": {
          "base_uri": "https://localhost:8080/"
        },
        "id": "BFPtEDqL0nQ_",
        "outputId": "bfaf8eb3-aa4f-4c0e-f32c-547790da1796"
      },
      "source": [
        "print('Sample of training input')\r\n",
        "print(x_train[1021])"
      ],
      "execution_count": 6,
      "outputs": [
        {
          "output_type": "stream",
          "text": [
            "Sample of training input\n",
            "[[  0   0   0   0   0   0   0   0   0   0   0   0   0   0   0   0   0   0   0   0   0   0   0   0   0   0   0   0]\n",
            " [  0   0   0   0   0   0   0   0   0   0   0   0   0   0   0   0   0   0   0   0   0   0   0   0   0   0   0   0]\n",
            " [  0   0   0   0   0   0   0   0   0   0   0   0   0   0   0   0   0   0   0   0   0   0   0   0   0   0   0   0]\n",
            " [  0   0   0   0   0   0   0   0   0   0   0   0   0   0   0   0   0   0   0   0   0   0   0   0   0   0   0   0]\n",
            " [  0   0   0   0   0   0   0   0   0   0   0   0   0   0   0   0   0   0  11 106 239  32   0   0   0   0   0   0]\n",
            " [  0   0   0   0   0   0   0   0   0   0   0   0   0   0   0   6  77 161 214 253 247  28   0   0   0   0   0   0]\n",
            " [  0   0   0   0   0   0   0   0   0   0   0   0   0   3  58 200 253 253 239 247 118   0   0   0   0   0   0   0]\n",
            " [  0   0   0   0   0   0   0   0   0   0   0   0  60 200 253 253 152 126 240  92   0   0   0   0   0   0   0   0]\n",
            " [  0   0   0   0   0   0   0   0   0   0  55 203 252 254 183  30  92 243 114   0   0   0   0   0   0   0   0   0]\n",
            " [  0   0   0   0   0   0   0   0   0  27 239 254 189  50   0  68 244  90   0   0   0   0   0   0   0   0   0   0]\n",
            " [  0   0   0   0   0   0   0   0   0  73 221 131   4   0  69 241 233 115  10   0   0   0   0   0   0   0   0   0]\n",
            " [  0   0   0   0   0   0   0   0   0   0   0   0   0 132 241 253 253 253 208   0   0   0   0   0   0   0   0   0]\n",
            " [  0   0   0   0   0   0   0   0   0   0   0  16 188 254 253 186 111 224 247  36   0   0   0   0   0   0   0   0]\n",
            " [  0   0   0   0   0   0   0   0   0   0   0 138 253 194  35   3   0 133 254 137   0   0   0   0   0   0   0   0]\n",
            " [  0   0   0   0   0   0   0   0   0   0   0 214 163  25   0   0   0  80 255  63   0   0   0   0   0   0   0   0]\n",
            " [  0   0   0   0   0   0   0   0   0   0   0  20   0   0   0   0   0  80 247  36   0   0   0   0   0   0   0   0]\n",
            " [  0   0   0   0   0   0   0   0   0   0   0   0   0   0   0   0   0 144 238   0   0   0   0   0   0   0   0   0]\n",
            " [  0   0   0   0   0   0   0   0   0   0   0   0   0   0   0   0   0 228 148   0   0   0   0   0   0   0   0   0]\n",
            " [  0   0   0   0   0  80  95   0   0   0   0   0   0   0   0   0  20 243   5   0   0   0   0   0   0   0   0   0]\n",
            " [  0   0   0   0  22 239 254  75   0   0   0   0   0   0   0   0 148 194   0   0   0   0   0   0   0   0   0   0]\n",
            " [  0   0   0   0  18 222 253 233 107   8   0   0   0   0   4  72 228  33   0   0   0   0   0   0   0   0   0   0]\n",
            " [  0   0   0   0   0  54 217 253 254 218 206 161 176 207 212 253  86   0   0   0   0   0   0   0   0   0   0   0]\n",
            " [  0   0   0   0   0   0  28 224 254 253 253 253 253 254 205 111   4   0   0   0   0   0   0   0   0   0   0   0]\n",
            " [  0   0   0   0   0   0   0  60 149 233 238 173 125  41   4   0   0   0   0   0   0   0   0   0   0   0   0   0]\n",
            " [  0   0   0   0   0   0   0   0   0   0   0   0   0   0   0   0   0   0   0   0   0   0   0   0   0   0   0   0]\n",
            " [  0   0   0   0   0   0   0   0   0   0   0   0   0   0   0   0   0   0   0   0   0   0   0   0   0   0   0   0]\n",
            " [  0   0   0   0   0   0   0   0   0   0   0   0   0   0   0   0   0   0   0   0   0   0   0   0   0   0   0   0]\n",
            " [  0   0   0   0   0   0   0   0   0   0   0   0   0   0   0   0   0   0   0   0   0   0   0   0   0   0   0   0]]\n"
          ],
          "name": "stdout"
        }
      ]
    },
    {
      "cell_type": "markdown",
      "metadata": {
        "id": "bQ8yjiCS1bxw"
      },
      "source": [
        "It seem like number 3. We can use matplotlib.pyplot.imshow to interpret the preceding numeric array as an image."
      ]
    },
    {
      "cell_type": "code",
      "metadata": {
        "colab": {
          "base_uri": "https://localhost:8080/",
          "height": 265
        },
        "id": "s9e3eVbP1Npx",
        "outputId": "c7b91547-ff31-462a-fac2-fdd9fd20ccd4"
      },
      "source": [
        "plt.figure()\r\n",
        "plt.imshow(x_train[1021])\r\n",
        "plt.colorbar()\r\n",
        "plt.grid(False)\r\n",
        "plt.show()"
      ],
      "execution_count": 38,
      "outputs": [
        {
          "output_type": "display_data",
          "data": {
            "image/png": "[encoded data removed]",
            "text/plain": [
              "<Figure size 432x288 with 2 Axes>"
            ]
          },
          "metadata": {
            "tags": [],
            "needs_background": "light"
          }
        }
      ]
    },
    {
      "cell_type": "markdown",
      "metadata": {
        "id": "bs68UbPA1yLm"
      },
      "source": [
        "In image processing task, normalize the pixels values is common procedure."
      ]
    },
    {
      "cell_type": "code",
      "metadata": {
        "id": "LySb0n011sYT"
      },
      "source": [
        "max_pixel_value = 255.0\r\n",
        "normalize_x_train = x_train / max_pixel_value\r\n",
        "normalize_x_test = x_test / max_pixel_value"
      ],
      "execution_count": 10,
      "outputs": []
    },
    {
      "cell_type": "code",
      "metadata": {
        "id": "bvuASHHG2PMg"
      },
      "source": [
        "def plot_curve(epochs, hist, list_of_metrics):\r\n",
        "\r\n",
        "  plt.figure()\r\n",
        "  plt.xlabel(\"Epoch\")\r\n",
        "  plt.ylabel(\"Value\")\r\n",
        "\r\n",
        "  for m in list_of_metrics:\r\n",
        "    x = hist[m]\r\n",
        "    plt.plot(epochs[1:], x[1:], label=m)\r\n",
        "\r\n",
        "  plt.legend()"
      ],
      "execution_count": 11,
      "outputs": []
    },
    {
      "cell_type": "code",
      "metadata": {
        "id": "LIDuY4HK2amE"
      },
      "source": [
        "num_possible_output = 10\r\n",
        "learning_rate = 0.001\r\n",
        "\r\n",
        "DNN_model = tf.keras.models.Sequential()\r\n",
        "DNN_model.add(tf.keras.layers.Flatten(input_shape=(28, 28)))  \r\n",
        "DNN_model.add(tf.keras.layers.Dense(units=32, activation='relu'))\r\n",
        "DNN_model.add(tf.keras.layers.Dropout(rate=0.2))\r\n",
        "DNN_model.add(tf.keras.layers.Dense(units=num_possible_output, activation='softmax'))     \r\n",
        "                            \r\n",
        "DNN_model.compile(optimizer=tf.keras.optimizers.Adam(lr=learning_rate),\r\n",
        "              loss=\"sparse_categorical_crossentropy\",\r\n",
        "              metrics=['accuracy'])"
      ],
      "execution_count": 13,
      "outputs": []
    },
    {
      "cell_type": "markdown",
      "metadata": {
        "id": "Q440kNP22m2a"
      },
      "source": [
        "The softmax activation function will output 10 possibilities values which indicate the input is mostly as which digit."
      ]
    },
    {
      "cell_type": "code",
      "metadata": {
        "colab": {
          "base_uri": "https://localhost:8080/"
        },
        "id": "0m_5bahM3rdc",
        "outputId": "97dc6f82-2ea6-41e7-ab9b-7e001cbf911f"
      },
      "source": [
        "history = DNN_model.fit(x=normalize_x_train, \r\n",
        "                        y=y_train, \r\n",
        "                        batch_size=5000,\r\n",
        "                        epochs=50, shuffle=True, \r\n",
        "                        validation_split=0.2)\r\n",
        "\r\n",
        "epochs = history.epoch\r\n",
        "hist = pd.DataFrame(history.history)"
      ],
      "execution_count": 16,
      "outputs": [
        {
          "output_type": "stream",
          "text": [
            "Epoch 1/50\n",
            "10/10 [==============================] - 2s 33ms/step - loss: 2.2084 - accuracy: 0.1969 - val_loss: 1.7651 - val_accuracy: 0.5845\n",
            "Epoch 2/50\n",
            "10/10 [==============================] - 0s 13ms/step - loss: 1.6878 - accuracy: 0.5399 - val_loss: 1.2772 - val_accuracy: 0.7388\n",
            "Epoch 3/50\n",
            "10/10 [==============================] - 0s 13ms/step - loss: 1.2938 - accuracy: 0.6581 - val_loss: 0.9527 - val_accuracy: 0.8004\n",
            "Epoch 4/50\n",
            "10/10 [==============================] - 0s 14ms/step - loss: 1.0417 - accuracy: 0.7148 - val_loss: 0.7542 - val_accuracy: 0.8332\n",
            "Epoch 5/50\n",
            "10/10 [==============================] - 0s 14ms/step - loss: 0.8746 - accuracy: 0.7579 - val_loss: 0.6327 - val_accuracy: 0.8553\n",
            "Epoch 6/50\n",
            "10/10 [==============================] - 0s 14ms/step - loss: 0.7671 - accuracy: 0.7854 - val_loss: 0.5560 - val_accuracy: 0.8711\n",
            "Epoch 7/50\n",
            "10/10 [==============================] - 0s 14ms/step - loss: 0.6910 - accuracy: 0.8059 - val_loss: 0.5022 - val_accuracy: 0.8818\n",
            "Epoch 8/50\n",
            "10/10 [==============================] - 0s 14ms/step - loss: 0.6350 - accuracy: 0.8222 - val_loss: 0.4632 - val_accuracy: 0.8893\n",
            "Epoch 9/50\n",
            "10/10 [==============================] - 0s 14ms/step - loss: 0.5982 - accuracy: 0.8301 - val_loss: 0.4330 - val_accuracy: 0.8946\n",
            "Epoch 10/50\n",
            "10/10 [==============================] - 0s 14ms/step - loss: 0.5676 - accuracy: 0.8358 - val_loss: 0.4104 - val_accuracy: 0.8980\n",
            "Epoch 11/50\n",
            "10/10 [==============================] - 0s 14ms/step - loss: 0.5349 - accuracy: 0.8489 - val_loss: 0.3908 - val_accuracy: 0.9035\n",
            "Epoch 12/50\n",
            "10/10 [==============================] - 0s 15ms/step - loss: 0.5169 - accuracy: 0.8535 - val_loss: 0.3734 - val_accuracy: 0.9062\n",
            "Epoch 13/50\n",
            "10/10 [==============================] - 0s 15ms/step - loss: 0.4952 - accuracy: 0.8587 - val_loss: 0.3600 - val_accuracy: 0.9087\n",
            "Epoch 14/50\n",
            "10/10 [==============================] - 0s 13ms/step - loss: 0.4783 - accuracy: 0.8639 - val_loss: 0.3484 - val_accuracy: 0.9097\n",
            "Epoch 15/50\n",
            "10/10 [==============================] - 0s 15ms/step - loss: 0.4727 - accuracy: 0.8646 - val_loss: 0.3380 - val_accuracy: 0.9122\n",
            "Epoch 16/50\n",
            "10/10 [==============================] - 0s 14ms/step - loss: 0.4485 - accuracy: 0.8736 - val_loss: 0.3280 - val_accuracy: 0.9142\n",
            "Epoch 17/50\n",
            "10/10 [==============================] - 0s 14ms/step - loss: 0.4397 - accuracy: 0.8752 - val_loss: 0.3195 - val_accuracy: 0.9158\n",
            "Epoch 18/50\n",
            "10/10 [==============================] - 0s 13ms/step - loss: 0.4330 - accuracy: 0.8777 - val_loss: 0.3120 - val_accuracy: 0.9172\n",
            "Epoch 19/50\n",
            "10/10 [==============================] - 0s 14ms/step - loss: 0.4163 - accuracy: 0.8829 - val_loss: 0.3053 - val_accuracy: 0.9186\n",
            "Epoch 20/50\n",
            "10/10 [==============================] - 0s 14ms/step - loss: 0.4088 - accuracy: 0.8838 - val_loss: 0.2981 - val_accuracy: 0.9205\n",
            "Epoch 21/50\n",
            "10/10 [==============================] - 0s 14ms/step - loss: 0.4026 - accuracy: 0.8846 - val_loss: 0.2924 - val_accuracy: 0.9212\n",
            "Epoch 22/50\n",
            "10/10 [==============================] - 0s 14ms/step - loss: 0.3890 - accuracy: 0.8887 - val_loss: 0.2867 - val_accuracy: 0.9233\n",
            "Epoch 23/50\n",
            "10/10 [==============================] - 0s 14ms/step - loss: 0.3886 - accuracy: 0.8883 - val_loss: 0.2821 - val_accuracy: 0.9244\n",
            "Epoch 24/50\n",
            "10/10 [==============================] - 0s 14ms/step - loss: 0.3763 - accuracy: 0.8919 - val_loss: 0.2769 - val_accuracy: 0.9253\n",
            "Epoch 25/50\n",
            "10/10 [==============================] - 0s 14ms/step - loss: 0.3698 - accuracy: 0.8941 - val_loss: 0.2715 - val_accuracy: 0.9261\n",
            "Epoch 26/50\n",
            "10/10 [==============================] - 0s 15ms/step - loss: 0.3669 - accuracy: 0.8942 - val_loss: 0.2683 - val_accuracy: 0.9269\n",
            "Epoch 27/50\n",
            "10/10 [==============================] - 0s 14ms/step - loss: 0.3562 - accuracy: 0.8968 - val_loss: 0.2631 - val_accuracy: 0.9284\n",
            "Epoch 28/50\n",
            "10/10 [==============================] - 0s 14ms/step - loss: 0.3527 - accuracy: 0.8980 - val_loss: 0.2601 - val_accuracy: 0.9286\n",
            "Epoch 29/50\n",
            "10/10 [==============================] - 0s 14ms/step - loss: 0.3452 - accuracy: 0.9007 - val_loss: 0.2560 - val_accuracy: 0.9299\n",
            "Epoch 30/50\n",
            "10/10 [==============================] - 0s 13ms/step - loss: 0.3469 - accuracy: 0.9005 - val_loss: 0.2526 - val_accuracy: 0.9313\n",
            "Epoch 31/50\n",
            "10/10 [==============================] - 0s 14ms/step - loss: 0.3396 - accuracy: 0.9030 - val_loss: 0.2486 - val_accuracy: 0.9318\n",
            "Epoch 32/50\n",
            "10/10 [==============================] - 0s 14ms/step - loss: 0.3397 - accuracy: 0.9014 - val_loss: 0.2453 - val_accuracy: 0.9327\n",
            "Epoch 33/50\n",
            "10/10 [==============================] - 0s 14ms/step - loss: 0.3289 - accuracy: 0.9062 - val_loss: 0.2427 - val_accuracy: 0.9329\n",
            "Epoch 34/50\n",
            "10/10 [==============================] - 0s 14ms/step - loss: 0.3245 - accuracy: 0.9070 - val_loss: 0.2402 - val_accuracy: 0.9337\n",
            "Epoch 35/50\n",
            "10/10 [==============================] - 0s 14ms/step - loss: 0.3247 - accuracy: 0.9053 - val_loss: 0.2371 - val_accuracy: 0.9350\n",
            "Epoch 36/50\n",
            "10/10 [==============================] - 0s 13ms/step - loss: 0.3210 - accuracy: 0.9068 - val_loss: 0.2343 - val_accuracy: 0.9354\n",
            "Epoch 37/50\n",
            "10/10 [==============================] - 0s 14ms/step - loss: 0.3131 - accuracy: 0.9089 - val_loss: 0.2319 - val_accuracy: 0.9357\n",
            "Epoch 38/50\n",
            "10/10 [==============================] - 0s 14ms/step - loss: 0.3133 - accuracy: 0.9117 - val_loss: 0.2289 - val_accuracy: 0.9374\n",
            "Epoch 39/50\n",
            "10/10 [==============================] - 0s 15ms/step - loss: 0.3101 - accuracy: 0.9103 - val_loss: 0.2266 - val_accuracy: 0.9368\n",
            "Epoch 40/50\n",
            "10/10 [==============================] - 0s 15ms/step - loss: 0.3026 - accuracy: 0.9139 - val_loss: 0.2236 - val_accuracy: 0.9381\n",
            "Epoch 41/50\n",
            "10/10 [==============================] - 0s 14ms/step - loss: 0.2982 - accuracy: 0.9145 - val_loss: 0.2221 - val_accuracy: 0.9383\n",
            "Epoch 42/50\n",
            "10/10 [==============================] - 0s 14ms/step - loss: 0.2971 - accuracy: 0.9130 - val_loss: 0.2195 - val_accuracy: 0.9387\n",
            "Epoch 43/50\n",
            "10/10 [==============================] - 0s 14ms/step - loss: 0.2943 - accuracy: 0.9144 - val_loss: 0.2178 - val_accuracy: 0.9398\n",
            "Epoch 44/50\n",
            "10/10 [==============================] - 0s 14ms/step - loss: 0.2931 - accuracy: 0.9156 - val_loss: 0.2153 - val_accuracy: 0.9398\n",
            "Epoch 45/50\n",
            "10/10 [==============================] - 0s 14ms/step - loss: 0.2952 - accuracy: 0.9137 - val_loss: 0.2133 - val_accuracy: 0.9403\n",
            "Epoch 46/50\n",
            "10/10 [==============================] - 0s 14ms/step - loss: 0.2901 - accuracy: 0.9156 - val_loss: 0.2111 - val_accuracy: 0.9410\n",
            "Epoch 47/50\n",
            "10/10 [==============================] - 0s 15ms/step - loss: 0.2870 - accuracy: 0.9168 - val_loss: 0.2093 - val_accuracy: 0.9421\n",
            "Epoch 48/50\n",
            "10/10 [==============================] - 0s 14ms/step - loss: 0.2796 - accuracy: 0.9201 - val_loss: 0.2080 - val_accuracy: 0.9417\n",
            "Epoch 49/50\n",
            "10/10 [==============================] - 0s 14ms/step - loss: 0.2757 - accuracy: 0.9193 - val_loss: 0.2055 - val_accuracy: 0.9429\n",
            "Epoch 50/50\n",
            "10/10 [==============================] - 0s 14ms/step - loss: 0.2795 - accuracy: 0.9186 - val_loss: 0.2042 - val_accuracy: 0.9426\n"
          ],
          "name": "stdout"
        }
      ]
    },
    {
      "cell_type": "code",
      "metadata": {
        "colab": {
          "base_uri": "https://localhost:8080/",
          "height": 279
        },
        "id": "jUf-E0bA4F3w",
        "outputId": "1fdfe968-7263-4a42-c97b-709ddbfc509c"
      },
      "source": [
        "plot_curve(epochs, hist, ['accuracy'])"
      ],
      "execution_count": 17,
      "outputs": [
        {
          "output_type": "display_data",
          "data": {
            "image/png": "[encoded data removed]",
            "text/plain": [
              "<Figure size 432x288 with 1 Axes>"
            ]
          },
          "metadata": {
            "tags": [],
            "needs_background": "light"
          }
        }
      ]
    },
    {
      "cell_type": "code",
      "metadata": {
        "colab": {
          "base_uri": "https://localhost:8080/"
        },
        "id": "5DK5jMlH4kw9",
        "outputId": "8eb069a1-01de-42e2-ee78-8c2d725a8922"
      },
      "source": [
        "eval_hist = DNN_model.evaluate(x=normalize_x_test, y=y_test, batch_size=5000)"
      ],
      "execution_count": 21,
      "outputs": [
        {
          "output_type": "stream",
          "text": [
            "2/2 [==============================] - 0s 10ms/step - loss: 0.2046 - accuracy: 0.9425\n"
          ],
          "name": "stdout"
        }
      ]
    },
    {
      "cell_type": "code",
      "metadata": {
        "colab": {
          "base_uri": "https://localhost:8080/"
        },
        "id": "ZNzGFOgZ5sA5",
        "outputId": "ea84a31f-b0d8-4966-e96c-b74a9ecf2207"
      },
      "source": [
        "print(\"Generate predictions for first 3 samples\")\r\n",
        "pred_prob = DNN_model.predict(normalize_x_test[:3])\r\n",
        "pred_prob"
      ],
      "execution_count": 42,
      "outputs": [
        {
          "output_type": "stream",
          "text": [
            "Generate predictions for first 3 samples\n"
          ],
          "name": "stdout"
        },
        {
          "output_type": "execute_result",
          "data": {
            "text/plain": [
              "array([[5.12696824e-05, 8.55883172e-07, 3.84409359e-04, 1.39342528e-03, 1.14503116e-07, 3.88216722e-05, 2.37397202e-07, 9.98009145e-01, 7.01588851e-06, 1.14796538e-04],\n",
              "       [1.33037262e-04, 3.28982278e-04, 9.97170389e-01, 3.78367666e-04, 4.39883969e-08, 8.26488395e-05, 1.84073474e-03, 2.54887652e-07, 6.55471158e-05, 9.22998400e-10],\n",
              "       [2.74691673e-04, 9.71217215e-01, 7.10834842e-03, 4.42994712e-03, 2.02057970e-04, 1.19132095e-03, 5.59784763e-04, 8.06467235e-03, 6.35720324e-03, 5.94713958e-04]], dtype=float32)"
            ]
          },
          "metadata": {
            "tags": []
          },
          "execution_count": 42
        }
      ]
    },
    {
      "cell_type": "code",
      "metadata": {
        "colab": {
          "base_uri": "https://localhost:8080/"
        },
        "id": "xCMk5X73-Wq-",
        "outputId": "95e0f88c-f0be-471c-ceb6-3bbadfad5e8d"
      },
      "source": [
        "print('The prediction output are:')\r\n",
        "for i in range(len(pred_prob)):\r\n",
        "  print(np.argmax(pred_prob[i]))"
      ],
      "execution_count": 49,
      "outputs": [
        {
          "output_type": "stream",
          "text": [
            "The prediction output are:\n",
            "7\n",
            "2\n",
            "1\n"
          ],
          "name": "stdout"
        }
      ]
    },
    {
      "cell_type": "code",
      "metadata": {
        "colab": {
          "base_uri": "https://localhost:8080/"
        },
        "id": "HAi8BVDI-e2t",
        "outputId": "558a300f-7eda-4bb5-a5f1-3b78ed676a5e"
      },
      "source": [
        "y_test[:3]"
      ],
      "execution_count": 50,
      "outputs": [
        {
          "output_type": "execute_result",
          "data": {
            "text/plain": [
              "array([7, 2, 1], dtype=uint8)"
            ]
          },
          "metadata": {
            "tags": []
          },
          "execution_count": 50
        }
      ]
    },
    {
      "cell_type": "code",
      "metadata": {
        "colab": {
          "base_uri": "https://localhost:8080/"
        },
        "id": "YWwziZMsAD46",
        "outputId": "e14e9e25-3b38-4849-8403-9264ad890b37"
      },
      "source": [
        "pred_output = DNN_model.predict(normalize_x_test)\r\n",
        "pred_output"
      ],
      "execution_count": 52,
      "outputs": [
        {
          "output_type": "execute_result",
          "data": {
            "text/plain": [
              "array([[5.1269781e-05, 8.5588476e-07, 3.8440988e-04, ..., 9.9800915e-01, 7.0158958e-06, 1.1479654e-04],\n",
              "       [1.3303726e-04, 3.2898228e-04, 9.9717039e-01, ..., 2.5488742e-07, 6.5547116e-05, 9.2299840e-10],\n",
              "       [2.7469167e-04, 9.7121722e-01, 7.1083452e-03, ..., 8.0646686e-03, 6.3572000e-03, 5.9471343e-04],\n",
              "       ...,\n",
              "       [3.2005590e-07, 2.0422973e-05, 1.9555971e-05, ..., 1.0418742e-04, 5.3392735e-04, 1.5675567e-02],\n",
              "       [7.4199554e-05, 2.7404554e-05, 3.1581760e-05, ..., 8.2994575e-06, 3.4489125e-02, 6.2814083e-06],\n",
              "       [1.0922209e-05, 5.9248215e-08, 8.2887441e-04, ..., 2.1672801e-07, 3.0917275e-07, 1.2643024e-08]], dtype=float32)"
            ]
          },
          "metadata": {
            "tags": []
          },
          "execution_count": 52
        }
      ]
    },
    {
      "cell_type": "code",
      "metadata": {
        "id": "st4bF6Qc6Hw7"
      },
      "source": [
        "Actual_digits = [0,1,2,3,4,5,6,7,8,9]\r\n",
        "\r\n",
        "def plot_image(i, predictions_array, true_label, img):\r\n",
        "  true_label, img = y_test[i], normalize_x_test[i]\r\n",
        "  plt.grid(False)\r\n",
        "  plt.xticks([])\r\n",
        "  plt.yticks([])\r\n",
        "\r\n",
        "  plt.imshow(img, cmap=plt.cm.binary)\r\n",
        "\r\n",
        "  predicted_label = np.argmax(predictions_array)\r\n",
        "  if predicted_label == true_label:\r\n",
        "    color = 'blue'\r\n",
        "  else:\r\n",
        "    color = 'red'\r\n",
        "\r\n",
        "  plt.xlabel(\"{} {:2.0f}% ({})\".format(Actual_digits[predicted_label],\r\n",
        "                                100*np.max(predictions_array),\r\n",
        "                                Actual_digits[true_label]),\r\n",
        "                                color=color)\r\n",
        "\r\n",
        "def plot_value_array(i, predictions_array, true_label):\r\n",
        "  true_label = true_label[i]\r\n",
        "  plt.grid(False)\r\n",
        "  plt.xticks(range(10))\r\n",
        "  plt.yticks([])\r\n",
        "  thisplot = plt.bar(range(10), predictions_array, color=\"#777777\")\r\n",
        "  plt.ylim([0, 1])\r\n",
        "  predicted_label = np.argmax(predictions_array)\r\n",
        "\r\n",
        "  thisplot[predicted_label].set_color('red')\r\n",
        "  thisplot[true_label].set_color('blue')"
      ],
      "execution_count": 59,
      "outputs": []
    },
    {
      "cell_type": "code",
      "metadata": {
        "colab": {
          "base_uri": "https://localhost:8080/",
          "height": 211
        },
        "id": "T-1xUOdt6LJq",
        "outputId": "498aeb0b-162e-4587-d71b-32cf82706338"
      },
      "source": [
        "i = 0\r\n",
        "plt.figure(figsize=(6,3))\r\n",
        "plt.subplot(1,2,1)\r\n",
        "plot_image(i, pred_output[i], y_test, normalize_x_test)\r\n",
        "plt.subplot(1,2,2)\r\n",
        "plot_value_array(i, pred_output[i],  y_test)\r\n",
        "plt.show()"
      ],
      "execution_count": 60,
      "outputs": [
        {
          "output_type": "display_data",
          "data": {
            "image/png": "[encoded data removed]",
            "text/plain": [
              "<Figure size 432x216 with 2 Axes>"
            ]
          },
          "metadata": {
            "tags": [],
            "needs_background": "light"
          }
        }
      ]
    },
    {
      "cell_type": "code",
      "metadata": {
        "colab": {
          "base_uri": "https://localhost:8080/",
          "height": 729
        },
        "id": "fVD52JDMAR6V",
        "outputId": "0b21baed-7aa8-429c-c1d5-0c079a86a2e9"
      },
      "source": [
        "num_rows = 5\r\n",
        "num_cols = 3\r\n",
        "num_images = num_rows*num_cols\r\n",
        "plt.figure(figsize=(2*2*num_cols, 2*num_rows))\r\n",
        "for i in range(num_images):\r\n",
        "  plt.subplot(num_rows, 2*num_cols, 2*i+1)\r\n",
        "  plot_image(i, pred_output[i], y_test, normalize_x_test)\r\n",
        "  plt.subplot(num_rows, 2*num_cols, 2*i+2)\r\n",
        "  plot_value_array(i, pred_output[i], y_test)\r\n",
        "plt.tight_layout()\r\n",
        "plt.show()"
      ],
      "execution_count": 61,
      "outputs": [
        {
          "output_type": "display_data",
          "data": {
            "image/png": "[encoded data removed]",
            "text/plain": [
              "<Figure size 864x720 with 30 Axes>"
            ]
          },
          "metadata": {
            "tags": [],
            "needs_background": "light"
          }
        }
      ]
    },
    {
      "cell_type": "code",
      "metadata": {
        "id": "Vx1ULO2oAyWC"
      },
      "source": [
        ""
      ],
      "execution_count": null,
      "outputs": []
    }
  ]
}