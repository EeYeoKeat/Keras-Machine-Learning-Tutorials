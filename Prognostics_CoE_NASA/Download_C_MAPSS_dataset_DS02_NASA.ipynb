{
  "nbformat": 4,
  "nbformat_minor": 0,
  "metadata": {
    "colab": {
      "name": "Download_C-MAPSS_dataset_DS02_NASA.ipynb",
      "provenance": []
    },
    "kernelspec": {
      "name": "python3",
      "display_name": "Python 3"
    },
    "language_info": {
      "name": "python"
    },
    "accelerator": "GPU"
  },
  "cells": [
    {
      "cell_type": "code",
      "metadata": {
        "id": "uIOGuhAuo2iJ"
      },
      "source": [
        "import os\n",
        "import h5py\n",
        "import time\n",
        "import matplotlib\n",
        "import numpy as np\n",
        "import pandas as pd\n",
        "import seaborn as sns\n",
        "from pandas import DataFrame\n",
        "import matplotlib.pyplot as plt\n",
        "from matplotlib import gridspec\n",
        "%matplotlib inline"
      ],
      "execution_count": 1,
      "outputs": []
    },
    {
      "cell_type": "code",
      "metadata": {
        "colab": {
          "base_uri": "https://localhost:8080/"
        },
        "id": "g3bTAVFTpJDR",
        "outputId": "4d3e247c-8499-4ee8-db7f-180764457fcc"
      },
      "source": [
        "!wget \"https://ti.arc.nasa.gov/m/project/prognostic-repository/data_set.zip\""
      ],
      "execution_count": 10,
      "outputs": [
        {
          "output_type": "stream",
          "text": [
            "--2021-03-23 06:46:26--  https://ti.arc.nasa.gov/m/project/prognostic-repository/data_set.zip\n",
            "Resolving ti.arc.nasa.gov (ti.arc.nasa.gov)... 128.102.105.66, 2001:4d0:6311:2227:14b6:372b:2078:2a94\n",
            "Connecting to ti.arc.nasa.gov (ti.arc.nasa.gov)|128.102.105.66|:443... connected.\n",
            "HTTP request sent, awaiting response... 200 OK\n",
            "Length: 15840929269 (15G) [application/zip]\n",
            "Saving to: ‘data_set.zip’\n",
            "\n",
            "data_set.zip        100%[===================>]  14.75G  40.4MB/s    in 6m 27s  \n",
            "\n",
            "2021-03-23 06:52:54 (39.0 MB/s) - ‘data_set.zip’ saved [15840929269/15840929269]\n",
            "\n"
          ],
          "name": "stdout"
        }
      ]
    },
    {
      "cell_type": "code",
      "metadata": {
        "colab": {
          "base_uri": "https://localhost:8080/"
        },
        "id": "zMOxHi024Eq4",
        "outputId": "8f55973e-bf27-402d-b299-00c987bd046e"
      },
      "source": [
        "!unzip data_set.zip"
      ],
      "execution_count": 12,
      "outputs": [
        {
          "output_type": "stream",
          "text": [
            "Archive:  data_set.zip\n",
            "   creating: data_set/\n",
            "  inflating: data_set/N-CMAPSS_DS01-005.h5  \n",
            "  inflating: data_set/N-CMAPSS_DS02-006.h5  \n",
            "  inflating: data_set/N-CMAPSS_DS03-012.h5  \n",
            "  inflating: data_set/N-CMAPSS_DS04.h5  \n",
            "  inflating: data_set/N-CMAPSS_DS05.h5  \n",
            "  inflating: data_set/N-CMAPSS_DS06.h5  \n",
            "  inflating: data_set/N-CMAPSS_DS07.h5  \n",
            "  inflating: data_set/N-CMAPSS_DS08a-009.h5  \n",
            "  inflating: data_set/N-CMAPSS_DS08c-008.h5  \n",
            "  inflating: data_set/N-CMAPSS_DS08d-010.h5  \n",
            "  inflating: data_set/N-CMAPSS_Example_data_loading_and_exploration.ipynb  \n",
            "  inflating: data_set/Run_to_Failure_Simulation_Under_Real_Flight_Conditions_Dataset.pdf  \n"
          ],
          "name": "stdout"
        }
      ]
    },
    {
      "cell_type": "code",
      "metadata": {
        "colab": {
          "base_uri": "https://localhost:8080/"
        },
        "id": "BmBnIjbLtbBb",
        "outputId": "14da7e74-70c2-4da2-c4b9-cbbd8ca970c3"
      },
      "source": [
        "!ls"
      ],
      "execution_count": 11,
      "outputs": [
        {
          "output_type": "stream",
          "text": [
            "data_set.zip  sample_data\n"
          ],
          "name": "stdout"
        }
      ]
    },
    {
      "cell_type": "code",
      "metadata": {
        "colab": {
          "base_uri": "https://localhost:8080/"
        },
        "id": "tA9yBbDj0LBD",
        "outputId": "07c6bd29-4cb2-4a3e-edfb-773a30c05ad2"
      },
      "source": [
        "### Set-up - Define file location\n",
        "filename = 'data_set/N-CMAPSS_DS02-006.h5'\n",
        "\n",
        "# Time tracking, Operation time (min):  0.003\n",
        "t = time.process_time()  \n",
        "\n",
        "# Load data\n",
        "with h5py.File(filename, 'r') as hdf:\n",
        "        # Development set\n",
        "        W_dev = np.array(hdf.get('W_dev'))             # W\n",
        "        X_s_dev = np.array(hdf.get('X_s_dev'))         # X_s\n",
        "        X_v_dev = np.array(hdf.get('X_v_dev'))         # X_v\n",
        "        T_dev = np.array(hdf.get('T_dev'))             # T\n",
        "        Y_dev = np.array(hdf.get('Y_dev'))             # RUL  \n",
        "        A_dev = np.array(hdf.get('A_dev'))             # Auxiliary\n",
        "\n",
        "        # Test set\n",
        "        W_test = np.array(hdf.get('W_test'))           # W\n",
        "        X_s_test = np.array(hdf.get('X_s_test'))       # X_s\n",
        "        X_v_test = np.array(hdf.get('X_v_test'))       # X_v\n",
        "        T_test = np.array(hdf.get('T_test'))           # T\n",
        "        Y_test = np.array(hdf.get('Y_test'))           # RUL  \n",
        "        A_test = np.array(hdf.get('A_test'))           # Auxiliary\n",
        "        \n",
        "        # Varnams\n",
        "        W_var = np.array(hdf.get('W_var'))\n",
        "        X_s_var = np.array(hdf.get('X_s_var'))  \n",
        "        X_v_var = np.array(hdf.get('X_v_var')) \n",
        "        T_var = np.array(hdf.get('T_var'))\n",
        "        A_var = np.array(hdf.get('A_var'))\n",
        "        \n",
        "        # from np.array to list dtype U4/U5\n",
        "        W_var = list(np.array(W_var, dtype='U20'))\n",
        "        X_s_var = list(np.array(X_s_var, dtype='U20'))  \n",
        "        X_v_var = list(np.array(X_v_var, dtype='U20')) \n",
        "        T_var = list(np.array(T_var, dtype='U20'))\n",
        "        A_var = list(np.array(A_var, dtype='U20'))\n",
        "                          \n",
        "W = np.concatenate((W_dev, W_test), axis=0)  \n",
        "X_s = np.concatenate((X_s_dev, X_s_test), axis=0)\n",
        "X_v = np.concatenate((X_v_dev, X_v_test), axis=0)\n",
        "T = np.concatenate((T_dev, T_test), axis=0)\n",
        "Y = np.concatenate((Y_dev, Y_test), axis=0) \n",
        "A = np.concatenate((A_dev, A_test), axis=0) \n",
        "    \n",
        "print('')\n",
        "print(\"Operation time (min): \" , (time.process_time()-t)/60)\n",
        "print('')\n",
        "print (\"W shape: \" + str(W.shape))\n",
        "print (\"X_s shape: \" + str(X_s.shape))\n",
        "print (\"X_v shape: \" + str(X_v.shape))\n",
        "print (\"T shape: \" + str(T.shape))\n",
        "print (\"A shape: \" + str(A.shape))"
      ],
      "execution_count": 17,
      "outputs": [
        {
          "output_type": "stream",
          "text": [
            "\n",
            "Operation time (min):  0.11340095329999998\n",
            "\n",
            "W shape: (6517190, 4)\n",
            "X_s shape: (6517190, 14)\n",
            "X_v shape: (6517190, 14)\n",
            "T shape: (6517190, 10)\n",
            "A shape: (6517190, 4)\n"
          ],
          "name": "stdout"
        }
      ]
    },
    {
      "cell_type": "code",
      "metadata": {
        "colab": {
          "base_uri": "https://localhost:8080/",
          "height": 297
        },
        "id": "kqW7TB7J0Np9",
        "outputId": "86b354be-a3be-4a13-b46c-15b6e4ad0b6c"
      },
      "source": [
        "df_A = DataFrame(data=A, columns=A_var)\n",
        "df_A.describe()"
      ],
      "execution_count": 18,
      "outputs": [
        {
          "output_type": "execute_result",
          "data": {
            "text/html": [
              "<div>\n",
              "<style scoped>\n",
              "    .dataframe tbody tr th:only-of-type {\n",
              "        vertical-align: middle;\n",
              "    }\n",
              "\n",
              "    .dataframe tbody tr th {\n",
              "        vertical-align: top;\n",
              "    }\n",
              "\n",
              "    .dataframe thead th {\n",
              "        text-align: right;\n",
              "    }\n",
              "</style>\n",
              "<table border=\"1\" class=\"dataframe\">\n",
              "  <thead>\n",
              "    <tr style=\"text-align: right;\">\n",
              "      <th></th>\n",
              "      <th>unit</th>\n",
              "      <th>cycle</th>\n",
              "      <th>Fc</th>\n",
              "      <th>hs</th>\n",
              "    </tr>\n",
              "  </thead>\n",
              "  <tbody>\n",
              "    <tr>\n",
              "      <th>count</th>\n",
              "      <td>6.517190e+06</td>\n",
              "      <td>6.517190e+06</td>\n",
              "      <td>6.517190e+06</td>\n",
              "      <td>6.517190e+06</td>\n",
              "    </tr>\n",
              "    <tr>\n",
              "      <th>mean</th>\n",
              "      <td>1.166711e+01</td>\n",
              "      <td>3.692344e+01</td>\n",
              "      <td>2.885376e+00</td>\n",
              "      <td>2.424109e-01</td>\n",
              "    </tr>\n",
              "    <tr>\n",
              "      <th>std</th>\n",
              "      <td>6.039334e+00</td>\n",
              "      <td>2.187185e+01</td>\n",
              "      <td>3.867783e-01</td>\n",
              "      <td>4.285416e-01</td>\n",
              "    </tr>\n",
              "    <tr>\n",
              "      <th>min</th>\n",
              "      <td>2.000000e+00</td>\n",
              "      <td>1.000000e+00</td>\n",
              "      <td>1.000000e+00</td>\n",
              "      <td>0.000000e+00</td>\n",
              "    </tr>\n",
              "    <tr>\n",
              "      <th>25%</th>\n",
              "      <td>5.000000e+00</td>\n",
              "      <td>1.800000e+01</td>\n",
              "      <td>3.000000e+00</td>\n",
              "      <td>0.000000e+00</td>\n",
              "    </tr>\n",
              "    <tr>\n",
              "      <th>50%</th>\n",
              "      <td>1.100000e+01</td>\n",
              "      <td>3.600000e+01</td>\n",
              "      <td>3.000000e+00</td>\n",
              "      <td>0.000000e+00</td>\n",
              "    </tr>\n",
              "    <tr>\n",
              "      <th>75%</th>\n",
              "      <td>1.800000e+01</td>\n",
              "      <td>5.400000e+01</td>\n",
              "      <td>3.000000e+00</td>\n",
              "      <td>0.000000e+00</td>\n",
              "    </tr>\n",
              "    <tr>\n",
              "      <th>max</th>\n",
              "      <td>2.000000e+01</td>\n",
              "      <td>8.900000e+01</td>\n",
              "      <td>3.000000e+00</td>\n",
              "      <td>1.000000e+00</td>\n",
              "    </tr>\n",
              "  </tbody>\n",
              "</table>\n",
              "</div>"
            ],
            "text/plain": [
              "               unit         cycle            Fc            hs\n",
              "count  6.517190e+06  6.517190e+06  6.517190e+06  6.517190e+06\n",
              "mean   1.166711e+01  3.692344e+01  2.885376e+00  2.424109e-01\n",
              "std    6.039334e+00  2.187185e+01  3.867783e-01  4.285416e-01\n",
              "min    2.000000e+00  1.000000e+00  1.000000e+00  0.000000e+00\n",
              "25%    5.000000e+00  1.800000e+01  3.000000e+00  0.000000e+00\n",
              "50%    1.100000e+01  3.600000e+01  3.000000e+00  0.000000e+00\n",
              "75%    1.800000e+01  5.400000e+01  3.000000e+00  0.000000e+00\n",
              "max    2.000000e+01  8.900000e+01  3.000000e+00  1.000000e+00"
            ]
          },
          "metadata": {
            "tags": []
          },
          "execution_count": 18
        }
      ]
    },
    {
      "cell_type": "code",
      "metadata": {
        "colab": {
          "base_uri": "https://localhost:8080/",
          "height": 359
        },
        "id": "ksc13YFE7xom",
        "outputId": "ddf17b5b-4ce5-4df9-a2d4-5441e0c9f930"
      },
      "source": [
        "df_A.head(10)"
      ],
      "execution_count": 20,
      "outputs": [
        {
          "output_type": "execute_result",
          "data": {
            "text/html": [
              "<div>\n",
              "<style scoped>\n",
              "    .dataframe tbody tr th:only-of-type {\n",
              "        vertical-align: middle;\n",
              "    }\n",
              "\n",
              "    .dataframe tbody tr th {\n",
              "        vertical-align: top;\n",
              "    }\n",
              "\n",
              "    .dataframe thead th {\n",
              "        text-align: right;\n",
              "    }\n",
              "</style>\n",
              "<table border=\"1\" class=\"dataframe\">\n",
              "  <thead>\n",
              "    <tr style=\"text-align: right;\">\n",
              "      <th></th>\n",
              "      <th>unit</th>\n",
              "      <th>cycle</th>\n",
              "      <th>Fc</th>\n",
              "      <th>hs</th>\n",
              "    </tr>\n",
              "  </thead>\n",
              "  <tbody>\n",
              "    <tr>\n",
              "      <th>0</th>\n",
              "      <td>2.0</td>\n",
              "      <td>1.0</td>\n",
              "      <td>3.0</td>\n",
              "      <td>1.0</td>\n",
              "    </tr>\n",
              "    <tr>\n",
              "      <th>1</th>\n",
              "      <td>2.0</td>\n",
              "      <td>1.0</td>\n",
              "      <td>3.0</td>\n",
              "      <td>1.0</td>\n",
              "    </tr>\n",
              "    <tr>\n",
              "      <th>2</th>\n",
              "      <td>2.0</td>\n",
              "      <td>1.0</td>\n",
              "      <td>3.0</td>\n",
              "      <td>1.0</td>\n",
              "    </tr>\n",
              "    <tr>\n",
              "      <th>3</th>\n",
              "      <td>2.0</td>\n",
              "      <td>1.0</td>\n",
              "      <td>3.0</td>\n",
              "      <td>1.0</td>\n",
              "    </tr>\n",
              "    <tr>\n",
              "      <th>4</th>\n",
              "      <td>2.0</td>\n",
              "      <td>1.0</td>\n",
              "      <td>3.0</td>\n",
              "      <td>1.0</td>\n",
              "    </tr>\n",
              "    <tr>\n",
              "      <th>5</th>\n",
              "      <td>2.0</td>\n",
              "      <td>1.0</td>\n",
              "      <td>3.0</td>\n",
              "      <td>1.0</td>\n",
              "    </tr>\n",
              "    <tr>\n",
              "      <th>6</th>\n",
              "      <td>2.0</td>\n",
              "      <td>1.0</td>\n",
              "      <td>3.0</td>\n",
              "      <td>1.0</td>\n",
              "    </tr>\n",
              "    <tr>\n",
              "      <th>7</th>\n",
              "      <td>2.0</td>\n",
              "      <td>1.0</td>\n",
              "      <td>3.0</td>\n",
              "      <td>1.0</td>\n",
              "    </tr>\n",
              "    <tr>\n",
              "      <th>8</th>\n",
              "      <td>2.0</td>\n",
              "      <td>1.0</td>\n",
              "      <td>3.0</td>\n",
              "      <td>1.0</td>\n",
              "    </tr>\n",
              "    <tr>\n",
              "      <th>9</th>\n",
              "      <td>2.0</td>\n",
              "      <td>1.0</td>\n",
              "      <td>3.0</td>\n",
              "      <td>1.0</td>\n",
              "    </tr>\n",
              "  </tbody>\n",
              "</table>\n",
              "</div>"
            ],
            "text/plain": [
              "   unit  cycle   Fc   hs\n",
              "0   2.0    1.0  3.0  1.0\n",
              "1   2.0    1.0  3.0  1.0\n",
              "2   2.0    1.0  3.0  1.0\n",
              "3   2.0    1.0  3.0  1.0\n",
              "4   2.0    1.0  3.0  1.0\n",
              "5   2.0    1.0  3.0  1.0\n",
              "6   2.0    1.0  3.0  1.0\n",
              "7   2.0    1.0  3.0  1.0\n",
              "8   2.0    1.0  3.0  1.0\n",
              "9   2.0    1.0  3.0  1.0"
            ]
          },
          "metadata": {
            "tags": []
          },
          "execution_count": 20
        }
      ]
    },
    {
      "cell_type": "code",
      "metadata": {
        "id": "K97AvbjF73MO"
      },
      "source": [
        ""
      ],
      "execution_count": null,
      "outputs": []
    }
  ]
}