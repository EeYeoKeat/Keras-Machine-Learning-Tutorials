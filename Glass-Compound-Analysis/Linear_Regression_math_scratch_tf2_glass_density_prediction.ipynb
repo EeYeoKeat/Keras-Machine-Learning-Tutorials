{
  "nbformat": 4,
  "nbformat_minor": 0,
  "metadata": {
    "colab": {
      "name": "Linear_Regression_math_scratch_tf2-glass_density_prediction.ipynb",
      "provenance": [],
      "collapsed_sections": []
    },
    "kernelspec": {
      "name": "python3",
      "display_name": "Python 3"
    }
  },
  "cells": [
    {
      "cell_type": "code",
      "metadata": {
        "id": "a2yEpVIcBqrg"
      },
      "source": [
        "import pandas as pd\r\n",
        "import numpy as np\r\n",
        "import matplotlib.pyplot as plt\r\n",
        "\r\n",
        "import tensorflow as tf\r\n",
        "from tensorflow.keras.layers.experimental import preprocessing\r\n",
        "import time\r\n",
        "from sklearn.model_selection import train_test_split"
      ],
      "execution_count": 1,
      "outputs": []
    },
    {
      "cell_type": "code",
      "metadata": {
        "colab": {
          "base_uri": "https://localhost:8080/",
          "height": 204
        },
        "id": "C4Hx91ViAvQu",
        "outputId": "0f1e43c5-59cf-4262-f57c-5150eab9f818"
      },
      "source": [
        "data = pd.read_csv('Molecular-data.csv')\r\n",
        "data.head()"
      ],
      "execution_count": 2,
      "outputs": [
        {
          "output_type": "execute_result",
          "data": {
            "text/html": [
              "<div>\n",
              "<style scoped>\n",
              "    .dataframe tbody tr th:only-of-type {\n",
              "        vertical-align: middle;\n",
              "    }\n",
              "\n",
              "    .dataframe tbody tr th {\n",
              "        vertical-align: top;\n",
              "    }\n",
              "\n",
              "    .dataframe thead th {\n",
              "        text-align: right;\n",
              "    }\n",
              "</style>\n",
              "<table border=\"1\" class=\"dataframe\">\n",
              "  <thead>\n",
              "    <tr style=\"text-align: right;\">\n",
              "      <th></th>\n",
              "      <th>Molar volume</th>\n",
              "      <th>Density</th>\n",
              "    </tr>\n",
              "  </thead>\n",
              "  <tbody>\n",
              "    <tr>\n",
              "      <th>0</th>\n",
              "      <td>26.379294</td>\n",
              "      <td>5.254</td>\n",
              "    </tr>\n",
              "    <tr>\n",
              "      <th>1</th>\n",
              "      <td>25.847969</td>\n",
              "      <td>5.362</td>\n",
              "    </tr>\n",
              "    <tr>\n",
              "      <th>2</th>\n",
              "      <td>26.510484</td>\n",
              "      <td>5.228</td>\n",
              "    </tr>\n",
              "    <tr>\n",
              "      <th>3</th>\n",
              "      <td>25.737570</td>\n",
              "      <td>5.385</td>\n",
              "    </tr>\n",
              "    <tr>\n",
              "      <th>4</th>\n",
              "      <td>25.402642</td>\n",
              "      <td>5.456</td>\n",
              "    </tr>\n",
              "  </tbody>\n",
              "</table>\n",
              "</div>"
            ],
            "text/plain": [
              "   Molar volume  Density\n",
              "0     26.379294    5.254\n",
              "1     25.847969    5.362\n",
              "2     26.510484    5.228\n",
              "3     25.737570    5.385\n",
              "4     25.402642    5.456"
            ]
          },
          "metadata": {
            "tags": []
          },
          "execution_count": 2
        }
      ]
    },
    {
      "cell_type": "code",
      "metadata": {
        "colab": {
          "base_uri": "https://localhost:8080/"
        },
        "id": "RaYSuNlhCBlc",
        "outputId": "6eabea86-1e6f-42d8-ed0f-2bbcd2543ddb"
      },
      "source": [
        "data.info()"
      ],
      "execution_count": 3,
      "outputs": [
        {
          "output_type": "stream",
          "text": [
            "<class 'pandas.core.frame.DataFrame'>\n",
            "RangeIndex: 50 entries, 0 to 49\n",
            "Data columns (total 2 columns):\n",
            " #   Column        Non-Null Count  Dtype  \n",
            "---  ------        --------------  -----  \n",
            " 0   Molar volume  50 non-null     float64\n",
            " 1   Density       50 non-null     float64\n",
            "dtypes: float64(2)\n",
            "memory usage: 928.0 bytes\n"
          ],
          "name": "stdout"
        }
      ]
    },
    {
      "cell_type": "code",
      "metadata": {
        "colab": {
          "base_uri": "https://localhost:8080/",
          "height": 297
        },
        "id": "y7Jy2sHOCECT",
        "outputId": "e1c3465a-7333-4bcd-de5f-d0702b08aaa2"
      },
      "source": [
        "data.describe()"
      ],
      "execution_count": 4,
      "outputs": [
        {
          "output_type": "execute_result",
          "data": {
            "text/html": [
              "<div>\n",
              "<style scoped>\n",
              "    .dataframe tbody tr th:only-of-type {\n",
              "        vertical-align: middle;\n",
              "    }\n",
              "\n",
              "    .dataframe tbody tr th {\n",
              "        vertical-align: top;\n",
              "    }\n",
              "\n",
              "    .dataframe thead th {\n",
              "        text-align: right;\n",
              "    }\n",
              "</style>\n",
              "<table border=\"1\" class=\"dataframe\">\n",
              "  <thead>\n",
              "    <tr style=\"text-align: right;\">\n",
              "      <th></th>\n",
              "      <th>Molar volume</th>\n",
              "      <th>Density</th>\n",
              "    </tr>\n",
              "  </thead>\n",
              "  <tbody>\n",
              "    <tr>\n",
              "      <th>count</th>\n",
              "      <td>50.000000</td>\n",
              "      <td>50.000000</td>\n",
              "    </tr>\n",
              "    <tr>\n",
              "      <th>mean</th>\n",
              "      <td>26.703613</td>\n",
              "      <td>5.386080</td>\n",
              "    </tr>\n",
              "    <tr>\n",
              "      <th>std</th>\n",
              "      <td>1.331481</td>\n",
              "      <td>0.267123</td>\n",
              "    </tr>\n",
              "    <tr>\n",
              "      <th>min</th>\n",
              "      <td>22.778641</td>\n",
              "      <td>4.609000</td>\n",
              "    </tr>\n",
              "    <tr>\n",
              "      <th>25%</th>\n",
              "      <td>25.975829</td>\n",
              "      <td>5.258000</td>\n",
              "    </tr>\n",
              "    <tr>\n",
              "      <th>50%</th>\n",
              "      <td>26.553503</td>\n",
              "      <td>5.373500</td>\n",
              "    </tr>\n",
              "    <tr>\n",
              "      <th>75%</th>\n",
              "      <td>27.372057</td>\n",
              "      <td>5.488750</td>\n",
              "    </tr>\n",
              "    <tr>\n",
              "      <th>max</th>\n",
              "      <td>30.605477</td>\n",
              "      <td>6.409000</td>\n",
              "    </tr>\n",
              "  </tbody>\n",
              "</table>\n",
              "</div>"
            ],
            "text/plain": [
              "       Molar volume    Density\n",
              "count     50.000000  50.000000\n",
              "mean      26.703613   5.386080\n",
              "std        1.331481   0.267123\n",
              "min       22.778641   4.609000\n",
              "25%       25.975829   5.258000\n",
              "50%       26.553503   5.373500\n",
              "75%       27.372057   5.488750\n",
              "max       30.605477   6.409000"
            ]
          },
          "metadata": {
            "tags": []
          },
          "execution_count": 4
        }
      ]
    },
    {
      "cell_type": "code",
      "metadata": {
        "id": "-L5CivYPCNay"
      },
      "source": [
        "mv = data['Molar volume']\r\n",
        "density = data['Density']"
      ],
      "execution_count": 5,
      "outputs": []
    },
    {
      "cell_type": "code",
      "metadata": {
        "colab": {
          "base_uri": "https://localhost:8080/",
          "height": 295
        },
        "id": "6o3BpocrCvnV",
        "outputId": "6c66ba9b-44ba-4828-e3b4-ed7539022d0a"
      },
      "source": [
        "plt.scatter(mv, density)\r\n",
        "plt.title('Density against Molar Volume')\r\n",
        "plt.xlabel('Molar Volume')\r\n",
        "plt.ylabel('Density')\r\n",
        "plt.show()"
      ],
      "execution_count": 6,
      "outputs": [
        {
          "output_type": "display_data",
          "data": {
            "image/png": "[encoded data removed]",
            "text/plain": [
              "<Figure size 432x288 with 1 Axes>"
            ]
          },
          "metadata": {
            "tags": [],
            "needs_background": "light"
          }
        }
      ]
    },
    {
      "cell_type": "markdown",
      "metadata": {
        "id": "ZaUGSz0DFO4S"
      },
      "source": [
        "From the scattering above, we can noticed that the higher the molar volume, the smaller the density value. Although the relationship can be observed through this plotting, we still need a model to make prediction on density according to the feature, in this case, molar volume is the only feature input."
      ]
    },
    {
      "cell_type": "code",
      "metadata": {
        "colab": {
          "base_uri": "https://localhost:8080/"
        },
        "id": "Ck0vV6lKy2ki",
        "outputId": "b2bfc73e-fa36-4310-f770-8ffe64b8edc1"
      },
      "source": [
        "input_X = data['Molar volume'].values\r\n",
        "input_X"
      ],
      "execution_count": 7,
      "outputs": [
        {
          "output_type": "execute_result",
          "data": {
            "text/plain": [
              "array([26.37929429, 25.84796945, 26.51048435, 25.73756958, 25.40264153,\n",
              "       24.93196838, 26.61229113, 26.69430127, 26.43463899, 26.49528048,\n",
              "       25.3706195 , 25.01962476, 25.90645444, 30.6054772 , 25.53596025,\n",
              "       24.55791163, 28.71171268, 26.72615468, 25.96367465, 27.37978346,\n",
              "       26.42689681, 26.28653418, 26.30580583, 26.15241921, 26.92766916,\n",
              "       25.87891753, 26.77195982, 26.89235087, 26.4074474 , 28.52235227,\n",
              "       26.73778549, 29.06975484, 26.59652192, 27.70176638, 22.77864079,\n",
              "       27.67026323, 27.34887763, 27.00486659, 29.81178452, 26.2238744 ,\n",
              "       26.01229035, 27.7118053 , 27.09475105, 25.2856653 , 28.06278658,\n",
              "       27.72733302, 28.27659829, 26.15435888, 27.73769451, 26.77708171])"
            ]
          },
          "metadata": {
            "tags": []
          },
          "execution_count": 7
        }
      ]
    },
    {
      "cell_type": "code",
      "metadata": {
        "colab": {
          "base_uri": "https://localhost:8080/"
        },
        "id": "bw_WZJzbzMNf",
        "outputId": "1124baed-b273-433e-f0de-1d75efaeb314"
      },
      "source": [
        "actual_Y = data['Density'].values\r\n",
        "actual_Y"
      ],
      "execution_count": 8,
      "outputs": [
        {
          "output_type": "execute_result",
          "data": {
            "text/plain": [
              "array([5.254, 5.362, 5.228, 5.385, 5.456, 5.559, 5.208, 5.192, 5.243,\n",
              "       5.231, 5.56 , 5.638, 5.445, 4.609, 5.524, 5.744, 4.913, 5.278,\n",
              "       5.433, 5.152, 5.431, 5.46 , 5.456, 5.488, 5.33 , 5.546, 5.361,\n",
              "       5.337, 5.435, 5.032, 5.46 , 5.022, 5.489, 5.27 , 6.409, 5.276,\n",
              "       5.338, 5.406, 4.897, 5.567, 5.707, 5.357, 5.479, 5.871, 5.29 ,\n",
              "       5.354, 5.25 , 5.676, 5.352, 5.544])"
            ]
          },
          "metadata": {
            "tags": []
          },
          "execution_count": 8
        }
      ]
    },
    {
      "cell_type": "code",
      "metadata": {
        "colab": {
          "base_uri": "https://localhost:8080/"
        },
        "id": "cMEKSxRhzWL_",
        "outputId": "f0e4e234-fbb4-46ff-c06a-ac9f6a95673c"
      },
      "source": [
        "train_features, test_features, train_labels, test_labels = train_test_split(input_X, actual_Y, test_size=0.2)\r\n",
        "print('Shape of train_features is', train_features.shape)\r\n",
        "print('Shape of test_features is', test_features.shape)\r\n",
        "print('Shape of train_labels is', train_labels.shape)\r\n",
        "print('Shape of test_labels is', test_labels.shape)"
      ],
      "execution_count": 9,
      "outputs": [
        {
          "output_type": "stream",
          "text": [
            "Shape of train_features is (40,)\n",
            "Shape of test_features is (10,)\n",
            "Shape of train_labels is (40,)\n",
            "Shape of test_labels is (10,)\n"
          ],
          "name": "stdout"
        }
      ]
    },
    {
      "cell_type": "code",
      "metadata": {
        "colab": {
          "base_uri": "https://localhost:8080/"
        },
        "id": "_ITharro5guH",
        "outputId": "0965d555-9ecd-4ac2-cd81-2a3b1ec7b1cf"
      },
      "source": [
        "train_X = train_features.reshape([train_features.shape[0],1])\r\n",
        "test_x = test_features.reshape([test_features.shape[0],1])\r\n",
        "train_Y = train_labels.reshape([train_labels.shape[0],1])\r\n",
        "test_y = test_labels.reshape([test_labels.shape[0],1])\r\n",
        "print('Shape of train_X is', train_X.shape)\r\n",
        "print('Shape of test_x is', test_x.shape)\r\n",
        "print('Shape of train_Y is', train_Y.shape)\r\n",
        "print('Shape of test_y is', test_y.shape)"
      ],
      "execution_count": 10,
      "outputs": [
        {
          "output_type": "stream",
          "text": [
            "Shape of train_X is (40, 1)\n",
            "Shape of test_x is (10, 1)\n",
            "Shape of train_Y is (40, 1)\n",
            "Shape of test_y is (10, 1)\n"
          ],
          "name": "stdout"
        }
      ]
    },
    {
      "cell_type": "code",
      "metadata": {
        "id": "BDtDLus93hku"
      },
      "source": [
        "X = tf.constant(train_X, dtype=tf.float32)\r\n",
        "Y = tf.constant(train_Y, dtype=tf.float32) \r\n",
        "                                                          \r\n",
        "test_X = tf.constant(test_x, dtype=tf.float32) \r\n",
        "test_Y = tf.constant(test_y, dtype=tf.float32)\r\n",
        "\r\n",
        "m = tf.Variable(1., shape=tf.TensorShape(None))\r\n",
        "b = tf.Variable(1)"
      ],
      "execution_count": 11,
      "outputs": []
    },
    {
      "cell_type": "code",
      "metadata": {
        "id": "upN0s4cOz3oa"
      },
      "source": [
        "def mean_squared_error(Y , y_pred):\r\n",
        "    return tf.reduce_mean(tf.square(Y - y_pred))\r\n",
        "\r\n",
        "def mean_squared_error_deriv(Y , y_pred):\r\n",
        "    return tf.reduce_mean((y_pred - Y))\r\n",
        "    \r\n",
        "def predict(x, m, b):\r\n",
        "    return m*x + b"
      ],
      "execution_count": 18,
      "outputs": []
    },
    {
      "cell_type": "code",
      "metadata": {
        "colab": {
          "base_uri": "https://localhost:8080/"
        },
        "id": "uOQ3t28o3SX-",
        "outputId": "794f3e60-e6b4-469c-9790-0f03dab07037"
      },
      "source": [
        "num_epochs = 1000000\r\n",
        "num_samples = X.shape[0]\r\n",
        "batch_size = 25\r\n",
        "learning_rate = 0.001\r\n",
        "\r\n",
        "dataset = tf.data.Dataset.from_tensor_slices((X , Y)) \r\n",
        "dataset = dataset.repeat(num_epochs).batch(batch_size)\r\n",
        "iterator = dataset.__iter__()\r\n",
        "\r\n",
        "num_features = X.shape[1]\r\n",
        "weights = tf.random.normal((num_features , 1)) \r\n",
        "bias = 0.000\r\n",
        "\r\n",
        "epochs_plot = []\r\n",
        "loss_plot = []\r\n",
        "\r\n",
        "# time the computation\r\n",
        "start_time = time.time()\r\n",
        "\r\n",
        "for i in range(num_epochs):\r\n",
        "    \r\n",
        "    epoch_loss = []\r\n",
        "    for b in range(int(num_samples/batch_size)):\r\n",
        "        x_batch , y_batch = iterator.get_next()\r\n",
        "   \r\n",
        "        output = predict(x_batch , weights , bias) \r\n",
        "        loss = epoch_loss.append(mean_squared_error(y_batch,output).numpy())\r\n",
        "    \r\n",
        "        dJ_dH = mean_squared_error_deriv(y_batch , output)\r\n",
        "        dH_dW = x_batch\r\n",
        "        dJ_dW = tf.reduce_mean(dJ_dH * dH_dW)\r\n",
        "        dJ_dB = tf.reduce_mean(dJ_dH)\r\n",
        "    \r\n",
        "        weights -= (learning_rate * dJ_dW)\r\n",
        "        bias -= (learning_rate * dJ_dB) \r\n",
        "        \r\n",
        "    loss = np.array(epoch_loss).mean()\r\n",
        "    epochs_plot.append(i + 1)\r\n",
        "    loss_plot.append(loss) \r\n",
        "    \r\n",
        "    if i % 10000 == 0:\r\n",
        "      print('Epoch: {}, Training loss: {}'.format(i, loss))\r\n",
        "\r\n",
        "print(\"\\n--- %s seconds ---\" % (time.time() - start_time)) "
      ],
      "execution_count": 36,
      "outputs": [
        {
          "output_type": "stream",
          "text": [
            "Epoch: 0, Training loss: 97.24431610107422\n",
            "Epoch: 10000, Training loss: 0.1585189700126648\n",
            "Epoch: 20000, Training loss: 0.15833985805511475\n",
            "Epoch: 30000, Training loss: 0.1581609547138214\n",
            "Epoch: 40000, Training loss: 0.15798228979110718\n",
            "Epoch: 50000, Training loss: 0.15780368447303772\n",
            "Epoch: 60000, Training loss: 0.1576254665851593\n",
            "Epoch: 70000, Training loss: 0.15744735300540924\n",
            "Epoch: 80000, Training loss: 0.1572694629430771\n",
            "Epoch: 90000, Training loss: 0.1570918709039688\n",
            "Epoch: 100000, Training loss: 0.15691445767879486\n",
            "Epoch: 110000, Training loss: 0.15673719346523285\n",
            "Epoch: 120000, Training loss: 0.15656018257141113\n",
            "Epoch: 130000, Training loss: 0.1563834547996521\n",
            "Epoch: 140000, Training loss: 0.15620683133602142\n",
            "Epoch: 150000, Training loss: 0.15603038668632507\n",
            "Epoch: 160000, Training loss: 0.1558542251586914\n",
            "Epoch: 170000, Training loss: 0.15567828714847565\n",
            "Epoch: 180000, Training loss: 0.15550243854522705\n",
            "Epoch: 190000, Training loss: 0.15532690286636353\n",
            "Epoch: 200000, Training loss: 0.15515148639678955\n",
            "Epoch: 210000, Training loss: 0.15497636795043945\n",
            "Epoch: 220000, Training loss: 0.15480148792266846\n",
            "Epoch: 230000, Training loss: 0.15462662279605865\n",
            "Epoch: 240000, Training loss: 0.15445223450660706\n",
            "Epoch: 250000, Training loss: 0.15427780151367188\n",
            "Epoch: 260000, Training loss: 0.15410374104976654\n",
            "Epoch: 270000, Training loss: 0.15392985939979553\n",
            "Epoch: 280000, Training loss: 0.15375615656375885\n",
            "Epoch: 290000, Training loss: 0.15358251333236694\n",
            "Epoch: 300000, Training loss: 0.15340940654277802\n",
            "Epoch: 310000, Training loss: 0.15323632955551147\n",
            "Epoch: 320000, Training loss: 0.15306344628334045\n",
            "Epoch: 330000, Training loss: 0.15289075672626495\n",
            "Epoch: 340000, Training loss: 0.15271824598312378\n",
            "Epoch: 350000, Training loss: 0.15254594385623932\n",
            "Epoch: 360000, Training loss: 0.15237395465373993\n",
            "Epoch: 370000, Training loss: 0.1522020548582077\n",
            "Epoch: 380000, Training loss: 0.15203046798706055\n",
            "Epoch: 390000, Training loss: 0.15185904502868652\n",
            "Epoch: 400000, Training loss: 0.151687890291214\n",
            "Epoch: 410000, Training loss: 0.15151679515838623\n",
            "Epoch: 420000, Training loss: 0.15134593844413757\n",
            "Epoch: 430000, Training loss: 0.15117554366588593\n",
            "Epoch: 440000, Training loss: 0.15100497007369995\n",
            "Epoch: 450000, Training loss: 0.15083475410938263\n",
            "Epoch: 460000, Training loss: 0.15066425502300262\n",
            "Epoch: 470000, Training loss: 0.15049512684345245\n",
            "Epoch: 480000, Training loss: 0.15032535791397095\n",
            "Epoch: 490000, Training loss: 0.15015560388565063\n",
            "Epoch: 500000, Training loss: 0.14998656511306763\n",
            "Epoch: 510000, Training loss: 0.14981774985790253\n",
            "Epoch: 520000, Training loss: 0.14964893460273743\n",
            "Epoch: 530000, Training loss: 0.14948011934757233\n",
            "Epoch: 540000, Training loss: 0.14931140840053558\n",
            "Epoch: 550000, Training loss: 0.14914380013942719\n",
            "Epoch: 560000, Training loss: 0.14897562563419342\n",
            "Epoch: 570000, Training loss: 0.1488075852394104\n",
            "Epoch: 580000, Training loss: 0.14864006638526917\n",
            "Epoch: 590000, Training loss: 0.1484726220369339\n",
            "Epoch: 600000, Training loss: 0.14830555021762848\n",
            "Epoch: 610000, Training loss: 0.1481381207704544\n",
            "Epoch: 620000, Training loss: 0.1479712575674057\n",
            "Epoch: 630000, Training loss: 0.14780502021312714\n",
            "Epoch: 640000, Training loss: 0.14763830602169037\n",
            "Epoch: 650000, Training loss: 0.1474720984697342\n",
            "Epoch: 660000, Training loss: 0.14730611443519592\n",
            "Epoch: 670000, Training loss: 0.14714032411575317\n",
            "Epoch: 680000, Training loss: 0.14697499573230743\n",
            "Epoch: 690000, Training loss: 0.14680905640125275\n",
            "Epoch: 700000, Training loss: 0.14664393663406372\n",
            "Epoch: 710000, Training loss: 0.14647918939590454\n",
            "Epoch: 720000, Training loss: 0.14631405472755432\n",
            "Epoch: 730000, Training loss: 0.14614932239055634\n",
            "Epoch: 740000, Training loss: 0.14598487317562103\n",
            "Epoch: 750000, Training loss: 0.1458207666873932\n",
            "Epoch: 760000, Training loss: 0.14565682411193848\n",
            "Epoch: 770000, Training loss: 0.14549243450164795\n",
            "Epoch: 780000, Training loss: 0.1453288495540619\n",
            "Epoch: 790000, Training loss: 0.1451655626296997\n",
            "Epoch: 800000, Training loss: 0.145002081990242\n",
            "Epoch: 810000, Training loss: 0.14483901858329773\n",
            "Epoch: 820000, Training loss: 0.1446758657693863\n",
            "Epoch: 830000, Training loss: 0.1445135772228241\n",
            "Epoch: 840000, Training loss: 0.14435115456581116\n",
            "Epoch: 850000, Training loss: 0.1441883146762848\n",
            "Epoch: 860000, Training loss: 0.14402629435062408\n",
            "Epoch: 870000, Training loss: 0.14386478066444397\n",
            "Epoch: 880000, Training loss: 0.1437021940946579\n",
            "Epoch: 890000, Training loss: 0.14353908598423004\n",
            "Epoch: 900000, Training loss: 0.1433790922164917\n",
            "Epoch: 910000, Training loss: 0.1432170271873474\n",
            "Epoch: 920000, Training loss: 0.14305606484413147\n",
            "Epoch: 930000, Training loss: 0.14289508759975433\n",
            "Epoch: 940000, Training loss: 0.14273498952388763\n",
            "Epoch: 950000, Training loss: 0.14257515966892242\n",
            "Epoch: 960000, Training loss: 0.14241553843021393\n",
            "Epoch: 970000, Training loss: 0.142255499958992\n",
            "Epoch: 980000, Training loss: 0.142095148563385\n",
            "Epoch: 990000, Training loss: 0.1419338583946228\n",
            "\n",
            "--- 743.8417706489563 seconds ---\n"
          ],
          "name": "stdout"
        }
      ]
    },
    {
      "cell_type": "markdown",
      "metadata": {
        "id": "7MEhY1DNdOV-"
      },
      "source": [
        "Although given 100000 iteration learning, it did not converge nicely, we may try normalized the data on next section."
      ]
    },
    {
      "cell_type": "code",
      "metadata": {
        "colab": {
          "base_uri": "https://localhost:8080/"
        },
        "id": "I36DYVA4HVJo",
        "outputId": "0f1e9b77-be62-4561-d8cc-14c279bb6b53"
      },
      "source": [
        "pred_Y = predict(test_X, weights , bias)\r\n",
        "pred_Y"
      ],
      "execution_count": 37,
      "outputs": [
        {
          "output_type": "execute_result",
          "data": {
            "text/plain": [
              "<tf.Tensor: shape=(10, 1), dtype=float32, numpy=\n",
              "array([[5.6395893],\n",
              "       [5.214584 ],\n",
              "       [5.283212 ],\n",
              "       [5.034375 ],\n",
              "       [5.1142044],\n",
              "       [5.2111793],\n",
              "       [5.2908936],\n",
              "       [5.0785904],\n",
              "       [5.562726 ],\n",
              "       [4.591507 ]], dtype=float32)>"
            ]
          },
          "metadata": {
            "tags": []
          },
          "execution_count": 37
        }
      ]
    },
    {
      "cell_type": "code",
      "metadata": {
        "colab": {
          "base_uri": "https://localhost:8080/"
        },
        "id": "CxSuNRdOHrvJ",
        "outputId": "bbcf2943-b0c7-4887-cfa2-c44998466822"
      },
      "source": [
        "test_Y"
      ],
      "execution_count": 38,
      "outputs": [
        {
          "output_type": "execute_result",
          "data": {
            "text/plain": [
              "<tf.Tensor: shape=(10, 1), dtype=float32, numpy=\n",
              "array([[4.913],\n",
              "       [5.456],\n",
              "       [5.192],\n",
              "       [5.871],\n",
              "       [5.385],\n",
              "       [5.46 ],\n",
              "       [5.46 ],\n",
              "       [5.524],\n",
              "       [5.25 ],\n",
              "       [6.409]], dtype=float32)>"
            ]
          },
          "metadata": {
            "tags": []
          },
          "execution_count": 38
        }
      ]
    },
    {
      "cell_type": "code",
      "metadata": {
        "colab": {
          "base_uri": "https://localhost:8080/",
          "height": 295
        },
        "id": "KzcQ7-Ex2NzO",
        "outputId": "fb7afa1a-f8cb-4a5f-8e18-ab6ea8e7ca3c"
      },
      "source": [
        "plt.plot(pred_Y, label='Predictions')\r\n",
        "plt.plot(test_Y, label='Actual')\r\n",
        "plt.title('Density against Molar Volume')\r\n",
        "plt.xlabel('Molar Volume')\r\n",
        "plt.ylabel('Density')\r\n",
        "plt.legend()\r\n",
        "plt.show()"
      ],
      "execution_count": 39,
      "outputs": [
        {
          "output_type": "display_data",
          "data": {
            "image/png": "[encoded data removed]",
            "text/plain": [
              "<Figure size 432x288 with 1 Axes>"
            ]
          },
          "metadata": {
            "tags": [],
            "needs_background": "light"
          }
        }
      ]
    },
    {
      "cell_type": "code",
      "metadata": {
        "colab": {
          "base_uri": "https://localhost:8080/"
        },
        "id": "O4LNgtz6IWh4",
        "outputId": "73e18dda-a623-4b6b-8aff-efdae15397f4"
      },
      "source": [
        "x = input_X.reshape(-1,1).astype(np.float32)\r\n",
        "pred_all = predict(x, weights , bias)\r\n",
        "pred_all.numpy()[:10]"
      ],
      "execution_count": 40,
      "outputs": [
        {
          "output_type": "execute_result",
          "data": {
            "text/plain": [
              "array([[5.227566 ],\n",
              "       [5.1337066],\n",
              "       [5.2507405],\n",
              "       [5.1142044],\n",
              "       [5.055039 ],\n",
              "       [4.9718943],\n",
              "       [5.268725 ],\n",
              "       [5.283212 ],\n",
              "       [5.2373424],\n",
              "       [5.248055 ]], dtype=float32)"
            ]
          },
          "metadata": {
            "tags": []
          },
          "execution_count": 40
        }
      ]
    },
    {
      "cell_type": "code",
      "metadata": {
        "colab": {
          "base_uri": "https://localhost:8080/",
          "height": 295
        },
        "id": "QPXtOITjJJcl",
        "outputId": "856883dc-8e9e-4677-fdd1-57645649bd35"
      },
      "source": [
        "plt.scatter(mv, density)\r\n",
        "plt.plot(mv, pred_all,'r-')\r\n",
        "plt.title('Density against Molar Volume')\r\n",
        "plt.xlabel('Molar Volume')\r\n",
        "plt.ylabel('Density')\r\n",
        "plt.show()"
      ],
      "execution_count": 35,
      "outputs": [
        {
          "output_type": "display_data",
          "data": {
            "image/png": "[encoded data removed]",
            "text/plain": [
              "<Figure size 432x288 with 1 Axes>"
            ]
          },
          "metadata": {
            "tags": [],
            "needs_background": "light"
          }
        }
      ]
    },
    {
      "cell_type": "markdown",
      "metadata": {
        "id": "mPbOa82iYCyQ"
      },
      "source": [
        "normalize features that use different scales and ranges.\r\n",
        "\r\n",
        "One reason this is important is because the features are multiplied by the model weights. So the scale of the outputs and the scale of the gradients are affected by the scale of the inputs.\r\n",
        "\r\n",
        "Although a model might converge without feature normalization, normalization makes training much more stable."
      ]
    },
    {
      "cell_type": "code",
      "metadata": {
        "colab": {
          "base_uri": "https://localhost:8080/"
        },
        "id": "EH6sA4Cnep8n",
        "outputId": "00b0c0e8-f169-403e-cd55-f98701632ca0"
      },
      "source": [
        "normalizer = preprocessing.Normalization()\r\n",
        "normalizer.adapt(np.array(train_features))\r\n",
        "normalizer(train_features).numpy()"
      ],
      "execution_count": 13,
      "outputs": [
        {
          "output_type": "execute_result",
          "data": {
            "text/plain": [
              "array([[-0.77049965],\n",
              "       [-0.7479726 ],\n",
              "       [ 0.15061937],\n",
              "       [-0.25382534],\n",
              "       [ 0.08746652],\n",
              "       [ 0.7289548 ],\n",
              "       [-1.4734727 ],\n",
              "       [ 0.05857316],\n",
              "       [-0.66138923],\n",
              "       [-0.07738966],\n",
              "       [-0.03572623],\n",
              "       [-0.31587344],\n",
              "       [ 0.7416578 ],\n",
              "       [-0.33811808],\n",
              "       [-1.851193  ],\n",
              "       [-0.26626304],\n",
              "       [ 2.4469125 ],\n",
              "       [ 0.45733345],\n",
              "       [-0.7958182 ],\n",
              "       [-0.546752  ],\n",
              "       [-0.48829585],\n",
              "       [ 0.7207426 ],\n",
              "       [ 0.22415335],\n",
              "       [-0.36115068],\n",
              "       [ 1.8398709 ],\n",
              "       [-1.1863304 ],\n",
              "       [ 1.0160862 ],\n",
              "       [ 0.4320492 ],\n",
              "       [-1.1601334 ],\n",
              "       [ 0.7501337 ],\n",
              "       [-0.03991738],\n",
              "       [ 3.0962183 ],\n",
              "       [-1.5451827 ],\n",
              "       [ 1.3920496 ],\n",
              "       [ 0.69496995],\n",
              "       [-0.5451651 ],\n",
              "       [-0.1834402 ],\n",
              "       [-0.17053905],\n",
              "       [-0.32220697],\n",
              "       [-0.7011615 ]], dtype=float32)"
            ]
          },
          "metadata": {
            "tags": []
          },
          "execution_count": 13
        }
      ]
    },
    {
      "cell_type": "code",
      "metadata": {
        "id": "L4V8I8nviSZa"
      },
      "source": [
        "normalized_train_X = normalizer(train_features)\r\n",
        "normalized_train_Y = normalizer(train_labels)\r\n",
        "\r\n",
        "normalized_X = tf.constant(normalized_train_X, dtype=tf.float32)\r\n",
        "normalized_Y = tf.constant(normalized_train_Y, dtype=tf.float32)"
      ],
      "execution_count": 14,
      "outputs": []
    },
    {
      "cell_type": "code",
      "metadata": {
        "colab": {
          "base_uri": "https://localhost:8080/"
        },
        "id": "gOBYVqwnfPCx",
        "outputId": "fbe1cb98-ee34-47df-a0ce-dc59b6be0d3f"
      },
      "source": [
        "num_epochs = 100000\r\n",
        "num_samples = X.shape[0]\r\n",
        "batch_size = 25\r\n",
        "learning_rate = 0.001\r\n",
        "\r\n",
        "dataset = tf.data.Dataset.from_tensor_slices((normalized_X , normalized_Y)) \r\n",
        "dataset = dataset.repeat(num_epochs).batch(batch_size)\r\n",
        "iterator = dataset.__iter__()\r\n",
        "\r\n",
        "num_features = X.shape[1]\r\n",
        "weights = tf.random.normal((num_features , 1)) \r\n",
        "bias = 0.000\r\n",
        "\r\n",
        "epochs_plot = []\r\n",
        "loss_plot = []\r\n",
        "\r\n",
        "# time the computation\r\n",
        "start_time = time.time()\r\n",
        "\r\n",
        "for i in range(num_epochs):\r\n",
        "    \r\n",
        "    epoch_loss = []\r\n",
        "    for b in range(int(num_samples/batch_size)):\r\n",
        "        x_batch , y_batch = iterator.get_next()\r\n",
        "   \r\n",
        "        output = predict(x_batch , weights , bias) \r\n",
        "        loss = epoch_loss.append(mean_squared_error(y_batch,output).numpy())\r\n",
        "    \r\n",
        "        dJ_dH = mean_squared_error_deriv(y_batch , output)\r\n",
        "        dH_dW = x_batch\r\n",
        "        dJ_dW = tf.reduce_mean(dJ_dH * dH_dW)\r\n",
        "        dJ_dB = tf.reduce_mean(dJ_dH)\r\n",
        "    \r\n",
        "        weights -= (learning_rate * dJ_dW)\r\n",
        "        bias -= (learning_rate * dJ_dB) \r\n",
        "        \r\n",
        "    loss = np.array(epoch_loss).mean()\r\n",
        "    epochs_plot.append(i + 1)\r\n",
        "    loss_plot.append(loss) \r\n",
        "    \r\n",
        "    if i % 10000 == 0:\r\n",
        "      print('Epoch: {}, Training loss: {}'.format(i, loss))\r\n",
        "\r\n",
        "print(\"\\n--- %s seconds ---\" % (time.time() - start_time)) "
      ],
      "execution_count": 20,
      "outputs": [
        {
          "output_type": "stream",
          "text": [
            "Epoch: 0, Training loss: 307.61004638671875\n",
            "Epoch: 10000, Training loss: 0.05892331525683403\n",
            "Epoch: 20000, Training loss: 0.041483260691165924\n",
            "Epoch: 30000, Training loss: 0.02982843667268753\n",
            "Epoch: 40000, Training loss: 0.022122325375676155\n",
            "Epoch: 50000, Training loss: 0.017079316079616547\n",
            "Epoch: 60000, Training loss: 0.013819382525980473\n",
            "Epoch: 70000, Training loss: 0.011757212691009045\n",
            "Epoch: 80000, Training loss: 0.010491017252206802\n",
            "Epoch: 90000, Training loss: 0.009741414338350296\n",
            "\n",
            "--- 75.3035535812378 seconds ---\n"
          ],
          "name": "stdout"
        }
      ]
    },
    {
      "cell_type": "code",
      "metadata": {
        "colab": {
          "base_uri": "https://localhost:8080/"
        },
        "id": "f6UCWrI1mHt2",
        "outputId": "84286e17-cd6e-48c5-b7da-1660c8f14d81"
      },
      "source": [
        "weights.numpy()"
      ],
      "execution_count": 21,
      "outputs": [
        {
          "output_type": "execute_result",
          "data": {
            "text/plain": [
              "array([[-0.12452056]], dtype=float32)"
            ]
          },
          "metadata": {
            "tags": []
          },
          "execution_count": 21
        }
      ]
    },
    {
      "cell_type": "code",
      "metadata": {
        "colab": {
          "base_uri": "https://localhost:8080/"
        },
        "id": "Zk5ZW1_dmJrd",
        "outputId": "01fcc847-4464-4a5d-b2ec-def6c21a63b8"
      },
      "source": [
        "bias.numpy()"
      ],
      "execution_count": 22,
      "outputs": [
        {
          "output_type": "execute_result",
          "data": {
            "text/plain": [
              "-17.556873"
            ]
          },
          "metadata": {
            "tags": []
          },
          "execution_count": 22
        }
      ]
    },
    {
      "cell_type": "code",
      "metadata": {
        "colab": {
          "base_uri": "https://localhost:8080/"
        },
        "id": "QZqPKAbDjPFy",
        "outputId": "dff75340-ea2a-4c88-a853-97baff0f245d"
      },
      "source": [
        "pred_test = predict(test_X, weights , bias)\r\n",
        "pred_test"
      ],
      "execution_count": 23,
      "outputs": [
        {
          "output_type": "execute_result",
          "data": {
            "text/plain": [
              "<tf.Tensor: shape=(10, 1), dtype=float32, numpy=\n",
              "array([[-21.132072],\n",
              "       [-20.832487],\n",
              "       [-20.880863],\n",
              "       [-20.70546 ],\n",
              "       [-20.76173 ],\n",
              "       [-20.830088],\n",
              "       [-20.886278],\n",
              "       [-20.736626],\n",
              "       [-21.07789 ],\n",
              "       [-20.393282]], dtype=float32)>"
            ]
          },
          "metadata": {
            "tags": []
          },
          "execution_count": 23
        }
      ]
    },
    {
      "cell_type": "code",
      "metadata": {
        "id": "QqN1HMnEmLlU",
        "colab": {
          "base_uri": "https://localhost:8080/",
          "height": 296
        },
        "outputId": "3fd4d3f5-85f3-4835-a7f1-3c8de7873fcc"
      },
      "source": [
        "actual_test_trend=test_Y\r\n",
        "plt.plot(pred_test, color='cyan', label='Prediction')\r\n",
        "plt.plot(actual_test_trend, label='Actual')\r\n",
        "plt.xlabel('Molar volume')\r\n",
        "plt.ylabel('Density')\r\n",
        "plt.legend()"
      ],
      "execution_count": 24,
      "outputs": [
        {
          "output_type": "execute_result",
          "data": {
            "text/plain": [
              "<matplotlib.legend.Legend at 0x7f1757411080>"
            ]
          },
          "metadata": {
            "tags": []
          },
          "execution_count": 24
        },
        {
          "output_type": "display_data",
          "data": {
            "image/png": "[encoded data removed]",
            "text/plain": [
              "<Figure size 432x288 with 1 Axes>"
            ]
          },
          "metadata": {
            "tags": [],
            "needs_background": "light"
          }
        }
      ]
    },
    {
      "cell_type": "code",
      "metadata": {
        "id": "22tpLZLMGSky"
      },
      "source": [
        ""
      ],
      "execution_count": null,
      "outputs": []
    }
  ]
}