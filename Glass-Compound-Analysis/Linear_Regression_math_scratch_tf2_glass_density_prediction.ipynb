{
  "nbformat": 4,
  "nbformat_minor": 0,
  "metadata": {
    "colab": {
      "name": "Linear_Regression_math_scratch_tf2-glass_density_prediction.ipynb",
      "provenance": [],
      "collapsed_sections": []
    },
    "kernelspec": {
      "name": "python3",
      "display_name": "Python 3"
    }
  },
  "cells": [
    {
      "cell_type": "code",
      "metadata": {
        "id": "a2yEpVIcBqrg"
      },
      "source": [
        "import pandas as pd\r\n",
        "import numpy as np\r\n",
        "import matplotlib.pyplot as plt\r\n",
        "\r\n",
        "import tensorflow as tf\r\n",
        "from tensorflow.keras.layers.experimental import preprocessing\r\n",
        "import time\r\n",
        "from sklearn.model_selection import train_test_split"
      ],
      "execution_count": 1,
      "outputs": []
    },
    {
      "cell_type": "code",
      "metadata": {
        "colab": {
          "base_uri": "https://localhost:8080/",
          "height": 204
        },
        "id": "C4Hx91ViAvQu",
        "outputId": "7d193ca2-eaf6-4b06-a635-7b6fbd5efe8f"
      },
      "source": [
        "data = pd.read_csv('Molecular-data.csv')\r\n",
        "data.head()"
      ],
      "execution_count": 2,
      "outputs": [
        {
          "output_type": "execute_result",
          "data": {
            "text/html": [
              "<div>\n",
              "<style scoped>\n",
              "    .dataframe tbody tr th:only-of-type {\n",
              "        vertical-align: middle;\n",
              "    }\n",
              "\n",
              "    .dataframe tbody tr th {\n",
              "        vertical-align: top;\n",
              "    }\n",
              "\n",
              "    .dataframe thead th {\n",
              "        text-align: right;\n",
              "    }\n",
              "</style>\n",
              "<table border=\"1\" class=\"dataframe\">\n",
              "  <thead>\n",
              "    <tr style=\"text-align: right;\">\n",
              "      <th></th>\n",
              "      <th>Molar volume</th>\n",
              "      <th>Density</th>\n",
              "    </tr>\n",
              "  </thead>\n",
              "  <tbody>\n",
              "    <tr>\n",
              "      <th>0</th>\n",
              "      <td>26.379294</td>\n",
              "      <td>5.254</td>\n",
              "    </tr>\n",
              "    <tr>\n",
              "      <th>1</th>\n",
              "      <td>25.847969</td>\n",
              "      <td>5.362</td>\n",
              "    </tr>\n",
              "    <tr>\n",
              "      <th>2</th>\n",
              "      <td>26.510484</td>\n",
              "      <td>5.228</td>\n",
              "    </tr>\n",
              "    <tr>\n",
              "      <th>3</th>\n",
              "      <td>25.737570</td>\n",
              "      <td>5.385</td>\n",
              "    </tr>\n",
              "    <tr>\n",
              "      <th>4</th>\n",
              "      <td>25.402642</td>\n",
              "      <td>5.456</td>\n",
              "    </tr>\n",
              "  </tbody>\n",
              "</table>\n",
              "</div>"
            ],
            "text/plain": [
              "   Molar volume  Density\n",
              "0     26.379294    5.254\n",
              "1     25.847969    5.362\n",
              "2     26.510484    5.228\n",
              "3     25.737570    5.385\n",
              "4     25.402642    5.456"
            ]
          },
          "metadata": {
            "tags": []
          },
          "execution_count": 2
        }
      ]
    },
    {
      "cell_type": "code",
      "metadata": {
        "colab": {
          "base_uri": "https://localhost:8080/"
        },
        "id": "RaYSuNlhCBlc",
        "outputId": "8e55a140-71fc-4910-f632-e418035736c4"
      },
      "source": [
        "data.info()"
      ],
      "execution_count": 3,
      "outputs": [
        {
          "output_type": "stream",
          "text": [
            "<class 'pandas.core.frame.DataFrame'>\n",
            "RangeIndex: 50 entries, 0 to 49\n",
            "Data columns (total 2 columns):\n",
            " #   Column        Non-Null Count  Dtype  \n",
            "---  ------        --------------  -----  \n",
            " 0   Molar volume  50 non-null     float64\n",
            " 1   Density       50 non-null     float64\n",
            "dtypes: float64(2)\n",
            "memory usage: 928.0 bytes\n"
          ],
          "name": "stdout"
        }
      ]
    },
    {
      "cell_type": "code",
      "metadata": {
        "colab": {
          "base_uri": "https://localhost:8080/",
          "height": 297
        },
        "id": "y7Jy2sHOCECT",
        "outputId": "a6358a80-e4a7-4dff-c83c-ba5d054497cb"
      },
      "source": [
        "data.describe()"
      ],
      "execution_count": 4,
      "outputs": [
        {
          "output_type": "execute_result",
          "data": {
            "text/html": [
              "<div>\n",
              "<style scoped>\n",
              "    .dataframe tbody tr th:only-of-type {\n",
              "        vertical-align: middle;\n",
              "    }\n",
              "\n",
              "    .dataframe tbody tr th {\n",
              "        vertical-align: top;\n",
              "    }\n",
              "\n",
              "    .dataframe thead th {\n",
              "        text-align: right;\n",
              "    }\n",
              "</style>\n",
              "<table border=\"1\" class=\"dataframe\">\n",
              "  <thead>\n",
              "    <tr style=\"text-align: right;\">\n",
              "      <th></th>\n",
              "      <th>Molar volume</th>\n",
              "      <th>Density</th>\n",
              "    </tr>\n",
              "  </thead>\n",
              "  <tbody>\n",
              "    <tr>\n",
              "      <th>count</th>\n",
              "      <td>50.000000</td>\n",
              "      <td>50.000000</td>\n",
              "    </tr>\n",
              "    <tr>\n",
              "      <th>mean</th>\n",
              "      <td>26.703613</td>\n",
              "      <td>5.386080</td>\n",
              "    </tr>\n",
              "    <tr>\n",
              "      <th>std</th>\n",
              "      <td>1.331481</td>\n",
              "      <td>0.267123</td>\n",
              "    </tr>\n",
              "    <tr>\n",
              "      <th>min</th>\n",
              "      <td>22.778641</td>\n",
              "      <td>4.609000</td>\n",
              "    </tr>\n",
              "    <tr>\n",
              "      <th>25%</th>\n",
              "      <td>25.975829</td>\n",
              "      <td>5.258000</td>\n",
              "    </tr>\n",
              "    <tr>\n",
              "      <th>50%</th>\n",
              "      <td>26.553503</td>\n",
              "      <td>5.373500</td>\n",
              "    </tr>\n",
              "    <tr>\n",
              "      <th>75%</th>\n",
              "      <td>27.372057</td>\n",
              "      <td>5.488750</td>\n",
              "    </tr>\n",
              "    <tr>\n",
              "      <th>max</th>\n",
              "      <td>30.605477</td>\n",
              "      <td>6.409000</td>\n",
              "    </tr>\n",
              "  </tbody>\n",
              "</table>\n",
              "</div>"
            ],
            "text/plain": [
              "       Molar volume    Density\n",
              "count     50.000000  50.000000\n",
              "mean      26.703613   5.386080\n",
              "std        1.331481   0.267123\n",
              "min       22.778641   4.609000\n",
              "25%       25.975829   5.258000\n",
              "50%       26.553503   5.373500\n",
              "75%       27.372057   5.488750\n",
              "max       30.605477   6.409000"
            ]
          },
          "metadata": {
            "tags": []
          },
          "execution_count": 4
        }
      ]
    },
    {
      "cell_type": "code",
      "metadata": {
        "id": "-L5CivYPCNay"
      },
      "source": [
        "mv = data['Molar volume']\r\n",
        "density = data['Density']"
      ],
      "execution_count": 5,
      "outputs": []
    },
    {
      "cell_type": "code",
      "metadata": {
        "colab": {
          "base_uri": "https://localhost:8080/",
          "height": 295
        },
        "id": "6o3BpocrCvnV",
        "outputId": "9a2bc73d-4cc6-45aa-d9bd-ca1508c115bd"
      },
      "source": [
        "plt.scatter(mv, density)\r\n",
        "plt.title('Density against Molar Volume')\r\n",
        "plt.xlabel('Molar Volume')\r\n",
        "plt.ylabel('Density')\r\n",
        "plt.show()"
      ],
      "execution_count": 6,
      "outputs": [
        {
          "output_type": "display_data",
          "data": {
            "image/png": "[encoded data removed]",
            "text/plain": [
              "<Figure size 432x288 with 1 Axes>"
            ]
          },
          "metadata": {
            "tags": [],
            "needs_background": "light"
          }
        }
      ]
    },
    {
      "cell_type": "markdown",
      "metadata": {
        "id": "ZaUGSz0DFO4S"
      },
      "source": [
        "From the scattering above, we can noticed that the higher the molar volume, the smaller the density value. Although the relationship can be observed through this plotting, we still need a model to make prediction on density according to the feature, in this case, molar volume is the only feature input."
      ]
    },
    {
      "cell_type": "code",
      "metadata": {
        "colab": {
          "base_uri": "https://localhost:8080/"
        },
        "id": "Ck0vV6lKy2ki",
        "outputId": "d963d694-1a14-4661-d38c-51dd286a9d28"
      },
      "source": [
        "input_X = data['Molar volume'].values\r\n",
        "input_X"
      ],
      "execution_count": 9,
      "outputs": [
        {
          "output_type": "execute_result",
          "data": {
            "text/plain": [
              "array([26.37929429, 25.84796945, 26.51048435, 25.73756958, 25.40264153,\n",
              "       24.93196838, 26.61229113, 26.69430127, 26.43463899, 26.49528048,\n",
              "       25.3706195 , 25.01962476, 25.90645444, 30.6054772 , 25.53596025,\n",
              "       24.55791163, 28.71171268, 26.72615468, 25.96367465, 27.37978346,\n",
              "       26.42689681, 26.28653418, 26.30580583, 26.15241921, 26.92766916,\n",
              "       25.87891753, 26.77195982, 26.89235087, 26.4074474 , 28.52235227,\n",
              "       26.73778549, 29.06975484, 26.59652192, 27.70176638, 22.77864079,\n",
              "       27.67026323, 27.34887763, 27.00486659, 29.81178452, 26.2238744 ,\n",
              "       26.01229035, 27.7118053 , 27.09475105, 25.2856653 , 28.06278658,\n",
              "       27.72733302, 28.27659829, 26.15435888, 27.73769451, 26.77708171])"
            ]
          },
          "metadata": {
            "tags": []
          },
          "execution_count": 9
        }
      ]
    },
    {
      "cell_type": "code",
      "metadata": {
        "colab": {
          "base_uri": "https://localhost:8080/"
        },
        "id": "bw_WZJzbzMNf",
        "outputId": "712fb2a4-6db7-4bb4-f02f-208261c7fe2c"
      },
      "source": [
        "actual_Y = data['Density'].values\r\n",
        "actual_Y"
      ],
      "execution_count": 11,
      "outputs": [
        {
          "output_type": "execute_result",
          "data": {
            "text/plain": [
              "array([5.254, 5.362, 5.228, 5.385, 5.456, 5.559, 5.208, 5.192, 5.243,\n",
              "       5.231, 5.56 , 5.638, 5.445, 4.609, 5.524, 5.744, 4.913, 5.278,\n",
              "       5.433, 5.152, 5.431, 5.46 , 5.456, 5.488, 5.33 , 5.546, 5.361,\n",
              "       5.337, 5.435, 5.032, 5.46 , 5.022, 5.489, 5.27 , 6.409, 5.276,\n",
              "       5.338, 5.406, 4.897, 5.567, 5.707, 5.357, 5.479, 5.871, 5.29 ,\n",
              "       5.354, 5.25 , 5.676, 5.352, 5.544])"
            ]
          },
          "metadata": {
            "tags": []
          },
          "execution_count": 11
        }
      ]
    },
    {
      "cell_type": "code",
      "metadata": {
        "colab": {
          "base_uri": "https://localhost:8080/"
        },
        "id": "cMEKSxRhzWL_",
        "outputId": "53ef747d-dc1d-4437-ceea-d295f39c7a8c"
      },
      "source": [
        "train_features, test_features, train_labels, test_labels = train_test_split(input_X, actual_Y, test_size=0.2)\r\n",
        "print('Shape of train_features is', train_features.shape)\r\n",
        "print('Shape of test_features is', test_features.shape)\r\n",
        "print('Shape of train_labels is', train_labels.shape)\r\n",
        "print('Shape of test_labels is', test_labels.shape)"
      ],
      "execution_count": 12,
      "outputs": [
        {
          "output_type": "stream",
          "text": [
            "Shape of train_features is (40,)\n",
            "Shape of test_features is (10,)\n",
            "Shape of train_labels is (40,)\n",
            "Shape of test_labels is (10,)\n"
          ],
          "name": "stdout"
        }
      ]
    },
    {
      "cell_type": "code",
      "metadata": {
        "colab": {
          "base_uri": "https://localhost:8080/"
        },
        "id": "_ITharro5guH",
        "outputId": "de909fde-779f-4ad2-d29f-99efa5f54eef"
      },
      "source": [
        "train_X = train_features.reshape([train_features.shape[0],1])\r\n",
        "test_x = test_features.reshape([test_features.shape[0],1])\r\n",
        "train_Y = train_labels.reshape([train_labels.shape[0],1])\r\n",
        "test_y = test_labels.reshape([test_labels.shape[0],1])\r\n",
        "print('Shape of train_X is', train_X.shape)\r\n",
        "print('Shape of test_x is', test_x.shape)\r\n",
        "print('Shape of train_Y is', train_Y.shape)\r\n",
        "print('Shape of test_y is', test_y.shape)"
      ],
      "execution_count": 13,
      "outputs": [
        {
          "output_type": "stream",
          "text": [
            "Shape of train_X is (40, 1)\n",
            "Shape of test_x is (10, 1)\n",
            "Shape of train_Y is (40, 1)\n",
            "Shape of test_y is (10, 1)\n"
          ],
          "name": "stdout"
        }
      ]
    },
    {
      "cell_type": "code",
      "metadata": {
        "id": "BDtDLus93hku"
      },
      "source": [
        "X = tf.constant(train_X, dtype=tf.float32)\r\n",
        "Y = tf.constant(train_Y, dtype=tf.float32) \r\n",
        "                                                          \r\n",
        "test_X = tf.constant(test_x, dtype=tf.float32) \r\n",
        "test_Y = tf.constant(test_y, dtype=tf.float32)\r\n",
        "\r\n",
        "m = tf.Variable(1., shape=tf.TensorShape(None))\r\n",
        "b = tf.Variable(1)"
      ],
      "execution_count": 14,
      "outputs": []
    },
    {
      "cell_type": "code",
      "metadata": {
        "id": "upN0s4cOz3oa"
      },
      "source": [
        "def mean_squared_error(Y , y_pred):\r\n",
        "    return tf.reduce_mean(tf.square(Y - y_pred))\r\n",
        "\r\n",
        "def mean_squared_error_deriv(Y , y_pred):\r\n",
        "    return tf.reduce_mean((y_pred - Y))\r\n",
        "    \r\n",
        "def predict(x, m, b):\r\n",
        "    return np.dot(x, m) + b"
      ],
      "execution_count": 15,
      "outputs": []
    },
    {
      "cell_type": "code",
      "metadata": {
        "colab": {
          "base_uri": "https://localhost:8080/"
        },
        "id": "uOQ3t28o3SX-",
        "outputId": "2cd14917-d34b-4d56-ca4a-be74fd6898d7"
      },
      "source": [
        "num_epochs = 1000000\r\n",
        "num_samples = X.shape[0]\r\n",
        "batch_size = 25\r\n",
        "learning_rate = 0.001\r\n",
        "\r\n",
        "dataset = tf.data.Dataset.from_tensor_slices((X , Y)) \r\n",
        "dataset = dataset.repeat(num_epochs).batch(batch_size)\r\n",
        "iterator = dataset.__iter__()\r\n",
        "\r\n",
        "num_features = X.shape[1]\r\n",
        "weights = tf.random.normal((num_features , 1)) \r\n",
        "bias = 0.000\r\n",
        "\r\n",
        "epochs_plot = []\r\n",
        "loss_plot = []\r\n",
        "\r\n",
        "# time the computation\r\n",
        "start_time = time.time()\r\n",
        "\r\n",
        "for i in range(num_epochs):\r\n",
        "    \r\n",
        "    dJ_dB = 0\r\n",
        "    dJ_dW = 0\r\n",
        "    epoch_loss = []\r\n",
        "    for b in range(int(num_samples/batch_size)):\r\n",
        "        x_batch , y_batch = iterator.get_next()\r\n",
        "   \r\n",
        "        output = predict(x_batch , weights , bias) \r\n",
        "        loss = (y_batch - output)\r\n",
        "        epoch_loss.append(loss)\r\n",
        "    \r\n",
        "        dJ_dB += -(2/num_features) * loss\r\n",
        "        dJ_dW += -(2/num_features) * x_batch * loss\r\n",
        "        # dJ_dW = tf.reduce_mean(dJ_dH * dH_dW)\r\n",
        "        # dJ_dB = tf.reduce_mean(dJ_dH)\r\n",
        "    \r\n",
        "    weights = weights - (learning_rate * dJ_dW)\r\n",
        "    bias = bias - (learning_rate * dJ_dB) \r\n",
        "        \r\n",
        "    loss = np.array(epoch_loss).mean()\r\n",
        "    epochs_plot.append(i + 1)\r\n",
        "    loss_plot.append(loss) \r\n",
        "    \r\n",
        "    if i % 10000 == 0:\r\n",
        "      print('Epoch: {}, Training loss: {}'.format(i, loss))\r\n",
        "\r\n",
        "print(\"\\n--- %s seconds ---\" % (time.time() - start_time)) "
      ],
      "execution_count": 18,
      "outputs": [
        {
          "output_type": "stream",
          "text": [
            "Epoch: 0, Training loss: 17.035839080810547\n",
            "Epoch: 10000, Training loss: -0.34025856852531433\n",
            "Epoch: 20000, Training loss: -0.31626129150390625\n",
            "Epoch: 30000, Training loss: -0.29473617672920227\n",
            "Epoch: 40000, Training loss: -0.2754078209400177\n",
            "Epoch: 50000, Training loss: -0.25803250074386597\n",
            "Epoch: 60000, Training loss: -0.24239397048950195\n",
            "Epoch: 70000, Training loss: -0.2283017933368683\n",
            "Epoch: 80000, Training loss: -0.21558675169944763\n",
            "Epoch: 90000, Training loss: -0.2040978968143463\n",
            "Epoch: 100000, Training loss: -0.1937028169631958\n",
            "Epoch: 110000, Training loss: -0.1842840164899826\n",
            "Epoch: 120000, Training loss: -0.17573609948158264\n",
            "Epoch: 130000, Training loss: -0.1679670214653015\n",
            "Epoch: 140000, Training loss: -0.16089420020580292\n",
            "Epoch: 150000, Training loss: -0.15444409847259521\n",
            "Epoch: 160000, Training loss: -0.14855264127254486\n",
            "Epoch: 170000, Training loss: -0.14316216111183167\n",
            "Epoch: 180000, Training loss: -0.13822005689144135\n",
            "Epoch: 190000, Training loss: -0.13368211686611176\n",
            "Epoch: 200000, Training loss: -0.12950707972049713\n",
            "Epoch: 210000, Training loss: -0.12565948069095612\n",
            "Epoch: 220000, Training loss: -0.12210666388273239\n",
            "Epoch: 230000, Training loss: -0.11881977319717407\n",
            "Epoch: 240000, Training loss: -0.11577556282281876\n",
            "Epoch: 250000, Training loss: -0.11294746398925781\n",
            "Epoch: 260000, Training loss: -0.11031647026538849\n",
            "Epoch: 270000, Training loss: -0.10786699503660202\n",
            "Epoch: 280000, Training loss: -0.10557851940393448\n",
            "Epoch: 290000, Training loss: -0.1034405305981636\n",
            "Epoch: 300000, Training loss: -0.1014377772808075\n",
            "Epoch: 310000, Training loss: -0.09955839067697525\n",
            "Epoch: 320000, Training loss: -0.09779220819473267\n",
            "Epoch: 330000, Training loss: -0.09612974524497986\n",
            "Epoch: 340000, Training loss: -0.09456194192171097\n",
            "Epoch: 350000, Training loss: -0.09308059513568878\n",
            "Epoch: 360000, Training loss: -0.09168823063373566\n",
            "Epoch: 370000, Training loss: -0.09036144614219666\n",
            "Epoch: 380000, Training loss: -0.08910991996526718\n",
            "Epoch: 390000, Training loss: -0.08791797608137131\n",
            "Epoch: 400000, Training loss: -0.08678688108921051\n",
            "Epoch: 410000, Training loss: -0.08571366965770721\n",
            "Epoch: 420000, Training loss: -0.08469043672084808\n",
            "Epoch: 430000, Training loss: -0.08370727300643921\n",
            "Epoch: 440000, Training loss: -0.08279136568307877\n",
            "Epoch: 450000, Training loss: -0.08191797137260437\n",
            "Epoch: 460000, Training loss: -0.08106649667024612\n",
            "Epoch: 470000, Training loss: -0.08024907857179642\n",
            "Epoch: 480000, Training loss: -0.07949157804250717\n",
            "Epoch: 490000, Training loss: -0.07875299453735352\n",
            "Epoch: 500000, Training loss: -0.07804931700229645\n",
            "Epoch: 510000, Training loss: -0.07737468928098679\n",
            "Epoch: 520000, Training loss: -0.07671669125556946\n",
            "Epoch: 530000, Training loss: -0.0761018916964531\n",
            "Epoch: 540000, Training loss: -0.07553228735923767\n",
            "Epoch: 550000, Training loss: -0.07497991621494293\n",
            "Epoch: 560000, Training loss: -0.07444875687360764\n",
            "Epoch: 570000, Training loss: -0.0739351287484169\n",
            "Epoch: 580000, Training loss: -0.07343656569719315\n",
            "Epoch: 590000, Training loss: -0.07295499742031097\n",
            "Epoch: 600000, Training loss: -0.07249103486537933\n",
            "Epoch: 610000, Training loss: -0.0720415711402893\n",
            "Epoch: 620000, Training loss: -0.07160970568656921\n",
            "Epoch: 630000, Training loss: -0.07119420915842056\n",
            "Epoch: 640000, Training loss: -0.07079164683818817\n",
            "Epoch: 650000, Training loss: -0.07040034979581833\n",
            "Epoch: 660000, Training loss: -0.07002408802509308\n",
            "Epoch: 670000, Training loss: -0.06965547800064087\n",
            "Epoch: 680000, Training loss: -0.06929954886436462\n",
            "Epoch: 690000, Training loss: -0.06895861029624939\n",
            "Epoch: 700000, Training loss: -0.068631112575531\n",
            "Epoch: 710000, Training loss: -0.06831146031618118\n",
            "Epoch: 720000, Training loss: -0.06800311803817749\n",
            "Epoch: 730000, Training loss: -0.06770233064889908\n",
            "Epoch: 740000, Training loss: -0.06741342693567276\n",
            "Epoch: 750000, Training loss: -0.067136250436306\n",
            "Epoch: 760000, Training loss: -0.06686477363109589\n",
            "Epoch: 770000, Training loss: -0.06660379469394684\n",
            "Epoch: 780000, Training loss: -0.0663529559969902\n",
            "Epoch: 790000, Training loss: -0.06611394882202148\n",
            "Epoch: 800000, Training loss: -0.06587886810302734\n",
            "Epoch: 810000, Training loss: -0.0656556487083435\n",
            "Epoch: 820000, Training loss: -0.0654359981417656\n",
            "Epoch: 830000, Training loss: -0.065220907330513\n",
            "Epoch: 840000, Training loss: -0.0650119036436081\n",
            "Epoch: 850000, Training loss: -0.06480959057807922\n",
            "Epoch: 860000, Training loss: -0.06461416184902191\n",
            "Epoch: 870000, Training loss: -0.06442485749721527\n",
            "Epoch: 880000, Training loss: -0.06424202024936676\n",
            "Epoch: 890000, Training loss: -0.06406627595424652\n",
            "Epoch: 900000, Training loss: -0.06389816105365753\n",
            "Epoch: 910000, Training loss: -0.06373277306556702\n",
            "Epoch: 920000, Training loss: -0.06357450783252716\n",
            "Epoch: 930000, Training loss: -0.06342040747404099\n",
            "Epoch: 940000, Training loss: -0.06326954066753387\n",
            "Epoch: 950000, Training loss: -0.06312782317399979\n",
            "Epoch: 960000, Training loss: -0.06298347562551498\n",
            "Epoch: 970000, Training loss: -0.06284607201814651\n",
            "Epoch: 980000, Training loss: -0.06271179020404816\n",
            "Epoch: 990000, Training loss: -0.06258293241262436\n",
            "\n",
            "--- 527.4954745769501 seconds ---\n"
          ],
          "name": "stdout"
        }
      ]
    },
    {
      "cell_type": "markdown",
      "metadata": {
        "id": "7MEhY1DNdOV-"
      },
      "source": [
        "Although given 100000 iteration learning, it did not converge nicely, we may try normalized the data on next section."
      ]
    },
    {
      "cell_type": "code",
      "metadata": {
        "colab": {
          "base_uri": "https://localhost:8080/"
        },
        "id": "I36DYVA4HVJo",
        "outputId": "c3e83cb7-9d65-414f-96c6-2ad32f9c9a14"
      },
      "source": [
        "pred_Y = np.dot(test_X, np.mean(weights)) + np.mean(bias)\r\n",
        "pred_Y"
      ],
      "execution_count": 23,
      "outputs": [
        {
          "output_type": "execute_result",
          "data": {
            "text/plain": [
              "array([[5.434125 ],\n",
              "       [5.324321 ],\n",
              "       [5.5385303],\n",
              "       [5.4831915],\n",
              "       [5.449092 ],\n",
              "       [5.2905736],\n",
              "       [5.4669123],\n",
              "       [5.2827396],\n",
              "       [5.2857475],\n",
              "       [5.4666867]], dtype=float32)"
            ]
          },
          "metadata": {
            "tags": []
          },
          "execution_count": 23
        }
      ]
    },
    {
      "cell_type": "code",
      "metadata": {
        "colab": {
          "base_uri": "https://localhost:8080/",
          "height": 295
        },
        "id": "KzcQ7-Ex2NzO",
        "outputId": "c84857f2-838c-48eb-fdcc-61bfcfd94f24"
      },
      "source": [
        "plt.plot(pred_Y, label='Predictions')\r\n",
        "plt.plot(test_Y, label='Actual')\r\n",
        "plt.title('Density against Molar Volume')\r\n",
        "plt.xlabel('Molar Volume')\r\n",
        "plt.ylabel('Density')\r\n",
        "plt.legend()\r\n",
        "plt.show()"
      ],
      "execution_count": 24,
      "outputs": [
        {
          "output_type": "display_data",
          "data": {
            "image/png": "[encoded data removed]",
            "text/plain": [
              "<Figure size 432x288 with 1 Axes>"
            ]
          },
          "metadata": {
            "tags": [],
            "needs_background": "light"
          }
        }
      ]
    },
    {
      "cell_type": "code",
      "metadata": {
        "colab": {
          "base_uri": "https://localhost:8080/"
        },
        "id": "O4LNgtz6IWh4",
        "outputId": "3ba1e7d1-be1a-4fc8-e6e4-d3adf7f5d160"
      },
      "source": [
        "x = input_X.reshape(-1,1).astype(np.float32)\r\n",
        "pred_all = predict(x, np.mean(weights) , np.mean(bias))\r\n",
        "pred_all[:10]"
      ],
      "execution_count": 28,
      "outputs": [
        {
          "output_type": "execute_result",
          "data": {
            "text/plain": [
              "array([[5.4405546],\n",
              "       [5.502282 ],\n",
              "       [5.425313 ],\n",
              "       [5.515108 ],\n",
              "       [5.554019 ],\n",
              "       [5.6087003],\n",
              "       [5.4134855],\n",
              "       [5.403958 ],\n",
              "       [5.434125 ],\n",
              "       [5.427079 ]], dtype=float32)"
            ]
          },
          "metadata": {
            "tags": []
          },
          "execution_count": 28
        }
      ]
    },
    {
      "cell_type": "code",
      "metadata": {
        "colab": {
          "base_uri": "https://localhost:8080/",
          "height": 295
        },
        "id": "QPXtOITjJJcl",
        "outputId": "f774e58b-440f-4f23-8cd4-8d102884a63c"
      },
      "source": [
        "plt.scatter(mv, density)\r\n",
        "plt.plot(mv, pred_all,'r-')\r\n",
        "plt.title('Density against Molar Volume')\r\n",
        "plt.xlabel('Molar Volume')\r\n",
        "plt.ylabel('Density')\r\n",
        "plt.show()"
      ],
      "execution_count": 29,
      "outputs": [
        {
          "output_type": "display_data",
          "data": {
            "image/png": "[encoded data removed]",
            "text/plain": [
              "<Figure size 432x288 with 1 Axes>"
            ]
          },
          "metadata": {
            "tags": [],
            "needs_background": "light"
          }
        }
      ]
    },
    {
      "cell_type": "code",
      "metadata": {
        "colab": {
          "base_uri": "https://localhost:8080/"
        },
        "id": "f6UCWrI1mHt2",
        "outputId": "9506186c-e3d1-48c9-ac2a-8a45a230f6b9"
      },
      "source": [
        "weights.numpy()"
      ],
      "execution_count": 30,
      "outputs": [
        {
          "output_type": "execute_result",
          "data": {
            "text/plain": [
              "array([[-0.15726392],\n",
              "       [ 0.0280378 ],\n",
              "       [-0.12846082],\n",
              "       [-0.14188197],\n",
              "       [-0.19759263],\n",
              "       [-0.17389612],\n",
              "       [ 0.01921176],\n",
              "       [-0.12720823],\n",
              "       [-0.12805197],\n",
              "       [-0.20518944],\n",
              "       [-0.15991879],\n",
              "       [ 0.03982214],\n",
              "       [-0.12494412],\n",
              "       [-0.12540406],\n",
              "       [-0.2102755 ],\n",
              "       [-0.17360039],\n",
              "       [ 0.03938672],\n",
              "       [-0.12535775],\n",
              "       [-0.10882474],\n",
              "       [-0.19710152],\n",
              "       [-0.1580566 ],\n",
              "       [ 0.04427461],\n",
              "       [-0.12679383],\n",
              "       [-0.11524052],\n",
              "       [-0.19009387]], dtype=float32)"
            ]
          },
          "metadata": {
            "tags": []
          },
          "execution_count": 30
        }
      ]
    },
    {
      "cell_type": "code",
      "metadata": {
        "colab": {
          "base_uri": "https://localhost:8080/"
        },
        "id": "Zk5ZW1_dmJrd",
        "outputId": "d70087ab-ea25-42a9-d931-f077cd682e42"
      },
      "source": [
        "bias.numpy()"
      ],
      "execution_count": 31,
      "outputs": [
        {
          "output_type": "execute_result",
          "data": {
            "text/plain": [
              "array([[ 9.723589 ],\n",
              "       [ 4.562992 ],\n",
              "       [ 8.763039 ],\n",
              "       [ 8.735224 ],\n",
              "       [10.74043  ],\n",
              "       [ 9.723047 ],\n",
              "       [ 4.562588 ],\n",
              "       [ 8.763255 ],\n",
              "       [ 8.735703 ],\n",
              "       [10.740143 ],\n",
              "       [ 9.723509 ],\n",
              "       [ 4.5634804],\n",
              "       [ 8.763397 ],\n",
              "       [ 8.735867 ],\n",
              "       [10.739936 ],\n",
              "       [ 9.722958 ],\n",
              "       [ 4.563567 ],\n",
              "       [ 8.763343 ],\n",
              "       [ 8.736471 ],\n",
              "       [10.740445 ],\n",
              "       [ 9.723648 ],\n",
              "       [ 4.563729 ],\n",
              "       [ 8.763228 ],\n",
              "       [ 8.736209 ],\n",
              "       [10.740714 ]], dtype=float32)"
            ]
          },
          "metadata": {
            "tags": []
          },
          "execution_count": 31
        }
      ]
    },
    {
      "cell_type": "code",
      "metadata": {
        "colab": {
          "base_uri": "https://localhost:8080/"
        },
        "id": "QZqPKAbDjPFy",
        "outputId": "9568f76a-9e72-4eb0-d11d-e8155b6f5784"
      },
      "source": [
        "pred_test = predict(test_X, np.mean(weights) , np.mean(bias))\r\n",
        "pred_test"
      ],
      "execution_count": 33,
      "outputs": [
        {
          "output_type": "execute_result",
          "data": {
            "text/plain": [
              "<tf.Tensor: shape=(10, 1), dtype=float32, numpy=\n",
              "array([[5.434125 ],\n",
              "       [5.324321 ],\n",
              "       [5.5385303],\n",
              "       [5.4831915],\n",
              "       [5.449092 ],\n",
              "       [5.2905736],\n",
              "       [5.4669123],\n",
              "       [5.2827396],\n",
              "       [5.2857475],\n",
              "       [5.4666867]], dtype=float32)>"
            ]
          },
          "metadata": {
            "tags": []
          },
          "execution_count": 33
        }
      ]
    },
    {
      "cell_type": "code",
      "metadata": {
        "id": "QqN1HMnEmLlU",
        "colab": {
          "base_uri": "https://localhost:8080/",
          "height": 296
        },
        "outputId": "71b30f7c-9d2b-4b23-f9c3-067cfa25b5d9"
      },
      "source": [
        "actual_test_trend=test_Y\r\n",
        "plt.plot(pred_test, color='cyan', label='Prediction')\r\n",
        "plt.plot(actual_test_trend, label='Actual')\r\n",
        "plt.xlabel('Molar volume')\r\n",
        "plt.ylabel('Density')\r\n",
        "plt.legend()"
      ],
      "execution_count": 34,
      "outputs": [
        {
          "output_type": "execute_result",
          "data": {
            "text/plain": [
              "<matplotlib.legend.Legend at 0x7fdac9269ac8>"
            ]
          },
          "metadata": {
            "tags": []
          },
          "execution_count": 34
        },
        {
          "output_type": "display_data",
          "data": {
            "image/png": "[encoded data removed]",
            "text/plain": [
              "<Figure size 432x288 with 1 Axes>"
            ]
          },
          "metadata": {
            "tags": [],
            "needs_background": "light"
          }
        }
      ]
    },
    {
      "cell_type": "code",
      "metadata": {
        "id": "22tpLZLMGSky",
        "colab": {
          "base_uri": "https://localhost:8080/"
        },
        "outputId": "9da98f8a-bc5b-4c0f-8b3b-f1532e36e37c"
      },
      "source": [
        "differences = (1 - sum(abs(pred_test - actual_test_trend))/len(actual_test_trend)) * 100\r\n",
        "pred_accuracy = differences.numpy()\r\n",
        "pred_accuracy"
      ],
      "execution_count": 40,
      "outputs": [
        {
          "output_type": "execute_result",
          "data": {
            "text/plain": [
              "array([90.058205], dtype=float32)"
            ]
          },
          "metadata": {
            "tags": []
          },
          "execution_count": 40
        }
      ]
    },
    {
      "cell_type": "code",
      "metadata": {
        "id": "LH9C7T2AyinV"
      },
      "source": [
        ""
      ],
      "execution_count": null,
      "outputs": []
    }
  ]
}