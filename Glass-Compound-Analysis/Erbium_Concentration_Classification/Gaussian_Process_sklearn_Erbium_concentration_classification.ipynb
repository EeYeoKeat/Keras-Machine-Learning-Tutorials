{
  "nbformat": 4,
  "nbformat_minor": 0,
  "metadata": {
    "colab": {
      "name": "Gaussian_Process_sklearn_Erbium_concentration_classification.ipynb",
      "provenance": [],
      "machine_shape": "hm"
    },
    "kernelspec": {
      "name": "python3",
      "display_name": "Python 3"
    },
    "language_info": {
      "name": "python"
    },
    "accelerator": "GPU"
  },
  "cells": [
    {
      "cell_type": "code",
      "metadata": {
        "id": "0r_y-LlLgBpW"
      },
      "source": [
        "import pandas as pd\n",
        "import seaborn as sns\n",
        "import numpy as np\n",
        "import matplotlib.pyplot as plt\n",
        "\n",
        "from sklearn.metrics import accuracy_score"
      ],
      "execution_count": 1,
      "outputs": []
    },
    {
      "cell_type": "code",
      "metadata": {
        "id": "Jdhkx2ZDicY2"
      },
      "source": [
        "from sklearn.datasets import make_classification\n",
        "from sklearn.model_selection import GridSearchCV\n",
        "from sklearn.model_selection import RepeatedStratifiedKFold\n",
        "from sklearn.gaussian_process import GaussianProcessClassifier\n",
        "from sklearn.gaussian_process.kernels import RBF\n",
        "from sklearn.gaussian_process.kernels import DotProduct\n",
        "from sklearn.gaussian_process.kernels import Matern\n",
        "from sklearn.gaussian_process.kernels import RationalQuadratic\n",
        "from sklearn.gaussian_process.kernels import WhiteKernel"
      ],
      "execution_count": 2,
      "outputs": []
    },
    {
      "cell_type": "code",
      "metadata": {
        "colab": {
          "base_uri": "https://localhost:8080/"
        },
        "id": "8t1xlGaTbQz5",
        "outputId": "f9ecf545-9c24-4d76-deec-e3a9df7339a8"
      },
      "source": [
        "type({x for x in range(100) if x%3==0})"
      ],
      "execution_count": 11,
      "outputs": [
        {
          "output_type": "execute_result",
          "data": {
            "text/plain": [
              "set"
            ]
          },
          "metadata": {},
          "execution_count": 11
        }
      ]
    },
    {
      "cell_type": "code",
      "metadata": {
        "colab": {
          "base_uri": "https://localhost:8080/",
          "height": 441
        },
        "id": "0d4zvIsulhCY",
        "outputId": "3442411e-f114-4482-a1ea-46818f63190a"
      },
      "source": [
        "data = pd.read_csv('Structured_features.csv')\n",
        "data"
      ],
      "execution_count": 12,
      "outputs": [
        {
          "output_type": "execute_result",
          "data": {
            "text/html": [
              "<div>\n",
              "<style scoped>\n",
              "    .dataframe tbody tr th:only-of-type {\n",
              "        vertical-align: middle;\n",
              "    }\n",
              "\n",
              "    .dataframe tbody tr th {\n",
              "        vertical-align: top;\n",
              "    }\n",
              "\n",
              "    .dataframe thead th {\n",
              "        text-align: right;\n",
              "    }\n",
              "</style>\n",
              "<table border=\"1\" class=\"dataframe\">\n",
              "  <thead>\n",
              "    <tr style=\"text-align: right;\">\n",
              "      <th></th>\n",
              "      <th>Longitudinal modulus</th>\n",
              "      <th>Shear modulus</th>\n",
              "      <th>Bulk modulus</th>\n",
              "      <th>Young modulus</th>\n",
              "      <th>Poisson's ratio</th>\n",
              "      <th>Hardness</th>\n",
              "      <th>fractal bond connectivity</th>\n",
              "      <th>acoustic impedance</th>\n",
              "      <th>Erbium Concentration</th>\n",
              "    </tr>\n",
              "  </thead>\n",
              "  <tbody>\n",
              "    <tr>\n",
              "      <th>0</th>\n",
              "      <td>60.505571</td>\n",
              "      <td>20.125896</td>\n",
              "      <td>33.671042</td>\n",
              "      <td>50.346610</td>\n",
              "      <td>0.250792</td>\n",
              "      <td>3.343693</td>\n",
              "      <td>2.390885</td>\n",
              "      <td>17.829646</td>\n",
              "      <td>0.01</td>\n",
              "    </tr>\n",
              "    <tr>\n",
              "      <th>1</th>\n",
              "      <td>61.749309</td>\n",
              "      <td>20.539600</td>\n",
              "      <td>34.363176</td>\n",
              "      <td>51.381524</td>\n",
              "      <td>0.250792</td>\n",
              "      <td>3.412425</td>\n",
              "      <td>2.390885</td>\n",
              "      <td>18.196148</td>\n",
              "      <td>0.01</td>\n",
              "    </tr>\n",
              "    <tr>\n",
              "      <th>2</th>\n",
              "      <td>60.206152</td>\n",
              "      <td>20.026301</td>\n",
              "      <td>33.504417</td>\n",
              "      <td>50.097465</td>\n",
              "      <td>0.250792</td>\n",
              "      <td>3.327146</td>\n",
              "      <td>2.390885</td>\n",
              "      <td>17.741414</td>\n",
              "      <td>0.01</td>\n",
              "    </tr>\n",
              "    <tr>\n",
              "      <th>3</th>\n",
              "      <td>62.014179</td>\n",
              "      <td>20.627703</td>\n",
              "      <td>34.510575</td>\n",
              "      <td>51.601922</td>\n",
              "      <td>0.250792</td>\n",
              "      <td>3.427063</td>\n",
              "      <td>2.390885</td>\n",
              "      <td>18.274199</td>\n",
              "      <td>0.01</td>\n",
              "    </tr>\n",
              "    <tr>\n",
              "      <th>4</th>\n",
              "      <td>62.831822</td>\n",
              "      <td>20.899675</td>\n",
              "      <td>34.965589</td>\n",
              "      <td>52.282281</td>\n",
              "      <td>0.250792</td>\n",
              "      <td>3.472248</td>\n",
              "      <td>2.390885</td>\n",
              "      <td>18.515140</td>\n",
              "      <td>0.01</td>\n",
              "    </tr>\n",
              "    <tr>\n",
              "      <th>...</th>\n",
              "      <td>...</td>\n",
              "      <td>...</td>\n",
              "      <td>...</td>\n",
              "      <td>...</td>\n",
              "      <td>...</td>\n",
              "      <td>...</td>\n",
              "      <td>...</td>\n",
              "      <td>...</td>\n",
              "      <td>...</td>\n",
              "    </tr>\n",
              "    <tr>\n",
              "      <th>245</th>\n",
              "      <td>58.273308</td>\n",
              "      <td>19.835527</td>\n",
              "      <td>31.825938</td>\n",
              "      <td>49.270607</td>\n",
              "      <td>0.241979</td>\n",
              "      <td>3.411991</td>\n",
              "      <td>2.493001</td>\n",
              "      <td>17.663388</td>\n",
              "      <td>0.05</td>\n",
              "    </tr>\n",
              "    <tr>\n",
              "      <th>246</th>\n",
              "      <td>57.141365</td>\n",
              "      <td>19.450228</td>\n",
              "      <td>31.207728</td>\n",
              "      <td>48.313539</td>\n",
              "      <td>0.241979</td>\n",
              "      <td>3.345714</td>\n",
              "      <td>2.493001</td>\n",
              "      <td>17.320282</td>\n",
              "      <td>0.05</td>\n",
              "    </tr>\n",
              "    <tr>\n",
              "      <th>247</th>\n",
              "      <td>61.777979</td>\n",
              "      <td>21.028475</td>\n",
              "      <td>33.740012</td>\n",
              "      <td>52.233838</td>\n",
              "      <td>0.241979</td>\n",
              "      <td>3.617195</td>\n",
              "      <td>2.493001</td>\n",
              "      <td>18.725699</td>\n",
              "      <td>0.05</td>\n",
              "    </tr>\n",
              "    <tr>\n",
              "      <th>248</th>\n",
              "      <td>58.251540</td>\n",
              "      <td>19.828118</td>\n",
              "      <td>31.814050</td>\n",
              "      <td>49.252202</td>\n",
              "      <td>0.241979</td>\n",
              "      <td>3.410717</td>\n",
              "      <td>2.493001</td>\n",
              "      <td>17.656790</td>\n",
              "      <td>0.05</td>\n",
              "    </tr>\n",
              "    <tr>\n",
              "      <th>249</th>\n",
              "      <td>60.341281</td>\n",
              "      <td>20.539440</td>\n",
              "      <td>32.955361</td>\n",
              "      <td>51.019097</td>\n",
              "      <td>0.241979</td>\n",
              "      <td>3.533074</td>\n",
              "      <td>2.493001</td>\n",
              "      <td>18.290218</td>\n",
              "      <td>0.05</td>\n",
              "    </tr>\n",
              "  </tbody>\n",
              "</table>\n",
              "<p>250 rows × 9 columns</p>\n",
              "</div>"
            ],
            "text/plain": [
              "     Longitudinal modulus  ...  Erbium Concentration\n",
              "0               60.505571  ...                  0.01\n",
              "1               61.749309  ...                  0.01\n",
              "2               60.206152  ...                  0.01\n",
              "3               62.014179  ...                  0.01\n",
              "4               62.831822  ...                  0.01\n",
              "..                    ...  ...                   ...\n",
              "245             58.273308  ...                  0.05\n",
              "246             57.141365  ...                  0.05\n",
              "247             61.777979  ...                  0.05\n",
              "248             58.251540  ...                  0.05\n",
              "249             60.341281  ...                  0.05\n",
              "\n",
              "[250 rows x 9 columns]"
            ]
          },
          "metadata": {},
          "execution_count": 12
        }
      ]
    },
    {
      "cell_type": "code",
      "metadata": {
        "colab": {
          "base_uri": "https://localhost:8080/"
        },
        "id": "HGoxSm9vnlI5",
        "outputId": "1ab48052-cef4-4422-917b-f2764f5d3c03"
      },
      "source": [
        "train_data = data.sample(frac=0.8, random_state=0)\n",
        "test_data = data.drop(train_data.index)\n",
        "\n",
        "print('Shape of training data :',train_data.shape)\n",
        "print('Shape of testing data :',test_data.shape)"
      ],
      "execution_count": 13,
      "outputs": [
        {
          "output_type": "stream",
          "name": "stdout",
          "text": [
            "Shape of training data : (200, 9)\n",
            "Shape of testing data : (50, 9)\n"
          ]
        }
      ]
    },
    {
      "cell_type": "code",
      "metadata": {
        "id": "TtorU7YRnb0X"
      },
      "source": [
        "train_x = train_data.drop(columns=['Erbium Concentration'],axis=1)\n",
        "train_y = train_data['Erbium Concentration'].astype(str)\n",
        "\n",
        "test_x = test_data.drop(columns=['Erbium Concentration'],axis=1)\n",
        "test_y = test_data['Erbium Concentration'].astype(str)"
      ],
      "execution_count": 14,
      "outputs": []
    },
    {
      "cell_type": "code",
      "metadata": {
        "id": "7d-Vs-qVrZC4"
      },
      "source": [
        "# The main usage of a Kernel is to compute the GP’s covariance between datapoints. \n",
        "kernel = 1.0 * RBF(10) # RBF() + WhiteKernel()\n",
        "gpc = GaussianProcessClassifier(\n",
        "        kernel=kernel,\n",
        "        random_state=0).fit(train_x, train_y)"
      ],
      "execution_count": 15,
      "outputs": []
    },
    {
      "cell_type": "code",
      "metadata": {
        "colab": {
          "base_uri": "https://localhost:8080/"
        },
        "id": "FMj-CNGSrc4Q",
        "outputId": "0aef0114-3633-4cee-c004-b6a79b977adf"
      },
      "source": [
        "gpc.score(train_x, train_y)"
      ],
      "execution_count": 16,
      "outputs": [
        {
          "output_type": "execute_result",
          "data": {
            "text/plain": [
              "0.7"
            ]
          },
          "metadata": {},
          "execution_count": 16
        }
      ]
    },
    {
      "cell_type": "code",
      "metadata": {
        "id": "cL7XqnJxrHhd"
      },
      "source": [
        "# gpc.predict_proba(test_x)"
      ],
      "execution_count": 17,
      "outputs": []
    },
    {
      "cell_type": "code",
      "metadata": {
        "id": "96-xdfZfsuLR"
      },
      "source": [
        "prediction = gpc.predict(test_x)"
      ],
      "execution_count": 18,
      "outputs": []
    },
    {
      "cell_type": "code",
      "metadata": {
        "colab": {
          "base_uri": "https://localhost:8080/"
        },
        "id": "IrshlTKGtIpa",
        "outputId": "e8339c26-7cba-4983-a1b2-e5ddbc6f7588"
      },
      "source": [
        "dt_test_accuracy = accuracy_score(test_y,prediction)\n",
        "print('test accuracy: ', dt_test_accuracy)"
      ],
      "execution_count": 19,
      "outputs": [
        {
          "output_type": "stream",
          "name": "stdout",
          "text": [
            "test accuracy:  0.72\n"
          ]
        }
      ]
    },
    {
      "cell_type": "code",
      "metadata": {
        "colab": {
          "base_uri": "https://localhost:8080/"
        },
        "id": "XKp__z4rt8wv",
        "outputId": "450e5cd2-5190-48be-d5e2-c70ac630f819"
      },
      "source": [
        "# define model evaluation method\n",
        "cv = RepeatedStratifiedKFold(n_splits=10, n_repeats=3, random_state=1)\n",
        "# define grid\n",
        "grid = dict()\n",
        "grid['kernel'] = [1*RBF(), 1*DotProduct(), 1*Matern(),  1*RationalQuadratic(), 1*WhiteKernel()]\n",
        "# define search\n",
        "search = GridSearchCV(gpc, grid, scoring='accuracy', cv=cv, n_jobs=-1)\n",
        "# perform the search\n",
        "results = search.fit(train_x, train_y)\n",
        "# summarize best\n",
        "print('Best Mean Accuracy: %.3f' % results.best_score_)\n",
        "print('Best Config: %s' % results.best_params_)\n",
        "# summarize all\n",
        "means = results.cv_results_['mean_test_score']\n",
        "params = results.cv_results_['params']\n",
        "for mean, param in zip(means, params):\n",
        "    print(\">%.3f with: %r\" % (mean, param))"
      ],
      "execution_count": null,
      "outputs": [
        {
          "output_type": "stream",
          "name": "stdout",
          "text": [
            "Best Mean Accuracy: 0.627\n",
            "Best Config: {'kernel': 1**2 * RationalQuadratic(alpha=1, length_scale=1)}\n",
            ">0.540 with: {'kernel': 1**2 * RBF(length_scale=1)}\n",
            ">nan with: {'kernel': 1**2 * DotProduct(sigma_0=1)}\n",
            ">0.493 with: {'kernel': 1**2 * Matern(length_scale=1, nu=1.5)}\n",
            ">0.627 with: {'kernel': 1**2 * RationalQuadratic(alpha=1, length_scale=1)}\n",
            ">0.190 with: {'kernel': 1**2 * WhiteKernel(noise_level=1)}\n"
          ]
        }
      ]
    },
    {
      "cell_type": "code",
      "metadata": {
        "id": "ZY9BnDv5udWT"
      },
      "source": [
        "DotProduct() + WhiteKernel()"
      ],
      "execution_count": null,
      "outputs": []
    }
  ]
}