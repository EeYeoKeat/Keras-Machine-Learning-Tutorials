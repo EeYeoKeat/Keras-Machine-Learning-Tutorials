{
  "nbformat": 4,
  "nbformat_minor": 0,
  "metadata": {
    "colab": {
      "name": "Gaussian_Process_Regression-sklearn.ipynb",
      "provenance": [],
      "machine_shape": "hm"
    },
    "kernelspec": {
      "name": "python3",
      "display_name": "Python 3"
    },
    "language_info": {
      "name": "python"
    },
    "accelerator": "GPU"
  },
  "cells": [
    {
      "cell_type": "code",
      "metadata": {
        "colab": {
          "base_uri": "https://localhost:8080/"
        },
        "id": "Yimh6oguAbV4",
        "outputId": "44675883-0991-4c05-d0dd-036194107a71"
      },
      "source": [
        "# grid search kernel for gaussian process classifier\n",
        "from sklearn.datasets import make_classification\n",
        "from sklearn.model_selection import GridSearchCV\n",
        "from sklearn.model_selection import RepeatedStratifiedKFold\n",
        "from sklearn.gaussian_process import GaussianProcessClassifier\n",
        "from sklearn.gaussian_process.kernels import RBF\n",
        "from sklearn.gaussian_process.kernels import DotProduct\n",
        "from sklearn.gaussian_process.kernels import Matern\n",
        "from sklearn.gaussian_process.kernels import RationalQuadratic\n",
        "from sklearn.gaussian_process.kernels import WhiteKernel\n",
        "# define dataset\n",
        "X, y = make_classification(n_samples=100, n_features=20, n_informative=15, n_redundant=5, random_state=1)\n",
        "# define model\n",
        "model = GaussianProcessClassifier()\n",
        "# define model evaluation method\n",
        "cv = RepeatedStratifiedKFold(n_splits=10, n_repeats=3, random_state=1)\n",
        "# define grid\n",
        "grid = dict()\n",
        "grid['kernel'] = [1*RBF(), 1*DotProduct(), 1*Matern(),  1*RationalQuadratic(), 1*WhiteKernel()]\n",
        "# define search\n",
        "search = GridSearchCV(model, grid, scoring='accuracy', cv=cv, n_jobs=-1)\n",
        "# perform the search\n",
        "results = search.fit(X, y)\n",
        "# summarize best\n",
        "print('Best Mean Accuracy: %.3f' % results.best_score_)\n",
        "print('Best Config: %s' % results.best_params_)\n",
        "# summarize all\n",
        "means = results.cv_results_['mean_test_score']\n",
        "params = results.cv_results_['params']\n",
        "for mean, param in zip(means, params):\n",
        "    print(\">%.3f with: %r\" % (mean, param))"
      ],
      "execution_count": 1,
      "outputs": [
        {
          "output_type": "stream",
          "name": "stdout",
          "text": [
            "Best Mean Accuracy: 0.913\n",
            "Best Config: {'kernel': 1**2 * RationalQuadratic(alpha=1, length_scale=1)}\n",
            ">0.790 with: {'kernel': 1**2 * RBF(length_scale=1)}\n",
            ">0.800 with: {'kernel': 1**2 * DotProduct(sigma_0=1)}\n",
            ">0.830 with: {'kernel': 1**2 * Matern(length_scale=1, nu=1.5)}\n",
            ">0.913 with: {'kernel': 1**2 * RationalQuadratic(alpha=1, length_scale=1)}\n",
            ">0.510 with: {'kernel': 1**2 * WhiteKernel(noise_level=1)}\n"
          ]
        }
      ]
    },
    {
      "cell_type": "code",
      "metadata": {
        "id": "0r_y-LlLgBpW"
      },
      "source": [
        "import pandas as pd\n",
        "import seaborn as sns\n",
        "import numpy as np\n",
        "import matplotlib.pyplot as plt\n",
        "\n",
        "from sklearn.metrics import accuracy_score"
      ],
      "execution_count": 7,
      "outputs": []
    },
    {
      "cell_type": "code",
      "metadata": {
        "colab": {
          "base_uri": "https://localhost:8080/",
          "height": 436
        },
        "id": "0d4zvIsulhCY",
        "outputId": "15d891cf-7812-4994-f8ed-fcdda9e79166"
      },
      "source": [
        "data = pd.read_csv('Structured_features.csv')\n",
        "data"
      ],
      "execution_count": 8,
      "outputs": [
        {
          "output_type": "execute_result",
          "data": {
            "text/html": [
              "<div>\n",
              "<style scoped>\n",
              "    .dataframe tbody tr th:only-of-type {\n",
              "        vertical-align: middle;\n",
              "    }\n",
              "\n",
              "    .dataframe tbody tr th {\n",
              "        vertical-align: top;\n",
              "    }\n",
              "\n",
              "    .dataframe thead th {\n",
              "        text-align: right;\n",
              "    }\n",
              "</style>\n",
              "<table border=\"1\" class=\"dataframe\">\n",
              "  <thead>\n",
              "    <tr style=\"text-align: right;\">\n",
              "      <th></th>\n",
              "      <th>Longitudinal modulus</th>\n",
              "      <th>Shear modulus</th>\n",
              "      <th>Bulk modulus</th>\n",
              "      <th>Young modulus</th>\n",
              "      <th>Poisson's ratio</th>\n",
              "      <th>Hardness</th>\n",
              "      <th>fractal bond connectivity</th>\n",
              "      <th>acoustic impedance</th>\n",
              "      <th>Erbium Concentration</th>\n",
              "    </tr>\n",
              "  </thead>\n",
              "  <tbody>\n",
              "    <tr>\n",
              "      <th>0</th>\n",
              "      <td>60.505571</td>\n",
              "      <td>20.125896</td>\n",
              "      <td>33.671042</td>\n",
              "      <td>50.346610</td>\n",
              "      <td>0.250792</td>\n",
              "      <td>3.343693</td>\n",
              "      <td>2.390885</td>\n",
              "      <td>17.829646</td>\n",
              "      <td>0.01</td>\n",
              "    </tr>\n",
              "    <tr>\n",
              "      <th>1</th>\n",
              "      <td>61.749309</td>\n",
              "      <td>20.539600</td>\n",
              "      <td>34.363176</td>\n",
              "      <td>51.381524</td>\n",
              "      <td>0.250792</td>\n",
              "      <td>3.412425</td>\n",
              "      <td>2.390885</td>\n",
              "      <td>18.196148</td>\n",
              "      <td>0.01</td>\n",
              "    </tr>\n",
              "    <tr>\n",
              "      <th>2</th>\n",
              "      <td>60.206152</td>\n",
              "      <td>20.026301</td>\n",
              "      <td>33.504417</td>\n",
              "      <td>50.097465</td>\n",
              "      <td>0.250792</td>\n",
              "      <td>3.327146</td>\n",
              "      <td>2.390885</td>\n",
              "      <td>17.741414</td>\n",
              "      <td>0.01</td>\n",
              "    </tr>\n",
              "    <tr>\n",
              "      <th>3</th>\n",
              "      <td>62.014179</td>\n",
              "      <td>20.627703</td>\n",
              "      <td>34.510575</td>\n",
              "      <td>51.601922</td>\n",
              "      <td>0.250792</td>\n",
              "      <td>3.427063</td>\n",
              "      <td>2.390885</td>\n",
              "      <td>18.274199</td>\n",
              "      <td>0.01</td>\n",
              "    </tr>\n",
              "    <tr>\n",
              "      <th>4</th>\n",
              "      <td>62.831822</td>\n",
              "      <td>20.899675</td>\n",
              "      <td>34.965589</td>\n",
              "      <td>52.282281</td>\n",
              "      <td>0.250792</td>\n",
              "      <td>3.472248</td>\n",
              "      <td>2.390885</td>\n",
              "      <td>18.515140</td>\n",
              "      <td>0.01</td>\n",
              "    </tr>\n",
              "    <tr>\n",
              "      <th>...</th>\n",
              "      <td>...</td>\n",
              "      <td>...</td>\n",
              "      <td>...</td>\n",
              "      <td>...</td>\n",
              "      <td>...</td>\n",
              "      <td>...</td>\n",
              "      <td>...</td>\n",
              "      <td>...</td>\n",
              "      <td>...</td>\n",
              "    </tr>\n",
              "    <tr>\n",
              "      <th>245</th>\n",
              "      <td>58.273308</td>\n",
              "      <td>19.835527</td>\n",
              "      <td>31.825938</td>\n",
              "      <td>49.270607</td>\n",
              "      <td>0.241979</td>\n",
              "      <td>3.411991</td>\n",
              "      <td>2.493001</td>\n",
              "      <td>17.663388</td>\n",
              "      <td>0.05</td>\n",
              "    </tr>\n",
              "    <tr>\n",
              "      <th>246</th>\n",
              "      <td>57.141365</td>\n",
              "      <td>19.450228</td>\n",
              "      <td>31.207728</td>\n",
              "      <td>48.313539</td>\n",
              "      <td>0.241979</td>\n",
              "      <td>3.345714</td>\n",
              "      <td>2.493001</td>\n",
              "      <td>17.320282</td>\n",
              "      <td>0.05</td>\n",
              "    </tr>\n",
              "    <tr>\n",
              "      <th>247</th>\n",
              "      <td>61.777979</td>\n",
              "      <td>21.028475</td>\n",
              "      <td>33.740012</td>\n",
              "      <td>52.233838</td>\n",
              "      <td>0.241979</td>\n",
              "      <td>3.617195</td>\n",
              "      <td>2.493001</td>\n",
              "      <td>18.725699</td>\n",
              "      <td>0.05</td>\n",
              "    </tr>\n",
              "    <tr>\n",
              "      <th>248</th>\n",
              "      <td>58.251540</td>\n",
              "      <td>19.828118</td>\n",
              "      <td>31.814050</td>\n",
              "      <td>49.252202</td>\n",
              "      <td>0.241979</td>\n",
              "      <td>3.410717</td>\n",
              "      <td>2.493001</td>\n",
              "      <td>17.656790</td>\n",
              "      <td>0.05</td>\n",
              "    </tr>\n",
              "    <tr>\n",
              "      <th>249</th>\n",
              "      <td>60.341281</td>\n",
              "      <td>20.539440</td>\n",
              "      <td>32.955361</td>\n",
              "      <td>51.019097</td>\n",
              "      <td>0.241979</td>\n",
              "      <td>3.533074</td>\n",
              "      <td>2.493001</td>\n",
              "      <td>18.290218</td>\n",
              "      <td>0.05</td>\n",
              "    </tr>\n",
              "  </tbody>\n",
              "</table>\n",
              "<p>250 rows × 9 columns</p>\n",
              "</div>"
            ],
            "text/plain": [
              "     Longitudinal modulus  ...  Erbium Concentration\n",
              "0               60.505571  ...                  0.01\n",
              "1               61.749309  ...                  0.01\n",
              "2               60.206152  ...                  0.01\n",
              "3               62.014179  ...                  0.01\n",
              "4               62.831822  ...                  0.01\n",
              "..                    ...  ...                   ...\n",
              "245             58.273308  ...                  0.05\n",
              "246             57.141365  ...                  0.05\n",
              "247             61.777979  ...                  0.05\n",
              "248             58.251540  ...                  0.05\n",
              "249             60.341281  ...                  0.05\n",
              "\n",
              "[250 rows x 9 columns]"
            ]
          },
          "metadata": {},
          "execution_count": 8
        }
      ]
    },
    {
      "cell_type": "code",
      "metadata": {
        "colab": {
          "base_uri": "https://localhost:8080/"
        },
        "id": "HGoxSm9vnlI5",
        "outputId": "41365585-79b0-4d46-b66b-1b4794c6f662"
      },
      "source": [
        "train_data = data.sample(frac=0.8, random_state=0)\n",
        "test_data = data.drop(train_data.index)\n",
        "\n",
        "print('Shape of training data :',train_data.shape)\n",
        "print('Shape of testing data :',test_data.shape)"
      ],
      "execution_count": 10,
      "outputs": [
        {
          "output_type": "stream",
          "name": "stdout",
          "text": [
            "Shape of training data : (200, 9)\n",
            "Shape of testing data : (50, 9)\n"
          ]
        }
      ]
    },
    {
      "cell_type": "code",
      "metadata": {
        "id": "TtorU7YRnb0X"
      },
      "source": [
        "train_x = train_data.drop(columns=['Erbium Concentration'],axis=1)\n",
        "train_y = train_data['Erbium Concentration'].astype(str)\n",
        "\n",
        "test_x = test_data.drop(columns=['Erbium Concentration'],axis=1)\n",
        "test_y = test_data['Erbium Concentration'].astype(str)"
      ],
      "execution_count": 11,
      "outputs": []
    },
    {
      "cell_type": "code",
      "metadata": {
        "id": "7d-Vs-qVrZC4"
      },
      "source": [
        "kernel = 1.0 * RBF(1.0)\n",
        "gpc = GaussianProcessClassifier(\n",
        "        kernel=kernel,\n",
        "        random_state=0).fit(train_x, train_y)"
      ],
      "execution_count": 22,
      "outputs": []
    },
    {
      "cell_type": "code",
      "metadata": {
        "colab": {
          "base_uri": "https://localhost:8080/"
        },
        "id": "FMj-CNGSrc4Q",
        "outputId": "33b4c9f6-1a2f-423b-d610-ef6ae646dce8"
      },
      "source": [
        "gpc.score(train_x, train_y)"
      ],
      "execution_count": 23,
      "outputs": [
        {
          "output_type": "execute_result",
          "data": {
            "text/plain": [
              "0.59"
            ]
          },
          "metadata": {},
          "execution_count": 23
        }
      ]
    },
    {
      "cell_type": "code",
      "metadata": {
        "colab": {
          "base_uri": "https://localhost:8080/"
        },
        "id": "cL7XqnJxrHhd",
        "outputId": "9993108c-2c07-454e-be39-5c3a089bda50"
      },
      "source": [
        "gpc.predict_proba(test_x)"
      ],
      "execution_count": 33,
      "outputs": [
        {
          "output_type": "execute_result",
          "data": {
            "text/plain": [
              "array([[0.33680619, 0.00508841, 0.33680621, 0.3130319 , 0.0082673 ],\n",
              "       [0.32102101, 0.01515159, 0.32102107, 0.29836101, 0.04444533],\n",
              "       [0.26514881, 0.11007239, 0.26514888, 0.24643271, 0.11319721],\n",
              "       [0.32028912, 0.02707239, 0.32028917, 0.29768076, 0.03466857],\n",
              "       [0.33733857, 0.00599614, 0.33733858, 0.31352669, 0.00580001],\n",
              "       [0.33403826, 0.00569341, 0.33403827, 0.31045933, 0.01577072],\n",
              "       [0.33545313, 0.00577474, 0.33545314, 0.31177434, 0.01154465],\n",
              "       [0.23484634, 0.29226306, 0.23484632, 0.21826909, 0.01977518],\n",
              "       [0.19892281, 0.27309959, 0.19892281, 0.18488134, 0.14417345],\n",
              "       [0.12792753, 0.46080245, 0.12792755, 0.11889746, 0.164445  ],\n",
              "       [0.13606308, 0.50166794, 0.13606312, 0.12645878, 0.09974709],\n",
              "       [0.13193966, 0.4977069 , 0.1319397 , 0.12262641, 0.11578733],\n",
              "       [0.14676274, 0.41321446, 0.14676277, 0.13640316, 0.15685687],\n",
              "       [0.12968836, 0.46086763, 0.12968838, 0.120534  , 0.15922163],\n",
              "       [0.15057936, 0.53744787, 0.1505794 , 0.13995039, 0.02144297],\n",
              "       [0.30584642, 0.04860522, 0.30584647, 0.28425755, 0.05544434],\n",
              "       [0.15448483, 0.3901647 , 0.15448485, 0.14358015, 0.15728547],\n",
              "       [0.16606335, 0.43332234, 0.16606338, 0.15434139, 0.08020954],\n",
              "       [0.12353283, 0.49318848, 0.12353281, 0.11481293, 0.14493295],\n",
              "       [0.29402181, 0.08954157, 0.29402182, 0.27326756, 0.04914723],\n",
              "       [0.2242906 , 0.12449666, 0.22429066, 0.20845858, 0.2184635 ],\n",
              "       [0.3015183 , 0.02323072, 0.30151837, 0.28023496, 0.09349766],\n",
              "       [0.189786  , 0.21241918, 0.18978605, 0.17638952, 0.23161924],\n",
              "       [0.31340195, 0.03303379, 0.31340201, 0.29127976, 0.04888248],\n",
              "       [0.31428047, 0.03262768, 0.31428053, 0.29209627, 0.04671505],\n",
              "       [0.3091355 , 0.04156321, 0.30913555, 0.28731445, 0.05285129],\n",
              "       [0.31356499, 0.03284028, 0.31356505, 0.2914313 , 0.04859837],\n",
              "       [0.25676298, 0.13861821, 0.25676303, 0.23863878, 0.109217  ],\n",
              "       [0.24863911, 0.11947034, 0.24863917, 0.23108837, 0.15216301],\n",
              "       [0.25236903, 0.18222411, 0.25236908, 0.23455499, 0.07848279],\n",
              "       [0.14718243, 0.25388101, 0.14718251, 0.13679332, 0.31496074],\n",
              "       [0.21500958, 0.17405314, 0.21500961, 0.19983261, 0.19609507],\n",
              "       [0.24240095, 0.15334884, 0.24240099, 0.22529052, 0.1365587 ],\n",
              "       [0.30744749, 0.01956356, 0.30744752, 0.28574556, 0.07979587],\n",
              "       [0.32414067, 0.01154957, 0.32414072, 0.30126046, 0.03890858],\n",
              "       [0.33540034, 0.00651118, 0.33540036, 0.31172529, 0.01096283],\n",
              "       [0.33550098, 0.00665199, 0.33550101, 0.31181883, 0.01052719],\n",
              "       [0.33357418, 0.00692277, 0.33357422, 0.31002806, 0.01590078],\n",
              "       [0.14150554, 0.2647282 , 0.14150558, 0.13151706, 0.32074362],\n",
              "       [0.12909365, 0.02984237, 0.12909369, 0.1199813 , 0.59198899],\n",
              "       [0.12433958, 0.10028683, 0.12433963, 0.11556283, 0.53547113],\n",
              "       [0.12908728, 0.10164752, 0.12908731, 0.11997537, 0.52020252],\n",
              "       [0.15797673, 0.16106554, 0.15797676, 0.14682558, 0.37615539],\n",
              "       [0.12471576, 0.06933092, 0.1247158 , 0.11591244, 0.56532509],\n",
              "       [0.13857735, 0.16992366, 0.13857733, 0.1287955 , 0.42412617],\n",
              "       [0.16429119, 0.10332376, 0.16429115, 0.15269424, 0.41539967],\n",
              "       [0.1383459 , 0.17173914, 0.13834586, 0.12858036, 0.42298874],\n",
              "       [0.13846782, 0.17080816, 0.13846779, 0.12869368, 0.42356256],\n",
              "       [0.12012655, 0.19569681, 0.12012655, 0.11164712, 0.45240296],\n",
              "       [0.11934242, 0.26429662, 0.11934242, 0.11091832, 0.38610022]])"
            ]
          },
          "metadata": {},
          "execution_count": 33
        }
      ]
    },
    {
      "cell_type": "code",
      "metadata": {
        "id": "96-xdfZfsuLR"
      },
      "source": [
        "prediction = gpc.predict(test_x)"
      ],
      "execution_count": 34,
      "outputs": []
    },
    {
      "cell_type": "code",
      "metadata": {
        "colab": {
          "base_uri": "https://localhost:8080/"
        },
        "id": "IrshlTKGtIpa",
        "outputId": "22407833-74ee-4c6c-f7a9-b2cc2e9ab25d"
      },
      "source": [
        "dt_test_accuracy = accuracy_score(test_y,prediction)\n",
        "print('test accuracy: ', dt_test_accuracy)"
      ],
      "execution_count": 35,
      "outputs": [
        {
          "output_type": "stream",
          "name": "stdout",
          "text": [
            "test accuracy:  0.58\n"
          ]
        }
      ]
    },
    {
      "cell_type": "code",
      "metadata": {
        "colab": {
          "base_uri": "https://localhost:8080/"
        },
        "id": "XKp__z4rt8wv",
        "outputId": "12a23ca2-d841-4209-9fa1-51902afcb126"
      },
      "source": [
        "# define model evaluation method\n",
        "cv = RepeatedStratifiedKFold(n_splits=10, n_repeats=3, random_state=1)\n",
        "# define grid\n",
        "grid = dict()\n",
        "grid['kernel'] = [1*RBF(), 1*DotProduct(), 1*Matern(),  1*RationalQuadratic(), 1*WhiteKernel()]\n",
        "# define search\n",
        "search = GridSearchCV(gpc, grid, scoring='accuracy', cv=cv, n_jobs=-1)\n",
        "# perform the search\n",
        "results = search.fit(train_x, train_y)\n",
        "# summarize best\n",
        "print('Best Mean Accuracy: %.3f' % results.best_score_)\n",
        "print('Best Config: %s' % results.best_params_)\n",
        "# summarize all\n",
        "means = results.cv_results_['mean_test_score']\n",
        "params = results.cv_results_['params']\n",
        "for mean, param in zip(means, params):\n",
        "    print(\">%.3f with: %r\" % (mean, param))"
      ],
      "execution_count": 36,
      "outputs": [
        {
          "output_type": "stream",
          "name": "stdout",
          "text": [
            "Best Mean Accuracy: 0.627\n",
            "Best Config: {'kernel': 1**2 * RationalQuadratic(alpha=1, length_scale=1)}\n",
            ">0.540 with: {'kernel': 1**2 * RBF(length_scale=1)}\n",
            ">nan with: {'kernel': 1**2 * DotProduct(sigma_0=1)}\n",
            ">0.493 with: {'kernel': 1**2 * Matern(length_scale=1, nu=1.5)}\n",
            ">0.627 with: {'kernel': 1**2 * RationalQuadratic(alpha=1, length_scale=1)}\n",
            ">0.190 with: {'kernel': 1**2 * WhiteKernel(noise_level=1)}\n"
          ]
        }
      ]
    },
    {
      "cell_type": "code",
      "metadata": {
        "id": "ZY9BnDv5udWT"
      },
      "source": [
        "DotProduct() + WhiteKernel()"
      ],
      "execution_count": null,
      "outputs": []
    }
  ]
}