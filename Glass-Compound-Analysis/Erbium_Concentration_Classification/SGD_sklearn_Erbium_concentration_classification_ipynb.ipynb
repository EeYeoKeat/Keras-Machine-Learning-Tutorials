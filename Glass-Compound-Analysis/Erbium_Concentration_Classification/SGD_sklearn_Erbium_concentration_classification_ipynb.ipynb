{
  "nbformat": 4,
  "nbformat_minor": 0,
  "metadata": {
    "colab": {
      "name": "SGD_sklearn-Erbium_concentration_classification.ipynb.ipynb",
      "provenance": []
    },
    "kernelspec": {
      "name": "python3",
      "display_name": "Python 3"
    },
    "language_info": {
      "name": "python"
    }
  },
  "cells": [
    {
      "cell_type": "code",
      "metadata": {
        "id": "aB3BKb70yS_x"
      },
      "source": [
        "import pandas as pd\n",
        "import numpy as np\n",
        "import matplotlib.pyplot as plt\n",
        "%matplotlib inline\n",
        "\n",
        "import seaborn as sns\n",
        "import tensorflow as tf\n",
        "import time\n",
        "\n",
        "from sklearn.metrics import confusion_matrix\n",
        "from sklearn.linear_model import SGDClassifier\n",
        "from sklearn.model_selection import GridSearchCV\n",
        "from sklearn.metrics import classification_report"
      ],
      "execution_count": 16,
      "outputs": []
    },
    {
      "cell_type": "code",
      "metadata": {
        "id": "T4LJrxAN0yP9"
      },
      "source": [
        "try:\n",
        "  data = pd.read_csv('Structured_features.csv')\n",
        "except:\n",
        "  print('No such file')"
      ],
      "execution_count": 83,
      "outputs": []
    },
    {
      "cell_type": "code",
      "metadata": {
        "colab": {
          "base_uri": "https://localhost:8080/",
          "height": 436
        },
        "id": "hgH4LzE80ytE",
        "outputId": "3e558111-c14c-4882-9f20-dd4b49893ebe"
      },
      "source": [
        "# encode the erbium concentration float value to int\n",
        "uniq_concent = data[\"Erbium Concentration\"].unique().tolist()\n",
        "conc_encoded = {x: i for i, x in enumerate(uniq_concent)}\n",
        "\n",
        "# for later decode use\n",
        "encoded_to_conc = {i: x for i, x in enumerate(uniq_concent)}\n",
        "encoded_to_conc\n",
        "\n",
        "data[\"Erbium Concentration\"] = data[\"Erbium Concentration\"].map(conc_encoded)\n",
        "data"
      ],
      "execution_count": 84,
      "outputs": [
        {
          "output_type": "execute_result",
          "data": {
            "text/html": [
              "<div>\n",
              "<style scoped>\n",
              "    .dataframe tbody tr th:only-of-type {\n",
              "        vertical-align: middle;\n",
              "    }\n",
              "\n",
              "    .dataframe tbody tr th {\n",
              "        vertical-align: top;\n",
              "    }\n",
              "\n",
              "    .dataframe thead th {\n",
              "        text-align: right;\n",
              "    }\n",
              "</style>\n",
              "<table border=\"1\" class=\"dataframe\">\n",
              "  <thead>\n",
              "    <tr style=\"text-align: right;\">\n",
              "      <th></th>\n",
              "      <th>Longitudinal modulus</th>\n",
              "      <th>Shear modulus</th>\n",
              "      <th>Bulk modulus</th>\n",
              "      <th>Young modulus</th>\n",
              "      <th>Poisson's ratio</th>\n",
              "      <th>Hardness</th>\n",
              "      <th>fractal bond connectivity</th>\n",
              "      <th>acoustic impedance</th>\n",
              "      <th>Erbium Concentration</th>\n",
              "    </tr>\n",
              "  </thead>\n",
              "  <tbody>\n",
              "    <tr>\n",
              "      <th>0</th>\n",
              "      <td>60.505571</td>\n",
              "      <td>20.125896</td>\n",
              "      <td>33.671042</td>\n",
              "      <td>50.346610</td>\n",
              "      <td>0.250792</td>\n",
              "      <td>3.343693</td>\n",
              "      <td>2.390885</td>\n",
              "      <td>17.829646</td>\n",
              "      <td>0</td>\n",
              "    </tr>\n",
              "    <tr>\n",
              "      <th>1</th>\n",
              "      <td>61.749309</td>\n",
              "      <td>20.539600</td>\n",
              "      <td>34.363176</td>\n",
              "      <td>51.381524</td>\n",
              "      <td>0.250792</td>\n",
              "      <td>3.412425</td>\n",
              "      <td>2.390885</td>\n",
              "      <td>18.196148</td>\n",
              "      <td>0</td>\n",
              "    </tr>\n",
              "    <tr>\n",
              "      <th>2</th>\n",
              "      <td>60.206152</td>\n",
              "      <td>20.026301</td>\n",
              "      <td>33.504417</td>\n",
              "      <td>50.097465</td>\n",
              "      <td>0.250792</td>\n",
              "      <td>3.327146</td>\n",
              "      <td>2.390885</td>\n",
              "      <td>17.741414</td>\n",
              "      <td>0</td>\n",
              "    </tr>\n",
              "    <tr>\n",
              "      <th>3</th>\n",
              "      <td>62.014179</td>\n",
              "      <td>20.627703</td>\n",
              "      <td>34.510575</td>\n",
              "      <td>51.601922</td>\n",
              "      <td>0.250792</td>\n",
              "      <td>3.427063</td>\n",
              "      <td>2.390885</td>\n",
              "      <td>18.274199</td>\n",
              "      <td>0</td>\n",
              "    </tr>\n",
              "    <tr>\n",
              "      <th>4</th>\n",
              "      <td>62.831822</td>\n",
              "      <td>20.899675</td>\n",
              "      <td>34.965589</td>\n",
              "      <td>52.282281</td>\n",
              "      <td>0.250792</td>\n",
              "      <td>3.472248</td>\n",
              "      <td>2.390885</td>\n",
              "      <td>18.515140</td>\n",
              "      <td>0</td>\n",
              "    </tr>\n",
              "    <tr>\n",
              "      <th>...</th>\n",
              "      <td>...</td>\n",
              "      <td>...</td>\n",
              "      <td>...</td>\n",
              "      <td>...</td>\n",
              "      <td>...</td>\n",
              "      <td>...</td>\n",
              "      <td>...</td>\n",
              "      <td>...</td>\n",
              "      <td>...</td>\n",
              "    </tr>\n",
              "    <tr>\n",
              "      <th>245</th>\n",
              "      <td>58.273308</td>\n",
              "      <td>19.835527</td>\n",
              "      <td>31.825938</td>\n",
              "      <td>49.270607</td>\n",
              "      <td>0.241979</td>\n",
              "      <td>3.411991</td>\n",
              "      <td>2.493001</td>\n",
              "      <td>17.663388</td>\n",
              "      <td>4</td>\n",
              "    </tr>\n",
              "    <tr>\n",
              "      <th>246</th>\n",
              "      <td>57.141365</td>\n",
              "      <td>19.450228</td>\n",
              "      <td>31.207728</td>\n",
              "      <td>48.313539</td>\n",
              "      <td>0.241979</td>\n",
              "      <td>3.345714</td>\n",
              "      <td>2.493001</td>\n",
              "      <td>17.320282</td>\n",
              "      <td>4</td>\n",
              "    </tr>\n",
              "    <tr>\n",
              "      <th>247</th>\n",
              "      <td>61.777979</td>\n",
              "      <td>21.028475</td>\n",
              "      <td>33.740012</td>\n",
              "      <td>52.233838</td>\n",
              "      <td>0.241979</td>\n",
              "      <td>3.617195</td>\n",
              "      <td>2.493001</td>\n",
              "      <td>18.725699</td>\n",
              "      <td>4</td>\n",
              "    </tr>\n",
              "    <tr>\n",
              "      <th>248</th>\n",
              "      <td>58.251540</td>\n",
              "      <td>19.828118</td>\n",
              "      <td>31.814050</td>\n",
              "      <td>49.252202</td>\n",
              "      <td>0.241979</td>\n",
              "      <td>3.410717</td>\n",
              "      <td>2.493001</td>\n",
              "      <td>17.656790</td>\n",
              "      <td>4</td>\n",
              "    </tr>\n",
              "    <tr>\n",
              "      <th>249</th>\n",
              "      <td>60.341281</td>\n",
              "      <td>20.539440</td>\n",
              "      <td>32.955361</td>\n",
              "      <td>51.019097</td>\n",
              "      <td>0.241979</td>\n",
              "      <td>3.533074</td>\n",
              "      <td>2.493001</td>\n",
              "      <td>18.290218</td>\n",
              "      <td>4</td>\n",
              "    </tr>\n",
              "  </tbody>\n",
              "</table>\n",
              "<p>250 rows × 9 columns</p>\n",
              "</div>"
            ],
            "text/plain": [
              "     Longitudinal modulus  ...  Erbium Concentration\n",
              "0               60.505571  ...                     0\n",
              "1               61.749309  ...                     0\n",
              "2               60.206152  ...                     0\n",
              "3               62.014179  ...                     0\n",
              "4               62.831822  ...                     0\n",
              "..                    ...  ...                   ...\n",
              "245             58.273308  ...                     4\n",
              "246             57.141365  ...                     4\n",
              "247             61.777979  ...                     4\n",
              "248             58.251540  ...                     4\n",
              "249             60.341281  ...                     4\n",
              "\n",
              "[250 rows x 9 columns]"
            ]
          },
          "metadata": {
            "tags": []
          },
          "execution_count": 84
        }
      ]
    },
    {
      "cell_type": "code",
      "metadata": {
        "colab": {
          "base_uri": "https://localhost:8080/"
        },
        "id": "obNe99dbGxqC",
        "outputId": "cd568802-c187-4b9d-c2b0-5f78843ac584"
      },
      "source": [
        "column_name = data.columns[:-1]\n",
        "column_name"
      ],
      "execution_count": 85,
      "outputs": [
        {
          "output_type": "execute_result",
          "data": {
            "text/plain": [
              "Index(['Longitudinal modulus', 'Shear modulus', 'Bulk modulus',\n",
              "       'Young modulus', 'Poisson's ratio', 'Hardness',\n",
              "       'fractal bond connectivity', 'acoustic impedance'],\n",
              "      dtype='object')"
            ]
          },
          "metadata": {
            "tags": []
          },
          "execution_count": 85
        }
      ]
    },
    {
      "cell_type": "code",
      "metadata": {
        "id": "0Kbu9qKBGJIJ"
      },
      "source": [
        "for column in column_name:\n",
        "    data[column] = (data[column] - data[column].min()) / (data[column].max() - data[column].min())"
      ],
      "execution_count": 40,
      "outputs": []
    },
    {
      "cell_type": "code",
      "metadata": {
        "colab": {
          "base_uri": "https://localhost:8080/",
          "height": 436
        },
        "id": "C8gsOngAGbLx",
        "outputId": "e6ca3685-38a6-43a4-90db-d5129d3c745b"
      },
      "source": [
        "data"
      ],
      "execution_count": 41,
      "outputs": [
        {
          "output_type": "execute_result",
          "data": {
            "text/html": [
              "<div>\n",
              "<style scoped>\n",
              "    .dataframe tbody tr th:only-of-type {\n",
              "        vertical-align: middle;\n",
              "    }\n",
              "\n",
              "    .dataframe tbody tr th {\n",
              "        vertical-align: top;\n",
              "    }\n",
              "\n",
              "    .dataframe thead th {\n",
              "        text-align: right;\n",
              "    }\n",
              "</style>\n",
              "<table border=\"1\" class=\"dataframe\">\n",
              "  <thead>\n",
              "    <tr style=\"text-align: right;\">\n",
              "      <th></th>\n",
              "      <th>Longitudinal modulus</th>\n",
              "      <th>Shear modulus</th>\n",
              "      <th>Bulk modulus</th>\n",
              "      <th>Young modulus</th>\n",
              "      <th>Poisson's ratio</th>\n",
              "      <th>Hardness</th>\n",
              "      <th>fractal bond connectivity</th>\n",
              "      <th>acoustic impedance</th>\n",
              "      <th>Erbium Concentration</th>\n",
              "    </tr>\n",
              "  </thead>\n",
              "  <tbody>\n",
              "    <tr>\n",
              "      <th>0</th>\n",
              "      <td>0.402600</td>\n",
              "      <td>0.447432</td>\n",
              "      <td>0.450173</td>\n",
              "      <td>0.422583</td>\n",
              "      <td>0.643648</td>\n",
              "      <td>0.426756</td>\n",
              "      <td>0.282833</td>\n",
              "      <td>0.383823</td>\n",
              "      <td>0</td>\n",
              "    </tr>\n",
              "    <tr>\n",
              "      <th>1</th>\n",
              "      <td>0.450058</td>\n",
              "      <td>0.500519</td>\n",
              "      <td>0.486700</td>\n",
              "      <td>0.477551</td>\n",
              "      <td>0.643648</td>\n",
              "      <td>0.460885</td>\n",
              "      <td>0.282833</td>\n",
              "      <td>0.436787</td>\n",
              "      <td>0</td>\n",
              "    </tr>\n",
              "    <tr>\n",
              "      <th>2</th>\n",
              "      <td>0.391175</td>\n",
              "      <td>0.434652</td>\n",
              "      <td>0.441379</td>\n",
              "      <td>0.409349</td>\n",
              "      <td>0.643648</td>\n",
              "      <td>0.418540</td>\n",
              "      <td>0.282833</td>\n",
              "      <td>0.371072</td>\n",
              "      <td>0</td>\n",
              "    </tr>\n",
              "    <tr>\n",
              "      <th>3</th>\n",
              "      <td>0.460165</td>\n",
              "      <td>0.511824</td>\n",
              "      <td>0.494479</td>\n",
              "      <td>0.489257</td>\n",
              "      <td>0.643648</td>\n",
              "      <td>0.468153</td>\n",
              "      <td>0.282833</td>\n",
              "      <td>0.448067</td>\n",
              "      <td>0</td>\n",
              "    </tr>\n",
              "    <tr>\n",
              "      <th>4</th>\n",
              "      <td>0.491364</td>\n",
              "      <td>0.546724</td>\n",
              "      <td>0.518492</td>\n",
              "      <td>0.525394</td>\n",
              "      <td>0.643648</td>\n",
              "      <td>0.490590</td>\n",
              "      <td>0.282833</td>\n",
              "      <td>0.482886</td>\n",
              "      <td>0</td>\n",
              "    </tr>\n",
              "    <tr>\n",
              "      <th>...</th>\n",
              "      <td>...</td>\n",
              "      <td>...</td>\n",
              "      <td>...</td>\n",
              "      <td>...</td>\n",
              "      <td>...</td>\n",
              "      <td>...</td>\n",
              "      <td>...</td>\n",
              "      <td>...</td>\n",
              "      <td>...</td>\n",
              "    </tr>\n",
              "    <tr>\n",
              "      <th>245</th>\n",
              "      <td>0.317422</td>\n",
              "      <td>0.410172</td>\n",
              "      <td>0.352798</td>\n",
              "      <td>0.365432</td>\n",
              "      <td>0.556935</td>\n",
              "      <td>0.460670</td>\n",
              "      <td>0.354152</td>\n",
              "      <td>0.359796</td>\n",
              "      <td>4</td>\n",
              "    </tr>\n",
              "    <tr>\n",
              "      <th>246</th>\n",
              "      <td>0.274230</td>\n",
              "      <td>0.360730</td>\n",
              "      <td>0.320173</td>\n",
              "      <td>0.314598</td>\n",
              "      <td>0.556935</td>\n",
              "      <td>0.427760</td>\n",
              "      <td>0.354152</td>\n",
              "      <td>0.310213</td>\n",
              "      <td>4</td>\n",
              "    </tr>\n",
              "    <tr>\n",
              "      <th>247</th>\n",
              "      <td>0.451152</td>\n",
              "      <td>0.563252</td>\n",
              "      <td>0.453813</td>\n",
              "      <td>0.522821</td>\n",
              "      <td>0.556935</td>\n",
              "      <td>0.562564</td>\n",
              "      <td>0.354152</td>\n",
              "      <td>0.513314</td>\n",
              "      <td>4</td>\n",
              "    </tr>\n",
              "    <tr>\n",
              "      <th>248</th>\n",
              "      <td>0.316592</td>\n",
              "      <td>0.409221</td>\n",
              "      <td>0.352171</td>\n",
              "      <td>0.364454</td>\n",
              "      <td>0.556935</td>\n",
              "      <td>0.460037</td>\n",
              "      <td>0.354152</td>\n",
              "      <td>0.358843</td>\n",
              "      <td>4</td>\n",
              "    </tr>\n",
              "    <tr>\n",
              "      <th>249</th>\n",
              "      <td>0.396331</td>\n",
              "      <td>0.500498</td>\n",
              "      <td>0.412403</td>\n",
              "      <td>0.458301</td>\n",
              "      <td>0.556935</td>\n",
              "      <td>0.520794</td>\n",
              "      <td>0.354152</td>\n",
              "      <td>0.450382</td>\n",
              "      <td>4</td>\n",
              "    </tr>\n",
              "  </tbody>\n",
              "</table>\n",
              "<p>250 rows × 9 columns</p>\n",
              "</div>"
            ],
            "text/plain": [
              "     Longitudinal modulus  ...  Erbium Concentration\n",
              "0                0.402600  ...                     0\n",
              "1                0.450058  ...                     0\n",
              "2                0.391175  ...                     0\n",
              "3                0.460165  ...                     0\n",
              "4                0.491364  ...                     0\n",
              "..                    ...  ...                   ...\n",
              "245              0.317422  ...                     4\n",
              "246              0.274230  ...                     4\n",
              "247              0.451152  ...                     4\n",
              "248              0.316592  ...                     4\n",
              "249              0.396331  ...                     4\n",
              "\n",
              "[250 rows x 9 columns]"
            ]
          },
          "metadata": {
            "tags": []
          },
          "execution_count": 41
        }
      ]
    },
    {
      "cell_type": "code",
      "metadata": {
        "id": "jBUPEPrm02xK"
      },
      "source": [
        "train_dataset = data.sample(frac=0.8, random_state=0)\n",
        "test_dataset = data.drop(train_dataset.index)\n",
        "\n",
        "# Collect input feature for training, molar volume value in this case\n",
        "train_features = train_dataset.copy() #dataframe type\n",
        "test_features = test_dataset.copy()\n",
        "\n",
        "# Collect respective label, density value in this case\n",
        "train_labels = train_features.pop('Erbium Concentration') # series type\n",
        "test_labels = test_features.pop('Erbium Concentration')"
      ],
      "execution_count": 42,
      "outputs": []
    },
    {
      "cell_type": "code",
      "metadata": {
        "colab": {
          "base_uri": "https://localhost:8080/"
        },
        "id": "k5X3nsBf08Kh",
        "outputId": "dea444cc-3b5b-4bd9-c469-fdd30e828452"
      },
      "source": [
        "for i in range(10):  \n",
        "  sgd_classifier = SGDClassifier(\n",
        "                                max_iter=300,\n",
        "                                learning_rate='constant',\n",
        "                                loss='squared_hinge',\n",
        "                                validation_fraction=0.2,\n",
        "                                early_stopping=True,\n",
        "                                eta0=0.001,\n",
        "                                ).fit(train_features, train_labels)\n",
        "\n",
        "  pred_y = sgd_classifier.predict(test_features)\n",
        "  train_acc = sgd_classifier.score(train_features, train_labels)\n",
        "  test_acc = sgd_classifier.score(test_features, test_labels)\n",
        "\n",
        "  print('Training Accuracy : %.3f'%train_acc)\n",
        "  print('Test Accuracy : %.3f'%test_acc)"
      ],
      "execution_count": 56,
      "outputs": [
        {
          "output_type": "stream",
          "text": [
            "Training Accuracy : 0.340\n",
            "Test Accuracy : 0.240\n",
            "Training Accuracy : 0.360\n",
            "Test Accuracy : 0.260\n",
            "Training Accuracy : 0.370\n",
            "Test Accuracy : 0.220\n",
            "Training Accuracy : 0.340\n",
            "Test Accuracy : 0.240\n",
            "Training Accuracy : 0.335\n",
            "Test Accuracy : 0.240\n",
            "Training Accuracy : 0.335\n",
            "Test Accuracy : 0.200\n",
            "Training Accuracy : 0.375\n",
            "Test Accuracy : 0.260\n",
            "Training Accuracy : 0.245\n",
            "Test Accuracy : 0.160\n",
            "Training Accuracy : 0.340\n",
            "Test Accuracy : 0.240\n",
            "Training Accuracy : 0.345\n",
            "Test Accuracy : 0.240\n"
          ],
          "name": "stdout"
        }
      ]
    },
    {
      "cell_type": "code",
      "metadata": {
        "colab": {
          "base_uri": "https://localhost:8080/"
        },
        "id": "XSiZ209r9svI",
        "outputId": "e739bf93-6a62-48d6-8f58-ea7a7d460718"
      },
      "source": [
        "y_true, y_pred = test_labels , sgd_classifier.predict(test_features)\n",
        "\n",
        "print('Results on the test set:')\n",
        "print(classification_report(y_true, y_pred))"
      ],
      "execution_count": 57,
      "outputs": [
        {
          "output_type": "stream",
          "text": [
            "Results on the test set:\n",
            "              precision    recall  f1-score   support\n",
            "\n",
            "           0       0.28      0.62      0.38         8\n",
            "           1       0.00      0.00      0.00        11\n",
            "           2       0.22      0.88      0.35         8\n",
            "           3       0.00      0.00      0.00        11\n",
            "           4       0.00      0.00      0.00        12\n",
            "\n",
            "    accuracy                           0.24        50\n",
            "   macro avg       0.10      0.30      0.15        50\n",
            "weighted avg       0.08      0.24      0.12        50\n",
            "\n"
          ],
          "name": "stdout"
        },
        {
          "output_type": "stream",
          "text": [
            "/usr/local/lib/python3.7/dist-packages/sklearn/metrics/_classification.py:1272: UndefinedMetricWarning: Precision and F-score are ill-defined and being set to 0.0 in labels with no predicted samples. Use `zero_division` parameter to control this behavior.\n",
            "  _warn_prf(average, modifier, msg_start, len(result))\n"
          ],
          "name": "stderr"
        }
      ]
    },
    {
      "cell_type": "code",
      "metadata": {
        "colab": {
          "base_uri": "https://localhost:8080/",
          "height": 459
        },
        "id": "aCsGNoDf98M4",
        "outputId": "1d8ed565-bd37-42f4-f91f-039abf4a65c8"
      },
      "source": [
        "def accuracy(confusion_matrix):\n",
        "   diagonal_sum = confusion_matrix.trace()\n",
        "   sum_of_all_elements = confusion_matrix.sum()\n",
        "   return diagonal_sum / sum_of_all_elements\n",
        "\n",
        "plt.figure(figsize=(10,7))\n",
        "cm = confusion_matrix(pred_y, test_labels)\n",
        "print(\"Accuracy score :\", accuracy(cm))\n",
        "sns.set(font_scale=1.4) # for label size\n",
        "sns.heatmap(cm, annot=True, annot_kws={\"size\": 16}) # font size\n",
        "\n",
        "plt.show()"
      ],
      "execution_count": 58,
      "outputs": [
        {
          "output_type": "stream",
          "text": [
            "Accuracy score : 0.24\n"
          ],
          "name": "stdout"
        },
        {
          "output_type": "display_data",
          "data": {
            "image/png": "[encoded data removed]",
            "text/plain": [
              "<Figure size 720x504 with 2 Axes>"
            ]
          },
          "metadata": {
            "tags": []
          }
        }
      ]
    },
    {
      "cell_type": "markdown",
      "metadata": {
        "id": "u1MXV0KxSHV7"
      },
      "source": [
        "# **Feature Selection**"
      ]
    },
    {
      "cell_type": "code",
      "metadata": {
        "colab": {
          "base_uri": "https://localhost:8080/"
        },
        "id": "Gs6SlmB39_IE",
        "outputId": "92302fd6-ba39-4a0c-a843-3902f1a22f9b"
      },
      "source": [
        "from sklearn.feature_selection import SelectKBest\n",
        "from sklearn.feature_selection import chi2\n",
        "\n",
        "num_select = 5\n",
        "X = data[column_name]\n",
        "y = data['Erbium Concentration']\n",
        "selected_features = SelectKBest(score_func=chi2, k=num_select)\n",
        "fit = selected_features.fit(X,y)\n",
        "\n",
        "dfscores = pd.DataFrame(fit.scores_)\n",
        "dfcolumns = pd.DataFrame(X.columns)\n",
        "\n",
        "#concat two dataframes for better visualization \n",
        "featureScores = pd.concat([dfcolumns,dfscores],axis=1)\n",
        "featureScores.columns = ['Specs','Score']  #naming the dataframe columns\n",
        "print(featureScores.nlargest(num_select,'Score'))"
      ],
      "execution_count": 86,
      "outputs": [
        {
          "output_type": "stream",
          "text": [
            "                  Specs     Score\n",
            "2          Bulk modulus  6.292307\n",
            "0  Longitudinal modulus  5.062600\n",
            "3         Young modulus  2.813917\n",
            "1         Shear modulus  1.140136\n",
            "7    acoustic impedance  0.958431\n"
          ],
          "name": "stdout"
        }
      ]
    },
    {
      "cell_type": "code",
      "metadata": {
        "colab": {
          "base_uri": "https://localhost:8080/",
          "height": 430
        },
        "id": "DUZ7VM4-SuuD",
        "outputId": "62a1ba19-3133-4ee1-81c3-b236329cf90f"
      },
      "source": [
        "from sklearn.ensemble import ExtraTreesClassifier\n",
        "\n",
        "extract_tree = ExtraTreesClassifier()\n",
        "extract_tree.fit(X,y)\n",
        "\n",
        "print(extract_tree.feature_importances_)\n",
        "feat_importances = pd.Series(extract_tree.feature_importances_, index=X.columns)\n",
        "feat_importances.nlargest(num_select).plot(kind='bar')\n",
        "plt.show()"
      ],
      "execution_count": 87,
      "outputs": [
        {
          "output_type": "stream",
          "text": [
            "[0.07414524 0.06647425 0.08991401 0.06804037 0.26560992 0.1078021\n",
            " 0.2477781  0.08023601]\n"
          ],
          "name": "stdout"
        },
        {
          "output_type": "display_data",
          "data": {
            "image/png": "[encoded data removed]",
            "text/plain": [
              "<Figure size 432x288 with 1 Axes>"
            ]
          },
          "metadata": {
            "tags": []
          }
        }
      ]
    },
    {
      "cell_type": "code",
      "metadata": {
        "colab": {
          "base_uri": "https://localhost:8080/",
          "height": 618
        },
        "id": "Uiq_CI95Xr2Z",
        "outputId": "66b87275-3a99-4c9b-b64f-d7660f7195a9"
      },
      "source": [
        "corrmat = data.corr()\n",
        "top_corr_features = corrmat.index\n",
        "sns.set(font_scale=1.0)\n",
        "plt.figure(figsize=(8,8))\n",
        "g=sns.heatmap(data[top_corr_features].corr(),annot=True,cmap=\"RdYlGn\")"
      ],
      "execution_count": 88,
      "outputs": [
        {
          "output_type": "display_data",
          "data": {
            "image/png": "[encoded data removed]",
            "text/plain": [
              "<Figure size 576x576 with 2 Axes>"
            ]
          },
          "metadata": {
            "tags": []
          }
        }
      ]
    },
    {
      "cell_type": "code",
      "metadata": {
        "id": "XpuzRtsGYdNh"
      },
      "source": [
        ""
      ],
      "execution_count": null,
      "outputs": []
    }
  ]
}