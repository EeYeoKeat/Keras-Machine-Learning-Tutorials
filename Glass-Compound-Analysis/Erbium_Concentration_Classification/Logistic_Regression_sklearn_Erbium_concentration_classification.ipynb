{
  "nbformat": 4,
  "nbformat_minor": 0,
  "metadata": {
    "colab": {
      "name": "Logistic_Regression_sklearn-Erbium_concentration_classification.ipynb",
      "provenance": [],
      "collapsed_sections": []
    },
    "kernelspec": {
      "name": "python3",
      "display_name": "Python 3"
    },
    "language_info": {
      "name": "python"
    },
    "accelerator": "GPU"
  },
  "cells": [
    {
      "cell_type": "code",
      "metadata": {
        "id": "CQ2hhUSp71Xq"
      },
      "source": [
        "import pandas as pd\n",
        "import numpy as np\n",
        "import matplotlib.pyplot as plt\n",
        "%matplotlib inline\n",
        "\n",
        "import seaborn as sns\n",
        "import tensorflow as tf\n",
        "import time\n",
        "\n",
        "from sklearn.model_selection import KFold\n",
        "from sklearn.model_selection import cross_val_score\n",
        "from sklearn.model_selection import GridSearchCV\n",
        "from sklearn.metrics import confusion_matrix"
      ],
      "execution_count": 19,
      "outputs": []
    },
    {
      "cell_type": "code",
      "metadata": {
        "colab": {
          "base_uri": "https://localhost:8080/",
          "height": 436
        },
        "id": "B7Wojqgm8xhz",
        "outputId": "a268aee8-040c-4948-b3ac-62c4253af3ee"
      },
      "source": [
        "try:\n",
        "  data = pd.read_csv('Structured_features.csv')\n",
        "except:\n",
        "  print('No such file')\n",
        "\n",
        "# encode the erbium concentration float value to int\n",
        "uniq_concent = data[\"Erbium Concentration\"].unique().tolist()\n",
        "conc_encoded = {x: i for i, x in enumerate(uniq_concent)}\n",
        "\n",
        "# for later decode use\n",
        "encoded_to_conc = {i: x for i, x in enumerate(uniq_concent)}\n",
        "encoded_to_conc\n",
        "\n",
        "data[\"Erbium Concentration\"] = data[\"Erbium Concentration\"].map(conc_encoded)\n",
        "data"
      ],
      "execution_count": 2,
      "outputs": [
        {
          "output_type": "execute_result",
          "data": {
            "text/html": [
              "<div>\n",
              "<style scoped>\n",
              "    .dataframe tbody tr th:only-of-type {\n",
              "        vertical-align: middle;\n",
              "    }\n",
              "\n",
              "    .dataframe tbody tr th {\n",
              "        vertical-align: top;\n",
              "    }\n",
              "\n",
              "    .dataframe thead th {\n",
              "        text-align: right;\n",
              "    }\n",
              "</style>\n",
              "<table border=\"1\" class=\"dataframe\">\n",
              "  <thead>\n",
              "    <tr style=\"text-align: right;\">\n",
              "      <th></th>\n",
              "      <th>Longitudinal modulus</th>\n",
              "      <th>Shear modulus</th>\n",
              "      <th>Bulk modulus</th>\n",
              "      <th>Young modulus</th>\n",
              "      <th>Poisson's ratio</th>\n",
              "      <th>Hardness</th>\n",
              "      <th>fractal bond connectivity</th>\n",
              "      <th>acoustic impedance</th>\n",
              "      <th>Erbium Concentration</th>\n",
              "    </tr>\n",
              "  </thead>\n",
              "  <tbody>\n",
              "    <tr>\n",
              "      <th>0</th>\n",
              "      <td>60.505571</td>\n",
              "      <td>20.125896</td>\n",
              "      <td>33.671042</td>\n",
              "      <td>50.346610</td>\n",
              "      <td>0.250792</td>\n",
              "      <td>3.343693</td>\n",
              "      <td>2.390885</td>\n",
              "      <td>17.829646</td>\n",
              "      <td>0</td>\n",
              "    </tr>\n",
              "    <tr>\n",
              "      <th>1</th>\n",
              "      <td>61.749309</td>\n",
              "      <td>20.539600</td>\n",
              "      <td>34.363176</td>\n",
              "      <td>51.381524</td>\n",
              "      <td>0.250792</td>\n",
              "      <td>3.412425</td>\n",
              "      <td>2.390885</td>\n",
              "      <td>18.196148</td>\n",
              "      <td>0</td>\n",
              "    </tr>\n",
              "    <tr>\n",
              "      <th>2</th>\n",
              "      <td>60.206152</td>\n",
              "      <td>20.026301</td>\n",
              "      <td>33.504417</td>\n",
              "      <td>50.097465</td>\n",
              "      <td>0.250792</td>\n",
              "      <td>3.327146</td>\n",
              "      <td>2.390885</td>\n",
              "      <td>17.741414</td>\n",
              "      <td>0</td>\n",
              "    </tr>\n",
              "    <tr>\n",
              "      <th>3</th>\n",
              "      <td>62.014179</td>\n",
              "      <td>20.627703</td>\n",
              "      <td>34.510575</td>\n",
              "      <td>51.601922</td>\n",
              "      <td>0.250792</td>\n",
              "      <td>3.427063</td>\n",
              "      <td>2.390885</td>\n",
              "      <td>18.274199</td>\n",
              "      <td>0</td>\n",
              "    </tr>\n",
              "    <tr>\n",
              "      <th>4</th>\n",
              "      <td>62.831822</td>\n",
              "      <td>20.899675</td>\n",
              "      <td>34.965589</td>\n",
              "      <td>52.282281</td>\n",
              "      <td>0.250792</td>\n",
              "      <td>3.472248</td>\n",
              "      <td>2.390885</td>\n",
              "      <td>18.515140</td>\n",
              "      <td>0</td>\n",
              "    </tr>\n",
              "    <tr>\n",
              "      <th>...</th>\n",
              "      <td>...</td>\n",
              "      <td>...</td>\n",
              "      <td>...</td>\n",
              "      <td>...</td>\n",
              "      <td>...</td>\n",
              "      <td>...</td>\n",
              "      <td>...</td>\n",
              "      <td>...</td>\n",
              "      <td>...</td>\n",
              "    </tr>\n",
              "    <tr>\n",
              "      <th>245</th>\n",
              "      <td>58.273308</td>\n",
              "      <td>19.835527</td>\n",
              "      <td>31.825938</td>\n",
              "      <td>49.270607</td>\n",
              "      <td>0.241979</td>\n",
              "      <td>3.411991</td>\n",
              "      <td>2.493001</td>\n",
              "      <td>17.663388</td>\n",
              "      <td>4</td>\n",
              "    </tr>\n",
              "    <tr>\n",
              "      <th>246</th>\n",
              "      <td>57.141365</td>\n",
              "      <td>19.450228</td>\n",
              "      <td>31.207728</td>\n",
              "      <td>48.313539</td>\n",
              "      <td>0.241979</td>\n",
              "      <td>3.345714</td>\n",
              "      <td>2.493001</td>\n",
              "      <td>17.320282</td>\n",
              "      <td>4</td>\n",
              "    </tr>\n",
              "    <tr>\n",
              "      <th>247</th>\n",
              "      <td>61.777979</td>\n",
              "      <td>21.028475</td>\n",
              "      <td>33.740012</td>\n",
              "      <td>52.233838</td>\n",
              "      <td>0.241979</td>\n",
              "      <td>3.617195</td>\n",
              "      <td>2.493001</td>\n",
              "      <td>18.725699</td>\n",
              "      <td>4</td>\n",
              "    </tr>\n",
              "    <tr>\n",
              "      <th>248</th>\n",
              "      <td>58.251540</td>\n",
              "      <td>19.828118</td>\n",
              "      <td>31.814050</td>\n",
              "      <td>49.252202</td>\n",
              "      <td>0.241979</td>\n",
              "      <td>3.410717</td>\n",
              "      <td>2.493001</td>\n",
              "      <td>17.656790</td>\n",
              "      <td>4</td>\n",
              "    </tr>\n",
              "    <tr>\n",
              "      <th>249</th>\n",
              "      <td>60.341281</td>\n",
              "      <td>20.539440</td>\n",
              "      <td>32.955361</td>\n",
              "      <td>51.019097</td>\n",
              "      <td>0.241979</td>\n",
              "      <td>3.533074</td>\n",
              "      <td>2.493001</td>\n",
              "      <td>18.290218</td>\n",
              "      <td>4</td>\n",
              "    </tr>\n",
              "  </tbody>\n",
              "</table>\n",
              "<p>250 rows × 9 columns</p>\n",
              "</div>"
            ],
            "text/plain": [
              "     Longitudinal modulus  ...  Erbium Concentration\n",
              "0               60.505571  ...                     0\n",
              "1               61.749309  ...                     0\n",
              "2               60.206152  ...                     0\n",
              "3               62.014179  ...                     0\n",
              "4               62.831822  ...                     0\n",
              "..                    ...  ...                   ...\n",
              "245             58.273308  ...                     4\n",
              "246             57.141365  ...                     4\n",
              "247             61.777979  ...                     4\n",
              "248             58.251540  ...                     4\n",
              "249             60.341281  ...                     4\n",
              "\n",
              "[250 rows x 9 columns]"
            ]
          },
          "metadata": {
            "tags": []
          },
          "execution_count": 2
        }
      ]
    },
    {
      "cell_type": "code",
      "metadata": {
        "id": "3MikfsPe80kf"
      },
      "source": [
        "column_name = data.columns[:-1]\n",
        "df_data = data.copy()\n",
        "for column in column_name:\n",
        "    df_data[column] = (df_data[column] - df_data[column].min()) / (df_data[column].max() - df_data[column].min())\n",
        "    \n",
        "train_dataset = df_data.sample(frac=0.8, random_state=0)\n",
        "test_dataset = df_data.drop(train_dataset.index)\n",
        "\n",
        "# Collect input feature for training, molar volume value in this case\n",
        "train_features = train_dataset.copy() #dataframe type\n",
        "test_features = test_dataset.copy()\n",
        "\n",
        "# Collect respective label, density value in this case\n",
        "train_labels = train_features.pop('Erbium Concentration') # series type\n",
        "test_labels = test_features.pop('Erbium Concentration')"
      ],
      "execution_count": 3,
      "outputs": []
    },
    {
      "cell_type": "code",
      "metadata": {
        "colab": {
          "base_uri": "https://localhost:8080/"
        },
        "id": "-QUGArMFBKaH",
        "outputId": "4b3a3876-2bb9-4a3c-e815-f2e7b53fbd75"
      },
      "source": [
        "from sklearn.linear_model import LogisticRegression\n",
        "\n",
        "X = np.array(train_features)\n",
        "y = np.array(train_labels)\n",
        "test_X = np.array(test_features)\n",
        "test_y = np.array(test_labels)\n",
        "\n",
        "logistic_reg = LogisticRegression(\n",
        "                                  penalty='elasticnet',\n",
        "                                  solver='saga',\n",
        "                                  l1_ratio=0.5,\n",
        "                                  max_iter=200,\n",
        "                                  )\n",
        "logistic_reg.fit(X,y)\n",
        "logistic_reg.score(X,y)"
      ],
      "execution_count": 16,
      "outputs": [
        {
          "output_type": "execute_result",
          "data": {
            "text/plain": [
              "0.405"
            ]
          },
          "metadata": {
            "tags": []
          },
          "execution_count": 16
        }
      ]
    },
    {
      "cell_type": "code",
      "metadata": {
        "colab": {
          "base_uri": "https://localhost:8080/"
        },
        "id": "Lnl_2LtJDekl",
        "outputId": "b82a34bc-98b7-4dc9-9791-94332259b569"
      },
      "source": [
        "kfold = KFold(n_splits=5, random_state=7)\n",
        "result = cross_val_score(logistic_reg, X, y, cv=kfold, scoring='accuracy')\n",
        "print(result.mean())"
      ],
      "execution_count": 17,
      "outputs": [
        {
          "output_type": "stream",
          "text": [
            "0.32999999999999996\n"
          ],
          "name": "stdout"
        },
        {
          "output_type": "stream",
          "text": [
            "/usr/local/lib/python3.7/dist-packages/sklearn/model_selection/_split.py:296: FutureWarning: Setting a random_state has no effect since shuffle is False. This will raise an error in 0.24. You should leave random_state to its default (None), or set shuffle=True.\n",
            "  FutureWarning\n"
          ],
          "name": "stderr"
        }
      ]
    },
    {
      "cell_type": "code",
      "metadata": {
        "colab": {
          "base_uri": "https://localhost:8080/"
        },
        "id": "TFEST19iE5N7",
        "outputId": "f49325e6-9430-44f0-82da-0f9b0009ef10"
      },
      "source": [
        "parameter_space = {\n",
        "    'max_iter': [50, 100, 200, 300, 400, 500],\n",
        "    'l1_ratio': [0.1,0.5,0.9],\n",
        "}\n",
        "\n",
        "clf = GridSearchCV(logistic_reg, parameter_space, n_jobs=-1, cv=5)\n",
        "clf.fit(X, y)\n",
        "\n",
        "means = clf.cv_results_['mean_test_score']\n",
        "stds = clf.cv_results_['std_test_score']\n",
        "for mean, std, params in zip(means, stds, clf.cv_results_['params']):\n",
        "    print(\"%0.3f (+/-%0.03f) for %r\" % (mean, std * 2, params))"
      ],
      "execution_count": 15,
      "outputs": [
        {
          "output_type": "stream",
          "text": [
            "0.360 (+/-0.121) for {'l1_ratio': 0.1, 'max_iter': 50}\n",
            "0.360 (+/-0.121) for {'l1_ratio': 0.1, 'max_iter': 100}\n",
            "0.360 (+/-0.121) for {'l1_ratio': 0.1, 'max_iter': 200}\n",
            "0.360 (+/-0.121) for {'l1_ratio': 0.1, 'max_iter': 300}\n",
            "0.360 (+/-0.121) for {'l1_ratio': 0.1, 'max_iter': 400}\n",
            "0.360 (+/-0.121) for {'l1_ratio': 0.1, 'max_iter': 500}\n",
            "0.360 (+/-0.121) for {'l1_ratio': 0.5, 'max_iter': 50}\n",
            "0.360 (+/-0.121) for {'l1_ratio': 0.5, 'max_iter': 100}\n",
            "0.360 (+/-0.121) for {'l1_ratio': 0.5, 'max_iter': 200}\n",
            "0.360 (+/-0.121) for {'l1_ratio': 0.5, 'max_iter': 300}\n",
            "0.360 (+/-0.121) for {'l1_ratio': 0.5, 'max_iter': 400}\n",
            "0.360 (+/-0.121) for {'l1_ratio': 0.5, 'max_iter': 500}\n",
            "0.370 (+/-0.120) for {'l1_ratio': 0.9, 'max_iter': 50}\n",
            "0.370 (+/-0.120) for {'l1_ratio': 0.9, 'max_iter': 100}\n",
            "0.370 (+/-0.120) for {'l1_ratio': 0.9, 'max_iter': 200}\n",
            "0.370 (+/-0.120) for {'l1_ratio': 0.9, 'max_iter': 300}\n",
            "0.370 (+/-0.120) for {'l1_ratio': 0.9, 'max_iter': 400}\n",
            "0.370 (+/-0.120) for {'l1_ratio': 0.9, 'max_iter': 500}\n"
          ],
          "name": "stdout"
        },
        {
          "output_type": "stream",
          "text": [
            "/usr/local/lib/python3.7/dist-packages/sklearn/linear_model/_sag.py:330: ConvergenceWarning: The max_iter was reached which means the coef_ did not converge\n",
            "  \"the coef_ did not converge\", ConvergenceWarning)\n"
          ],
          "name": "stderr"
        }
      ]
    },
    {
      "cell_type": "code",
      "metadata": {
        "colab": {
          "base_uri": "https://localhost:8080/",
          "height": 493
        },
        "id": "zw4JHAxcFf-D",
        "outputId": "0e38ecf9-2de6-400c-ab66-bec7bae12310"
      },
      "source": [
        "pred_y = logistic_reg.predict(test_X)\n",
        "train_acc = logistic_reg.score(X, y)\n",
        "test_acc = logistic_reg.score(test_X, test_y)\n",
        "\n",
        "print('Training Accuracy : %.3f'%train_acc)\n",
        "print('Test Accuracy : %.3f'%test_acc)\n",
        "\n",
        "def accuracy(confusion_matrix):\n",
        "   diagonal_sum = confusion_matrix.trace()\n",
        "   sum_of_all_elements = confusion_matrix.sum()\n",
        "   return diagonal_sum / sum_of_all_elements\n",
        "\n",
        "plt.figure(figsize=(10,7))\n",
        "cm = confusion_matrix(pred_y, test_y)\n",
        "print(\"Accuracy score :\", accuracy(cm))\n",
        "sns.set(font_scale=1.4) # for label size\n",
        "sns.heatmap(cm, annot=True, annot_kws={\"size\": 16})\n",
        "plt.show()"
      ],
      "execution_count": 20,
      "outputs": [
        {
          "output_type": "stream",
          "text": [
            "Training Accuracy : 0.405\n",
            "Test Accuracy : 0.240\n",
            "Accuracy score : 0.24\n"
          ],
          "name": "stdout"
        },
        {
          "output_type": "display_data",
          "data": {
            "image/png": "[encoded data removed]",
            "text/plain": [
              "<Figure size 720x504 with 2 Axes>"
            ]
          },
          "metadata": {
            "tags": [],
            "needs_background": "light"
          }
        }
      ]
    },
    {
      "cell_type": "code",
      "metadata": {
        "colab": {
          "base_uri": "https://localhost:8080/",
          "height": 493
        },
        "id": "OcTHHIdOIxX4",
        "outputId": "5b46c6c2-8950-4572-8f5c-5af1bd3dbdb3"
      },
      "source": [
        "# filtered_df_data = df_data.drop(['Hardness','fractal bond connectivity'], axis=1)\n",
        "filtered_df_data = df_data[['Longitudinal modulus','Bulk modulus','acoustic impedance','Erbium Concentration']]\n",
        "filtered_df_data\n",
        "\n",
        "filtered_train_dataset = filtered_df_data.sample(frac=0.8, random_state=0)\n",
        "filtered_test_dataset = filtered_df_data.drop(filtered_train_dataset.index)\n",
        "\n",
        "# Collect input feature for training, molar volume value in this case\n",
        "filtered_train_features = filtered_train_dataset.copy() #dataframe type\n",
        "filtered_test_features = filtered_test_dataset.copy()\n",
        "\n",
        "# Collect respective label, density value in this case\n",
        "filtered_train_labels = filtered_train_features.pop('Erbium Concentration') # series type\n",
        "filtered_test_labels = filtered_test_features.pop('Erbium Concentration')\n",
        "\n",
        "filtered_X = np.array(filtered_train_features)\n",
        "filtered_y = np.array(filtered_train_labels)\n",
        "filtered_test_X = np.array(filtered_test_features)\n",
        "filtered_test_y = np.array(filtered_test_labels)\n",
        "\n",
        "filter_logistic_reg = LogisticRegression(\n",
        "                                  penalty='elasticnet',\n",
        "                                  solver='saga',\n",
        "                                  l1_ratio=0.5,\n",
        "                                  max_iter=200,\n",
        "                                  )\n",
        "filter_logistic_reg.fit(filtered_X,filtered_y)\n",
        "filter_logistic_reg.score(filtered_X,filtered_y)\n",
        "\n",
        "filtered_pred_y = filter_logistic_reg.predict(filtered_test_X)\n",
        "filtered_train_acc = filter_logistic_reg.score(filtered_X, filtered_y)\n",
        "filtered_test_acc = filter_logistic_reg.score(filtered_test_X, filtered_test_y)\n",
        "\n",
        "print('Training Accuracy : %.3f'%filtered_train_acc)\n",
        "print('Test Accuracy : %.3f'%filtered_test_acc)\n",
        "\n",
        "plt.figure(figsize=(10,7))\n",
        "filtered_cm = confusion_matrix(filtered_pred_y, np.array(filtered_test_labels))\n",
        "print(\"Accuracy score :\", accuracy(filtered_cm))\n",
        "sns.set(font_scale=1.4)\n",
        "sns.heatmap(filtered_cm, annot=True, annot_kws={\"size\": 16})\n",
        "plt.show()"
      ],
      "execution_count": 23,
      "outputs": [
        {
          "output_type": "stream",
          "text": [
            "Training Accuracy : 0.430\n",
            "Test Accuracy : 0.340\n",
            "Accuracy score : 0.34\n"
          ],
          "name": "stdout"
        },
        {
          "output_type": "display_data",
          "data": {
            "image/png": "[encoded data removed]",
            "text/plain": [
              "<Figure size 720x504 with 2 Axes>"
            ]
          },
          "metadata": {
            "tags": []
          }
        }
      ]
    },
    {
      "cell_type": "code",
      "metadata": {
        "id": "kufmzPa9J7hj"
      },
      "source": [
        ""
      ],
      "execution_count": null,
      "outputs": []
    }
  ]
}