{
  "nbformat": 4,
  "nbformat_minor": 0,
  "metadata": {
    "colab": {
      "name": "Decision_Tree_sklearn-Erbium_density_prediction.ipynb",
      "provenance": [],
      "collapsed_sections": []
    },
    "kernelspec": {
      "name": "python3",
      "display_name": "Python 3"
    },
    "accelerator": "GPU"
  },
  "cells": [
    {
      "cell_type": "code",
      "metadata": {
        "id": "irGPRTEoXPos"
      },
      "source": [
        "import matplotlib.pyplot as plt\r\n",
        "import numpy as np\r\n",
        "import pandas as pd\r\n",
        "\r\n",
        "from sklearn.tree import DecisionTreeRegressor"
      ],
      "execution_count": 1,
      "outputs": []
    },
    {
      "cell_type": "code",
      "metadata": {
        "id": "ELRMbfyrZAip",
        "colab": {
          "base_uri": "https://localhost:8080/",
          "height": 1000
        },
        "outputId": "b16c7554-98cf-4c77-9d68-f0d86803f1a1"
      },
      "source": [
        "# Load the data\r\n",
        "data = pd.read_csv('Molecular-data.csv')\r\n",
        "data"
      ],
      "execution_count": 2,
      "outputs": [
        {
          "output_type": "execute_result",
          "data": {
            "text/html": [
              "<div>\n",
              "<style scoped>\n",
              "    .dataframe tbody tr th:only-of-type {\n",
              "        vertical-align: middle;\n",
              "    }\n",
              "\n",
              "    .dataframe tbody tr th {\n",
              "        vertical-align: top;\n",
              "    }\n",
              "\n",
              "    .dataframe thead th {\n",
              "        text-align: right;\n",
              "    }\n",
              "</style>\n",
              "<table border=\"1\" class=\"dataframe\">\n",
              "  <thead>\n",
              "    <tr style=\"text-align: right;\">\n",
              "      <th></th>\n",
              "      <th>Molar volume</th>\n",
              "      <th>Density</th>\n",
              "    </tr>\n",
              "  </thead>\n",
              "  <tbody>\n",
              "    <tr>\n",
              "      <th>0</th>\n",
              "      <td>26.379294</td>\n",
              "      <td>5.254</td>\n",
              "    </tr>\n",
              "    <tr>\n",
              "      <th>1</th>\n",
              "      <td>25.847969</td>\n",
              "      <td>5.362</td>\n",
              "    </tr>\n",
              "    <tr>\n",
              "      <th>2</th>\n",
              "      <td>26.510484</td>\n",
              "      <td>5.228</td>\n",
              "    </tr>\n",
              "    <tr>\n",
              "      <th>3</th>\n",
              "      <td>25.737570</td>\n",
              "      <td>5.385</td>\n",
              "    </tr>\n",
              "    <tr>\n",
              "      <th>4</th>\n",
              "      <td>25.402642</td>\n",
              "      <td>5.456</td>\n",
              "    </tr>\n",
              "    <tr>\n",
              "      <th>5</th>\n",
              "      <td>24.931968</td>\n",
              "      <td>5.559</td>\n",
              "    </tr>\n",
              "    <tr>\n",
              "      <th>6</th>\n",
              "      <td>26.612291</td>\n",
              "      <td>5.208</td>\n",
              "    </tr>\n",
              "    <tr>\n",
              "      <th>7</th>\n",
              "      <td>26.694301</td>\n",
              "      <td>5.192</td>\n",
              "    </tr>\n",
              "    <tr>\n",
              "      <th>8</th>\n",
              "      <td>26.434639</td>\n",
              "      <td>5.243</td>\n",
              "    </tr>\n",
              "    <tr>\n",
              "      <th>9</th>\n",
              "      <td>26.495280</td>\n",
              "      <td>5.231</td>\n",
              "    </tr>\n",
              "    <tr>\n",
              "      <th>10</th>\n",
              "      <td>25.370620</td>\n",
              "      <td>5.560</td>\n",
              "    </tr>\n",
              "    <tr>\n",
              "      <th>11</th>\n",
              "      <td>25.019625</td>\n",
              "      <td>5.638</td>\n",
              "    </tr>\n",
              "    <tr>\n",
              "      <th>12</th>\n",
              "      <td>25.906454</td>\n",
              "      <td>5.445</td>\n",
              "    </tr>\n",
              "    <tr>\n",
              "      <th>13</th>\n",
              "      <td>30.605477</td>\n",
              "      <td>4.609</td>\n",
              "    </tr>\n",
              "    <tr>\n",
              "      <th>14</th>\n",
              "      <td>25.535960</td>\n",
              "      <td>5.524</td>\n",
              "    </tr>\n",
              "    <tr>\n",
              "      <th>15</th>\n",
              "      <td>24.557912</td>\n",
              "      <td>5.744</td>\n",
              "    </tr>\n",
              "    <tr>\n",
              "      <th>16</th>\n",
              "      <td>28.711713</td>\n",
              "      <td>4.913</td>\n",
              "    </tr>\n",
              "    <tr>\n",
              "      <th>17</th>\n",
              "      <td>26.726155</td>\n",
              "      <td>5.278</td>\n",
              "    </tr>\n",
              "    <tr>\n",
              "      <th>18</th>\n",
              "      <td>25.963675</td>\n",
              "      <td>5.433</td>\n",
              "    </tr>\n",
              "    <tr>\n",
              "      <th>19</th>\n",
              "      <td>27.379783</td>\n",
              "      <td>5.152</td>\n",
              "    </tr>\n",
              "    <tr>\n",
              "      <th>20</th>\n",
              "      <td>26.426897</td>\n",
              "      <td>5.431</td>\n",
              "    </tr>\n",
              "    <tr>\n",
              "      <th>21</th>\n",
              "      <td>26.286534</td>\n",
              "      <td>5.460</td>\n",
              "    </tr>\n",
              "    <tr>\n",
              "      <th>22</th>\n",
              "      <td>26.305806</td>\n",
              "      <td>5.456</td>\n",
              "    </tr>\n",
              "    <tr>\n",
              "      <th>23</th>\n",
              "      <td>26.152419</td>\n",
              "      <td>5.488</td>\n",
              "    </tr>\n",
              "    <tr>\n",
              "      <th>24</th>\n",
              "      <td>26.927669</td>\n",
              "      <td>5.330</td>\n",
              "    </tr>\n",
              "    <tr>\n",
              "      <th>25</th>\n",
              "      <td>25.878918</td>\n",
              "      <td>5.546</td>\n",
              "    </tr>\n",
              "    <tr>\n",
              "      <th>26</th>\n",
              "      <td>26.771960</td>\n",
              "      <td>5.361</td>\n",
              "    </tr>\n",
              "    <tr>\n",
              "      <th>27</th>\n",
              "      <td>26.892351</td>\n",
              "      <td>5.337</td>\n",
              "    </tr>\n",
              "    <tr>\n",
              "      <th>28</th>\n",
              "      <td>26.407447</td>\n",
              "      <td>5.435</td>\n",
              "    </tr>\n",
              "    <tr>\n",
              "      <th>29</th>\n",
              "      <td>28.522352</td>\n",
              "      <td>5.032</td>\n",
              "    </tr>\n",
              "    <tr>\n",
              "      <th>30</th>\n",
              "      <td>26.737785</td>\n",
              "      <td>5.460</td>\n",
              "    </tr>\n",
              "    <tr>\n",
              "      <th>31</th>\n",
              "      <td>29.069755</td>\n",
              "      <td>5.022</td>\n",
              "    </tr>\n",
              "    <tr>\n",
              "      <th>32</th>\n",
              "      <td>26.596522</td>\n",
              "      <td>5.489</td>\n",
              "    </tr>\n",
              "    <tr>\n",
              "      <th>33</th>\n",
              "      <td>27.701766</td>\n",
              "      <td>5.270</td>\n",
              "    </tr>\n",
              "    <tr>\n",
              "      <th>34</th>\n",
              "      <td>22.778641</td>\n",
              "      <td>6.409</td>\n",
              "    </tr>\n",
              "    <tr>\n",
              "      <th>35</th>\n",
              "      <td>27.670263</td>\n",
              "      <td>5.276</td>\n",
              "    </tr>\n",
              "    <tr>\n",
              "      <th>36</th>\n",
              "      <td>27.348878</td>\n",
              "      <td>5.338</td>\n",
              "    </tr>\n",
              "    <tr>\n",
              "      <th>37</th>\n",
              "      <td>27.004867</td>\n",
              "      <td>5.406</td>\n",
              "    </tr>\n",
              "    <tr>\n",
              "      <th>38</th>\n",
              "      <td>29.811785</td>\n",
              "      <td>4.897</td>\n",
              "    </tr>\n",
              "    <tr>\n",
              "      <th>39</th>\n",
              "      <td>26.223874</td>\n",
              "      <td>5.567</td>\n",
              "    </tr>\n",
              "    <tr>\n",
              "      <th>40</th>\n",
              "      <td>26.012290</td>\n",
              "      <td>5.707</td>\n",
              "    </tr>\n",
              "    <tr>\n",
              "      <th>41</th>\n",
              "      <td>27.711805</td>\n",
              "      <td>5.357</td>\n",
              "    </tr>\n",
              "    <tr>\n",
              "      <th>42</th>\n",
              "      <td>27.094751</td>\n",
              "      <td>5.479</td>\n",
              "    </tr>\n",
              "    <tr>\n",
              "      <th>43</th>\n",
              "      <td>25.285665</td>\n",
              "      <td>5.871</td>\n",
              "    </tr>\n",
              "    <tr>\n",
              "      <th>44</th>\n",
              "      <td>28.062787</td>\n",
              "      <td>5.290</td>\n",
              "    </tr>\n",
              "    <tr>\n",
              "      <th>45</th>\n",
              "      <td>27.727333</td>\n",
              "      <td>5.354</td>\n",
              "    </tr>\n",
              "    <tr>\n",
              "      <th>46</th>\n",
              "      <td>28.276598</td>\n",
              "      <td>5.250</td>\n",
              "    </tr>\n",
              "    <tr>\n",
              "      <th>47</th>\n",
              "      <td>26.154359</td>\n",
              "      <td>5.676</td>\n",
              "    </tr>\n",
              "    <tr>\n",
              "      <th>48</th>\n",
              "      <td>27.737695</td>\n",
              "      <td>5.352</td>\n",
              "    </tr>\n",
              "    <tr>\n",
              "      <th>49</th>\n",
              "      <td>26.777082</td>\n",
              "      <td>5.544</td>\n",
              "    </tr>\n",
              "  </tbody>\n",
              "</table>\n",
              "</div>"
            ],
            "text/plain": [
              "    Molar volume  Density\n",
              "0      26.379294    5.254\n",
              "1      25.847969    5.362\n",
              "2      26.510484    5.228\n",
              "3      25.737570    5.385\n",
              "4      25.402642    5.456\n",
              "5      24.931968    5.559\n",
              "6      26.612291    5.208\n",
              "7      26.694301    5.192\n",
              "8      26.434639    5.243\n",
              "9      26.495280    5.231\n",
              "10     25.370620    5.560\n",
              "11     25.019625    5.638\n",
              "12     25.906454    5.445\n",
              "13     30.605477    4.609\n",
              "14     25.535960    5.524\n",
              "15     24.557912    5.744\n",
              "16     28.711713    4.913\n",
              "17     26.726155    5.278\n",
              "18     25.963675    5.433\n",
              "19     27.379783    5.152\n",
              "20     26.426897    5.431\n",
              "21     26.286534    5.460\n",
              "22     26.305806    5.456\n",
              "23     26.152419    5.488\n",
              "24     26.927669    5.330\n",
              "25     25.878918    5.546\n",
              "26     26.771960    5.361\n",
              "27     26.892351    5.337\n",
              "28     26.407447    5.435\n",
              "29     28.522352    5.032\n",
              "30     26.737785    5.460\n",
              "31     29.069755    5.022\n",
              "32     26.596522    5.489\n",
              "33     27.701766    5.270\n",
              "34     22.778641    6.409\n",
              "35     27.670263    5.276\n",
              "36     27.348878    5.338\n",
              "37     27.004867    5.406\n",
              "38     29.811785    4.897\n",
              "39     26.223874    5.567\n",
              "40     26.012290    5.707\n",
              "41     27.711805    5.357\n",
              "42     27.094751    5.479\n",
              "43     25.285665    5.871\n",
              "44     28.062787    5.290\n",
              "45     27.727333    5.354\n",
              "46     28.276598    5.250\n",
              "47     26.154359    5.676\n",
              "48     27.737695    5.352\n",
              "49     26.777082    5.544"
            ]
          },
          "metadata": {
            "tags": []
          },
          "execution_count": 2
        }
      ]
    },
    {
      "cell_type": "code",
      "metadata": {
        "id": "CKiqkEiKg1H2"
      },
      "source": [
        "train_dataset = data.sample(frac=0.8, random_state=0)\r\n",
        "test_dataset = data.drop(train_dataset.index)\r\n",
        "\r\n",
        "# Collect input feature for training, molar volume value in this case\r\n",
        "train_features = train_dataset.copy() #dataframe type\r\n",
        "test_features = test_dataset.copy()\r\n",
        "\r\n",
        "# Collect respective label, density value in this case\r\n",
        "train_labels = train_features.pop('Density') # series type\r\n",
        "test_labels = test_features.pop('Density')"
      ],
      "execution_count": 3,
      "outputs": []
    },
    {
      "cell_type": "code",
      "metadata": {
        "colab": {
          "base_uri": "https://localhost:8080/"
        },
        "id": "Vl867epFfjhX",
        "outputId": "40655b6f-4f2c-484c-b5db-6aeb39e7f8c6"
      },
      "source": [
        "# Select a linear model\r\n",
        "model = DecisionTreeRegressor(random_state=1)\r\n",
        "\r\n",
        "# Train the model\r\n",
        "model.fit(train_features, train_labels)"
      ],
      "execution_count": 4,
      "outputs": [
        {
          "output_type": "execute_result",
          "data": {
            "text/plain": [
              "DecisionTreeRegressor(ccp_alpha=0.0, criterion='mse', max_depth=None,\n",
              "                      max_features=None, max_leaf_nodes=None,\n",
              "                      min_impurity_decrease=0.0, min_impurity_split=None,\n",
              "                      min_samples_leaf=1, min_samples_split=2,\n",
              "                      min_weight_fraction_leaf=0.0, presort='deprecated',\n",
              "                      random_state=1, splitter='best')"
            ]
          },
          "metadata": {
            "tags": []
          },
          "execution_count": 4
        }
      ]
    },
    {
      "cell_type": "code",
      "metadata": {
        "id": "MxMkBcJOhN9v"
      },
      "source": [
        "def plot_density(x, y):\r\n",
        "  plt.scatter(train_features['Molar volume'], train_labels, label='Data')\r\n",
        "  plt.plot(x, y, color='r', label='Predictions')\r\n",
        "  plt.xlabel('Molar volume')\r\n",
        "  plt.ylabel('Density')\r\n",
        "  plt.legend()"
      ],
      "execution_count": 5,
      "outputs": []
    },
    {
      "cell_type": "code",
      "metadata": {
        "colab": {
          "base_uri": "https://localhost:8080/",
          "height": 279
        },
        "id": "g2Ak0KyLhWCg",
        "outputId": "31f30af6-30b6-4d3d-869f-4036243d82b8"
      },
      "source": [
        "x = np.arange(train_features['Molar volume'].min(), train_features['Molar volume'].max()).reshape(-1, 1)\r\n",
        "pred = model.predict(x)\r\n",
        "plot_density(x,pred)"
      ],
      "execution_count": 6,
      "outputs": [
        {
          "output_type": "display_data",
          "data": {
            "image/png": "[encoded data removed]",
            "text/plain": [
              "<Figure size 432x288 with 1 Axes>"
            ]
          },
          "metadata": {
            "tags": [],
            "needs_background": "light"
          }
        }
      ]
    },
    {
      "cell_type": "code",
      "metadata": {
        "id": "hmf-3WyUhoDl",
        "colab": {
          "base_uri": "https://localhost:8080/"
        },
        "outputId": "247153a1-77f7-47d4-e09c-f6a460567b3a"
      },
      "source": [
        "pred"
      ],
      "execution_count": 7,
      "outputs": [
        {
          "output_type": "execute_result",
          "data": {
            "text/plain": [
              "array([6.409, 5.744, 5.559, 5.362, 5.544, 5.352, 4.913, 4.897])"
            ]
          },
          "metadata": {
            "tags": []
          },
          "execution_count": 7
        }
      ]
    },
    {
      "cell_type": "code",
      "metadata": {
        "colab": {
          "base_uri": "https://localhost:8080/"
        },
        "id": "mp6FhXHcWALA",
        "outputId": "7090d22d-1992-419d-b867-d13139239fcf"
      },
      "source": [
        "pred_y = model.predict(train_features)\r\n",
        "pred_y"
      ],
      "execution_count": 8,
      "outputs": [
        {
          "output_type": "execute_result",
          "data": {
            "text/plain": [
              "array([5.435, 5.638, 5.56 , 5.357, 5.228, 5.337, 4.897, 5.022, 5.456,\n",
              "       5.456, 5.27 , 5.276, 5.361, 6.409, 5.433, 5.192, 5.524, 5.354,\n",
              "       5.352, 5.032, 5.744, 5.46 , 5.489, 4.913, 5.479, 5.431, 5.871,\n",
              "       5.243, 4.609, 5.546, 5.559, 5.278, 5.707, 5.544, 5.362, 5.445,\n",
              "       5.406, 5.33 , 5.208, 5.488])"
            ]
          },
          "metadata": {
            "tags": []
          },
          "execution_count": 8
        }
      ]
    },
    {
      "cell_type": "code",
      "metadata": {
        "colab": {
          "base_uri": "https://localhost:8080/",
          "height": 296
        },
        "id": "uulObUx2TPnC",
        "outputId": "f897b481-0e70-40be-ed3e-e24539d1f1b5"
      },
      "source": [
        "actual_trend=train_labels.values\r\n",
        "plt.plot(pred_y, color='orange', label='Prediction')\r\n",
        "plt.plot(actual_trend, label='Actual')\r\n",
        "plt.xlabel('Molar volume')\r\n",
        "plt.ylabel('Density')\r\n",
        "plt.legend()"
      ],
      "execution_count": 15,
      "outputs": [
        {
          "output_type": "execute_result",
          "data": {
            "text/plain": [
              "<matplotlib.legend.Legend at 0x7fa6ed8c4c50>"
            ]
          },
          "metadata": {
            "tags": []
          },
          "execution_count": 15
        },
        {
          "output_type": "display_data",
          "data": {
            "image/png": "[encoded data removed]",
            "text/plain": [
              "<Figure size 432x288 with 1 Axes>"
            ]
          },
          "metadata": {
            "tags": [],
            "needs_background": "light"
          }
        }
      ]
    },
    {
      "cell_type": "markdown",
      "metadata": {
        "id": "oQSaAxf6CuG5"
      },
      "source": [
        "The prediction line is not disappear or missing, it actually is there! The training accuracy is 100% which is consider as overfitting since the prediction is totally matched to actual training data."
      ]
    },
    {
      "cell_type": "code",
      "metadata": {
        "colab": {
          "base_uri": "https://localhost:8080/"
        },
        "id": "ZWTXaYE-BhUp",
        "outputId": "4052eb87-71ce-4e2c-8213-641e8700913c"
      },
      "source": [
        "actual_trend"
      ],
      "execution_count": 12,
      "outputs": [
        {
          "output_type": "execute_result",
          "data": {
            "text/plain": [
              "array([5.435, 5.638, 5.56 , 5.357, 5.228, 5.337, 4.897, 5.022, 5.456,\n",
              "       5.456, 5.27 , 5.276, 5.361, 6.409, 5.433, 5.192, 5.524, 5.354,\n",
              "       5.352, 5.032, 5.744, 5.46 , 5.489, 4.913, 5.479, 5.431, 5.871,\n",
              "       5.243, 4.609, 5.546, 5.559, 5.278, 5.707, 5.544, 5.362, 5.445,\n",
              "       5.406, 5.33 , 5.208, 5.488])"
            ]
          },
          "metadata": {
            "tags": []
          },
          "execution_count": 12
        }
      ]
    },
    {
      "cell_type": "code",
      "metadata": {
        "colab": {
          "base_uri": "https://localhost:8080/",
          "height": 298
        },
        "id": "f5PafrpgVvwx",
        "outputId": "7b4c0e67-67da-4596-aae5-73497e3e7343"
      },
      "source": [
        "pred_test = model.predict(test_features)\r\n",
        "actual_test_trend=test_labels.values\r\n",
        "plt.plot(pred_test, color='cyan', label='Prediction')\r\n",
        "plt.plot(actual_test_trend, label='Actual')\r\n",
        "plt.xlabel('Molar volume')\r\n",
        "plt.ylabel('Density')\r\n",
        "plt.legend()"
      ],
      "execution_count": 10,
      "outputs": [
        {
          "output_type": "execute_result",
          "data": {
            "text/plain": [
              "<matplotlib.legend.Legend at 0x7fa6ed978e10>"
            ]
          },
          "metadata": {
            "tags": []
          },
          "execution_count": 10
        },
        {
          "output_type": "display_data",
          "data": {
            "image/png": "[encoded data removed]",
            "text/plain": [
              "<Figure size 432x288 with 1 Axes>"
            ]
          },
          "metadata": {
            "tags": [],
            "needs_background": "light"
          }
        }
      ]
    },
    {
      "cell_type": "code",
      "metadata": {
        "colab": {
          "base_uri": "https://localhost:8080/"
        },
        "id": "E3rbJo83WJtO",
        "outputId": "7a99ad40-533d-47cd-f7a4-fc6292a07ccb"
      },
      "source": [
        "differences = (1 - sum(abs(pred_test - actual_test_trend))/len(actual_test_trend)) * 100\r\n",
        "pred_accuracy = differences.item()\r\n",
        "pred_accuracy"
      ],
      "execution_count": 13,
      "outputs": [
        {
          "output_type": "execute_result",
          "data": {
            "text/plain": [
              "87.73999999999998"
            ]
          },
          "metadata": {
            "tags": []
          },
          "execution_count": 13
        }
      ]
    },
    {
      "cell_type": "code",
      "metadata": {
        "id": "m3cQlsGnWYqq"
      },
      "source": [
        ""
      ],
      "execution_count": null,
      "outputs": []
    }
  ]
}