{
  "nbformat": 4,
  "nbformat_minor": 0,
  "metadata": {
    "colab": {
      "name": "DNN_sklearn_Erbium_density_prediction.ipynb",
      "provenance": [],
      "collapsed_sections": []
    },
    "kernelspec": {
      "name": "python3",
      "display_name": "Python 3"
    },
    "accelerator": "GPU"
  },
  "cells": [
    {
      "cell_type": "code",
      "metadata": {
        "id": "zWVs3LCQRO_W"
      },
      "source": [
        "import pandas as pd\n",
        "import numpy as np\n",
        "import matplotlib.pyplot as plt\n",
        "import seaborn as sns\n",
        "import tensorflow as tf\n",
        "import time\n",
        "\n",
        "from tensorflow import keras\n",
        "from tensorflow.keras import layers\n",
        "from tensorflow.keras.layers.experimental import preprocessing"
      ],
      "execution_count": 1,
      "outputs": []
    },
    {
      "cell_type": "code",
      "metadata": {
        "colab": {
          "base_uri": "https://localhost:8080/",
          "height": 1000
        },
        "id": "DGQSwBCQR5a4",
        "outputId": "b858e874-7da5-4682-c6af-59ccdf846826"
      },
      "source": [
        "data = pd.read_csv('Molecular-data.csv')\n",
        "data"
      ],
      "execution_count": 2,
      "outputs": [
        {
          "output_type": "execute_result",
          "data": {
            "text/html": [
              "<div>\n",
              "<style scoped>\n",
              "    .dataframe tbody tr th:only-of-type {\n",
              "        vertical-align: middle;\n",
              "    }\n",
              "\n",
              "    .dataframe tbody tr th {\n",
              "        vertical-align: top;\n",
              "    }\n",
              "\n",
              "    .dataframe thead th {\n",
              "        text-align: right;\n",
              "    }\n",
              "</style>\n",
              "<table border=\"1\" class=\"dataframe\">\n",
              "  <thead>\n",
              "    <tr style=\"text-align: right;\">\n",
              "      <th></th>\n",
              "      <th>Molar volume</th>\n",
              "      <th>Density</th>\n",
              "    </tr>\n",
              "  </thead>\n",
              "  <tbody>\n",
              "    <tr>\n",
              "      <th>0</th>\n",
              "      <td>26.379294</td>\n",
              "      <td>5.254</td>\n",
              "    </tr>\n",
              "    <tr>\n",
              "      <th>1</th>\n",
              "      <td>25.847969</td>\n",
              "      <td>5.362</td>\n",
              "    </tr>\n",
              "    <tr>\n",
              "      <th>2</th>\n",
              "      <td>26.510484</td>\n",
              "      <td>5.228</td>\n",
              "    </tr>\n",
              "    <tr>\n",
              "      <th>3</th>\n",
              "      <td>25.737570</td>\n",
              "      <td>5.385</td>\n",
              "    </tr>\n",
              "    <tr>\n",
              "      <th>4</th>\n",
              "      <td>25.402642</td>\n",
              "      <td>5.456</td>\n",
              "    </tr>\n",
              "    <tr>\n",
              "      <th>5</th>\n",
              "      <td>24.931968</td>\n",
              "      <td>5.559</td>\n",
              "    </tr>\n",
              "    <tr>\n",
              "      <th>6</th>\n",
              "      <td>26.612291</td>\n",
              "      <td>5.208</td>\n",
              "    </tr>\n",
              "    <tr>\n",
              "      <th>7</th>\n",
              "      <td>26.694301</td>\n",
              "      <td>5.192</td>\n",
              "    </tr>\n",
              "    <tr>\n",
              "      <th>8</th>\n",
              "      <td>26.434639</td>\n",
              "      <td>5.243</td>\n",
              "    </tr>\n",
              "    <tr>\n",
              "      <th>9</th>\n",
              "      <td>26.495280</td>\n",
              "      <td>5.231</td>\n",
              "    </tr>\n",
              "    <tr>\n",
              "      <th>10</th>\n",
              "      <td>25.370620</td>\n",
              "      <td>5.560</td>\n",
              "    </tr>\n",
              "    <tr>\n",
              "      <th>11</th>\n",
              "      <td>25.019625</td>\n",
              "      <td>5.638</td>\n",
              "    </tr>\n",
              "    <tr>\n",
              "      <th>12</th>\n",
              "      <td>25.906454</td>\n",
              "      <td>5.445</td>\n",
              "    </tr>\n",
              "    <tr>\n",
              "      <th>13</th>\n",
              "      <td>30.605477</td>\n",
              "      <td>4.609</td>\n",
              "    </tr>\n",
              "    <tr>\n",
              "      <th>14</th>\n",
              "      <td>25.535960</td>\n",
              "      <td>5.524</td>\n",
              "    </tr>\n",
              "    <tr>\n",
              "      <th>15</th>\n",
              "      <td>24.557912</td>\n",
              "      <td>5.744</td>\n",
              "    </tr>\n",
              "    <tr>\n",
              "      <th>16</th>\n",
              "      <td>28.711713</td>\n",
              "      <td>4.913</td>\n",
              "    </tr>\n",
              "    <tr>\n",
              "      <th>17</th>\n",
              "      <td>26.726155</td>\n",
              "      <td>5.278</td>\n",
              "    </tr>\n",
              "    <tr>\n",
              "      <th>18</th>\n",
              "      <td>25.963675</td>\n",
              "      <td>5.433</td>\n",
              "    </tr>\n",
              "    <tr>\n",
              "      <th>19</th>\n",
              "      <td>27.379783</td>\n",
              "      <td>5.152</td>\n",
              "    </tr>\n",
              "    <tr>\n",
              "      <th>20</th>\n",
              "      <td>26.426897</td>\n",
              "      <td>5.431</td>\n",
              "    </tr>\n",
              "    <tr>\n",
              "      <th>21</th>\n",
              "      <td>26.286534</td>\n",
              "      <td>5.460</td>\n",
              "    </tr>\n",
              "    <tr>\n",
              "      <th>22</th>\n",
              "      <td>26.305806</td>\n",
              "      <td>5.456</td>\n",
              "    </tr>\n",
              "    <tr>\n",
              "      <th>23</th>\n",
              "      <td>26.152419</td>\n",
              "      <td>5.488</td>\n",
              "    </tr>\n",
              "    <tr>\n",
              "      <th>24</th>\n",
              "      <td>26.927669</td>\n",
              "      <td>5.330</td>\n",
              "    </tr>\n",
              "    <tr>\n",
              "      <th>25</th>\n",
              "      <td>25.878918</td>\n",
              "      <td>5.546</td>\n",
              "    </tr>\n",
              "    <tr>\n",
              "      <th>26</th>\n",
              "      <td>26.771960</td>\n",
              "      <td>5.361</td>\n",
              "    </tr>\n",
              "    <tr>\n",
              "      <th>27</th>\n",
              "      <td>26.892351</td>\n",
              "      <td>5.337</td>\n",
              "    </tr>\n",
              "    <tr>\n",
              "      <th>28</th>\n",
              "      <td>26.407447</td>\n",
              "      <td>5.435</td>\n",
              "    </tr>\n",
              "    <tr>\n",
              "      <th>29</th>\n",
              "      <td>28.522352</td>\n",
              "      <td>5.032</td>\n",
              "    </tr>\n",
              "    <tr>\n",
              "      <th>30</th>\n",
              "      <td>26.737785</td>\n",
              "      <td>5.460</td>\n",
              "    </tr>\n",
              "    <tr>\n",
              "      <th>31</th>\n",
              "      <td>29.069755</td>\n",
              "      <td>5.022</td>\n",
              "    </tr>\n",
              "    <tr>\n",
              "      <th>32</th>\n",
              "      <td>26.596522</td>\n",
              "      <td>5.489</td>\n",
              "    </tr>\n",
              "    <tr>\n",
              "      <th>33</th>\n",
              "      <td>27.701766</td>\n",
              "      <td>5.270</td>\n",
              "    </tr>\n",
              "    <tr>\n",
              "      <th>34</th>\n",
              "      <td>22.778641</td>\n",
              "      <td>6.409</td>\n",
              "    </tr>\n",
              "    <tr>\n",
              "      <th>35</th>\n",
              "      <td>27.670263</td>\n",
              "      <td>5.276</td>\n",
              "    </tr>\n",
              "    <tr>\n",
              "      <th>36</th>\n",
              "      <td>27.348878</td>\n",
              "      <td>5.338</td>\n",
              "    </tr>\n",
              "    <tr>\n",
              "      <th>37</th>\n",
              "      <td>27.004867</td>\n",
              "      <td>5.406</td>\n",
              "    </tr>\n",
              "    <tr>\n",
              "      <th>38</th>\n",
              "      <td>29.811785</td>\n",
              "      <td>4.897</td>\n",
              "    </tr>\n",
              "    <tr>\n",
              "      <th>39</th>\n",
              "      <td>26.223874</td>\n",
              "      <td>5.567</td>\n",
              "    </tr>\n",
              "    <tr>\n",
              "      <th>40</th>\n",
              "      <td>26.012290</td>\n",
              "      <td>5.707</td>\n",
              "    </tr>\n",
              "    <tr>\n",
              "      <th>41</th>\n",
              "      <td>27.711805</td>\n",
              "      <td>5.357</td>\n",
              "    </tr>\n",
              "    <tr>\n",
              "      <th>42</th>\n",
              "      <td>27.094751</td>\n",
              "      <td>5.479</td>\n",
              "    </tr>\n",
              "    <tr>\n",
              "      <th>43</th>\n",
              "      <td>25.285665</td>\n",
              "      <td>5.871</td>\n",
              "    </tr>\n",
              "    <tr>\n",
              "      <th>44</th>\n",
              "      <td>28.062787</td>\n",
              "      <td>5.290</td>\n",
              "    </tr>\n",
              "    <tr>\n",
              "      <th>45</th>\n",
              "      <td>27.727333</td>\n",
              "      <td>5.354</td>\n",
              "    </tr>\n",
              "    <tr>\n",
              "      <th>46</th>\n",
              "      <td>28.276598</td>\n",
              "      <td>5.250</td>\n",
              "    </tr>\n",
              "    <tr>\n",
              "      <th>47</th>\n",
              "      <td>26.154359</td>\n",
              "      <td>5.676</td>\n",
              "    </tr>\n",
              "    <tr>\n",
              "      <th>48</th>\n",
              "      <td>27.737695</td>\n",
              "      <td>5.352</td>\n",
              "    </tr>\n",
              "    <tr>\n",
              "      <th>49</th>\n",
              "      <td>26.777082</td>\n",
              "      <td>5.544</td>\n",
              "    </tr>\n",
              "  </tbody>\n",
              "</table>\n",
              "</div>"
            ],
            "text/plain": [
              "    Molar volume  Density\n",
              "0      26.379294    5.254\n",
              "1      25.847969    5.362\n",
              "2      26.510484    5.228\n",
              "3      25.737570    5.385\n",
              "4      25.402642    5.456\n",
              "5      24.931968    5.559\n",
              "6      26.612291    5.208\n",
              "7      26.694301    5.192\n",
              "8      26.434639    5.243\n",
              "9      26.495280    5.231\n",
              "10     25.370620    5.560\n",
              "11     25.019625    5.638\n",
              "12     25.906454    5.445\n",
              "13     30.605477    4.609\n",
              "14     25.535960    5.524\n",
              "15     24.557912    5.744\n",
              "16     28.711713    4.913\n",
              "17     26.726155    5.278\n",
              "18     25.963675    5.433\n",
              "19     27.379783    5.152\n",
              "20     26.426897    5.431\n",
              "21     26.286534    5.460\n",
              "22     26.305806    5.456\n",
              "23     26.152419    5.488\n",
              "24     26.927669    5.330\n",
              "25     25.878918    5.546\n",
              "26     26.771960    5.361\n",
              "27     26.892351    5.337\n",
              "28     26.407447    5.435\n",
              "29     28.522352    5.032\n",
              "30     26.737785    5.460\n",
              "31     29.069755    5.022\n",
              "32     26.596522    5.489\n",
              "33     27.701766    5.270\n",
              "34     22.778641    6.409\n",
              "35     27.670263    5.276\n",
              "36     27.348878    5.338\n",
              "37     27.004867    5.406\n",
              "38     29.811785    4.897\n",
              "39     26.223874    5.567\n",
              "40     26.012290    5.707\n",
              "41     27.711805    5.357\n",
              "42     27.094751    5.479\n",
              "43     25.285665    5.871\n",
              "44     28.062787    5.290\n",
              "45     27.727333    5.354\n",
              "46     28.276598    5.250\n",
              "47     26.154359    5.676\n",
              "48     27.737695    5.352\n",
              "49     26.777082    5.544"
            ]
          },
          "metadata": {
            "tags": []
          },
          "execution_count": 2
        }
      ]
    },
    {
      "cell_type": "code",
      "metadata": {
        "id": "ioq8uC3vGZiT"
      },
      "source": [
        "from sklearn import preprocessing\n",
        "\n",
        "x = np.array([data['Molar volume'].values]).reshape(-1,1)\n",
        "y = np.array([data['Density'].values]).reshape(-1,1)\n",
        "min_max_scaler = preprocessing.MinMaxScaler()\n",
        "x_scaled = min_max_scaler.fit_transform(x)\n",
        "y_scaled = min_max_scaler.fit_transform(y)"
      ],
      "execution_count": 3,
      "outputs": []
    },
    {
      "cell_type": "code",
      "metadata": {
        "colab": {
          "base_uri": "https://localhost:8080/",
          "height": 1000
        },
        "id": "3kBx-YAcH9Ju",
        "outputId": "eb229794-7c9b-444a-b054-36faa0aab72d"
      },
      "source": [
        "normalized_data = pd.DataFrame({'Molar volume': x_scaled.reshape(-1,), 'Density': y_scaled.reshape(-1,)})\n",
        "normalized_data"
      ],
      "execution_count": 4,
      "outputs": [
        {
          "output_type": "execute_result",
          "data": {
            "text/html": [
              "<div>\n",
              "<style scoped>\n",
              "    .dataframe tbody tr th:only-of-type {\n",
              "        vertical-align: middle;\n",
              "    }\n",
              "\n",
              "    .dataframe tbody tr th {\n",
              "        vertical-align: top;\n",
              "    }\n",
              "\n",
              "    .dataframe thead th {\n",
              "        text-align: right;\n",
              "    }\n",
              "</style>\n",
              "<table border=\"1\" class=\"dataframe\">\n",
              "  <thead>\n",
              "    <tr style=\"text-align: right;\">\n",
              "      <th></th>\n",
              "      <th>Molar volume</th>\n",
              "      <th>Density</th>\n",
              "    </tr>\n",
              "  </thead>\n",
              "  <tbody>\n",
              "    <tr>\n",
              "      <th>0</th>\n",
              "      <td>0.460039</td>\n",
              "      <td>0.358333</td>\n",
              "    </tr>\n",
              "    <tr>\n",
              "      <th>1</th>\n",
              "      <td>0.392154</td>\n",
              "      <td>0.418333</td>\n",
              "    </tr>\n",
              "    <tr>\n",
              "      <th>2</th>\n",
              "      <td>0.476801</td>\n",
              "      <td>0.343889</td>\n",
              "    </tr>\n",
              "    <tr>\n",
              "      <th>3</th>\n",
              "      <td>0.378049</td>\n",
              "      <td>0.431111</td>\n",
              "    </tr>\n",
              "    <tr>\n",
              "      <th>4</th>\n",
              "      <td>0.335257</td>\n",
              "      <td>0.470556</td>\n",
              "    </tr>\n",
              "    <tr>\n",
              "      <th>5</th>\n",
              "      <td>0.275121</td>\n",
              "      <td>0.527778</td>\n",
              "    </tr>\n",
              "    <tr>\n",
              "      <th>6</th>\n",
              "      <td>0.489808</td>\n",
              "      <td>0.332778</td>\n",
              "    </tr>\n",
              "    <tr>\n",
              "      <th>7</th>\n",
              "      <td>0.500286</td>\n",
              "      <td>0.323889</td>\n",
              "    </tr>\n",
              "    <tr>\n",
              "      <th>8</th>\n",
              "      <td>0.467111</td>\n",
              "      <td>0.352222</td>\n",
              "    </tr>\n",
              "    <tr>\n",
              "      <th>9</th>\n",
              "      <td>0.474858</td>\n",
              "      <td>0.345556</td>\n",
              "    </tr>\n",
              "    <tr>\n",
              "      <th>10</th>\n",
              "      <td>0.331166</td>\n",
              "      <td>0.528333</td>\n",
              "    </tr>\n",
              "    <tr>\n",
              "      <th>11</th>\n",
              "      <td>0.286321</td>\n",
              "      <td>0.571667</td>\n",
              "    </tr>\n",
              "    <tr>\n",
              "      <th>12</th>\n",
              "      <td>0.399627</td>\n",
              "      <td>0.464444</td>\n",
              "    </tr>\n",
              "    <tr>\n",
              "      <th>13</th>\n",
              "      <td>1.000000</td>\n",
              "      <td>0.000000</td>\n",
              "    </tr>\n",
              "    <tr>\n",
              "      <th>14</th>\n",
              "      <td>0.352290</td>\n",
              "      <td>0.508333</td>\n",
              "    </tr>\n",
              "    <tr>\n",
              "      <th>15</th>\n",
              "      <td>0.227330</td>\n",
              "      <td>0.630556</td>\n",
              "    </tr>\n",
              "    <tr>\n",
              "      <th>16</th>\n",
              "      <td>0.758042</td>\n",
              "      <td>0.168889</td>\n",
              "    </tr>\n",
              "    <tr>\n",
              "      <th>17</th>\n",
              "      <td>0.504356</td>\n",
              "      <td>0.371667</td>\n",
              "    </tr>\n",
              "    <tr>\n",
              "      <th>18</th>\n",
              "      <td>0.406938</td>\n",
              "      <td>0.457778</td>\n",
              "    </tr>\n",
              "    <tr>\n",
              "      <th>19</th>\n",
              "      <td>0.587867</td>\n",
              "      <td>0.301667</td>\n",
              "    </tr>\n",
              "    <tr>\n",
              "      <th>20</th>\n",
              "      <td>0.466121</td>\n",
              "      <td>0.456667</td>\n",
              "    </tr>\n",
              "    <tr>\n",
              "      <th>21</th>\n",
              "      <td>0.448188</td>\n",
              "      <td>0.472778</td>\n",
              "    </tr>\n",
              "    <tr>\n",
              "      <th>22</th>\n",
              "      <td>0.450650</td>\n",
              "      <td>0.470556</td>\n",
              "    </tr>\n",
              "    <tr>\n",
              "      <th>23</th>\n",
              "      <td>0.431053</td>\n",
              "      <td>0.488333</td>\n",
              "    </tr>\n",
              "    <tr>\n",
              "      <th>24</th>\n",
              "      <td>0.530103</td>\n",
              "      <td>0.400556</td>\n",
              "    </tr>\n",
              "    <tr>\n",
              "      <th>25</th>\n",
              "      <td>0.396109</td>\n",
              "      <td>0.520556</td>\n",
              "    </tr>\n",
              "    <tr>\n",
              "      <th>26</th>\n",
              "      <td>0.510209</td>\n",
              "      <td>0.417778</td>\n",
              "    </tr>\n",
              "    <tr>\n",
              "      <th>27</th>\n",
              "      <td>0.525590</td>\n",
              "      <td>0.404444</td>\n",
              "    </tr>\n",
              "    <tr>\n",
              "      <th>28</th>\n",
              "      <td>0.463636</td>\n",
              "      <td>0.458889</td>\n",
              "    </tr>\n",
              "    <tr>\n",
              "      <th>29</th>\n",
              "      <td>0.733848</td>\n",
              "      <td>0.235000</td>\n",
              "    </tr>\n",
              "    <tr>\n",
              "      <th>30</th>\n",
              "      <td>0.505842</td>\n",
              "      <td>0.472778</td>\n",
              "    </tr>\n",
              "    <tr>\n",
              "      <th>31</th>\n",
              "      <td>0.803788</td>\n",
              "      <td>0.229444</td>\n",
              "    </tr>\n",
              "    <tr>\n",
              "      <th>32</th>\n",
              "      <td>0.487794</td>\n",
              "      <td>0.488889</td>\n",
              "    </tr>\n",
              "    <tr>\n",
              "      <th>33</th>\n",
              "      <td>0.629006</td>\n",
              "      <td>0.367222</td>\n",
              "    </tr>\n",
              "    <tr>\n",
              "      <th>34</th>\n",
              "      <td>0.000000</td>\n",
              "      <td>1.000000</td>\n",
              "    </tr>\n",
              "    <tr>\n",
              "      <th>35</th>\n",
              "      <td>0.624981</td>\n",
              "      <td>0.370556</td>\n",
              "    </tr>\n",
              "    <tr>\n",
              "      <th>36</th>\n",
              "      <td>0.583919</td>\n",
              "      <td>0.405000</td>\n",
              "    </tr>\n",
              "    <tr>\n",
              "      <th>37</th>\n",
              "      <td>0.539966</td>\n",
              "      <td>0.442778</td>\n",
              "    </tr>\n",
              "    <tr>\n",
              "      <th>38</th>\n",
              "      <td>0.898593</td>\n",
              "      <td>0.160000</td>\n",
              "    </tr>\n",
              "    <tr>\n",
              "      <th>39</th>\n",
              "      <td>0.440182</td>\n",
              "      <td>0.532222</td>\n",
              "    </tr>\n",
              "    <tr>\n",
              "      <th>40</th>\n",
              "      <td>0.413149</td>\n",
              "      <td>0.610000</td>\n",
              "    </tr>\n",
              "    <tr>\n",
              "      <th>41</th>\n",
              "      <td>0.630288</td>\n",
              "      <td>0.415556</td>\n",
              "    </tr>\n",
              "    <tr>\n",
              "      <th>42</th>\n",
              "      <td>0.551450</td>\n",
              "      <td>0.483333</td>\n",
              "    </tr>\n",
              "    <tr>\n",
              "      <th>43</th>\n",
              "      <td>0.320311</td>\n",
              "      <td>0.701111</td>\n",
              "    </tr>\n",
              "    <tr>\n",
              "      <th>44</th>\n",
              "      <td>0.675132</td>\n",
              "      <td>0.378333</td>\n",
              "    </tr>\n",
              "    <tr>\n",
              "      <th>45</th>\n",
              "      <td>0.632272</td>\n",
              "      <td>0.413889</td>\n",
              "    </tr>\n",
              "    <tr>\n",
              "      <th>46</th>\n",
              "      <td>0.702450</td>\n",
              "      <td>0.356111</td>\n",
              "    </tr>\n",
              "    <tr>\n",
              "      <th>47</th>\n",
              "      <td>0.431300</td>\n",
              "      <td>0.592778</td>\n",
              "    </tr>\n",
              "    <tr>\n",
              "      <th>48</th>\n",
              "      <td>0.633596</td>\n",
              "      <td>0.412778</td>\n",
              "    </tr>\n",
              "    <tr>\n",
              "      <th>49</th>\n",
              "      <td>0.510863</td>\n",
              "      <td>0.519444</td>\n",
              "    </tr>\n",
              "  </tbody>\n",
              "</table>\n",
              "</div>"
            ],
            "text/plain": [
              "    Molar volume   Density\n",
              "0       0.460039  0.358333\n",
              "1       0.392154  0.418333\n",
              "2       0.476801  0.343889\n",
              "3       0.378049  0.431111\n",
              "4       0.335257  0.470556\n",
              "5       0.275121  0.527778\n",
              "6       0.489808  0.332778\n",
              "7       0.500286  0.323889\n",
              "8       0.467111  0.352222\n",
              "9       0.474858  0.345556\n",
              "10      0.331166  0.528333\n",
              "11      0.286321  0.571667\n",
              "12      0.399627  0.464444\n",
              "13      1.000000  0.000000\n",
              "14      0.352290  0.508333\n",
              "15      0.227330  0.630556\n",
              "16      0.758042  0.168889\n",
              "17      0.504356  0.371667\n",
              "18      0.406938  0.457778\n",
              "19      0.587867  0.301667\n",
              "20      0.466121  0.456667\n",
              "21      0.448188  0.472778\n",
              "22      0.450650  0.470556\n",
              "23      0.431053  0.488333\n",
              "24      0.530103  0.400556\n",
              "25      0.396109  0.520556\n",
              "26      0.510209  0.417778\n",
              "27      0.525590  0.404444\n",
              "28      0.463636  0.458889\n",
              "29      0.733848  0.235000\n",
              "30      0.505842  0.472778\n",
              "31      0.803788  0.229444\n",
              "32      0.487794  0.488889\n",
              "33      0.629006  0.367222\n",
              "34      0.000000  1.000000\n",
              "35      0.624981  0.370556\n",
              "36      0.583919  0.405000\n",
              "37      0.539966  0.442778\n",
              "38      0.898593  0.160000\n",
              "39      0.440182  0.532222\n",
              "40      0.413149  0.610000\n",
              "41      0.630288  0.415556\n",
              "42      0.551450  0.483333\n",
              "43      0.320311  0.701111\n",
              "44      0.675132  0.378333\n",
              "45      0.632272  0.413889\n",
              "46      0.702450  0.356111\n",
              "47      0.431300  0.592778\n",
              "48      0.633596  0.412778\n",
              "49      0.510863  0.519444"
            ]
          },
          "metadata": {
            "tags": []
          },
          "execution_count": 4
        }
      ]
    },
    {
      "cell_type": "code",
      "metadata": {
        "id": "a4XYsPYpSRfw"
      },
      "source": [
        "train_dataset = normalized_data.sample(frac=0.8, random_state=0)\n",
        "test_dataset = normalized_data.drop(train_dataset.index)"
      ],
      "execution_count": 5,
      "outputs": []
    },
    {
      "cell_type": "code",
      "metadata": {
        "colab": {
          "base_uri": "https://localhost:8080/",
          "height": 359
        },
        "id": "OrQaoDT0SnJo",
        "outputId": "4698885f-ebc9-4d40-b05d-be4e0fd514ed"
      },
      "source": [
        "train_dataset[:10]"
      ],
      "execution_count": 6,
      "outputs": [
        {
          "output_type": "execute_result",
          "data": {
            "text/html": [
              "<div>\n",
              "<style scoped>\n",
              "    .dataframe tbody tr th:only-of-type {\n",
              "        vertical-align: middle;\n",
              "    }\n",
              "\n",
              "    .dataframe tbody tr th {\n",
              "        vertical-align: top;\n",
              "    }\n",
              "\n",
              "    .dataframe thead th {\n",
              "        text-align: right;\n",
              "    }\n",
              "</style>\n",
              "<table border=\"1\" class=\"dataframe\">\n",
              "  <thead>\n",
              "    <tr style=\"text-align: right;\">\n",
              "      <th></th>\n",
              "      <th>Molar volume</th>\n",
              "      <th>Density</th>\n",
              "    </tr>\n",
              "  </thead>\n",
              "  <tbody>\n",
              "    <tr>\n",
              "      <th>28</th>\n",
              "      <td>0.463636</td>\n",
              "      <td>0.458889</td>\n",
              "    </tr>\n",
              "    <tr>\n",
              "      <th>11</th>\n",
              "      <td>0.286321</td>\n",
              "      <td>0.571667</td>\n",
              "    </tr>\n",
              "    <tr>\n",
              "      <th>10</th>\n",
              "      <td>0.331166</td>\n",
              "      <td>0.528333</td>\n",
              "    </tr>\n",
              "    <tr>\n",
              "      <th>41</th>\n",
              "      <td>0.630288</td>\n",
              "      <td>0.415556</td>\n",
              "    </tr>\n",
              "    <tr>\n",
              "      <th>2</th>\n",
              "      <td>0.476801</td>\n",
              "      <td>0.343889</td>\n",
              "    </tr>\n",
              "    <tr>\n",
              "      <th>27</th>\n",
              "      <td>0.525590</td>\n",
              "      <td>0.404444</td>\n",
              "    </tr>\n",
              "    <tr>\n",
              "      <th>38</th>\n",
              "      <td>0.898593</td>\n",
              "      <td>0.160000</td>\n",
              "    </tr>\n",
              "    <tr>\n",
              "      <th>31</th>\n",
              "      <td>0.803788</td>\n",
              "      <td>0.229444</td>\n",
              "    </tr>\n",
              "    <tr>\n",
              "      <th>22</th>\n",
              "      <td>0.450650</td>\n",
              "      <td>0.470556</td>\n",
              "    </tr>\n",
              "    <tr>\n",
              "      <th>4</th>\n",
              "      <td>0.335257</td>\n",
              "      <td>0.470556</td>\n",
              "    </tr>\n",
              "  </tbody>\n",
              "</table>\n",
              "</div>"
            ],
            "text/plain": [
              "    Molar volume   Density\n",
              "28      0.463636  0.458889\n",
              "11      0.286321  0.571667\n",
              "10      0.331166  0.528333\n",
              "41      0.630288  0.415556\n",
              "2       0.476801  0.343889\n",
              "27      0.525590  0.404444\n",
              "38      0.898593  0.160000\n",
              "31      0.803788  0.229444\n",
              "22      0.450650  0.470556\n",
              "4       0.335257  0.470556"
            ]
          },
          "metadata": {
            "tags": []
          },
          "execution_count": 6
        }
      ]
    },
    {
      "cell_type": "code",
      "metadata": {
        "colab": {
          "base_uri": "https://localhost:8080/",
          "height": 391
        },
        "id": "oBKxqmZ2Somr",
        "outputId": "50d4794a-c655-4d5c-ce33-24baf78522f6"
      },
      "source": [
        "sns.pairplot(train_dataset[['Molar volume', 'Density']], diag_kind='kde')"
      ],
      "execution_count": 7,
      "outputs": [
        {
          "output_type": "execute_result",
          "data": {
            "text/plain": [
              "<seaborn.axisgrid.PairGrid at 0x7f54f7f0fa10>"
            ]
          },
          "metadata": {
            "tags": []
          },
          "execution_count": 7
        },
        {
          "output_type": "display_data",
          "data": {
            "image/png": "[encoded data removed]",
            "text/plain": [
              "<Figure size 360x360 with 6 Axes>"
            ]
          },
          "metadata": {
            "tags": [],
            "needs_background": "light"
          }
        }
      ]
    },
    {
      "cell_type": "code",
      "metadata": {
        "colab": {
          "base_uri": "https://localhost:8080/",
          "height": 296
        },
        "id": "1ZUc2Tf9m3TH",
        "outputId": "d529ffc4-16c6-40e6-e8e3-689b33aa6f8e"
      },
      "source": [
        "sns.boxplot(x=train_dataset['Molar volume'])"
      ],
      "execution_count": 8,
      "outputs": [
        {
          "output_type": "execute_result",
          "data": {
            "text/plain": [
              "<matplotlib.axes._subplots.AxesSubplot at 0x7f54ec9e4710>"
            ]
          },
          "metadata": {
            "tags": []
          },
          "execution_count": 8
        },
        {
          "output_type": "display_data",
          "data": {
            "image/png": "[encoded data removed]",
            "text/plain": [
              "<Figure size 432x288 with 1 Axes>"
            ]
          },
          "metadata": {
            "tags": [],
            "needs_background": "light"
          }
        }
      ]
    },
    {
      "cell_type": "code",
      "metadata": {
        "colab": {
          "base_uri": "https://localhost:8080/",
          "height": 111
        },
        "id": "pmt48HGMS0FD",
        "outputId": "ca6e2d63-8468-48cc-85d3-ceed5ceea9e5"
      },
      "source": [
        "train_dataset.describe().transpose()"
      ],
      "execution_count": 9,
      "outputs": [
        {
          "output_type": "execute_result",
          "data": {
            "text/html": [
              "<div>\n",
              "<style scoped>\n",
              "    .dataframe tbody tr th:only-of-type {\n",
              "        vertical-align: middle;\n",
              "    }\n",
              "\n",
              "    .dataframe tbody tr th {\n",
              "        vertical-align: top;\n",
              "    }\n",
              "\n",
              "    .dataframe thead th {\n",
              "        text-align: right;\n",
              "    }\n",
              "</style>\n",
              "<table border=\"1\" class=\"dataframe\">\n",
              "  <thead>\n",
              "    <tr style=\"text-align: right;\">\n",
              "      <th></th>\n",
              "      <th>count</th>\n",
              "      <th>mean</th>\n",
              "      <th>std</th>\n",
              "      <th>min</th>\n",
              "      <th>25%</th>\n",
              "      <th>50%</th>\n",
              "      <th>75%</th>\n",
              "      <th>max</th>\n",
              "    </tr>\n",
              "  </thead>\n",
              "  <tbody>\n",
              "    <tr>\n",
              "      <th>Molar volume</th>\n",
              "      <td>40.0</td>\n",
              "      <td>0.497296</td>\n",
              "      <td>0.182811</td>\n",
              "      <td>0.0</td>\n",
              "      <td>0.398747</td>\n",
              "      <td>0.488801</td>\n",
              "      <td>0.569833</td>\n",
              "      <td>1.0</td>\n",
              "    </tr>\n",
              "    <tr>\n",
              "      <th>Density</th>\n",
              "      <td>40.0</td>\n",
              "      <td>0.435292</td>\n",
              "      <td>0.160280</td>\n",
              "      <td>0.0</td>\n",
              "      <td>0.369722</td>\n",
              "      <td>0.449722</td>\n",
              "      <td>0.493750</td>\n",
              "      <td>1.0</td>\n",
              "    </tr>\n",
              "  </tbody>\n",
              "</table>\n",
              "</div>"
            ],
            "text/plain": [
              "              count      mean       std  min       25%       50%       75%  max\n",
              "Molar volume   40.0  0.497296  0.182811  0.0  0.398747  0.488801  0.569833  1.0\n",
              "Density        40.0  0.435292  0.160280  0.0  0.369722  0.449722  0.493750  1.0"
            ]
          },
          "metadata": {
            "tags": []
          },
          "execution_count": 9
        }
      ]
    },
    {
      "cell_type": "code",
      "metadata": {
        "id": "MbyqTeyDTFuz"
      },
      "source": [
        "# Collect input feature for training, molar volume value in this case\n",
        "train_features = train_dataset.copy() #dataframe type\n",
        "test_features = test_dataset.copy()\n",
        "\n",
        "# Collect respective label, density value in this case\n",
        "train_labels = train_features.pop('Density') # series type\n",
        "test_labels = test_features.pop('Density')"
      ],
      "execution_count": 10,
      "outputs": []
    },
    {
      "cell_type": "code",
      "metadata": {
        "id": "pz-xeTwOTREH"
      },
      "source": [
        "from sklearn.neural_network import MLPRegressor"
      ],
      "execution_count": 11,
      "outputs": []
    },
    {
      "cell_type": "code",
      "metadata": {
        "id": "BPNVVnnFnU17"
      },
      "source": [
        "regression_model = MLPRegressor(\n",
        "                                hidden_layer_sizes=(16,32,64),\n",
        "                                learning_rate_init = 0.001, \n",
        "                                random_state=10, \n",
        "                                max_iter=500,\n",
        "                                solver='adam',\n",
        "                                alpha = 0.2\n",
        "                                ).fit(train_features, train_labels)"
      ],
      "execution_count": 16,
      "outputs": []
    },
    {
      "cell_type": "code",
      "metadata": {
        "colab": {
          "base_uri": "https://localhost:8080/"
        },
        "id": "5QVt76NQm7SN",
        "outputId": "59410432-a7a4-4f46-dec0-8df3872abe7f"
      },
      "source": [
        "from sklearn.model_selection import cross_val_score\n",
        "from sklearn.model_selection import KFold\n",
        "from sklearn.model_selection import GridSearchCV\n",
        "\n",
        "score_mean = []\n",
        "score_std = []\n",
        "\n",
        "split_num = 7\n",
        "\n",
        "for i in range(2, split_num):\n",
        "  # create a KFold object with n splits \n",
        "  kf = KFold(n_splits = i, shuffle = True, random_state = 10)\n",
        "  scores = cross_val_score(regression_model, train_features, train_labels, cv=kf)\n",
        "  m = np.mean(scores)\n",
        "  s = np.std(scores)\n",
        "  score_mean.append(m)\n",
        "  score_std.append(s)\n",
        "  print('Number of splits: %d, Accuracy: %.3f, Standard Devidation: %.3f' % (i, m, s))"
      ],
      "execution_count": 17,
      "outputs": [
        {
          "output_type": "stream",
          "text": [
            "Number of splits: 2, Accuracy: 0.544, Standard Devidation: 0.036\n",
            "Number of splits: 3, Accuracy: 0.673, Standard Devidation: 0.051\n",
            "Number of splits: 4, Accuracy: 0.694, Standard Devidation: 0.104\n",
            "Number of splits: 5, Accuracy: 0.645, Standard Devidation: 0.164\n",
            "Number of splits: 6, Accuracy: 0.569, Standard Devidation: 0.267\n"
          ],
          "name": "stdout"
        }
      ]
    },
    {
      "cell_type": "code",
      "metadata": {
        "id": "hm96qb3zZQzm",
        "colab": {
          "base_uri": "https://localhost:8080/",
          "height": 296
        },
        "outputId": "6288c7da-bb6d-428d-b5f9-c64becbbe8ea"
      },
      "source": [
        "pred_y = regression_model.predict(train_features)\n",
        "actual_trend=train_labels.values\n",
        "plt.plot(pred_y, color='orange', label='Prediction')\n",
        "plt.plot(actual_trend, label='Actual')\n",
        "plt.xlabel('Molar volume')\n",
        "plt.ylabel('Density')\n",
        "plt.legend()"
      ],
      "execution_count": 18,
      "outputs": [
        {
          "output_type": "execute_result",
          "data": {
            "text/plain": [
              "<matplotlib.legend.Legend at 0x7f54ebd34d50>"
            ]
          },
          "metadata": {
            "tags": []
          },
          "execution_count": 18
        },
        {
          "output_type": "display_data",
          "data": {
            "image/png": "[encoded data removed]",
            "text/plain": [
              "<Figure size 432x288 with 1 Axes>"
            ]
          },
          "metadata": {
            "tags": [],
            "needs_background": "light"
          }
        }
      ]
    },
    {
      "cell_type": "code",
      "metadata": {
        "colab": {
          "base_uri": "https://localhost:8080/",
          "height": 296
        },
        "id": "aPHUEFgnt2qE",
        "outputId": "b84877e8-e804-45f6-a466-f9953abfec95"
      },
      "source": [
        "pred_test = regression_model.predict(test_features)\n",
        "actual_test_trend=test_labels.values\n",
        "plt.plot(pred_test, color='cyan', label='Prediction')\n",
        "plt.plot(actual_test_trend, label='Actual')\n",
        "plt.xlabel('Molar volume')\n",
        "plt.ylabel('Density')\n",
        "plt.legend()"
      ],
      "execution_count": 29,
      "outputs": [
        {
          "output_type": "execute_result",
          "data": {
            "text/plain": [
              "<matplotlib.legend.Legend at 0x7f0bb14a9bd0>"
            ]
          },
          "metadata": {
            "tags": []
          },
          "execution_count": 29
        },
        {
          "output_type": "display_data",
          "data": {
            "image/png": "[encoded data removed]",
            "text/plain": [
              "<Figure size 432x288 with 1 Axes>"
            ]
          },
          "metadata": {
            "tags": [],
            "needs_background": "light"
          }
        }
      ]
    },
    {
      "cell_type": "code",
      "metadata": {
        "colab": {
          "base_uri": "https://localhost:8080/"
        },
        "id": "Vlo-CDRsTH-0",
        "outputId": "480f4c44-7773-4982-8f5f-b8002ce88670"
      },
      "source": [
        "differences = (1 - sum(abs(pred_test - actual_test_trend.reshape(-1,1)))/len(actual_test_trend)) * 100\n",
        "pred_accuracy = np.mean(differences)\n",
        "pred_accuracy"
      ],
      "execution_count": 30,
      "outputs": [
        {
          "output_type": "execute_result",
          "data": {
            "text/plain": [
              "92.52577076217098"
            ]
          },
          "metadata": {
            "tags": []
          },
          "execution_count": 30
        }
      ]
    },
    {
      "cell_type": "code",
      "metadata": {
        "colab": {
          "base_uri": "https://localhost:8080/",
          "height": 282
        },
        "id": "M9HSTArdJn-Z",
        "outputId": "d7285ca4-c7d8-4ab8-cab1-c384d9c9e124"
      },
      "source": [
        "plt.plot(score_mean)"
      ],
      "execution_count": 31,
      "outputs": [
        {
          "output_type": "execute_result",
          "data": {
            "text/plain": [
              "[<matplotlib.lines.Line2D at 0x7f0bb13a80d0>]"
            ]
          },
          "metadata": {
            "tags": []
          },
          "execution_count": 31
        },
        {
          "output_type": "display_data",
          "data": {
            "image/png": "[encoded data removed]",
            "text/plain": [
              "<Figure size 432x288 with 1 Axes>"
            ]
          },
          "metadata": {
            "tags": [],
            "needs_background": "light"
          }
        }
      ]
    },
    {
      "cell_type": "code",
      "metadata": {
        "id": "TSIPcdPpKFSj"
      },
      "source": [
        ""
      ],
      "execution_count": null,
      "outputs": []
    }
  ]
}