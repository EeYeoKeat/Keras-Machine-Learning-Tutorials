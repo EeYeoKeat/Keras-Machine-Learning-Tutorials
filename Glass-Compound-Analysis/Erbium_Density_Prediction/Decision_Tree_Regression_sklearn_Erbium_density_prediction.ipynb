{
  "nbformat": 4,
  "nbformat_minor": 0,
  "metadata": {
    "colab": {
      "name": "Decision_Tree_Regression_sklearn-Erbium_density_prediction.ipynb",
      "provenance": [],
      "collapsed_sections": []
    },
    "kernelspec": {
      "name": "python3",
      "display_name": "Python 3"
    },
    "accelerator": "GPU"
  },
  "cells": [
    {
      "cell_type": "code",
      "metadata": {
        "id": "irGPRTEoXPos"
      },
      "source": [
        "import matplotlib.pyplot as plt\n",
        "import numpy as np\n",
        "import pandas as pd\n",
        "\n",
        "from sklearn.tree import DecisionTreeRegressor"
      ],
      "execution_count": 1,
      "outputs": []
    },
    {
      "cell_type": "code",
      "metadata": {
        "id": "ELRMbfyrZAip",
        "colab": {
          "base_uri": "https://localhost:8080/",
          "height": 1000
        },
        "outputId": "af86a4a8-3c32-4b86-a6cf-88c4fee53cd5"
      },
      "source": [
        "# Load the data\n",
        "data = pd.read_csv('Molecular-data.csv')\n",
        "data"
      ],
      "execution_count": 2,
      "outputs": [
        {
          "output_type": "execute_result",
          "data": {
            "text/html": [
              "<div>\n",
              "<style scoped>\n",
              "    .dataframe tbody tr th:only-of-type {\n",
              "        vertical-align: middle;\n",
              "    }\n",
              "\n",
              "    .dataframe tbody tr th {\n",
              "        vertical-align: top;\n",
              "    }\n",
              "\n",
              "    .dataframe thead th {\n",
              "        text-align: right;\n",
              "    }\n",
              "</style>\n",
              "<table border=\"1\" class=\"dataframe\">\n",
              "  <thead>\n",
              "    <tr style=\"text-align: right;\">\n",
              "      <th></th>\n",
              "      <th>Molar volume</th>\n",
              "      <th>Density</th>\n",
              "    </tr>\n",
              "  </thead>\n",
              "  <tbody>\n",
              "    <tr>\n",
              "      <th>0</th>\n",
              "      <td>26.379294</td>\n",
              "      <td>5.254</td>\n",
              "    </tr>\n",
              "    <tr>\n",
              "      <th>1</th>\n",
              "      <td>25.847969</td>\n",
              "      <td>5.362</td>\n",
              "    </tr>\n",
              "    <tr>\n",
              "      <th>2</th>\n",
              "      <td>26.510484</td>\n",
              "      <td>5.228</td>\n",
              "    </tr>\n",
              "    <tr>\n",
              "      <th>3</th>\n",
              "      <td>25.737570</td>\n",
              "      <td>5.385</td>\n",
              "    </tr>\n",
              "    <tr>\n",
              "      <th>4</th>\n",
              "      <td>25.402642</td>\n",
              "      <td>5.456</td>\n",
              "    </tr>\n",
              "    <tr>\n",
              "      <th>5</th>\n",
              "      <td>24.931968</td>\n",
              "      <td>5.559</td>\n",
              "    </tr>\n",
              "    <tr>\n",
              "      <th>6</th>\n",
              "      <td>26.612291</td>\n",
              "      <td>5.208</td>\n",
              "    </tr>\n",
              "    <tr>\n",
              "      <th>7</th>\n",
              "      <td>26.694301</td>\n",
              "      <td>5.192</td>\n",
              "    </tr>\n",
              "    <tr>\n",
              "      <th>8</th>\n",
              "      <td>26.434639</td>\n",
              "      <td>5.243</td>\n",
              "    </tr>\n",
              "    <tr>\n",
              "      <th>9</th>\n",
              "      <td>26.495280</td>\n",
              "      <td>5.231</td>\n",
              "    </tr>\n",
              "    <tr>\n",
              "      <th>10</th>\n",
              "      <td>25.370620</td>\n",
              "      <td>5.560</td>\n",
              "    </tr>\n",
              "    <tr>\n",
              "      <th>11</th>\n",
              "      <td>25.019625</td>\n",
              "      <td>5.638</td>\n",
              "    </tr>\n",
              "    <tr>\n",
              "      <th>12</th>\n",
              "      <td>25.906454</td>\n",
              "      <td>5.445</td>\n",
              "    </tr>\n",
              "    <tr>\n",
              "      <th>13</th>\n",
              "      <td>30.605477</td>\n",
              "      <td>4.609</td>\n",
              "    </tr>\n",
              "    <tr>\n",
              "      <th>14</th>\n",
              "      <td>25.535960</td>\n",
              "      <td>5.524</td>\n",
              "    </tr>\n",
              "    <tr>\n",
              "      <th>15</th>\n",
              "      <td>24.557912</td>\n",
              "      <td>5.744</td>\n",
              "    </tr>\n",
              "    <tr>\n",
              "      <th>16</th>\n",
              "      <td>28.711713</td>\n",
              "      <td>4.913</td>\n",
              "    </tr>\n",
              "    <tr>\n",
              "      <th>17</th>\n",
              "      <td>26.726155</td>\n",
              "      <td>5.278</td>\n",
              "    </tr>\n",
              "    <tr>\n",
              "      <th>18</th>\n",
              "      <td>25.963675</td>\n",
              "      <td>5.433</td>\n",
              "    </tr>\n",
              "    <tr>\n",
              "      <th>19</th>\n",
              "      <td>27.379783</td>\n",
              "      <td>5.152</td>\n",
              "    </tr>\n",
              "    <tr>\n",
              "      <th>20</th>\n",
              "      <td>26.426897</td>\n",
              "      <td>5.431</td>\n",
              "    </tr>\n",
              "    <tr>\n",
              "      <th>21</th>\n",
              "      <td>26.286534</td>\n",
              "      <td>5.460</td>\n",
              "    </tr>\n",
              "    <tr>\n",
              "      <th>22</th>\n",
              "      <td>26.305806</td>\n",
              "      <td>5.456</td>\n",
              "    </tr>\n",
              "    <tr>\n",
              "      <th>23</th>\n",
              "      <td>26.152419</td>\n",
              "      <td>5.488</td>\n",
              "    </tr>\n",
              "    <tr>\n",
              "      <th>24</th>\n",
              "      <td>26.927669</td>\n",
              "      <td>5.330</td>\n",
              "    </tr>\n",
              "    <tr>\n",
              "      <th>25</th>\n",
              "      <td>25.878918</td>\n",
              "      <td>5.546</td>\n",
              "    </tr>\n",
              "    <tr>\n",
              "      <th>26</th>\n",
              "      <td>26.771960</td>\n",
              "      <td>5.361</td>\n",
              "    </tr>\n",
              "    <tr>\n",
              "      <th>27</th>\n",
              "      <td>26.892351</td>\n",
              "      <td>5.337</td>\n",
              "    </tr>\n",
              "    <tr>\n",
              "      <th>28</th>\n",
              "      <td>26.407447</td>\n",
              "      <td>5.435</td>\n",
              "    </tr>\n",
              "    <tr>\n",
              "      <th>29</th>\n",
              "      <td>28.522352</td>\n",
              "      <td>5.032</td>\n",
              "    </tr>\n",
              "    <tr>\n",
              "      <th>30</th>\n",
              "      <td>26.737785</td>\n",
              "      <td>5.460</td>\n",
              "    </tr>\n",
              "    <tr>\n",
              "      <th>31</th>\n",
              "      <td>29.069755</td>\n",
              "      <td>5.022</td>\n",
              "    </tr>\n",
              "    <tr>\n",
              "      <th>32</th>\n",
              "      <td>26.596522</td>\n",
              "      <td>5.489</td>\n",
              "    </tr>\n",
              "    <tr>\n",
              "      <th>33</th>\n",
              "      <td>27.701766</td>\n",
              "      <td>5.270</td>\n",
              "    </tr>\n",
              "    <tr>\n",
              "      <th>34</th>\n",
              "      <td>22.778641</td>\n",
              "      <td>6.409</td>\n",
              "    </tr>\n",
              "    <tr>\n",
              "      <th>35</th>\n",
              "      <td>27.670263</td>\n",
              "      <td>5.276</td>\n",
              "    </tr>\n",
              "    <tr>\n",
              "      <th>36</th>\n",
              "      <td>27.348878</td>\n",
              "      <td>5.338</td>\n",
              "    </tr>\n",
              "    <tr>\n",
              "      <th>37</th>\n",
              "      <td>27.004867</td>\n",
              "      <td>5.406</td>\n",
              "    </tr>\n",
              "    <tr>\n",
              "      <th>38</th>\n",
              "      <td>29.811785</td>\n",
              "      <td>4.897</td>\n",
              "    </tr>\n",
              "    <tr>\n",
              "      <th>39</th>\n",
              "      <td>26.223874</td>\n",
              "      <td>5.567</td>\n",
              "    </tr>\n",
              "    <tr>\n",
              "      <th>40</th>\n",
              "      <td>26.012290</td>\n",
              "      <td>5.707</td>\n",
              "    </tr>\n",
              "    <tr>\n",
              "      <th>41</th>\n",
              "      <td>27.711805</td>\n",
              "      <td>5.357</td>\n",
              "    </tr>\n",
              "    <tr>\n",
              "      <th>42</th>\n",
              "      <td>27.094751</td>\n",
              "      <td>5.479</td>\n",
              "    </tr>\n",
              "    <tr>\n",
              "      <th>43</th>\n",
              "      <td>25.285665</td>\n",
              "      <td>5.871</td>\n",
              "    </tr>\n",
              "    <tr>\n",
              "      <th>44</th>\n",
              "      <td>28.062787</td>\n",
              "      <td>5.290</td>\n",
              "    </tr>\n",
              "    <tr>\n",
              "      <th>45</th>\n",
              "      <td>27.727333</td>\n",
              "      <td>5.354</td>\n",
              "    </tr>\n",
              "    <tr>\n",
              "      <th>46</th>\n",
              "      <td>28.276598</td>\n",
              "      <td>5.250</td>\n",
              "    </tr>\n",
              "    <tr>\n",
              "      <th>47</th>\n",
              "      <td>26.154359</td>\n",
              "      <td>5.676</td>\n",
              "    </tr>\n",
              "    <tr>\n",
              "      <th>48</th>\n",
              "      <td>27.737695</td>\n",
              "      <td>5.352</td>\n",
              "    </tr>\n",
              "    <tr>\n",
              "      <th>49</th>\n",
              "      <td>26.777082</td>\n",
              "      <td>5.544</td>\n",
              "    </tr>\n",
              "  </tbody>\n",
              "</table>\n",
              "</div>"
            ],
            "text/plain": [
              "    Molar volume  Density\n",
              "0      26.379294    5.254\n",
              "1      25.847969    5.362\n",
              "2      26.510484    5.228\n",
              "3      25.737570    5.385\n",
              "4      25.402642    5.456\n",
              "5      24.931968    5.559\n",
              "6      26.612291    5.208\n",
              "7      26.694301    5.192\n",
              "8      26.434639    5.243\n",
              "9      26.495280    5.231\n",
              "10     25.370620    5.560\n",
              "11     25.019625    5.638\n",
              "12     25.906454    5.445\n",
              "13     30.605477    4.609\n",
              "14     25.535960    5.524\n",
              "15     24.557912    5.744\n",
              "16     28.711713    4.913\n",
              "17     26.726155    5.278\n",
              "18     25.963675    5.433\n",
              "19     27.379783    5.152\n",
              "20     26.426897    5.431\n",
              "21     26.286534    5.460\n",
              "22     26.305806    5.456\n",
              "23     26.152419    5.488\n",
              "24     26.927669    5.330\n",
              "25     25.878918    5.546\n",
              "26     26.771960    5.361\n",
              "27     26.892351    5.337\n",
              "28     26.407447    5.435\n",
              "29     28.522352    5.032\n",
              "30     26.737785    5.460\n",
              "31     29.069755    5.022\n",
              "32     26.596522    5.489\n",
              "33     27.701766    5.270\n",
              "34     22.778641    6.409\n",
              "35     27.670263    5.276\n",
              "36     27.348878    5.338\n",
              "37     27.004867    5.406\n",
              "38     29.811785    4.897\n",
              "39     26.223874    5.567\n",
              "40     26.012290    5.707\n",
              "41     27.711805    5.357\n",
              "42     27.094751    5.479\n",
              "43     25.285665    5.871\n",
              "44     28.062787    5.290\n",
              "45     27.727333    5.354\n",
              "46     28.276598    5.250\n",
              "47     26.154359    5.676\n",
              "48     27.737695    5.352\n",
              "49     26.777082    5.544"
            ]
          },
          "metadata": {
            "tags": []
          },
          "execution_count": 2
        }
      ]
    },
    {
      "cell_type": "code",
      "metadata": {
        "id": "CKiqkEiKg1H2"
      },
      "source": [
        "train_dataset = data.sample(frac=0.8, random_state=0)\n",
        "test_dataset = data.drop(train_dataset.index)\n",
        "\n",
        "# Collect input feature for training, molar volume value in this case\n",
        "train_features = train_dataset.copy() #dataframe type\n",
        "test_features = test_dataset.copy()\n",
        "\n",
        "# Collect respective label, density value in this case\n",
        "train_labels = train_features.pop('Density') # series type\n",
        "test_labels = test_features.pop('Density')"
      ],
      "execution_count": 3,
      "outputs": []
    },
    {
      "cell_type": "code",
      "metadata": {
        "id": "BVsLXRF6Qo4c"
      },
      "source": [
        "# Define training model\n",
        "DecisionTreeModel = DecisionTreeRegressor(max_leaf_nodes=100, random_state=1)"
      ],
      "execution_count": 9,
      "outputs": []
    },
    {
      "cell_type": "markdown",
      "metadata": {
        "id": "H50_MhgJzFOJ"
      },
      "source": [
        "According to [documentation](https://scikit-learn.org/stable/modules/generated/sklearn.tree.DecisionTreeRegressor.html), the best nodes are defined as relative reduction in impurity. If None then unlimited number of leaf nodes. Thus, the larger number of leaf nodes, the better the performance."
      ]
    },
    {
      "cell_type": "code",
      "metadata": {
        "colab": {
          "base_uri": "https://localhost:8080/"
        },
        "id": "Vl867epFfjhX",
        "outputId": "de9cdd5a-620a-4145-8109-fcef5e358139"
      },
      "source": [
        "# Train the model\n",
        "DecisionTreeModel.fit(train_features, train_labels)"
      ],
      "execution_count": 20,
      "outputs": [
        {
          "output_type": "execute_result",
          "data": {
            "text/plain": [
              "DecisionTreeRegressor(ccp_alpha=0.0, criterion='mse', max_depth=None,\n",
              "                      max_features=None, max_leaf_nodes=100,\n",
              "                      min_impurity_decrease=0.0, min_impurity_split=None,\n",
              "                      min_samples_leaf=1, min_samples_split=2,\n",
              "                      min_weight_fraction_leaf=0.0, presort='deprecated',\n",
              "                      random_state=1, splitter='best')"
            ]
          },
          "metadata": {
            "tags": []
          },
          "execution_count": 20
        }
      ]
    },
    {
      "cell_type": "code",
      "metadata": {
        "id": "MxMkBcJOhN9v"
      },
      "source": [
        "def plot_density(x, y):\n",
        "  plt.scatter(train_features['Molar volume'], train_labels, label='Data')\n",
        "  plt.plot(x, y, color='r', label='Predictions')\n",
        "  plt.xlabel('Molar volume')\n",
        "  plt.ylabel('Density')\n",
        "  plt.legend()"
      ],
      "execution_count": 21,
      "outputs": []
    },
    {
      "cell_type": "code",
      "metadata": {
        "colab": {
          "base_uri": "https://localhost:8080/",
          "height": 279
        },
        "id": "ojlaG8ce5XRg",
        "outputId": "f8f22463-8bc8-4f3a-829b-9e62d3d2c807"
      },
      "source": [
        "x = np.arange(train_features['Molar volume'].min(), train_features['Molar volume'].max()).reshape(-1, 1)\n",
        "pred = DecisionTreeModel.predict(x)\n",
        "plot_density(x,pred)"
      ],
      "execution_count": 22,
      "outputs": [
        {
          "output_type": "display_data",
          "data": {
            "image/png": "[encoded data removed]",
            "text/plain": [
              "<Figure size 432x288 with 1 Axes>"
            ]
          },
          "metadata": {
            "tags": [],
            "needs_background": "light"
          }
        }
      ]
    },
    {
      "cell_type": "code",
      "metadata": {
        "colab": {
          "base_uri": "https://localhost:8080/"
        },
        "id": "mp6FhXHcWALA",
        "outputId": "5993fd42-8d4a-46d9-fa0d-29b02042a568"
      },
      "source": [
        "pred_y = DecisionTreeModel.predict(train_features)\n",
        "pred_y"
      ],
      "execution_count": 23,
      "outputs": [
        {
          "output_type": "execute_result",
          "data": {
            "text/plain": [
              "array([5.435, 5.638, 5.56 , 5.357, 5.228, 5.337, 4.897, 5.022, 5.456,\n",
              "       5.456, 5.27 , 5.276, 5.361, 6.409, 5.433, 5.192, 5.524, 5.354,\n",
              "       5.352, 5.032, 5.744, 5.46 , 5.489, 4.913, 5.479, 5.431, 5.871,\n",
              "       5.243, 4.609, 5.546, 5.559, 5.278, 5.707, 5.544, 5.362, 5.445,\n",
              "       5.406, 5.33 , 5.208, 5.488])"
            ]
          },
          "metadata": {
            "tags": []
          },
          "execution_count": 23
        }
      ]
    },
    {
      "cell_type": "code",
      "metadata": {
        "colab": {
          "base_uri": "https://localhost:8080/",
          "height": 279
        },
        "id": "uulObUx2TPnC",
        "outputId": "73bf4634-a2a0-42c8-dd95-f7eedb58d475"
      },
      "source": [
        "actual_trend=train_labels.values\n",
        "plt.plot(pred_y, color='orange', label='Prediction')\n",
        "plt.plot(actual_trend, label='Actual')\n",
        "plt.xlabel('Molar volume')\n",
        "plt.ylabel('Density')\n",
        "plt.legend()\n",
        "plt.show()"
      ],
      "execution_count": 24,
      "outputs": [
        {
          "output_type": "display_data",
          "data": {
            "image/png": "[encoded data removed]",
            "text/plain": [
              "<Figure size 432x288 with 1 Axes>"
            ]
          },
          "metadata": {
            "tags": [],
            "needs_background": "light"
          }
        }
      ]
    },
    {
      "cell_type": "code",
      "metadata": {
        "colab": {
          "base_uri": "https://localhost:8080/",
          "height": 281
        },
        "id": "f5PafrpgVvwx",
        "outputId": "a1ec4f95-07c9-43ca-e81b-35d289e74e3c"
      },
      "source": [
        "pred_test = DecisionTreeModel.predict(test_features)\n",
        "actual_test_trend=test_labels.values\n",
        "plt.plot(pred_test, color='cyan', label='Prediction')\n",
        "plt.plot(actual_test_trend, label='Actual')\n",
        "plt.xlabel('Molar volume')\n",
        "plt.ylabel('Density')\n",
        "plt.legend()\n",
        "plt.show()"
      ],
      "execution_count": 25,
      "outputs": [
        {
          "output_type": "display_data",
          "data": {
            "image/png": "[encoded data removed]",
            "text/plain": [
              "<Figure size 432x288 with 1 Axes>"
            ]
          },
          "metadata": {
            "tags": [],
            "needs_background": "light"
          }
        }
      ]
    },
    {
      "cell_type": "code",
      "metadata": {
        "colab": {
          "base_uri": "https://localhost:8080/"
        },
        "id": "E3rbJo83WJtO",
        "outputId": "5005741d-7767-4e81-9161-11b86fbfd1f9"
      },
      "source": [
        "differences = (1 - sum(abs(pred_test - actual_test_trend))/len(actual_test_trend)) * 100\n",
        "pred_accuracy = differences.item()\n",
        "pred_accuracy"
      ],
      "execution_count": 26,
      "outputs": [
        {
          "output_type": "execute_result",
          "data": {
            "text/plain": [
              "87.73999999999998"
            ]
          },
          "metadata": {
            "tags": []
          },
          "execution_count": 26
        }
      ]
    },
    {
      "cell_type": "code",
      "metadata": {
        "colab": {
          "base_uri": "https://localhost:8080/"
        },
        "id": "g2Ak0KyLhWCg",
        "outputId": "424dab01-167f-4647-a89c-7573d7480aa9"
      },
      "source": [
        "test_acc = []\n",
        "axes = []\n",
        "\n",
        "for i in range(2,101):\n",
        "  axes.append(i)\n",
        "  mln_model = DecisionTreeRegressor(max_leaf_nodes=i, random_state=1)\n",
        "  mln_model.fit(train_features, train_labels)\n",
        "  mln_pred_y = mln_model.predict(test_features)\n",
        "  acc = (1 - sum(abs(mln_pred_y - actual_test_trend))/len(actual_test_trend)) * 100\n",
        "  mln_pred_accuracy = acc.item()\n",
        "  test_acc.append(mln_pred_accuracy)\n",
        "  print('Test accuracy for {} maximum number of leaf node is {}'.format(i, mln_pred_accuracy))"
      ],
      "execution_count": 27,
      "outputs": [
        {
          "output_type": "stream",
          "text": [
            "Test accuracy for 2 maximum number of leaf node is 81.93314285714277\n",
            "Test accuracy for 3 maximum number of leaf node is 82.84041176470585\n",
            "Test accuracy for 4 maximum number of leaf node is 87.29772161172158\n",
            "Test accuracy for 5 maximum number of leaf node is 86.68028571428567\n",
            "Test accuracy for 6 maximum number of leaf node is 87.39428571428569\n",
            "Test accuracy for 7 maximum number of leaf node is 87.39428571428569\n",
            "Test accuracy for 8 maximum number of leaf node is 87.95555555555559\n",
            "Test accuracy for 9 maximum number of leaf node is 87.60833333333332\n",
            "Test accuracy for 10 maximum number of leaf node is 87.37104761904762\n",
            "Test accuracy for 11 maximum number of leaf node is 88.93628571428572\n",
            "Test accuracy for 12 maximum number of leaf node is 87.3562857142857\n",
            "Test accuracy for 13 maximum number of leaf node is 87.3562857142857\n",
            "Test accuracy for 14 maximum number of leaf node is 86.88628571428569\n",
            "Test accuracy for 15 maximum number of leaf node is 87.73128571428569\n",
            "Test accuracy for 16 maximum number of leaf node is 87.87271428571427\n",
            "Test accuracy for 17 maximum number of leaf node is 87.54738095238093\n",
            "Test accuracy for 18 maximum number of leaf node is 88.12166666666666\n",
            "Test accuracy for 19 maximum number of leaf node is 88.12166666666666\n",
            "Test accuracy for 20 maximum number of leaf node is 87.03166666666664\n",
            "Test accuracy for 21 maximum number of leaf node is 87.26166666666664\n",
            "Test accuracy for 22 maximum number of leaf node is 87.26166666666664\n",
            "Test accuracy for 23 maximum number of leaf node is 87.26166666666664\n",
            "Test accuracy for 24 maximum number of leaf node is 87.26166666666664\n",
            "Test accuracy for 25 maximum number of leaf node is 87.69166666666663\n",
            "Test accuracy for 26 maximum number of leaf node is 87.69166666666663\n",
            "Test accuracy for 27 maximum number of leaf node is 86.96166666666664\n",
            "Test accuracy for 28 maximum number of leaf node is 87.10666666666664\n",
            "Test accuracy for 29 maximum number of leaf node is 87.49166666666665\n",
            "Test accuracy for 30 maximum number of leaf node is 87.49166666666665\n",
            "Test accuracy for 31 maximum number of leaf node is 87.49166666666665\n",
            "Test accuracy for 32 maximum number of leaf node is 87.72166666666665\n",
            "Test accuracy for 33 maximum number of leaf node is 87.72166666666665\n",
            "Test accuracy for 34 maximum number of leaf node is 87.73666666666665\n",
            "Test accuracy for 35 maximum number of leaf node is 87.73666666666665\n",
            "Test accuracy for 36 maximum number of leaf node is 87.73666666666665\n",
            "Test accuracy for 37 maximum number of leaf node is 87.73666666666665\n",
            "Test accuracy for 38 maximum number of leaf node is 87.74999999999999\n",
            "Test accuracy for 39 maximum number of leaf node is 87.72999999999999\n",
            "Test accuracy for 40 maximum number of leaf node is 87.73999999999998\n",
            "Test accuracy for 41 maximum number of leaf node is 87.73999999999998\n",
            "Test accuracy for 42 maximum number of leaf node is 87.73999999999998\n",
            "Test accuracy for 43 maximum number of leaf node is 87.73999999999998\n",
            "Test accuracy for 44 maximum number of leaf node is 87.73999999999998\n",
            "Test accuracy for 45 maximum number of leaf node is 87.73999999999998\n",
            "Test accuracy for 46 maximum number of leaf node is 87.73999999999998\n",
            "Test accuracy for 47 maximum number of leaf node is 87.73999999999998\n",
            "Test accuracy for 48 maximum number of leaf node is 87.73999999999998\n",
            "Test accuracy for 49 maximum number of leaf node is 87.73999999999998\n",
            "Test accuracy for 50 maximum number of leaf node is 87.73999999999998\n",
            "Test accuracy for 51 maximum number of leaf node is 87.73999999999998\n",
            "Test accuracy for 52 maximum number of leaf node is 87.73999999999998\n",
            "Test accuracy for 53 maximum number of leaf node is 87.73999999999998\n",
            "Test accuracy for 54 maximum number of leaf node is 87.73999999999998\n",
            "Test accuracy for 55 maximum number of leaf node is 87.73999999999998\n",
            "Test accuracy for 56 maximum number of leaf node is 87.73999999999998\n",
            "Test accuracy for 57 maximum number of leaf node is 87.73999999999998\n",
            "Test accuracy for 58 maximum number of leaf node is 87.73999999999998\n",
            "Test accuracy for 59 maximum number of leaf node is 87.73999999999998\n",
            "Test accuracy for 60 maximum number of leaf node is 87.73999999999998\n",
            "Test accuracy for 61 maximum number of leaf node is 87.73999999999998\n",
            "Test accuracy for 62 maximum number of leaf node is 87.73999999999998\n",
            "Test accuracy for 63 maximum number of leaf node is 87.73999999999998\n",
            "Test accuracy for 64 maximum number of leaf node is 87.73999999999998\n",
            "Test accuracy for 65 maximum number of leaf node is 87.73999999999998\n",
            "Test accuracy for 66 maximum number of leaf node is 87.73999999999998\n",
            "Test accuracy for 67 maximum number of leaf node is 87.73999999999998\n",
            "Test accuracy for 68 maximum number of leaf node is 87.73999999999998\n",
            "Test accuracy for 69 maximum number of leaf node is 87.73999999999998\n",
            "Test accuracy for 70 maximum number of leaf node is 87.73999999999998\n",
            "Test accuracy for 71 maximum number of leaf node is 87.73999999999998\n",
            "Test accuracy for 72 maximum number of leaf node is 87.73999999999998\n",
            "Test accuracy for 73 maximum number of leaf node is 87.73999999999998\n",
            "Test accuracy for 74 maximum number of leaf node is 87.73999999999998\n",
            "Test accuracy for 75 maximum number of leaf node is 87.73999999999998\n",
            "Test accuracy for 76 maximum number of leaf node is 87.73999999999998\n",
            "Test accuracy for 77 maximum number of leaf node is 87.73999999999998\n",
            "Test accuracy for 78 maximum number of leaf node is 87.73999999999998\n",
            "Test accuracy for 79 maximum number of leaf node is 87.73999999999998\n",
            "Test accuracy for 80 maximum number of leaf node is 87.73999999999998\n",
            "Test accuracy for 81 maximum number of leaf node is 87.73999999999998\n",
            "Test accuracy for 82 maximum number of leaf node is 87.73999999999998\n",
            "Test accuracy for 83 maximum number of leaf node is 87.73999999999998\n",
            "Test accuracy for 84 maximum number of leaf node is 87.73999999999998\n",
            "Test accuracy for 85 maximum number of leaf node is 87.73999999999998\n",
            "Test accuracy for 86 maximum number of leaf node is 87.73999999999998\n",
            "Test accuracy for 87 maximum number of leaf node is 87.73999999999998\n",
            "Test accuracy for 88 maximum number of leaf node is 87.73999999999998\n",
            "Test accuracy for 89 maximum number of leaf node is 87.73999999999998\n",
            "Test accuracy for 90 maximum number of leaf node is 87.73999999999998\n",
            "Test accuracy for 91 maximum number of leaf node is 87.73999999999998\n",
            "Test accuracy for 92 maximum number of leaf node is 87.73999999999998\n",
            "Test accuracy for 93 maximum number of leaf node is 87.73999999999998\n",
            "Test accuracy for 94 maximum number of leaf node is 87.73999999999998\n",
            "Test accuracy for 95 maximum number of leaf node is 87.73999999999998\n",
            "Test accuracy for 96 maximum number of leaf node is 87.73999999999998\n",
            "Test accuracy for 97 maximum number of leaf node is 87.73999999999998\n",
            "Test accuracy for 98 maximum number of leaf node is 87.73999999999998\n",
            "Test accuracy for 99 maximum number of leaf node is 87.73999999999998\n",
            "Test accuracy for 100 maximum number of leaf node is 87.73999999999998\n"
          ],
          "name": "stdout"
        }
      ]
    },
    {
      "cell_type": "code",
      "metadata": {
        "id": "hmf-3WyUhoDl",
        "colab": {
          "base_uri": "https://localhost:8080/",
          "height": 225
        },
        "outputId": "093c1b5a-9dd0-4fbe-e81e-6c3e28ecac04"
      },
      "source": [
        "original_axis = list(range(0,len(test_acc)))\n",
        "plt.figure(figsize=(20, 3))\n",
        "plt.plot(test_acc)\n",
        "locs, labels = plt.xticks()\n",
        "plt.xticks(original_axis,axes)\n",
        "plt.xlabel('Maximum number of leaf node')\n",
        "plt.ylabel('Test Accuracy')\n",
        "plt.show()"
      ],
      "execution_count": 28,
      "outputs": [
        {
          "output_type": "display_data",
          "data": {
            "image/png": "[encoded data removed]",
            "text/plain": [
              "<Figure size 1440x216 with 1 Axes>"
            ]
          },
          "metadata": {
            "tags": [],
            "needs_background": "light"
          }
        }
      ]
    },
    {
      "cell_type": "markdown",
      "metadata": {
        "id": "PTa3YMz6csYx"
      },
      "source": [
        "Based on testing above, seem like 11 number of maximum leaf node is generate highest test accuracy. Now we can proceed to tune the random state to determine the optimum setting."
      ]
    },
    {
      "cell_type": "code",
      "metadata": {
        "colab": {
          "base_uri": "https://localhost:8080/"
        },
        "id": "qOlH1P04NFL4",
        "outputId": "29ae347f-69ad-4256-fda2-9cf70a005b7f"
      },
      "source": [
        "rand_test_acc = []\n",
        "rand_axes = []\n",
        "\n",
        "for i in range(0,20):\n",
        "  rand_axes.append(i)\n",
        "  rand_model = DecisionTreeRegressor(max_leaf_nodes=11, random_state=i)\n",
        "  rand_model.fit(train_features, train_labels)\n",
        "  rand_pred_y = rand_model.predict(test_features)\n",
        "  rand_acc = (1 - sum(abs(rand_pred_y - actual_test_trend))/len(actual_test_trend)) * 100\n",
        "  rand_pred_accuracy = rand_acc.item()\n",
        "  rand_test_acc.append(rand_pred_accuracy)\n",
        "  print('Test accuracy for random state number {} is {}'.format(i, rand_pred_accuracy))"
      ],
      "execution_count": 29,
      "outputs": [
        {
          "output_type": "stream",
          "text": [
            "Test accuracy for random state number 0 is 88.93628571428572\n",
            "Test accuracy for random state number 1 is 88.93628571428572\n",
            "Test accuracy for random state number 2 is 88.93628571428572\n",
            "Test accuracy for random state number 3 is 88.93628571428572\n",
            "Test accuracy for random state number 4 is 88.93628571428572\n",
            "Test accuracy for random state number 5 is 88.93628571428572\n",
            "Test accuracy for random state number 6 is 88.93628571428572\n",
            "Test accuracy for random state number 7 is 88.93628571428572\n",
            "Test accuracy for random state number 8 is 88.93628571428572\n",
            "Test accuracy for random state number 9 is 88.93628571428572\n",
            "Test accuracy for random state number 10 is 88.93628571428572\n",
            "Test accuracy for random state number 11 is 88.93628571428572\n",
            "Test accuracy for random state number 12 is 88.93628571428572\n",
            "Test accuracy for random state number 13 is 88.93628571428572\n",
            "Test accuracy for random state number 14 is 88.93628571428572\n",
            "Test accuracy for random state number 15 is 88.93628571428572\n",
            "Test accuracy for random state number 16 is 88.93628571428572\n",
            "Test accuracy for random state number 17 is 88.93628571428572\n",
            "Test accuracy for random state number 18 is 88.93628571428572\n",
            "Test accuracy for random state number 19 is 88.93628571428572\n"
          ],
          "name": "stdout"
        }
      ]
    },
    {
      "cell_type": "code",
      "metadata": {
        "colab": {
          "base_uri": "https://localhost:8080/",
          "height": 334
        },
        "id": "eTzipiKwdaAT",
        "outputId": "3c2e3efd-2c7e-4b35-b662-fb073e5d7120"
      },
      "source": [
        "original_axis = list(range(0,len(rand_test_acc)))\n",
        "plt.figure(figsize=(15, 5))\n",
        "plt.plot(rand_test_acc)\n",
        "locs, labels = plt.xticks()\n",
        "plt.xticks(original_axis,rand_axes)\n",
        "plt.xlabel('Random state number')\n",
        "plt.ylabel('Test Accuracy')\n",
        "plt.show()"
      ],
      "execution_count": 30,
      "outputs": [
        {
          "output_type": "display_data",
          "data": {
            "image/png": "[encoded data removed]",
            "text/plain": [
              "<Figure size 1080x360 with 1 Axes>"
            ]
          },
          "metadata": {
            "tags": [],
            "needs_background": "light"
          }
        }
      ]
    },
    {
      "cell_type": "markdown",
      "metadata": {
        "id": "BqUFuXK53AQE"
      },
      "source": [
        "The random state number did not affect the prediction accuracy. As conclusion, we will use 11 maximum leaf nodes and random state 1 as optimum parameter setting."
      ]
    },
    {
      "cell_type": "code",
      "metadata": {
        "id": "xC_Spz5adtDu",
        "colab": {
          "base_uri": "https://localhost:8080/"
        },
        "outputId": "e3f03f38-d0c9-45c2-86f0-2fbdcf83d8e1"
      },
      "source": [
        "final_model = DecisionTreeRegressor(max_leaf_nodes=11, random_state=1)\n",
        "final_model.fit(train_features, train_labels)\n",
        "final_pred_y = final_model.predict(test_features)\n",
        "final_acc = (1 - sum(abs(final_pred_y - actual_test_trend))/len(actual_test_trend)) * 100\n",
        "final_pred_accuracy = final_acc.item()\n",
        "\n",
        "print('Test accuracy :',final_pred_accuracy)"
      ],
      "execution_count": 31,
      "outputs": [
        {
          "output_type": "stream",
          "text": [
            "Test accuracy : 88.93628571428572\n"
          ],
          "name": "stdout"
        }
      ]
    },
    {
      "cell_type": "markdown",
      "metadata": {
        "id": "AXf1R2jpWptH"
      },
      "source": [
        "#**K-Fold Cross-Validation**"
      ]
    },
    {
      "cell_type": "code",
      "metadata": {
        "colab": {
          "base_uri": "https://localhost:8080/"
        },
        "id": "Tamy2tfZRjFw",
        "outputId": "bd11c664-83ec-483b-c511-7f8ed312f2a2"
      },
      "source": [
        "from sklearn.model_selection import cross_val_score\n",
        "from sklearn.model_selection import KFold\n",
        "from sklearn.model_selection import GridSearchCV\n",
        "from sklearn.pipeline import make_pipeline\n",
        "\n",
        "score_mean = []\n",
        "score_std = []\n",
        "\n",
        "split_num = 7\n",
        "\n",
        "for i in range(2, split_num):\n",
        "  # create a KFold object with n splits \n",
        "  kf = KFold(n_splits = i, shuffle = True, random_state = 10)\n",
        "  scores = cross_val_score(final_model, train_features, train_labels, scoring='r2', cv=kf)\n",
        "  m = np.mean(scores)\n",
        "  s = np.std(scores)\n",
        "  score_mean.append(m)\n",
        "  score_std.append(s)\n",
        "  print('Number of splits: %d, Accuracy: %.3f, Standard Devidation: %.3f' % (i, m, s))"
      ],
      "execution_count": 60,
      "outputs": [
        {
          "output_type": "stream",
          "text": [
            "Number of splits: 2, Accuracy: 0.605, Standard Devidation: 0.050\n",
            "Number of splits: 3, Accuracy: 0.545, Standard Devidation: 0.115\n",
            "Number of splits: 4, Accuracy: 0.599, Standard Devidation: 0.124\n",
            "Number of splits: 5, Accuracy: 0.623, Standard Devidation: 0.215\n",
            "Number of splits: 6, Accuracy: 0.443, Standard Devidation: 0.400\n"
          ],
          "name": "stdout"
        }
      ]
    },
    {
      "cell_type": "code",
      "metadata": {
        "colab": {
          "base_uri": "https://localhost:8080/",
          "height": 282
        },
        "id": "7zrVozr4Zpta",
        "outputId": "8f9e4485-bd53-4ef9-91bb-845ec75515f0"
      },
      "source": [
        "plt.plot(score_mean)"
      ],
      "execution_count": 63,
      "outputs": [
        {
          "output_type": "execute_result",
          "data": {
            "text/plain": [
              "[<matplotlib.lines.Line2D at 0x7fd725776410>]"
            ]
          },
          "metadata": {
            "tags": []
          },
          "execution_count": 63
        },
        {
          "output_type": "display_data",
          "data": {
            "image/png": "[encoded data removed]",
            "text/plain": [
              "<Figure size 432x288 with 1 Axes>"
            ]
          },
          "metadata": {
            "tags": [],
            "needs_background": "light"
          }
        }
      ]
    },
    {
      "cell_type": "code",
      "metadata": {
        "id": "wAjzeTfEh2eK"
      },
      "source": [
        ""
      ],
      "execution_count": null,
      "outputs": []
    }
  ]
}