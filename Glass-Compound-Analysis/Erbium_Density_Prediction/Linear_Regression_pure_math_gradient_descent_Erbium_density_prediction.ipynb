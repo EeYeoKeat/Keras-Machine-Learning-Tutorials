{
  "nbformat": 4,
  "nbformat_minor": 0,
  "metadata": {
    "colab": {
      "name": "Linear_Regression_pure_math_gradient_descent-Erbium_density_prediction.ipynb",
      "provenance": [],
      "collapsed_sections": []
    },
    "kernelspec": {
      "name": "python3",
      "display_name": "Python 3"
    },
    "accelerator": "GPU"
  },
  "cells": [
    {
      "cell_type": "code",
      "metadata": {
        "id": "i_Z26cmpcXed"
      },
      "source": [
        "import numpy as np\r\n",
        "import pandas as pd\r\n",
        "import matplotlib.pyplot as plt"
      ],
      "execution_count": 1,
      "outputs": []
    },
    {
      "cell_type": "code",
      "metadata": {
        "colab": {
          "base_uri": "https://localhost:8080/"
        },
        "id": "GfBsPNS0fHls",
        "outputId": "1f36eb31-c3fe-4ddf-f6e9-aabf73b25df9"
      },
      "source": [
        "data = pd.read_csv('Molecular-data.csv')\r\n",
        "input_feature = data['Molar volume'].values.tolist()\r\n",
        "input_feature[:10]"
      ],
      "execution_count": 2,
      "outputs": [
        {
          "output_type": "execute_result",
          "data": {
            "text/plain": [
              "[26.37929429,\n",
              " 25.84796945,\n",
              " 26.51048435,\n",
              " 25.73756958,\n",
              " 25.40264153,\n",
              " 24.93196838,\n",
              " 26.61229113,\n",
              " 26.69430127,\n",
              " 26.43463899,\n",
              " 26.49528048]"
            ]
          },
          "metadata": {
            "tags": []
          },
          "execution_count": 2
        }
      ]
    },
    {
      "cell_type": "code",
      "metadata": {
        "colab": {
          "base_uri": "https://localhost:8080/"
        },
        "id": "Bl3Fh-A_ZdRi",
        "outputId": "88e2df5a-48d9-4da0-92be-13eafea128c0"
      },
      "source": [
        "true_label = data['Density'].values.tolist()\r\n",
        "true_label[:10]"
      ],
      "execution_count": 3,
      "outputs": [
        {
          "output_type": "execute_result",
          "data": {
            "text/plain": [
              "[5.254,\n",
              " 5.362,\n",
              " 5.228,\n",
              " 5.385,\n",
              " 5.456,\n",
              " 5.559,\n",
              " 5.207999999999999,\n",
              " 5.192,\n",
              " 5.242999999999999,\n",
              " 5.231]"
            ]
          },
          "metadata": {
            "tags": []
          },
          "execution_count": 3
        }
      ]
    },
    {
      "cell_type": "code",
      "metadata": {
        "colab": {
          "base_uri": "https://localhost:8080/"
        },
        "id": "WpeV7HrZI0Lr",
        "outputId": "4e42a9bb-cc6d-47b8-9c3f-f9a7e135e822"
      },
      "source": [
        "# Separate out the features and labels into training and test sets\r\n",
        "training_size = int(len(input_feature) * 0.8)\r\n",
        "\r\n",
        "training_features = input_feature[0:training_size]\r\n",
        "testing_features = input_feature[training_size:]\r\n",
        "training_labels = true_label[0:training_size]\r\n",
        "testing_labels = true_label[training_size:]\r\n",
        "\r\n",
        "print('The training features size: ', len(training_features))\r\n",
        "print('The testing features size: ', len(testing_features))\r\n",
        "print('The training labels size: ', len(training_labels))\r\n",
        "print('The testing labels size: ', len(testing_labels))"
      ],
      "execution_count": 4,
      "outputs": [
        {
          "output_type": "stream",
          "text": [
            "The training features size:  40\n",
            "The testing features size:  10\n",
            "The training labels size:  40\n",
            "The testing labels size:  10\n"
          ],
          "name": "stdout"
        }
      ]
    },
    {
      "cell_type": "code",
      "metadata": {
        "id": "H_f9TaQfc_so"
      },
      "source": [
        "# y = mx + b\r\n",
        "# m is slope, b is y-intercept\r\n",
        "def compute_error_for_line_given_points(features, label, b, m):\r\n",
        "    totalError = 0\r\n",
        "    for i in range(0, len(features)):\r\n",
        "        x = features[i]\r\n",
        "        y = label[i]\r\n",
        "        totalError += (y - (m * x + b)) ** 2\r\n",
        "    return totalError / float(len(features))\r\n",
        "\r\n",
        "def step_gradient(features, label, b_current, m_current, points, learningRate):\r\n",
        "    b_gradient = 0\r\n",
        "    m_gradient = 0\r\n",
        "    N = float(len(points))\r\n",
        "    for i in range(0, len(points)):\r\n",
        "        x = features[i]\r\n",
        "        y = label[i]\r\n",
        "        # Using power rule to do partial derivative.\r\n",
        "        b_gradient += -(2/N) * (y - ((m_current * x) + b_current))\r\n",
        "        m_gradient += -(2/N) * x * (y - ((m_current * x) + b_current))\r\n",
        "    new_b = b_current - (learningRate * b_gradient)\r\n",
        "    new_m = m_current - (learningRate * m_gradient)\r\n",
        "    return [new_b, new_m]\r\n",
        "\r\n",
        "def gradient_descent_runner(points, label, starting_b, starting_m, learning_rate, num_iterations):\r\n",
        "    b = starting_b\r\n",
        "    m = starting_m\r\n",
        "    for i in range(num_iterations):\r\n",
        "        b, m = step_gradient(points, label, b, m, np.array(points), learning_rate)\r\n",
        "    return [b, m]\r\n",
        "\r\n",
        "def run(input_data, input_label, num_epoch):\r\n",
        "    points = input_data\r\n",
        "    label = input_label\r\n",
        "    learning_rate = 0.001\r\n",
        "    initial_b = 0 # initial y-intercept guess\r\n",
        "    initial_m = 0 # initial slope guess\r\n",
        "    num_iterations = num_epoch\r\n",
        "    print (\"Starting gradient descent at b = {0}, m = {1}, error = {2}\".format(initial_b, initial_m, compute_error_for_line_given_points(points, label, initial_b, initial_m)))\r\n",
        "    print (\"Running...\")\r\n",
        "    [b, m] = gradient_descent_runner(points,label, initial_b, initial_m, learning_rate, num_iterations)\r\n",
        "    print (\"After {0} iterations b = {1}, m = {2}, error = {3}\".format(num_iterations, b, m, compute_error_for_line_given_points(points, label, b, m)))\r\n",
        "\r\n",
        "    return m, b"
      ],
      "execution_count": 13,
      "outputs": []
    },
    {
      "cell_type": "code",
      "metadata": {
        "colab": {
          "base_uri": "https://localhost:8080/"
        },
        "id": "X8W87RRufa1k",
        "outputId": "6e760805-b9cd-48e5-c058-3c991799db84"
      },
      "source": [
        "weights,bias = run(training_features, training_labels, 1000000)"
      ],
      "execution_count": 14,
      "outputs": [
        {
          "output_type": "stream",
          "text": [
            "Starting gradient descent at b = 0, m = 0, error = 28.8106292\n",
            "Running...\n",
            "After 1000000 iterations b = 10.137443283384231, m = -0.17952800569292804, error = 0.012041651559490921\n"
          ],
          "name": "stdout"
        }
      ]
    },
    {
      "cell_type": "code",
      "metadata": {
        "colab": {
          "base_uri": "https://localhost:8080/"
        },
        "id": "lrPpdzadfdw8",
        "outputId": "d979e1f7-2d51-438d-e17e-46981f872f67"
      },
      "source": [
        "print('the m is: ',weights)\r\n",
        "print('the b is:', bias)"
      ],
      "execution_count": 15,
      "outputs": [
        {
          "output_type": "stream",
          "text": [
            "the m is:  -0.17952800569292804\n",
            "the b is: 10.137443283384231\n"
          ],
          "name": "stdout"
        }
      ]
    },
    {
      "cell_type": "code",
      "metadata": {
        "colab": {
          "base_uri": "https://localhost:8080/"
        },
        "id": "VayRA_XPf8Vo",
        "outputId": "ee6b1047-6910-4c62-d76f-de7624e15afa"
      },
      "source": [
        "predict_y = np.dot(input_feature, weights) + bias\r\n",
        "predict_y"
      ],
      "execution_count": 16,
      "outputs": [
        {
          "output_type": "execute_result",
          "data": {
            "text/plain": [
              "array([5.40162119, 5.49700888, 5.3780689 , 5.51682875, 5.57695771,\n",
              "       5.66145672, 5.35979173, 5.34506861, 5.39168526, 5.38079842,\n",
              "       5.58270656, 5.64571995, 5.48650918, 4.642903  , 5.55302327,\n",
              "       5.72861038, 4.98288677, 5.33935003, 5.47623655, 5.22200536,\n",
              "       5.3930752 , 5.41827423, 5.41481442, 5.44235162, 5.30317254,\n",
              "       5.49145283, 5.33112673, 5.30951316, 5.39656692, 5.01688226,\n",
              "       5.33726198, 4.91860817, 5.36262274, 5.16420041, 6.04803933,\n",
              "       5.16985611, 5.22755382, 5.28931344, 4.78539306, 5.42952341,\n",
              "       5.46750867, 5.16239814, 5.27317666, 5.59795822, 5.09938717,\n",
              "       5.15961048, 5.06100198, 5.44200339, 5.15775031, 5.33020721])"
            ]
          },
          "metadata": {
            "tags": []
          },
          "execution_count": 16
        }
      ]
    },
    {
      "cell_type": "code",
      "metadata": {
        "colab": {
          "base_uri": "https://localhost:8080/",
          "height": 296
        },
        "id": "V438NJR5pAEn",
        "outputId": "17cd1307-43e1-4620-bcf1-377698b807e7"
      },
      "source": [
        "plt.plot(predict_y, color='orange', label='Prediction')\r\n",
        "plt.plot(true_label, label='Actual')\r\n",
        "plt.xlabel('Molar volume')\r\n",
        "plt.ylabel('Density')\r\n",
        "plt.legend()"
      ],
      "execution_count": 17,
      "outputs": [
        {
          "output_type": "execute_result",
          "data": {
            "text/plain": [
              "<matplotlib.legend.Legend at 0x7f2b73e5b9e8>"
            ]
          },
          "metadata": {
            "tags": []
          },
          "execution_count": 17
        },
        {
          "output_type": "display_data",
          "data": {
            "image/png": "[encoded data removed]",
            "text/plain": [
              "<Figure size 432x288 with 1 Axes>"
            ]
          },
          "metadata": {
            "tags": [],
            "needs_background": "light"
          }
        }
      ]
    },
    {
      "cell_type": "code",
      "metadata": {
        "id": "6ApslPldqjuF"
      },
      "source": [
        "def plot_density(x, y):\r\n",
        "  plt.scatter(input_feature, true_label, label='Data')\r\n",
        "  plt.plot(x, y, color='k', label='Predictions')\r\n",
        "  plt.xlabel('Molar volume')\r\n",
        "  plt.ylabel('Density')\r\n",
        "  plt.legend()"
      ],
      "execution_count": 18,
      "outputs": []
    },
    {
      "cell_type": "code",
      "metadata": {
        "colab": {
          "base_uri": "https://localhost:8080/",
          "height": 279
        },
        "id": "LbsBxIb2gqnU",
        "outputId": "3152833d-54dd-44d3-94ff-0aaea46dc89c"
      },
      "source": [
        "plot_density(input_feature,predict_y)"
      ],
      "execution_count": 19,
      "outputs": [
        {
          "output_type": "display_data",
          "data": {
            "image/png": "[encoded data removed]",
            "text/plain": [
              "<Figure size 432x288 with 1 Axes>"
            ]
          },
          "metadata": {
            "tags": [],
            "needs_background": "light"
          }
        }
      ]
    },
    {
      "cell_type": "code",
      "metadata": {
        "id": "pGd2obaUd2Cc",
        "colab": {
          "base_uri": "https://localhost:8080/"
        },
        "outputId": "03e25a9e-25ad-40fd-a4b5-3b9b5fb77f74"
      },
      "source": [
        "predict_test = np.dot(testing_features, weights) + bias\r\n",
        "predict_test"
      ],
      "execution_count": 20,
      "outputs": [
        {
          "output_type": "execute_result",
          "data": {
            "text/plain": [
              "array([5.46750867, 5.16239814, 5.27317666, 5.59795822, 5.09938717,\n",
              "       5.15961048, 5.06100198, 5.44200339, 5.15775031, 5.33020721])"
            ]
          },
          "metadata": {
            "tags": []
          },
          "execution_count": 20
        }
      ]
    },
    {
      "cell_type": "code",
      "metadata": {
        "id": "NDI8bPCPhAmN",
        "colab": {
          "base_uri": "https://localhost:8080/",
          "height": 298
        },
        "outputId": "458bfbb9-6fb4-4854-e593-98798af8e87c"
      },
      "source": [
        "actual_test_trend=testing_labels\r\n",
        "plt.plot(predict_test, color='cyan', label='Prediction')\r\n",
        "plt.plot(actual_test_trend, label='Actual')\r\n",
        "plt.xlabel('Molar volume')\r\n",
        "plt.ylabel('Density')\r\n",
        "plt.legend()"
      ],
      "execution_count": 22,
      "outputs": [
        {
          "output_type": "execute_result",
          "data": {
            "text/plain": [
              "<matplotlib.legend.Legend at 0x7f2b73e21ef0>"
            ]
          },
          "metadata": {
            "tags": []
          },
          "execution_count": 22
        },
        {
          "output_type": "display_data",
          "data": {
            "image/png": "[encoded data removed]",
            "text/plain": [
              "<Figure size 432x288 with 1 Axes>"
            ]
          },
          "metadata": {
            "tags": [],
            "needs_background": "light"
          }
        }
      ]
    },
    {
      "cell_type": "code",
      "metadata": {
        "id": "-cSzogwrdu3a",
        "colab": {
          "base_uri": "https://localhost:8080/"
        },
        "outputId": "d9ff1b8d-ce22-4d74-c605-3c9ed657afd2"
      },
      "source": [
        "differences = (1 - sum(abs(predict_test - actual_test_trend))/len(actual_test_trend)) * 100\r\n",
        "pred_accuracy = differences.item()\r\n",
        "pred_accuracy"
      ],
      "execution_count": 25,
      "outputs": [
        {
          "output_type": "execute_result",
          "data": {
            "text/plain": [
              "78.7100224604288"
            ]
          },
          "metadata": {
            "tags": []
          },
          "execution_count": 25
        }
      ]
    },
    {
      "cell_type": "code",
      "metadata": {
        "id": "RfU70bMcUgn_"
      },
      "source": [
        ""
      ],
      "execution_count": null,
      "outputs": []
    }
  ]
}