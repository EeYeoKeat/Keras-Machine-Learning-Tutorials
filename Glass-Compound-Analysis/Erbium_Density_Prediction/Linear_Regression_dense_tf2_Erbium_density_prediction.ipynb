{
  "nbformat": 4,
  "nbformat_minor": 0,
  "metadata": {
    "colab": {
      "name": "Linear_Regression_dense_tf2-Erbium_density_prediction.ipynb",
      "provenance": [],
      "collapsed_sections": []
    },
    "kernelspec": {
      "name": "python3",
      "display_name": "Python 3"
    },
    "accelerator": "GPU"
  },
  "cells": [
    {
      "cell_type": "code",
      "metadata": {
        "id": "zWVs3LCQRO_W"
      },
      "source": [
        "import pandas as pd\r\n",
        "import numpy as np\r\n",
        "import matplotlib.pyplot as plt\r\n",
        "import seaborn as sns\r\n",
        "import tensorflow as tf\r\n",
        "import time\r\n",
        "\r\n",
        "from tensorflow import keras\r\n",
        "from tensorflow.keras import layers\r\n",
        "from tensorflow.keras.layers.experimental import preprocessing"
      ],
      "execution_count": null,
      "outputs": []
    },
    {
      "cell_type": "code",
      "metadata": {
        "colab": {
          "base_uri": "https://localhost:8080/",
          "height": 359
        },
        "id": "DGQSwBCQR5a4",
        "outputId": "67f46759-4ce5-477a-ba4c-fcc92f7b30fe"
      },
      "source": [
        "data = pd.read_csv('Molecular-data.csv')\r\n",
        "data[:10]"
      ],
      "execution_count": null,
      "outputs": [
        {
          "output_type": "execute_result",
          "data": {
            "text/html": [
              "<div>\n",
              "<style scoped>\n",
              "    .dataframe tbody tr th:only-of-type {\n",
              "        vertical-align: middle;\n",
              "    }\n",
              "\n",
              "    .dataframe tbody tr th {\n",
              "        vertical-align: top;\n",
              "    }\n",
              "\n",
              "    .dataframe thead th {\n",
              "        text-align: right;\n",
              "    }\n",
              "</style>\n",
              "<table border=\"1\" class=\"dataframe\">\n",
              "  <thead>\n",
              "    <tr style=\"text-align: right;\">\n",
              "      <th></th>\n",
              "      <th>Molar volume</th>\n",
              "      <th>Density</th>\n",
              "    </tr>\n",
              "  </thead>\n",
              "  <tbody>\n",
              "    <tr>\n",
              "      <th>0</th>\n",
              "      <td>26.379294</td>\n",
              "      <td>5.254</td>\n",
              "    </tr>\n",
              "    <tr>\n",
              "      <th>1</th>\n",
              "      <td>25.847969</td>\n",
              "      <td>5.362</td>\n",
              "    </tr>\n",
              "    <tr>\n",
              "      <th>2</th>\n",
              "      <td>26.510484</td>\n",
              "      <td>5.228</td>\n",
              "    </tr>\n",
              "    <tr>\n",
              "      <th>3</th>\n",
              "      <td>25.737570</td>\n",
              "      <td>5.385</td>\n",
              "    </tr>\n",
              "    <tr>\n",
              "      <th>4</th>\n",
              "      <td>25.402642</td>\n",
              "      <td>5.456</td>\n",
              "    </tr>\n",
              "    <tr>\n",
              "      <th>5</th>\n",
              "      <td>24.931968</td>\n",
              "      <td>5.559</td>\n",
              "    </tr>\n",
              "    <tr>\n",
              "      <th>6</th>\n",
              "      <td>26.612291</td>\n",
              "      <td>5.208</td>\n",
              "    </tr>\n",
              "    <tr>\n",
              "      <th>7</th>\n",
              "      <td>26.694301</td>\n",
              "      <td>5.192</td>\n",
              "    </tr>\n",
              "    <tr>\n",
              "      <th>8</th>\n",
              "      <td>26.434639</td>\n",
              "      <td>5.243</td>\n",
              "    </tr>\n",
              "    <tr>\n",
              "      <th>9</th>\n",
              "      <td>26.495280</td>\n",
              "      <td>5.231</td>\n",
              "    </tr>\n",
              "  </tbody>\n",
              "</table>\n",
              "</div>"
            ],
            "text/plain": [
              "   Molar volume  Density\n",
              "0     26.379294    5.254\n",
              "1     25.847969    5.362\n",
              "2     26.510484    5.228\n",
              "3     25.737570    5.385\n",
              "4     25.402642    5.456\n",
              "5     24.931968    5.559\n",
              "6     26.612291    5.208\n",
              "7     26.694301    5.192\n",
              "8     26.434639    5.243\n",
              "9     26.495280    5.231"
            ]
          },
          "metadata": {
            "tags": []
          },
          "execution_count": 2
        }
      ]
    },
    {
      "cell_type": "code",
      "metadata": {
        "colab": {
          "base_uri": "https://localhost:8080/",
          "height": 359
        },
        "id": "a4XYsPYpSRfw",
        "outputId": "fefac3b2-fd03-434e-df12-305e72d1af02"
      },
      "source": [
        "train_dataset = data.sample(frac=0.8, random_state=0)\r\n",
        "test_dataset = data.drop(train_dataset.index)\r\n",
        "train_dataset[:10]"
      ],
      "execution_count": null,
      "outputs": [
        {
          "output_type": "execute_result",
          "data": {
            "text/html": [
              "<div>\n",
              "<style scoped>\n",
              "    .dataframe tbody tr th:only-of-type {\n",
              "        vertical-align: middle;\n",
              "    }\n",
              "\n",
              "    .dataframe tbody tr th {\n",
              "        vertical-align: top;\n",
              "    }\n",
              "\n",
              "    .dataframe thead th {\n",
              "        text-align: right;\n",
              "    }\n",
              "</style>\n",
              "<table border=\"1\" class=\"dataframe\">\n",
              "  <thead>\n",
              "    <tr style=\"text-align: right;\">\n",
              "      <th></th>\n",
              "      <th>Molar volume</th>\n",
              "      <th>Density</th>\n",
              "    </tr>\n",
              "  </thead>\n",
              "  <tbody>\n",
              "    <tr>\n",
              "      <th>28</th>\n",
              "      <td>26.407447</td>\n",
              "      <td>5.435</td>\n",
              "    </tr>\n",
              "    <tr>\n",
              "      <th>11</th>\n",
              "      <td>25.019625</td>\n",
              "      <td>5.638</td>\n",
              "    </tr>\n",
              "    <tr>\n",
              "      <th>10</th>\n",
              "      <td>25.370620</td>\n",
              "      <td>5.560</td>\n",
              "    </tr>\n",
              "    <tr>\n",
              "      <th>41</th>\n",
              "      <td>27.711805</td>\n",
              "      <td>5.357</td>\n",
              "    </tr>\n",
              "    <tr>\n",
              "      <th>2</th>\n",
              "      <td>26.510484</td>\n",
              "      <td>5.228</td>\n",
              "    </tr>\n",
              "    <tr>\n",
              "      <th>27</th>\n",
              "      <td>26.892351</td>\n",
              "      <td>5.337</td>\n",
              "    </tr>\n",
              "    <tr>\n",
              "      <th>38</th>\n",
              "      <td>29.811785</td>\n",
              "      <td>4.897</td>\n",
              "    </tr>\n",
              "    <tr>\n",
              "      <th>31</th>\n",
              "      <td>29.069755</td>\n",
              "      <td>5.022</td>\n",
              "    </tr>\n",
              "    <tr>\n",
              "      <th>22</th>\n",
              "      <td>26.305806</td>\n",
              "      <td>5.456</td>\n",
              "    </tr>\n",
              "    <tr>\n",
              "      <th>4</th>\n",
              "      <td>25.402642</td>\n",
              "      <td>5.456</td>\n",
              "    </tr>\n",
              "  </tbody>\n",
              "</table>\n",
              "</div>"
            ],
            "text/plain": [
              "    Molar volume  Density\n",
              "28     26.407447    5.435\n",
              "11     25.019625    5.638\n",
              "10     25.370620    5.560\n",
              "41     27.711805    5.357\n",
              "2      26.510484    5.228\n",
              "27     26.892351    5.337\n",
              "38     29.811785    4.897\n",
              "31     29.069755    5.022\n",
              "22     26.305806    5.456\n",
              "4      25.402642    5.456"
            ]
          },
          "metadata": {
            "tags": []
          },
          "execution_count": 3
        }
      ]
    },
    {
      "cell_type": "code",
      "metadata": {
        "colab": {
          "base_uri": "https://localhost:8080/",
          "height": 391
        },
        "id": "oBKxqmZ2Somr",
        "outputId": "bea85965-833a-4110-d28d-60875ab7ca08"
      },
      "source": [
        "sns.pairplot(train_dataset[['Molar volume', 'Density']], diag_kind='hist')"
      ],
      "execution_count": null,
      "outputs": [
        {
          "output_type": "execute_result",
          "data": {
            "text/plain": [
              "<seaborn.axisgrid.PairGrid at 0x7fdc701cfe10>"
            ]
          },
          "metadata": {
            "tags": []
          },
          "execution_count": 4
        },
        {
          "output_type": "display_data",
          "data": {
            "image/png": "[encoded data removed]",
            "text/plain": [
              "<Figure size 360x360 with 6 Axes>"
            ]
          },
          "metadata": {
            "tags": [],
            "needs_background": "light"
          }
        }
      ]
    },
    {
      "cell_type": "code",
      "metadata": {
        "colab": {
          "base_uri": "https://localhost:8080/",
          "height": 296
        },
        "id": "iv7Ke9pVBcjO",
        "outputId": "1961ec6d-e6cb-43b0-fb81-bca966ecbf09"
      },
      "source": [
        "sns.boxplot(x=train_dataset['Molar volume'])"
      ],
      "execution_count": null,
      "outputs": [
        {
          "output_type": "execute_result",
          "data": {
            "text/plain": [
              "<matplotlib.axes._subplots.AxesSubplot at 0x7fdc3e419320>"
            ]
          },
          "metadata": {
            "tags": []
          },
          "execution_count": 5
        },
        {
          "output_type": "display_data",
          "data": {
            "image/png": "[encoded data removed]",
            "text/plain": [
              "<Figure size 432x288 with 1 Axes>"
            ]
          },
          "metadata": {
            "tags": [],
            "needs_background": "light"
          }
        }
      ]
    },
    {
      "cell_type": "code",
      "metadata": {
        "colab": {
          "base_uri": "https://localhost:8080/",
          "height": 111
        },
        "id": "pmt48HGMS0FD",
        "outputId": "ae8e42af-8b4e-40e9-9e5e-1f700b86cc6f"
      },
      "source": [
        "train_dataset.describe().transpose()"
      ],
      "execution_count": null,
      "outputs": [
        {
          "output_type": "execute_result",
          "data": {
            "text/html": [
              "<div>\n",
              "<style scoped>\n",
              "    .dataframe tbody tr th:only-of-type {\n",
              "        vertical-align: middle;\n",
              "    }\n",
              "\n",
              "    .dataframe tbody tr th {\n",
              "        vertical-align: top;\n",
              "    }\n",
              "\n",
              "    .dataframe thead th {\n",
              "        text-align: right;\n",
              "    }\n",
              "</style>\n",
              "<table border=\"1\" class=\"dataframe\">\n",
              "  <thead>\n",
              "    <tr style=\"text-align: right;\">\n",
              "      <th></th>\n",
              "      <th>count</th>\n",
              "      <th>mean</th>\n",
              "      <th>std</th>\n",
              "      <th>min</th>\n",
              "      <th>25%</th>\n",
              "      <th>50%</th>\n",
              "      <th>75%</th>\n",
              "      <th>max</th>\n",
              "    </tr>\n",
              "  </thead>\n",
              "  <tbody>\n",
              "    <tr>\n",
              "      <th>Molar volume</th>\n",
              "      <td>40.0</td>\n",
              "      <td>26.670893</td>\n",
              "      <td>1.430829</td>\n",
              "      <td>22.778641</td>\n",
              "      <td>25.89957</td>\n",
              "      <td>26.604407</td>\n",
              "      <td>27.238629</td>\n",
              "      <td>30.605477</td>\n",
              "    </tr>\n",
              "    <tr>\n",
              "      <th>Density</th>\n",
              "      <td>40.0</td>\n",
              "      <td>5.392525</td>\n",
              "      <td>0.288503</td>\n",
              "      <td>4.609000</td>\n",
              "      <td>5.27450</td>\n",
              "      <td>5.418500</td>\n",
              "      <td>5.497750</td>\n",
              "      <td>6.409000</td>\n",
              "    </tr>\n",
              "  </tbody>\n",
              "</table>\n",
              "</div>"
            ],
            "text/plain": [
              "              count       mean       std  ...        50%        75%        max\n",
              "Molar volume   40.0  26.670893  1.430829  ...  26.604407  27.238629  30.605477\n",
              "Density        40.0   5.392525  0.288503  ...   5.418500   5.497750   6.409000\n",
              "\n",
              "[2 rows x 8 columns]"
            ]
          },
          "metadata": {
            "tags": []
          },
          "execution_count": 6
        }
      ]
    },
    {
      "cell_type": "code",
      "metadata": {
        "id": "MbyqTeyDTFuz"
      },
      "source": [
        "# Collect input feature for training, molar volume value in this case\r\n",
        "train_features = train_dataset.copy() #dataframe type\r\n",
        "test_features = test_dataset.copy()\r\n",
        "\r\n",
        "# Collect respective label, density value in this case\r\n",
        "train_labels = train_features.pop('Density') # series type\r\n",
        "test_labels = test_features.pop('Density')"
      ],
      "execution_count": null,
      "outputs": []
    },
    {
      "cell_type": "code",
      "metadata": {
        "colab": {
          "base_uri": "https://localhost:8080/",
          "height": 359
        },
        "id": "o9MH8YfvMvEJ",
        "outputId": "7b1786e1-7c29-4c4e-fbd2-fb3e2676ca27"
      },
      "source": [
        "train_features[:10]"
      ],
      "execution_count": null,
      "outputs": [
        {
          "output_type": "execute_result",
          "data": {
            "text/html": [
              "<div>\n",
              "<style scoped>\n",
              "    .dataframe tbody tr th:only-of-type {\n",
              "        vertical-align: middle;\n",
              "    }\n",
              "\n",
              "    .dataframe tbody tr th {\n",
              "        vertical-align: top;\n",
              "    }\n",
              "\n",
              "    .dataframe thead th {\n",
              "        text-align: right;\n",
              "    }\n",
              "</style>\n",
              "<table border=\"1\" class=\"dataframe\">\n",
              "  <thead>\n",
              "    <tr style=\"text-align: right;\">\n",
              "      <th></th>\n",
              "      <th>Molar volume</th>\n",
              "    </tr>\n",
              "  </thead>\n",
              "  <tbody>\n",
              "    <tr>\n",
              "      <th>28</th>\n",
              "      <td>26.407447</td>\n",
              "    </tr>\n",
              "    <tr>\n",
              "      <th>11</th>\n",
              "      <td>25.019625</td>\n",
              "    </tr>\n",
              "    <tr>\n",
              "      <th>10</th>\n",
              "      <td>25.370620</td>\n",
              "    </tr>\n",
              "    <tr>\n",
              "      <th>41</th>\n",
              "      <td>27.711805</td>\n",
              "    </tr>\n",
              "    <tr>\n",
              "      <th>2</th>\n",
              "      <td>26.510484</td>\n",
              "    </tr>\n",
              "    <tr>\n",
              "      <th>27</th>\n",
              "      <td>26.892351</td>\n",
              "    </tr>\n",
              "    <tr>\n",
              "      <th>38</th>\n",
              "      <td>29.811785</td>\n",
              "    </tr>\n",
              "    <tr>\n",
              "      <th>31</th>\n",
              "      <td>29.069755</td>\n",
              "    </tr>\n",
              "    <tr>\n",
              "      <th>22</th>\n",
              "      <td>26.305806</td>\n",
              "    </tr>\n",
              "    <tr>\n",
              "      <th>4</th>\n",
              "      <td>25.402642</td>\n",
              "    </tr>\n",
              "  </tbody>\n",
              "</table>\n",
              "</div>"
            ],
            "text/plain": [
              "    Molar volume\n",
              "28     26.407447\n",
              "11     25.019625\n",
              "10     25.370620\n",
              "41     27.711805\n",
              "2      26.510484\n",
              "27     26.892351\n",
              "38     29.811785\n",
              "31     29.069755\n",
              "22     26.305806\n",
              "4      25.402642"
            ]
          },
          "metadata": {
            "tags": []
          },
          "execution_count": 8
        }
      ]
    },
    {
      "cell_type": "code",
      "metadata": {
        "colab": {
          "base_uri": "https://localhost:8080/"
        },
        "id": "1dFBVhdcB1wy",
        "outputId": "a06c5eab-e755-4e0c-8d23-205fb5fb55c2"
      },
      "source": [
        "# respective label\r\n",
        "train_labels[:10]"
      ],
      "execution_count": null,
      "outputs": [
        {
          "output_type": "execute_result",
          "data": {
            "text/plain": [
              "28    5.435\n",
              "11    5.638\n",
              "10    5.560\n",
              "41    5.357\n",
              "2     5.228\n",
              "27    5.337\n",
              "38    4.897\n",
              "31    5.022\n",
              "22    5.456\n",
              "4     5.456\n",
              "Name: Density, dtype: float64"
            ]
          },
          "metadata": {
            "tags": []
          },
          "execution_count": 9
        }
      ]
    },
    {
      "cell_type": "code",
      "metadata": {
        "colab": {
          "base_uri": "https://localhost:8080/"
        },
        "id": "EWrEBeELIL_E",
        "outputId": "e5ade62d-bc09-4b51-94ad-c76e6f6af906"
      },
      "source": [
        "normalizer = preprocessing.Normalization()\r\n",
        "normalizer.adapt(np.array(train_features))\r\n",
        "print(normalizer.mean.numpy())"
      ],
      "execution_count": null,
      "outputs": [
        {
          "output_type": "stream",
          "text": [
            "[26.670893]\n"
          ],
          "name": "stdout"
        }
      ]
    },
    {
      "cell_type": "code",
      "metadata": {
        "colab": {
          "base_uri": "https://localhost:8080/"
        },
        "id": "JVkdxmV1IfGL",
        "outputId": "2f08f0d1-c499-4196-b909-ffdb03d11085"
      },
      "source": [
        "raw = np.array(train_features[:10])\r\n",
        "\r\n",
        "with np.printoptions(precision=4, suppress=True):\r\n",
        "  print('Before normalize:', raw)\r\n",
        "  print()\r\n",
        "  print('Normalized:', normalizer(raw).numpy())"
      ],
      "execution_count": null,
      "outputs": [
        {
          "output_type": "stream",
          "text": [
            "Before normalize: [[26.4074]\n",
            " [25.0196]\n",
            " [25.3706]\n",
            " [27.7118]\n",
            " [26.5105]\n",
            " [26.8924]\n",
            " [29.8118]\n",
            " [29.0698]\n",
            " [26.3058]\n",
            " [25.4026]]\n",
            "\n",
            "Normalized: [[-0.1865]\n",
            " [-1.1688]\n",
            " [-0.9203]\n",
            " [ 0.7368]\n",
            " [-0.1135]\n",
            " [ 0.1567]\n",
            " [ 2.2231]\n",
            " [ 1.6979]\n",
            " [-0.2584]\n",
            " [-0.8977]]\n"
          ],
          "name": "stdout"
        }
      ]
    },
    {
      "cell_type": "code",
      "metadata": {
        "id": "t2DdqTYfImgD"
      },
      "source": [
        "molar_volume = np.array(train_features['Molar volume'])\r\n",
        "\r\n",
        "molar_volume_normalizer = preprocessing.Normalization(input_shape=[1,])\r\n",
        "molar_volume_normalizer.adapt(molar_volume)"
      ],
      "execution_count": null,
      "outputs": []
    },
    {
      "cell_type": "code",
      "metadata": {
        "colab": {
          "base_uri": "https://localhost:8080/"
        },
        "id": "pz-xeTwOTREH",
        "outputId": "1520f961-e3ee-442e-b422-f2488ebe1d20"
      },
      "source": [
        "basic_model = tf.keras.Sequential([\r\n",
        "    molar_volume_normalizer,\r\n",
        "    layers.Dense(units=1)\r\n",
        "])\r\n",
        "\r\n",
        "basic_model.summary()"
      ],
      "execution_count": null,
      "outputs": [
        {
          "output_type": "stream",
          "text": [
            "Model: \"sequential\"\n",
            "_________________________________________________________________\n",
            "Layer (type)                 Output Shape              Param #   \n",
            "=================================================================\n",
            "normalization_1 (Normalizati (None, 1)                 3         \n",
            "_________________________________________________________________\n",
            "dense (Dense)                (None, 1)                 2         \n",
            "=================================================================\n",
            "Total params: 5\n",
            "Trainable params: 2\n",
            "Non-trainable params: 3\n",
            "_________________________________________________________________\n"
          ],
          "name": "stdout"
        }
      ]
    },
    {
      "cell_type": "code",
      "metadata": {
        "id": "K_7aQrmjUTPu"
      },
      "source": [
        "basic_model.compile(\r\n",
        "    optimizer=tf.optimizers.Adam(learning_rate=0.1),\r\n",
        "    loss='mean_absolute_error')"
      ],
      "execution_count": null,
      "outputs": []
    },
    {
      "cell_type": "code",
      "metadata": {
        "colab": {
          "base_uri": "https://localhost:8080/"
        },
        "id": "ruP1HAJTLmeD",
        "outputId": "c2797545-7c5c-426d-8e97-5f5baa6cc7a3"
      },
      "source": [
        "# check the weights and bias\r\n",
        "basic_model.get_weights()[-2:]"
      ],
      "execution_count": null,
      "outputs": [
        {
          "output_type": "execute_result",
          "data": {
            "text/plain": [
              "[array([[1.4880306]], dtype=float32), array([0.], dtype=float32)]"
            ]
          },
          "metadata": {
            "tags": []
          },
          "execution_count": 15
        }
      ]
    },
    {
      "cell_type": "code",
      "metadata": {
        "colab": {
          "base_uri": "https://localhost:8080/"
        },
        "id": "8U7fNQ9WUauH",
        "outputId": "4c6a7fbe-45fe-47f5-cff8-8813dfd0db45"
      },
      "source": [
        "history = basic_model.fit(\r\n",
        "    train_features['Molar volume'], train_labels,\r\n",
        "    epochs=100,\r\n",
        "    verbose=1,\r\n",
        "    # Calculate validation results on 20% of the training data\r\n",
        "    validation_split = 0.2)"
      ],
      "execution_count": null,
      "outputs": [
        {
          "output_type": "stream",
          "text": [
            "Epoch 1/100\n",
            "1/1 [==============================] - 2s 2s/step - loss: 5.3116 - val_loss: 5.6350\n",
            "Epoch 2/100\n",
            "1/1 [==============================] - 0s 132ms/step - loss: 5.2069 - val_loss: 5.5538\n",
            "Epoch 3/100\n",
            "1/1 [==============================] - 0s 28ms/step - loss: 5.1205 - val_loss: 5.4501\n",
            "Epoch 4/100\n",
            "1/1 [==============================] - 0s 28ms/step - loss: 5.0243 - val_loss: 5.3409\n",
            "Epoch 5/100\n",
            "1/1 [==============================] - 0s 29ms/step - loss: 4.9244 - val_loss: 5.2289\n",
            "Epoch 6/100\n",
            "1/1 [==============================] - 0s 28ms/step - loss: 4.8227 - val_loss: 5.1152\n",
            "Epoch 7/100\n",
            "1/1 [==============================] - 0s 26ms/step - loss: 4.7198 - val_loss: 5.0004\n",
            "Epoch 8/100\n",
            "1/1 [==============================] - 0s 28ms/step - loss: 4.6182 - val_loss: 4.8888\n",
            "Epoch 9/100\n",
            "1/1 [==============================] - 0s 31ms/step - loss: 4.5213 - val_loss: 4.7798\n",
            "Epoch 10/100\n",
            "1/1 [==============================] - 0s 28ms/step - loss: 4.4235 - val_loss: 4.6732\n",
            "Epoch 11/100\n",
            "1/1 [==============================] - 0s 30ms/step - loss: 4.3249 - val_loss: 4.5685\n",
            "Epoch 12/100\n",
            "1/1 [==============================] - 0s 32ms/step - loss: 4.2256 - val_loss: 4.4656\n",
            "Epoch 13/100\n",
            "1/1 [==============================] - 0s 30ms/step - loss: 4.1258 - val_loss: 4.3643\n",
            "Epoch 14/100\n",
            "1/1 [==============================] - 0s 27ms/step - loss: 4.0289 - val_loss: 4.2599\n",
            "Epoch 15/100\n",
            "1/1 [==============================] - 0s 29ms/step - loss: 3.9322 - val_loss: 4.1533\n",
            "Epoch 16/100\n",
            "1/1 [==============================] - 0s 29ms/step - loss: 3.8339 - val_loss: 4.0447\n",
            "Epoch 17/100\n",
            "1/1 [==============================] - 0s 28ms/step - loss: 3.7345 - val_loss: 3.9346\n",
            "Epoch 18/100\n",
            "1/1 [==============================] - 0s 35ms/step - loss: 3.6340 - val_loss: 3.8232\n",
            "Epoch 19/100\n",
            "1/1 [==============================] - 0s 30ms/step - loss: 3.5369 - val_loss: 3.7138\n",
            "Epoch 20/100\n",
            "1/1 [==============================] - 0s 37ms/step - loss: 3.4396 - val_loss: 3.6061\n",
            "Epoch 21/100\n",
            "1/1 [==============================] - 0s 33ms/step - loss: 3.3415 - val_loss: 3.5000\n",
            "Epoch 22/100\n",
            "1/1 [==============================] - 0s 32ms/step - loss: 3.2428 - val_loss: 3.3953\n",
            "Epoch 23/100\n",
            "1/1 [==============================] - 0s 29ms/step - loss: 3.1436 - val_loss: 3.2920\n",
            "Epoch 24/100\n",
            "1/1 [==============================] - 0s 28ms/step - loss: 3.0438 - val_loss: 3.1899\n",
            "Epoch 25/100\n",
            "1/1 [==============================] - 0s 31ms/step - loss: 2.9474 - val_loss: 3.0855\n",
            "Epoch 26/100\n",
            "1/1 [==============================] - 0s 31ms/step - loss: 2.8506 - val_loss: 2.9791\n",
            "Epoch 27/100\n",
            "1/1 [==============================] - 0s 29ms/step - loss: 2.7525 - val_loss: 2.8711\n",
            "Epoch 28/100\n",
            "1/1 [==============================] - 0s 33ms/step - loss: 2.6534 - val_loss: 2.7616\n",
            "Epoch 29/100\n",
            "1/1 [==============================] - 0s 30ms/step - loss: 2.5533 - val_loss: 2.6508\n",
            "Epoch 30/100\n",
            "1/1 [==============================] - 0s 29ms/step - loss: 2.4545 - val_loss: 2.5418\n",
            "Epoch 31/100\n",
            "1/1 [==============================] - 0s 31ms/step - loss: 2.3572 - val_loss: 2.4344\n",
            "Epoch 32/100\n",
            "1/1 [==============================] - 0s 40ms/step - loss: 2.2591 - val_loss: 2.3284\n",
            "Epoch 33/100\n",
            "1/1 [==============================] - 0s 29ms/step - loss: 2.1604 - val_loss: 2.2238\n",
            "Epoch 34/100\n",
            "1/1 [==============================] - 0s 34ms/step - loss: 2.0612 - val_loss: 2.1203\n",
            "Epoch 35/100\n",
            "1/1 [==============================] - 0s 29ms/step - loss: 1.9630 - val_loss: 2.0149\n",
            "Epoch 36/100\n",
            "1/1 [==============================] - 0s 28ms/step - loss: 1.8655 - val_loss: 1.9078\n",
            "Epoch 37/100\n",
            "1/1 [==============================] - 0s 27ms/step - loss: 1.7670 - val_loss: 1.7991\n",
            "Epoch 38/100\n",
            "1/1 [==============================] - 0s 31ms/step - loss: 1.6675 - val_loss: 1.6891\n",
            "Epoch 39/100\n",
            "1/1 [==============================] - 0s 29ms/step - loss: 1.5701 - val_loss: 1.5808\n",
            "Epoch 40/100\n",
            "1/1 [==============================] - 0s 29ms/step - loss: 1.4726 - val_loss: 1.4739\n",
            "Epoch 41/100\n",
            "1/1 [==============================] - 0s 30ms/step - loss: 1.3743 - val_loss: 1.3684\n",
            "Epoch 42/100\n",
            "1/1 [==============================] - 0s 28ms/step - loss: 1.2754 - val_loss: 1.2642\n",
            "Epoch 43/100\n",
            "1/1 [==============================] - 0s 29ms/step - loss: 1.1759 - val_loss: 1.1611\n",
            "Epoch 44/100\n",
            "1/1 [==============================] - 0s 36ms/step - loss: 1.0792 - val_loss: 1.0561\n",
            "Epoch 45/100\n",
            "1/1 [==============================] - 0s 31ms/step - loss: 0.9820 - val_loss: 0.9492\n",
            "Epoch 46/100\n",
            "1/1 [==============================] - 0s 27ms/step - loss: 0.8836 - val_loss: 0.8409\n",
            "Epoch 47/100\n",
            "1/1 [==============================] - 0s 29ms/step - loss: 0.7843 - val_loss: 0.7312\n",
            "Epoch 48/100\n",
            "1/1 [==============================] - 0s 130ms/step - loss: 0.6842 - val_loss: 0.6231\n",
            "Epoch 49/100\n",
            "1/1 [==============================] - 0s 29ms/step - loss: 0.5865 - val_loss: 0.5165\n",
            "Epoch 50/100\n",
            "1/1 [==============================] - 0s 26ms/step - loss: 0.4882 - val_loss: 0.4112\n",
            "Epoch 51/100\n",
            "1/1 [==============================] - 0s 30ms/step - loss: 0.3894 - val_loss: 0.3042\n",
            "Epoch 52/100\n",
            "1/1 [==============================] - 0s 27ms/step - loss: 0.2910 - val_loss: 0.1985\n",
            "Epoch 53/100\n",
            "1/1 [==============================] - 0s 28ms/step - loss: 0.1935 - val_loss: 0.1367\n",
            "Epoch 54/100\n",
            "1/1 [==============================] - 0s 33ms/step - loss: 0.1228 - val_loss: 0.1195\n",
            "Epoch 55/100\n",
            "1/1 [==============================] - 0s 32ms/step - loss: 0.1076 - val_loss: 0.1411\n",
            "Epoch 56/100\n",
            "1/1 [==============================] - 0s 28ms/step - loss: 0.1260 - val_loss: 0.1752\n",
            "Epoch 57/100\n",
            "1/1 [==============================] - 0s 26ms/step - loss: 0.1703 - val_loss: 0.2204\n",
            "Epoch 58/100\n",
            "1/1 [==============================] - 0s 32ms/step - loss: 0.2175 - val_loss: 0.2669\n",
            "Epoch 59/100\n",
            "1/1 [==============================] - 0s 30ms/step - loss: 0.2527 - val_loss: 0.2990\n",
            "Epoch 60/100\n",
            "1/1 [==============================] - 0s 32ms/step - loss: 0.2779 - val_loss: 0.3179\n",
            "Epoch 61/100\n",
            "1/1 [==============================] - 0s 29ms/step - loss: 0.2898 - val_loss: 0.3252\n",
            "Epoch 62/100\n",
            "1/1 [==============================] - 0s 28ms/step - loss: 0.2935 - val_loss: 0.3204\n",
            "Epoch 63/100\n",
            "1/1 [==============================] - 0s 34ms/step - loss: 0.2923 - val_loss: 0.3017\n",
            "Epoch 64/100\n",
            "1/1 [==============================] - 0s 32ms/step - loss: 0.2745 - val_loss: 0.2712\n",
            "Epoch 65/100\n",
            "1/1 [==============================] - 0s 32ms/step - loss: 0.2452 - val_loss: 0.2324\n",
            "Epoch 66/100\n",
            "1/1 [==============================] - 0s 30ms/step - loss: 0.2133 - val_loss: 0.1889\n",
            "Epoch 67/100\n",
            "1/1 [==============================] - 0s 34ms/step - loss: 0.1821 - val_loss: 0.1645\n",
            "Epoch 68/100\n",
            "1/1 [==============================] - 0s 27ms/step - loss: 0.1537 - val_loss: 0.1414\n",
            "Epoch 69/100\n",
            "1/1 [==============================] - 0s 30ms/step - loss: 0.1261 - val_loss: 0.1257\n",
            "Epoch 70/100\n",
            "1/1 [==============================] - 0s 30ms/step - loss: 0.1100 - val_loss: 0.1139\n",
            "Epoch 71/100\n",
            "1/1 [==============================] - 0s 27ms/step - loss: 0.0959 - val_loss: 0.1176\n",
            "Epoch 72/100\n",
            "1/1 [==============================] - 0s 35ms/step - loss: 0.1049 - val_loss: 0.1311\n",
            "Epoch 73/100\n",
            "1/1 [==============================] - 0s 30ms/step - loss: 0.1219 - val_loss: 0.1434\n",
            "Epoch 74/100\n",
            "1/1 [==============================] - 0s 30ms/step - loss: 0.1343 - val_loss: 0.1513\n",
            "Epoch 75/100\n",
            "1/1 [==============================] - 0s 34ms/step - loss: 0.1419 - val_loss: 0.1547\n",
            "Epoch 76/100\n",
            "1/1 [==============================] - 0s 29ms/step - loss: 0.1435 - val_loss: 0.1539\n",
            "Epoch 77/100\n",
            "1/1 [==============================] - 0s 35ms/step - loss: 0.1479 - val_loss: 0.1498\n",
            "Epoch 78/100\n",
            "1/1 [==============================] - 0s 48ms/step - loss: 0.1459 - val_loss: 0.1427\n",
            "Epoch 79/100\n",
            "1/1 [==============================] - 0s 30ms/step - loss: 0.1361 - val_loss: 0.1336\n",
            "Epoch 80/100\n",
            "1/1 [==============================] - 0s 27ms/step - loss: 0.1211 - val_loss: 0.1253\n",
            "Epoch 81/100\n",
            "1/1 [==============================] - 0s 30ms/step - loss: 0.1088 - val_loss: 0.1167\n",
            "Epoch 82/100\n",
            "1/1 [==============================] - 0s 29ms/step - loss: 0.1007 - val_loss: 0.1120\n",
            "Epoch 83/100\n",
            "1/1 [==============================] - 0s 29ms/step - loss: 0.0970 - val_loss: 0.1124\n",
            "Epoch 84/100\n",
            "1/1 [==============================] - 0s 31ms/step - loss: 0.0984 - val_loss: 0.1194\n",
            "Epoch 85/100\n",
            "1/1 [==============================] - 0s 28ms/step - loss: 0.1031 - val_loss: 0.1254\n",
            "Epoch 86/100\n",
            "1/1 [==============================] - 0s 30ms/step - loss: 0.1089 - val_loss: 0.1278\n",
            "Epoch 87/100\n",
            "1/1 [==============================] - 0s 34ms/step - loss: 0.1114 - val_loss: 0.1271\n",
            "Epoch 88/100\n",
            "1/1 [==============================] - 0s 28ms/step - loss: 0.1145 - val_loss: 0.1263\n",
            "Epoch 89/100\n",
            "1/1 [==============================] - 0s 31ms/step - loss: 0.1144 - val_loss: 0.1253\n",
            "Epoch 90/100\n",
            "1/1 [==============================] - 0s 35ms/step - loss: 0.1103 - val_loss: 0.1242\n",
            "Epoch 91/100\n",
            "1/1 [==============================] - 0s 32ms/step - loss: 0.1078 - val_loss: 0.1202\n",
            "Epoch 92/100\n",
            "1/1 [==============================] - 0s 30ms/step - loss: 0.1037 - val_loss: 0.1137\n",
            "Epoch 93/100\n",
            "1/1 [==============================] - 0s 30ms/step - loss: 0.0968 - val_loss: 0.1118\n",
            "Epoch 94/100\n",
            "1/1 [==============================] - 0s 29ms/step - loss: 0.0981 - val_loss: 0.1115\n",
            "Epoch 95/100\n",
            "1/1 [==============================] - 0s 28ms/step - loss: 0.1002 - val_loss: 0.1144\n",
            "Epoch 96/100\n",
            "1/1 [==============================] - 0s 28ms/step - loss: 0.0995 - val_loss: 0.1181\n",
            "Epoch 97/100\n",
            "1/1 [==============================] - 0s 29ms/step - loss: 0.1008 - val_loss: 0.1208\n",
            "Epoch 98/100\n",
            "1/1 [==============================] - 0s 28ms/step - loss: 0.1025 - val_loss: 0.1214\n",
            "Epoch 99/100\n",
            "1/1 [==============================] - 0s 27ms/step - loss: 0.1035 - val_loss: 0.1203\n",
            "Epoch 100/100\n",
            "1/1 [==============================] - 0s 31ms/step - loss: 0.1022 - val_loss: 0.1175\n"
          ],
          "name": "stdout"
        }
      ]
    },
    {
      "cell_type": "code",
      "metadata": {
        "id": "IiyPrxYrUst-"
      },
      "source": [
        "def plot_loss(history):\r\n",
        "  plt.plot(history.history['loss'], label='loss')\r\n",
        "  plt.plot(history.history['val_loss'], label='val_loss')\r\n",
        "  plt.ylim([0, 10])\r\n",
        "  plt.xlabel('Epoch')\r\n",
        "  plt.ylabel('Loss')\r\n",
        "  plt.legend()\r\n",
        "  plt.grid(True)"
      ],
      "execution_count": null,
      "outputs": []
    },
    {
      "cell_type": "code",
      "metadata": {
        "colab": {
          "base_uri": "https://localhost:8080/",
          "height": 283
        },
        "id": "FB4yL78yUn1G",
        "outputId": "47c15a73-178a-4a24-fe26-0fb198bf1c4f"
      },
      "source": [
        "hist = pd.DataFrame(history.history)\r\n",
        "hist['epoch'] = history.epoch\r\n",
        "\r\n",
        "plot_loss(history)"
      ],
      "execution_count": null,
      "outputs": [
        {
          "output_type": "display_data",
          "data": {
            "image/png": "[encoded data removed]",
            "text/plain": [
              "<Figure size 432x288 with 1 Axes>"
            ]
          },
          "metadata": {
            "tags": [],
            "needs_background": "light"
          }
        }
      ]
    },
    {
      "cell_type": "code",
      "metadata": {
        "colab": {
          "base_uri": "https://localhost:8080/"
        },
        "id": "OBUwR_q8JVmb",
        "outputId": "515cc8a5-c863-439e-c25b-4e33ced420d9"
      },
      "source": [
        "test_results = basic_model.evaluate(\r\n",
        "    test_features['Molar volume'],\r\n",
        "    test_labels, verbose=1)"
      ],
      "execution_count": null,
      "outputs": [
        {
          "output_type": "stream",
          "text": [
            "1/1 [==============================] - 0s 13ms/step - loss: 0.1358\n"
          ],
          "name": "stdout"
        }
      ]
    },
    {
      "cell_type": "code",
      "metadata": {
        "colab": {
          "base_uri": "https://localhost:8080/"
        },
        "id": "JbfIwUEwSOoC",
        "outputId": "e4601426-f606-47de-b039-f9b934e725ca"
      },
      "source": [
        "test_results"
      ],
      "execution_count": null,
      "outputs": [
        {
          "output_type": "execute_result",
          "data": {
            "text/plain": [
              "0.1357758492231369"
            ]
          },
          "metadata": {
            "tags": []
          },
          "execution_count": 20
        }
      ]
    },
    {
      "cell_type": "code",
      "metadata": {
        "id": "gAf6A7fIU5nF"
      },
      "source": [
        "def plot_density(x, y):\r\n",
        "  plt.scatter(train_features['Molar volume'], train_labels, label='Data')\r\n",
        "  plt.plot(x, y, color='k', label='Predictions')\r\n",
        "  plt.xlabel('Molar volume')\r\n",
        "  plt.ylabel('Density')\r\n",
        "  plt.legend()"
      ],
      "execution_count": null,
      "outputs": []
    },
    {
      "cell_type": "code",
      "metadata": {
        "id": "mDAGW3CVTmeW"
      },
      "source": [
        "pred_y = basic_model.predict(train_features)"
      ],
      "execution_count": null,
      "outputs": []
    },
    {
      "cell_type": "code",
      "metadata": {
        "colab": {
          "base_uri": "https://localhost:8080/",
          "height": 279
        },
        "id": "U0gBvGjNUNnE",
        "outputId": "5cba9c19-9f12-4985-c754-72e987c9a2ad"
      },
      "source": [
        "plot_density(train_features,pred_y)"
      ],
      "execution_count": null,
      "outputs": [
        {
          "output_type": "display_data",
          "data": {
            "image/png": "[encoded data removed]",
            "text/plain": [
              "<Figure size 432x288 with 1 Axes>"
            ]
          },
          "metadata": {
            "tags": [],
            "needs_background": "light"
          }
        }
      ]
    },
    {
      "cell_type": "code",
      "metadata": {
        "colab": {
          "base_uri": "https://localhost:8080/",
          "height": 296
        },
        "id": "hm96qb3zZQzm",
        "outputId": "4d07097b-b732-41cb-eb25-ffca315e6378"
      },
      "source": [
        "actual_trend=train_labels.values\r\n",
        "plt.plot(pred_y, color='orange', label='Prediction')\r\n",
        "plt.plot(actual_trend, label='Actual')\r\n",
        "plt.xlabel('Molar volume')\r\n",
        "plt.ylabel('Density')\r\n",
        "plt.legend()"
      ],
      "execution_count": null,
      "outputs": [
        {
          "output_type": "execute_result",
          "data": {
            "text/plain": [
              "<matplotlib.legend.Legend at 0x7fdbd04c0438>"
            ]
          },
          "metadata": {
            "tags": []
          },
          "execution_count": 24
        },
        {
          "output_type": "display_data",
          "data": {
            "image/png": "[encoded data removed]",
            "text/plain": [
              "<Figure size 432x288 with 1 Axes>"
            ]
          },
          "metadata": {
            "tags": [],
            "needs_background": "light"
          }
        }
      ]
    },
    {
      "cell_type": "code",
      "metadata": {
        "colab": {
          "base_uri": "https://localhost:8080/",
          "height": 298
        },
        "id": "N9h7hHkWLgKo",
        "outputId": "fb8caf57-34cf-4d0d-eace-613708b0c0b8"
      },
      "source": [
        "pred_test = basic_model.predict(test_features)\r\n",
        "actual_test_trend=test_labels.values\r\n",
        "plt.plot(pred_test, color='cyan', label='Prediction')\r\n",
        "plt.plot(actual_test_trend, label='Actual')\r\n",
        "plt.xlabel('Molar volume')\r\n",
        "plt.ylabel('Density')\r\n",
        "plt.legend()"
      ],
      "execution_count": null,
      "outputs": [
        {
          "output_type": "execute_result",
          "data": {
            "text/plain": [
              "<matplotlib.legend.Legend at 0x7fdbd0449710>"
            ]
          },
          "metadata": {
            "tags": []
          },
          "execution_count": 25
        },
        {
          "output_type": "display_data",
          "data": {
            "image/png": "[encoded data removed]",
            "text/plain": [
              "<Figure size 432x288 with 1 Axes>"
            ]
          },
          "metadata": {
            "tags": [],
            "needs_background": "light"
          }
        }
      ]
    },
    {
      "cell_type": "code",
      "metadata": {
        "id": "Er_f2JjZDUf8",
        "colab": {
          "base_uri": "https://localhost:8080/"
        },
        "outputId": "340601f1-378f-4fea-8cf0-ebd9df096702"
      },
      "source": [
        "differences = (1 - sum(abs(pred_test - actual_test_trend.reshape(-1,1)))/len(actual_test_trend)) * 100\r\n",
        "pred_accuracy = differences.item()\r\n",
        "pred_accuracy"
      ],
      "execution_count": null,
      "outputs": [
        {
          "output_type": "execute_result",
          "data": {
            "text/plain": [
              "86.42241016387939"
            ]
          },
          "metadata": {
            "tags": []
          },
          "execution_count": 26
        }
      ]
    },
    {
      "cell_type": "code",
      "metadata": {
        "id": "BD3MPROoaUPw"
      },
      "source": [
        ""
      ],
      "execution_count": null,
      "outputs": []
    }
  ]
}