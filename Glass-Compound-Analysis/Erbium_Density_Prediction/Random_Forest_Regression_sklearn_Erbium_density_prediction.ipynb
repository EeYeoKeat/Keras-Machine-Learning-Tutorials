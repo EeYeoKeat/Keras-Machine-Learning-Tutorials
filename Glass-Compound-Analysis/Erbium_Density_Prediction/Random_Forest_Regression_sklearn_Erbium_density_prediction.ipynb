{
  "nbformat": 4,
  "nbformat_minor": 0,
  "metadata": {
    "colab": {
      "name": "Random_Forest_Regression_sklearn_Erbium_density_prediction.ipynb",
      "provenance": [],
      "collapsed_sections": []
    },
    "kernelspec": {
      "name": "python3",
      "display_name": "Python 3"
    },
    "accelerator": "GPU"
  },
  "cells": [
    {
      "cell_type": "code",
      "metadata": {
        "id": "irGPRTEoXPos"
      },
      "source": [
        "import matplotlib.pyplot as plt\n",
        "import numpy as np\n",
        "import pandas as pd\n",
        "\n",
        "from sklearn.ensemble import RandomForestRegressor"
      ],
      "execution_count": 3,
      "outputs": []
    },
    {
      "cell_type": "code",
      "metadata": {
        "id": "ELRMbfyrZAip",
        "colab": {
          "base_uri": "https://localhost:8080/",
          "height": 1000
        },
        "outputId": "854c8fb5-b08f-45c8-a6b1-d6003c2a7073"
      },
      "source": [
        "# Load the data\n",
        "data = pd.read_csv('Molecular-data.csv')\n",
        "data"
      ],
      "execution_count": 4,
      "outputs": [
        {
          "output_type": "execute_result",
          "data": {
            "text/html": [
              "<div>\n",
              "<style scoped>\n",
              "    .dataframe tbody tr th:only-of-type {\n",
              "        vertical-align: middle;\n",
              "    }\n",
              "\n",
              "    .dataframe tbody tr th {\n",
              "        vertical-align: top;\n",
              "    }\n",
              "\n",
              "    .dataframe thead th {\n",
              "        text-align: right;\n",
              "    }\n",
              "</style>\n",
              "<table border=\"1\" class=\"dataframe\">\n",
              "  <thead>\n",
              "    <tr style=\"text-align: right;\">\n",
              "      <th></th>\n",
              "      <th>Molar volume</th>\n",
              "      <th>Density</th>\n",
              "    </tr>\n",
              "  </thead>\n",
              "  <tbody>\n",
              "    <tr>\n",
              "      <th>0</th>\n",
              "      <td>26.379294</td>\n",
              "      <td>5.254</td>\n",
              "    </tr>\n",
              "    <tr>\n",
              "      <th>1</th>\n",
              "      <td>25.847969</td>\n",
              "      <td>5.362</td>\n",
              "    </tr>\n",
              "    <tr>\n",
              "      <th>2</th>\n",
              "      <td>26.510484</td>\n",
              "      <td>5.228</td>\n",
              "    </tr>\n",
              "    <tr>\n",
              "      <th>3</th>\n",
              "      <td>25.737570</td>\n",
              "      <td>5.385</td>\n",
              "    </tr>\n",
              "    <tr>\n",
              "      <th>4</th>\n",
              "      <td>25.402642</td>\n",
              "      <td>5.456</td>\n",
              "    </tr>\n",
              "    <tr>\n",
              "      <th>5</th>\n",
              "      <td>24.931968</td>\n",
              "      <td>5.559</td>\n",
              "    </tr>\n",
              "    <tr>\n",
              "      <th>6</th>\n",
              "      <td>26.612291</td>\n",
              "      <td>5.208</td>\n",
              "    </tr>\n",
              "    <tr>\n",
              "      <th>7</th>\n",
              "      <td>26.694301</td>\n",
              "      <td>5.192</td>\n",
              "    </tr>\n",
              "    <tr>\n",
              "      <th>8</th>\n",
              "      <td>26.434639</td>\n",
              "      <td>5.243</td>\n",
              "    </tr>\n",
              "    <tr>\n",
              "      <th>9</th>\n",
              "      <td>26.495280</td>\n",
              "      <td>5.231</td>\n",
              "    </tr>\n",
              "    <tr>\n",
              "      <th>10</th>\n",
              "      <td>25.370620</td>\n",
              "      <td>5.560</td>\n",
              "    </tr>\n",
              "    <tr>\n",
              "      <th>11</th>\n",
              "      <td>25.019625</td>\n",
              "      <td>5.638</td>\n",
              "    </tr>\n",
              "    <tr>\n",
              "      <th>12</th>\n",
              "      <td>25.906454</td>\n",
              "      <td>5.445</td>\n",
              "    </tr>\n",
              "    <tr>\n",
              "      <th>13</th>\n",
              "      <td>30.605477</td>\n",
              "      <td>4.609</td>\n",
              "    </tr>\n",
              "    <tr>\n",
              "      <th>14</th>\n",
              "      <td>25.535960</td>\n",
              "      <td>5.524</td>\n",
              "    </tr>\n",
              "    <tr>\n",
              "      <th>15</th>\n",
              "      <td>24.557912</td>\n",
              "      <td>5.744</td>\n",
              "    </tr>\n",
              "    <tr>\n",
              "      <th>16</th>\n",
              "      <td>28.711713</td>\n",
              "      <td>4.913</td>\n",
              "    </tr>\n",
              "    <tr>\n",
              "      <th>17</th>\n",
              "      <td>26.726155</td>\n",
              "      <td>5.278</td>\n",
              "    </tr>\n",
              "    <tr>\n",
              "      <th>18</th>\n",
              "      <td>25.963675</td>\n",
              "      <td>5.433</td>\n",
              "    </tr>\n",
              "    <tr>\n",
              "      <th>19</th>\n",
              "      <td>27.379783</td>\n",
              "      <td>5.152</td>\n",
              "    </tr>\n",
              "    <tr>\n",
              "      <th>20</th>\n",
              "      <td>26.426897</td>\n",
              "      <td>5.431</td>\n",
              "    </tr>\n",
              "    <tr>\n",
              "      <th>21</th>\n",
              "      <td>26.286534</td>\n",
              "      <td>5.460</td>\n",
              "    </tr>\n",
              "    <tr>\n",
              "      <th>22</th>\n",
              "      <td>26.305806</td>\n",
              "      <td>5.456</td>\n",
              "    </tr>\n",
              "    <tr>\n",
              "      <th>23</th>\n",
              "      <td>26.152419</td>\n",
              "      <td>5.488</td>\n",
              "    </tr>\n",
              "    <tr>\n",
              "      <th>24</th>\n",
              "      <td>26.927669</td>\n",
              "      <td>5.330</td>\n",
              "    </tr>\n",
              "    <tr>\n",
              "      <th>25</th>\n",
              "      <td>25.878918</td>\n",
              "      <td>5.546</td>\n",
              "    </tr>\n",
              "    <tr>\n",
              "      <th>26</th>\n",
              "      <td>26.771960</td>\n",
              "      <td>5.361</td>\n",
              "    </tr>\n",
              "    <tr>\n",
              "      <th>27</th>\n",
              "      <td>26.892351</td>\n",
              "      <td>5.337</td>\n",
              "    </tr>\n",
              "    <tr>\n",
              "      <th>28</th>\n",
              "      <td>26.407447</td>\n",
              "      <td>5.435</td>\n",
              "    </tr>\n",
              "    <tr>\n",
              "      <th>29</th>\n",
              "      <td>28.522352</td>\n",
              "      <td>5.032</td>\n",
              "    </tr>\n",
              "    <tr>\n",
              "      <th>30</th>\n",
              "      <td>26.737785</td>\n",
              "      <td>5.460</td>\n",
              "    </tr>\n",
              "    <tr>\n",
              "      <th>31</th>\n",
              "      <td>29.069755</td>\n",
              "      <td>5.022</td>\n",
              "    </tr>\n",
              "    <tr>\n",
              "      <th>32</th>\n",
              "      <td>26.596522</td>\n",
              "      <td>5.489</td>\n",
              "    </tr>\n",
              "    <tr>\n",
              "      <th>33</th>\n",
              "      <td>27.701766</td>\n",
              "      <td>5.270</td>\n",
              "    </tr>\n",
              "    <tr>\n",
              "      <th>34</th>\n",
              "      <td>22.778641</td>\n",
              "      <td>6.409</td>\n",
              "    </tr>\n",
              "    <tr>\n",
              "      <th>35</th>\n",
              "      <td>27.670263</td>\n",
              "      <td>5.276</td>\n",
              "    </tr>\n",
              "    <tr>\n",
              "      <th>36</th>\n",
              "      <td>27.348878</td>\n",
              "      <td>5.338</td>\n",
              "    </tr>\n",
              "    <tr>\n",
              "      <th>37</th>\n",
              "      <td>27.004867</td>\n",
              "      <td>5.406</td>\n",
              "    </tr>\n",
              "    <tr>\n",
              "      <th>38</th>\n",
              "      <td>29.811785</td>\n",
              "      <td>4.897</td>\n",
              "    </tr>\n",
              "    <tr>\n",
              "      <th>39</th>\n",
              "      <td>26.223874</td>\n",
              "      <td>5.567</td>\n",
              "    </tr>\n",
              "    <tr>\n",
              "      <th>40</th>\n",
              "      <td>26.012290</td>\n",
              "      <td>5.707</td>\n",
              "    </tr>\n",
              "    <tr>\n",
              "      <th>41</th>\n",
              "      <td>27.711805</td>\n",
              "      <td>5.357</td>\n",
              "    </tr>\n",
              "    <tr>\n",
              "      <th>42</th>\n",
              "      <td>27.094751</td>\n",
              "      <td>5.479</td>\n",
              "    </tr>\n",
              "    <tr>\n",
              "      <th>43</th>\n",
              "      <td>25.285665</td>\n",
              "      <td>5.871</td>\n",
              "    </tr>\n",
              "    <tr>\n",
              "      <th>44</th>\n",
              "      <td>28.062787</td>\n",
              "      <td>5.290</td>\n",
              "    </tr>\n",
              "    <tr>\n",
              "      <th>45</th>\n",
              "      <td>27.727333</td>\n",
              "      <td>5.354</td>\n",
              "    </tr>\n",
              "    <tr>\n",
              "      <th>46</th>\n",
              "      <td>28.276598</td>\n",
              "      <td>5.250</td>\n",
              "    </tr>\n",
              "    <tr>\n",
              "      <th>47</th>\n",
              "      <td>26.154359</td>\n",
              "      <td>5.676</td>\n",
              "    </tr>\n",
              "    <tr>\n",
              "      <th>48</th>\n",
              "      <td>27.737695</td>\n",
              "      <td>5.352</td>\n",
              "    </tr>\n",
              "    <tr>\n",
              "      <th>49</th>\n",
              "      <td>26.777082</td>\n",
              "      <td>5.544</td>\n",
              "    </tr>\n",
              "  </tbody>\n",
              "</table>\n",
              "</div>"
            ],
            "text/plain": [
              "    Molar volume  Density\n",
              "0      26.379294    5.254\n",
              "1      25.847969    5.362\n",
              "2      26.510484    5.228\n",
              "3      25.737570    5.385\n",
              "4      25.402642    5.456\n",
              "5      24.931968    5.559\n",
              "6      26.612291    5.208\n",
              "7      26.694301    5.192\n",
              "8      26.434639    5.243\n",
              "9      26.495280    5.231\n",
              "10     25.370620    5.560\n",
              "11     25.019625    5.638\n",
              "12     25.906454    5.445\n",
              "13     30.605477    4.609\n",
              "14     25.535960    5.524\n",
              "15     24.557912    5.744\n",
              "16     28.711713    4.913\n",
              "17     26.726155    5.278\n",
              "18     25.963675    5.433\n",
              "19     27.379783    5.152\n",
              "20     26.426897    5.431\n",
              "21     26.286534    5.460\n",
              "22     26.305806    5.456\n",
              "23     26.152419    5.488\n",
              "24     26.927669    5.330\n",
              "25     25.878918    5.546\n",
              "26     26.771960    5.361\n",
              "27     26.892351    5.337\n",
              "28     26.407447    5.435\n",
              "29     28.522352    5.032\n",
              "30     26.737785    5.460\n",
              "31     29.069755    5.022\n",
              "32     26.596522    5.489\n",
              "33     27.701766    5.270\n",
              "34     22.778641    6.409\n",
              "35     27.670263    5.276\n",
              "36     27.348878    5.338\n",
              "37     27.004867    5.406\n",
              "38     29.811785    4.897\n",
              "39     26.223874    5.567\n",
              "40     26.012290    5.707\n",
              "41     27.711805    5.357\n",
              "42     27.094751    5.479\n",
              "43     25.285665    5.871\n",
              "44     28.062787    5.290\n",
              "45     27.727333    5.354\n",
              "46     28.276598    5.250\n",
              "47     26.154359    5.676\n",
              "48     27.737695    5.352\n",
              "49     26.777082    5.544"
            ]
          },
          "metadata": {
            "tags": []
          },
          "execution_count": 4
        }
      ]
    },
    {
      "cell_type": "code",
      "metadata": {
        "id": "CKiqkEiKg1H2"
      },
      "source": [
        "train_dataset = data.sample(frac=0.8, random_state=0)\n",
        "test_dataset = data.drop(train_dataset.index)\n",
        "\n",
        "# Collect input feature for training, molar volume value in this case\n",
        "train_features = train_dataset.copy() #dataframe type\n",
        "test_features = test_dataset.copy()\n",
        "\n",
        "# Collect respective label, density value in this case\n",
        "train_labels = train_features.pop('Density') # series type\n",
        "test_labels = test_features.pop('Density')"
      ],
      "execution_count": 5,
      "outputs": []
    },
    {
      "cell_type": "code",
      "metadata": {
        "colab": {
          "base_uri": "https://localhost:8080/"
        },
        "id": "Vl867epFfjhX",
        "outputId": "970fb34c-60f1-47a3-c842-683aaa815ce1"
      },
      "source": [
        "model = RandomForestRegressor(random_state=1)\n",
        "\n",
        "# Train the model\n",
        "model.fit(train_features, train_labels)"
      ],
      "execution_count": 6,
      "outputs": [
        {
          "output_type": "execute_result",
          "data": {
            "text/plain": [
              "RandomForestRegressor(bootstrap=True, ccp_alpha=0.0, criterion='mse',\n",
              "                      max_depth=None, max_features='auto', max_leaf_nodes=None,\n",
              "                      max_samples=None, min_impurity_decrease=0.0,\n",
              "                      min_impurity_split=None, min_samples_leaf=1,\n",
              "                      min_samples_split=2, min_weight_fraction_leaf=0.0,\n",
              "                      n_estimators=100, n_jobs=None, oob_score=False,\n",
              "                      random_state=1, verbose=0, warm_start=False)"
            ]
          },
          "metadata": {
            "tags": []
          },
          "execution_count": 6
        }
      ]
    },
    {
      "cell_type": "markdown",
      "metadata": {
        "id": "5Xww_z-rQeAO"
      },
      "source": [
        "The number of estimators is by default value 100. We can try on vary number of estimator and observe the performance later. The parameter of n_estimators is the number of trees in the forest."
      ]
    },
    {
      "cell_type": "code",
      "metadata": {
        "id": "MxMkBcJOhN9v"
      },
      "source": [
        "def plot_density(x, y):\n",
        "  plt.scatter(train_features['Molar volume'], train_labels, label='Data')\n",
        "  plt.plot(x, y, color='r', label='Predictions')\n",
        "  plt.xlabel('Molar volume')\n",
        "  plt.ylabel('Density')\n",
        "  plt.legend()"
      ],
      "execution_count": 7,
      "outputs": []
    },
    {
      "cell_type": "code",
      "metadata": {
        "colab": {
          "base_uri": "https://localhost:8080/"
        },
        "id": "mp6FhXHcWALA",
        "outputId": "e9403ef1-16b4-41ed-e817-c33c7ef2c98e"
      },
      "source": [
        "pred_y = model.predict(train_features)\n",
        "pred_y"
      ],
      "execution_count": 8,
      "outputs": [
        {
          "output_type": "execute_result",
          "data": {
            "text/plain": [
              "array([5.40965, 5.62466, 5.55904, 5.33036, 5.25686, 5.34802, 4.88357,\n",
              "       4.99445, 5.43951, 5.51224, 5.29339, 5.28148, 5.41383, 6.16889,\n",
              "       5.49111, 5.23313, 5.51111, 5.35373, 5.35303, 5.0073 , 5.69689,\n",
              "       5.41289, 5.37581, 4.96565, 5.45265, 5.37229, 5.7571 , 5.29897,\n",
              "       4.70805, 5.49869, 5.60461, 5.31719, 5.58279, 5.49801, 5.41567,\n",
              "       5.46124, 5.39654, 5.34494, 5.2521 , 5.5171 ])"
            ]
          },
          "metadata": {
            "tags": []
          },
          "execution_count": 8
        }
      ]
    },
    {
      "cell_type": "code",
      "metadata": {
        "colab": {
          "base_uri": "https://localhost:8080/",
          "height": 279
        },
        "id": "uulObUx2TPnC",
        "outputId": "00e419a6-a294-42a9-b5a0-a2e8496e773d"
      },
      "source": [
        "actual_trend=train_labels.values\n",
        "plt.plot(pred_y, color='orange', label='Prediction')\n",
        "plt.plot(actual_trend, label='Actual')\n",
        "plt.xlabel('Molar volume')\n",
        "plt.ylabel('Density')\n",
        "plt.legend()\n",
        "plt.show()"
      ],
      "execution_count": 9,
      "outputs": [
        {
          "output_type": "display_data",
          "data": {
            "image/png": "[encoded data removed]",
            "text/plain": [
              "<Figure size 432x288 with 1 Axes>"
            ]
          },
          "metadata": {
            "tags": [],
            "needs_background": "light"
          }
        }
      ]
    },
    {
      "cell_type": "code",
      "metadata": {
        "colab": {
          "base_uri": "https://localhost:8080/",
          "height": 281
        },
        "id": "f5PafrpgVvwx",
        "outputId": "7a5fe3c6-7538-4d99-95c1-9941875454d0"
      },
      "source": [
        "pred_test = model.predict(test_features)\n",
        "actual_test_trend=test_labels.values\n",
        "plt.plot(pred_test, color='cyan', label='Prediction')\n",
        "plt.plot(actual_test_trend, label='Actual')\n",
        "plt.xlabel('Molar volume')\n",
        "plt.ylabel('Density')\n",
        "plt.legend()\n",
        "plt.show()"
      ],
      "execution_count": 10,
      "outputs": [
        {
          "output_type": "display_data",
          "data": {
            "image/png": "[encoded data removed]",
            "text/plain": [
              "<Figure size 432x288 with 1 Axes>"
            ]
          },
          "metadata": {
            "tags": [],
            "needs_background": "light"
          }
        }
      ]
    },
    {
      "cell_type": "code",
      "metadata": {
        "colab": {
          "base_uri": "https://localhost:8080/"
        },
        "id": "E3rbJo83WJtO",
        "outputId": "aa36d357-fe9f-424b-e235-1fc9dff0ad13"
      },
      "source": [
        "differences = (1 - sum(abs(pred_test - actual_test_trend))/len(actual_test_trend)) * 100\n",
        "pred_accuracy = differences.item()\n",
        "pred_accuracy"
      ],
      "execution_count": 11,
      "outputs": [
        {
          "output_type": "execute_result",
          "data": {
            "text/plain": [
              "88.76470000000008"
            ]
          },
          "metadata": {
            "tags": []
          },
          "execution_count": 11
        }
      ]
    },
    {
      "cell_type": "code",
      "metadata": {
        "colab": {
          "base_uri": "https://localhost:8080/"
        },
        "id": "g2Ak0KyLhWCg",
        "outputId": "6e552e0b-0a19-4fd5-9af8-5d357509273c"
      },
      "source": [
        "test_acc = []\n",
        "axes = []\n",
        "\n",
        "for i in range(1,101):\n",
        "  axes.append(i)\n",
        "  est_model = RandomForestRegressor(random_state=1, n_estimators=i)\n",
        "  est_model.fit(train_features, train_labels)\n",
        "  est_pred_y = est_model.predict(test_features)\n",
        "  acc = (1 - sum(abs(est_pred_y - actual_test_trend))/len(actual_test_trend)) * 100\n",
        "  est_pred_accuracy = acc.item()\n",
        "  test_acc.append(est_pred_accuracy)\n",
        "  print('Test accuracy for {} estimator is {}'.format(i, est_pred_accuracy))"
      ],
      "execution_count": 12,
      "outputs": [
        {
          "output_type": "stream",
          "text": [
            "Test accuracy for 1 estimator is 86.39999999999996\n",
            "Test accuracy for 2 estimator is 88.02999999999997\n",
            "Test accuracy for 3 estimator is 88.36666666666663\n",
            "Test accuracy for 4 estimator is 88.62999999999998\n",
            "Test accuracy for 5 estimator is 89.74799999999996\n",
            "Test accuracy for 6 estimator is 90.0483333333333\n",
            "Test accuracy for 7 estimator is 91.0885714285714\n",
            "Test accuracy for 8 estimator is 90.58874999999998\n",
            "Test accuracy for 9 estimator is 90.09555555555553\n",
            "Test accuracy for 10 estimator is 90.04499999999997\n",
            "Test accuracy for 11 estimator is 89.93818181818179\n",
            "Test accuracy for 12 estimator is 89.68666666666661\n",
            "Test accuracy for 13 estimator is 89.6407692307692\n",
            "Test accuracy for 14 estimator is 89.67714285714281\n",
            "Test accuracy for 15 estimator is 89.77266666666664\n",
            "Test accuracy for 16 estimator is 89.53874999999998\n",
            "Test accuracy for 17 estimator is 89.75999999999999\n",
            "Test accuracy for 18 estimator is 89.63055555555553\n",
            "Test accuracy for 19 estimator is 89.56052631578947\n",
            "Test accuracy for 20 estimator is 89.3125\n",
            "Test accuracy for 21 estimator is 89.26761904761904\n",
            "Test accuracy for 22 estimator is 89.1581818181818\n",
            "Test accuracy for 23 estimator is 89.35347826086955\n",
            "Test accuracy for 24 estimator is 89.09624999999998\n",
            "Test accuracy for 25 estimator is 89.05359999999997\n",
            "Test accuracy for 26 estimator is 89.02461538461533\n",
            "Test accuracy for 27 estimator is 88.91740740740734\n",
            "Test accuracy for 28 estimator is 88.82071428571422\n",
            "Test accuracy for 29 estimator is 88.79586206896543\n",
            "Test accuracy for 30 estimator is 88.67699999999992\n",
            "Test accuracy for 31 estimator is 88.85483870967732\n",
            "Test accuracy for 32 estimator is 88.89468749999989\n",
            "Test accuracy for 33 estimator is 88.85151515151504\n",
            "Test accuracy for 34 estimator is 88.8741176470587\n",
            "Test accuracy for 35 estimator is 88.926857142857\n",
            "Test accuracy for 36 estimator is 88.82027777777763\n",
            "Test accuracy for 37 estimator is 88.9002702702701\n",
            "Test accuracy for 38 estimator is 88.886842105263\n",
            "Test accuracy for 39 estimator is 88.78282051282035\n",
            "Test accuracy for 40 estimator is 88.74374999999982\n",
            "Test accuracy for 41 estimator is 88.81414634146323\n",
            "Test accuracy for 42 estimator is 88.79833333333316\n",
            "Test accuracy for 43 estimator is 88.75279069767424\n",
            "Test accuracy for 44 estimator is 88.82568181818164\n",
            "Test accuracy for 45 estimator is 88.81288888888871\n",
            "Test accuracy for 46 estimator is 88.74739130434764\n",
            "Test accuracy for 47 estimator is 88.71170212765938\n",
            "Test accuracy for 48 estimator is 88.72249999999981\n",
            "Test accuracy for 49 estimator is 88.74183673469373\n",
            "Test accuracy for 50 estimator is 88.83159999999987\n",
            "Test accuracy for 51 estimator is 88.81588235294106\n",
            "Test accuracy for 52 estimator is 88.80423076923063\n",
            "Test accuracy for 53 estimator is 88.81811320754703\n",
            "Test accuracy for 54 estimator is 88.80111111111098\n",
            "Test accuracy for 55 estimator is 88.89254545454533\n",
            "Test accuracy for 56 estimator is 88.84857142857132\n",
            "Test accuracy for 57 estimator is 88.86087719298234\n",
            "Test accuracy for 58 estimator is 88.82189655172404\n",
            "Test accuracy for 59 estimator is 88.77898305084736\n",
            "Test accuracy for 60 estimator is 88.76766666666659\n",
            "Test accuracy for 61 estimator is 88.72672131147536\n",
            "Test accuracy for 62 estimator is 88.70064516129028\n",
            "Test accuracy for 63 estimator is 88.7560317460317\n",
            "Test accuracy for 64 estimator is 88.74796874999996\n",
            "Test accuracy for 65 estimator is 88.76446153846149\n",
            "Test accuracy for 66 estimator is 88.74575757575755\n",
            "Test accuracy for 67 estimator is 88.77985074626861\n",
            "Test accuracy for 68 estimator is 88.81441176470585\n",
            "Test accuracy for 69 estimator is 88.8305797101449\n",
            "Test accuracy for 70 estimator is 88.81385714285712\n",
            "Test accuracy for 71 estimator is 88.82943661971831\n",
            "Test accuracy for 72 estimator is 88.81847222222223\n",
            "Test accuracy for 73 estimator is 88.8364383561644\n",
            "Test accuracy for 74 estimator is 88.86986486486488\n",
            "Test accuracy for 75 estimator is 88.86666666666666\n",
            "Test accuracy for 76 estimator is 88.86828947368423\n",
            "Test accuracy for 77 estimator is 88.86805194805197\n",
            "Test accuracy for 78 estimator is 88.90628205128206\n",
            "Test accuracy for 79 estimator is 88.87240506329118\n",
            "Test accuracy for 80 estimator is 88.83012500000005\n",
            "Test accuracy for 81 estimator is 88.82283950617287\n",
            "Test accuracy for 82 estimator is 88.849756097561\n",
            "Test accuracy for 83 estimator is 88.80590361445788\n",
            "Test accuracy for 84 estimator is 88.7821428571429\n",
            "Test accuracy for 85 estimator is 88.81141176470592\n",
            "Test accuracy for 86 estimator is 88.81965116279073\n",
            "Test accuracy for 87 estimator is 88.79218390804601\n",
            "Test accuracy for 88 estimator is 88.74715909090914\n",
            "Test accuracy for 89 estimator is 88.7710112359551\n",
            "Test accuracy for 90 estimator is 88.75822222222227\n",
            "Test accuracy for 91 estimator is 88.77219780219787\n",
            "Test accuracy for 92 estimator is 88.76641304347832\n",
            "Test accuracy for 93 estimator is 88.84290322580651\n",
            "Test accuracy for 94 estimator is 88.82287234042559\n",
            "Test accuracy for 95 estimator is 88.87400000000008\n",
            "Test accuracy for 96 estimator is 88.86802083333342\n",
            "Test accuracy for 97 estimator is 88.84670103092787\n",
            "Test accuracy for 98 estimator is 88.80163265306126\n",
            "Test accuracy for 99 estimator is 88.7615151515152\n",
            "Test accuracy for 100 estimator is 88.76470000000008\n"
          ],
          "name": "stdout"
        }
      ]
    },
    {
      "cell_type": "code",
      "metadata": {
        "id": "hmf-3WyUhoDl",
        "colab": {
          "base_uri": "https://localhost:8080/",
          "height": 225
        },
        "outputId": "232b043f-d754-418b-a508-2c6332c32336"
      },
      "source": [
        "original_axis = list(range(0,len(test_acc)))\n",
        "plt.figure(figsize=(20, 3))\n",
        "plt.plot(test_acc)\n",
        "locs, labels = plt.xticks()\n",
        "plt.xticks(original_axis,axes)\n",
        "plt.xlabel('Number of estimator')\n",
        "plt.ylabel('Test Accuracy')\n",
        "plt.show()"
      ],
      "execution_count": 13,
      "outputs": [
        {
          "output_type": "display_data",
          "data": {
            "image/png": "[encoded data removed]",
            "text/plain": [
              "<Figure size 1440x216 with 1 Axes>"
            ]
          },
          "metadata": {
            "tags": [],
            "needs_background": "light"
          }
        }
      ]
    },
    {
      "cell_type": "markdown",
      "metadata": {
        "id": "PTa3YMz6csYx"
      },
      "source": [
        "Based on testing, it shows that 7 is optimum value for number of trees. Now, we can try on adjusting the random_state. According to documentation, the random_state parameter is to controls both the randomness of the bootstrapping of the samples used when building trees (if bootstrap=True) and the sampling of the features to consider when looking for the best split at each node (if max_features < n_features)"
      ]
    },
    {
      "cell_type": "code",
      "metadata": {
        "colab": {
          "base_uri": "https://localhost:8080/"
        },
        "id": "qOlH1P04NFL4",
        "outputId": "ed8262c8-60ad-4553-e84c-f861fb2a4c62"
      },
      "source": [
        "rand_test_acc = []\n",
        "rand_axes = []\n",
        "\n",
        "for i in range(0,20):\n",
        "  rand_axes.append(i)\n",
        "  rand_model = RandomForestRegressor(random_state=i, n_estimators=7)\n",
        "  rand_model.fit(train_features, train_labels)\n",
        "  rand_pred_y = rand_model.predict(test_features)\n",
        "  rand_acc = (1 - sum(abs(rand_pred_y - actual_test_trend))/len(actual_test_trend)) * 100\n",
        "  rand_pred_accuracy = rand_acc.item()\n",
        "  rand_test_acc.append(rand_pred_accuracy)\n",
        "  print('Test accuracy for random state number {} is {}'.format(i, rand_pred_accuracy))"
      ],
      "execution_count": 14,
      "outputs": [
        {
          "output_type": "stream",
          "text": [
            "Test accuracy for random state number 0 is 89.60142857142856\n",
            "Test accuracy for random state number 1 is 91.0885714285714\n",
            "Test accuracy for random state number 2 is 90.26285714285713\n",
            "Test accuracy for random state number 3 is 89.85142857142856\n",
            "Test accuracy for random state number 4 is 90.0685714285714\n",
            "Test accuracy for random state number 5 is 89.1785714285714\n",
            "Test accuracy for random state number 6 is 91.36571428571423\n",
            "Test accuracy for random state number 7 is 90.17714285714284\n",
            "Test accuracy for random state number 8 is 88.69571428571426\n",
            "Test accuracy for random state number 9 is 89.60571428571428\n",
            "Test accuracy for random state number 10 is 88.45142857142851\n",
            "Test accuracy for random state number 11 is 89.57428571428568\n",
            "Test accuracy for random state number 12 is 88.71714285714283\n",
            "Test accuracy for random state number 13 is 90.47428571428568\n",
            "Test accuracy for random state number 14 is 90.97999999999999\n",
            "Test accuracy for random state number 15 is 90.35714285714288\n",
            "Test accuracy for random state number 16 is 89.91999999999997\n",
            "Test accuracy for random state number 17 is 89.01999999999997\n",
            "Test accuracy for random state number 18 is 89.70714285714281\n",
            "Test accuracy for random state number 19 is 90.70999999999998\n"
          ],
          "name": "stdout"
        }
      ]
    },
    {
      "cell_type": "code",
      "metadata": {
        "colab": {
          "base_uri": "https://localhost:8080/",
          "height": 337
        },
        "id": "eTzipiKwdaAT",
        "outputId": "4fdd1604-778f-4248-ea2d-6f5a8e06d5c7"
      },
      "source": [
        "original_axis = list(range(0,len(rand_test_acc)))\n",
        "plt.figure(figsize=(15, 5))\n",
        "plt.plot(rand_test_acc)\n",
        "locs, labels = plt.xticks()\n",
        "plt.xticks(original_axis,rand_axes)\n",
        "plt.xlabel('Random state number')\n",
        "plt.ylabel('Test Accuracy')\n",
        "plt.show()"
      ],
      "execution_count": 15,
      "outputs": [
        {
          "output_type": "display_data",
          "data": {
            "image/png": "[encoded data removed]",
            "text/plain": [
              "<Figure size 1080x360 with 1 Axes>"
            ]
          },
          "metadata": {
            "tags": [],
            "needs_background": "light"
          }
        }
      ]
    },
    {
      "cell_type": "code",
      "metadata": {
        "id": "xC_Spz5adtDu",
        "colab": {
          "base_uri": "https://localhost:8080/"
        },
        "outputId": "f3d45a49-be47-4989-e25f-6488e08c2f42"
      },
      "source": [
        "final_model = RandomForestRegressor(random_state=7, n_estimators=7)\n",
        "final_model.fit(train_features, train_labels)\n",
        "final_pred_y = final_model.predict(test_features)\n",
        "final_acc = (1 - sum(abs(final_pred_y - actual_test_trend))/len(actual_test_trend)) * 100\n",
        "final_pred_accuracy = final_acc.item()\n",
        "\n",
        "print('Test accuracy :',final_pred_accuracy)"
      ],
      "execution_count": 16,
      "outputs": [
        {
          "output_type": "stream",
          "text": [
            "Test accuracy : 90.17714285714284\n"
          ],
          "name": "stdout"
        }
      ]
    },
    {
      "cell_type": "markdown",
      "metadata": {
        "id": "AXf1R2jpWptH"
      },
      "source": [
        "#**K-Fold Cross-Validation**"
      ]
    },
    {
      "cell_type": "code",
      "metadata": {
        "colab": {
          "base_uri": "https://localhost:8080/"
        },
        "id": "Tamy2tfZRjFw",
        "outputId": "c50850a0-0684-427d-edd8-5b8ef667b168"
      },
      "source": [
        "from sklearn.model_selection import cross_val_score\n",
        "from sklearn.model_selection import KFold\n",
        "from sklearn.model_selection import GridSearchCV\n",
        "from sklearn.pipeline import make_pipeline\n",
        "\n",
        "score_mean = []\n",
        "score_std = []\n",
        "\n",
        "split_num = 7\n",
        "\n",
        "for i in range(2, split_num):\n",
        "  # create a KFold object with n splits \n",
        "  kf = KFold(n_splits = i, shuffle = True, random_state = 10)\n",
        "  scores = cross_val_score(model, train_features, train_labels, scoring='r2', cv=kf)\n",
        "  m = np.mean(scores)\n",
        "  s = np.std(scores)\n",
        "  score_mean.append(m)\n",
        "  score_std.append(s)\n",
        "  print('Number of splits: %d, Accuracy: %.3f, Standard Devidation: %.3f' % (i, m, s))"
      ],
      "execution_count": 17,
      "outputs": [
        {
          "output_type": "stream",
          "text": [
            "Number of splits: 2, Accuracy: 0.598, Standard Devidation: 0.012\n",
            "Number of splits: 3, Accuracy: 0.609, Standard Devidation: 0.040\n",
            "Number of splits: 4, Accuracy: 0.645, Standard Devidation: 0.125\n",
            "Number of splits: 5, Accuracy: 0.619, Standard Devidation: 0.229\n",
            "Number of splits: 6, Accuracy: 0.548, Standard Devidation: 0.348\n"
          ],
          "name": "stdout"
        }
      ]
    },
    {
      "cell_type": "code",
      "metadata": {
        "colab": {
          "base_uri": "https://localhost:8080/",
          "height": 282
        },
        "id": "UrQbqQKafLlZ",
        "outputId": "73872c40-5a65-42dd-94fc-048cb74fb767"
      },
      "source": [
        "plt.plot(score_mean)"
      ],
      "execution_count": 18,
      "outputs": [
        {
          "output_type": "execute_result",
          "data": {
            "text/plain": [
              "[<matplotlib.lines.Line2D at 0x7fe5228d63d0>]"
            ]
          },
          "metadata": {
            "tags": []
          },
          "execution_count": 18
        },
        {
          "output_type": "display_data",
          "data": {
            "image/png": "[encoded data removed]",
            "text/plain": [
              "<Figure size 432x288 with 1 Axes>"
            ]
          },
          "metadata": {
            "tags": [],
            "needs_background": "light"
          }
        }
      ]
    },
    {
      "cell_type": "code",
      "metadata": {
        "id": "uckARo9akRuT"
      },
      "source": [
        ""
      ],
      "execution_count": null,
      "outputs": []
    }
  ]
}