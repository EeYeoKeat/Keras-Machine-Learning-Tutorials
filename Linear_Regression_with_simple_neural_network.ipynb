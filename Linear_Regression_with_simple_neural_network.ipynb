{
  "nbformat": 4,
  "nbformat_minor": 0,
  "metadata": {
    "colab": {
      "name": "Linear_Regression_with_simple_neural_network.ipynb",
      "provenance": [],
      "collapsed_sections": []
    },
    "kernelspec": {
      "name": "python3",
      "display_name": "Python 3"
    },
    "accelerator": "GPU"
  },
  "cells": [
    {
      "cell_type": "markdown",
      "metadata": {
        "id": "4U7o-VS1Fc-m",
        "colab_type": "text"
      },
      "source": [
        "In this work, we implement linear regression using simple neural network with TensorFlow 2.x version. For testing, we can use the same sample data set as this [work](https://github.com/EeYeoKeat/Machine_Learning_Mathematics/blob/master/Linear_Regression/Univariate_Linear_Regression.ipynb) and compare the performance."
      ]
    },
    {
      "cell_type": "code",
      "metadata": {
        "id": "X9O-aXwuO1Xs",
        "colab_type": "code",
        "colab": {
          "base_uri": "https://localhost:8080/",
          "height": 88
        },
        "outputId": "208a7c85-653e-4ba3-b621-5d35376c17d4"
      },
      "source": [
        "import tensorflow as tf\n",
        "import pandas as pd\n",
        "import numpy as np\n",
        "import matplotlib.pyplot as plt\n",
        "import seaborn as sn\n",
        "\n",
        "print(tf.__version__)"
      ],
      "execution_count": 1,
      "outputs": [
        {
          "output_type": "stream",
          "text": [
            "2.2.0-rc2\n"
          ],
          "name": "stdout"
        },
        {
          "output_type": "stream",
          "text": [
            "/usr/local/lib/python3.6/dist-packages/statsmodels/tools/_testing.py:19: FutureWarning: pandas.util.testing is deprecated. Use the functions in the public API at pandas.testing instead.\n",
            "  import pandas.util.testing as tm\n"
          ],
          "name": "stderr"
        }
      ]
    },
    {
      "cell_type": "code",
      "metadata": {
        "id": "DwtKonGvPKg8",
        "colab_type": "code",
        "colab": {
          "base_uri": "https://localhost:8080/",
          "height": 359
        },
        "outputId": "0a9bf709-7505-49e5-ad54-8129f9ceaa32"
      },
      "source": [
        "data = pd.read_csv('fabricated_points.csv')\n",
        "data.head(10)"
      ],
      "execution_count": 2,
      "outputs": [
        {
          "output_type": "execute_result",
          "data": {
            "text/html": [
              "<div>\n",
              "<style scoped>\n",
              "    .dataframe tbody tr th:only-of-type {\n",
              "        vertical-align: middle;\n",
              "    }\n",
              "\n",
              "    .dataframe tbody tr th {\n",
              "        vertical-align: top;\n",
              "    }\n",
              "\n",
              "    .dataframe thead th {\n",
              "        text-align: right;\n",
              "    }\n",
              "</style>\n",
              "<table border=\"1\" class=\"dataframe\">\n",
              "  <thead>\n",
              "    <tr style=\"text-align: right;\">\n",
              "      <th></th>\n",
              "      <th>x</th>\n",
              "      <th>y</th>\n",
              "    </tr>\n",
              "  </thead>\n",
              "  <tbody>\n",
              "    <tr>\n",
              "      <th>0</th>\n",
              "      <td>77</td>\n",
              "      <td>79.775152</td>\n",
              "    </tr>\n",
              "    <tr>\n",
              "      <th>1</th>\n",
              "      <td>21</td>\n",
              "      <td>23.177279</td>\n",
              "    </tr>\n",
              "    <tr>\n",
              "      <th>2</th>\n",
              "      <td>22</td>\n",
              "      <td>25.609262</td>\n",
              "    </tr>\n",
              "    <tr>\n",
              "      <th>3</th>\n",
              "      <td>20</td>\n",
              "      <td>17.857388</td>\n",
              "    </tr>\n",
              "    <tr>\n",
              "      <th>4</th>\n",
              "      <td>36</td>\n",
              "      <td>41.849864</td>\n",
              "    </tr>\n",
              "    <tr>\n",
              "      <th>5</th>\n",
              "      <td>15</td>\n",
              "      <td>9.805235</td>\n",
              "    </tr>\n",
              "    <tr>\n",
              "      <th>6</th>\n",
              "      <td>62</td>\n",
              "      <td>58.874659</td>\n",
              "    </tr>\n",
              "    <tr>\n",
              "      <th>7</th>\n",
              "      <td>95</td>\n",
              "      <td>97.617937</td>\n",
              "    </tr>\n",
              "    <tr>\n",
              "      <th>8</th>\n",
              "      <td>20</td>\n",
              "      <td>18.395127</td>\n",
              "    </tr>\n",
              "    <tr>\n",
              "      <th>9</th>\n",
              "      <td>5</td>\n",
              "      <td>8.746748</td>\n",
              "    </tr>\n",
              "  </tbody>\n",
              "</table>\n",
              "</div>"
            ],
            "text/plain": [
              "    x          y\n",
              "0  77  79.775152\n",
              "1  21  23.177279\n",
              "2  22  25.609262\n",
              "3  20  17.857388\n",
              "4  36  41.849864\n",
              "5  15   9.805235\n",
              "6  62  58.874659\n",
              "7  95  97.617937\n",
              "8  20  18.395127\n",
              "9   5   8.746748"
            ]
          },
          "metadata": {
            "tags": []
          },
          "execution_count": 2
        }
      ]
    },
    {
      "cell_type": "code",
      "metadata": {
        "id": "szRDc9RxVeFI",
        "colab_type": "code",
        "colab": {
          "base_uri": "https://localhost:8080/",
          "height": 295
        },
        "outputId": "b955a161-5883-4069-d6e9-f49b5559a6eb"
      },
      "source": [
        "data.plot(x='x', y='y', style='o')  \n",
        "plt.title('data points')  \n",
        "plt.xlabel('x')  \n",
        "plt.ylabel('y')  \n",
        "plt.show()"
      ],
      "execution_count": 3,
      "outputs": [
        {
          "output_type": "display_data",
          "data": {
            "image/png": "[encoded data removed]",
            "text/plain": [
              "<Figure size 432x288 with 1 Axes>"
            ]
          },
          "metadata": {
            "tags": [],
            "needs_background": "light"
          }
        }
      ]
    },
    {
      "cell_type": "code",
      "metadata": {
        "id": "tIeVCyOqZ_uu",
        "colab_type": "code",
        "colab": {
          "base_uri": "https://localhost:8080/",
          "height": 51
        },
        "outputId": "e4345de3-35ec-4637-f878-a47bef85019e"
      },
      "source": [
        "X = np.array(data['x']).reshape(-1,1)\n",
        "Y = np.array(data['y']).reshape(-1,1)\n",
        "print('X has shape: ', X.shape)\n",
        "print('Y has shape: ', Y.shape)"
      ],
      "execution_count": 18,
      "outputs": [
        {
          "output_type": "stream",
          "text": [
            "X has shape:  (300, 1)\n",
            "Y has shape:  (300, 1)\n"
          ],
          "name": "stdout"
        }
      ]
    },
    {
      "cell_type": "code",
      "metadata": {
        "id": "9fS6b42DjYSs",
        "colab_type": "code",
        "colab": {}
      },
      "source": [
        "layer_0 = tf.keras.layers.Dense(units=1, input_shape=[1]) \n",
        "model = tf.keras.Sequential([layer_0])"
      ],
      "execution_count": 0,
      "outputs": []
    },
    {
      "cell_type": "code",
      "metadata": {
        "id": "Bwh45mPdn9f5",
        "colab_type": "code",
        "colab": {
          "base_uri": "https://localhost:8080/",
          "height": 34
        },
        "outputId": "e255dcfc-7cbf-4412-bff7-eef4c1223eb4"
      },
      "source": [
        "model.compile(loss='mean_squared_error', optimizer=tf.keras.optimizers.Adam(0.1))\n",
        "history = model.fit(X, Y, epochs=500, verbose=False)\n",
        "print('Training done')"
      ],
      "execution_count": 20,
      "outputs": [
        {
          "output_type": "stream",
          "text": [
            "Training done\n"
          ],
          "name": "stdout"
        }
      ]
    },
    {
      "cell_type": "markdown",
      "metadata": {
        "id": "ZsLV3jehqieC",
        "colab_type": "text"
      },
      "source": [
        "Let's check for prediction result, and we pick the index 2, x value is 22\tand y actual value is 25.609262"
      ]
    },
    {
      "cell_type": "code",
      "metadata": {
        "id": "zLkwRfk6oG3s",
        "colab_type": "code",
        "colab": {
          "base_uri": "https://localhost:8080/",
          "height": 34
        },
        "outputId": "b7752e7c-3676-4999-957f-f34c10befab0"
      },
      "source": [
        "model.predict([22])"
      ],
      "execution_count": 21,
      "outputs": [
        {
          "output_type": "execute_result",
          "data": {
            "text/plain": [
              "array([[22.013939]], dtype=float32)"
            ]
          },
          "metadata": {
            "tags": []
          },
          "execution_count": 21
        }
      ]
    },
    {
      "cell_type": "code",
      "metadata": {
        "id": "GMZxJXfaoWl6",
        "colab_type": "code",
        "colab": {
          "base_uri": "https://localhost:8080/",
          "height": 68
        },
        "outputId": "81f2a37a-f7a4-4b36-973b-abc4c482e1b8"
      },
      "source": [
        "actual_ouput = data.iloc[2]\n",
        "actual_ouput"
      ],
      "execution_count": 22,
      "outputs": [
        {
          "output_type": "execute_result",
          "data": {
            "text/plain": [
              "x    22.000000\n",
              "y    25.609262\n",
              "Name: 2, dtype: float64"
            ]
          },
          "metadata": {
            "tags": []
          },
          "execution_count": 22
        }
      ]
    },
    {
      "cell_type": "markdown",
      "metadata": {
        "id": "ocVWlJa0q9NC",
        "colab_type": "text"
      },
      "source": [
        "We can see that is some variation between predicted output 22.01818 and the actual y value 25.609262. Let's check on cost function value across the epochs."
      ]
    },
    {
      "cell_type": "code",
      "metadata": {
        "id": "7-otZIKwqXnw",
        "colab_type": "code",
        "colab": {
          "base_uri": "https://localhost:8080/",
          "height": 296
        },
        "outputId": "c8f0b9cf-89a5-4e19-fe1d-981655f4d2fd"
      },
      "source": [
        "plt.xlabel('Epoch Number')\n",
        "plt.ylabel(\"Loss Magnitude\")\n",
        "plt.plot(history.history['loss'])"
      ],
      "execution_count": 23,
      "outputs": [
        {
          "output_type": "execute_result",
          "data": {
            "text/plain": [
              "[<matplotlib.lines.Line2D at 0x7f5c5e5717b8>]"
            ]
          },
          "metadata": {
            "tags": []
          },
          "execution_count": 23
        },
        {
          "output_type": "display_data",
          "data": {
            "image/png": "[encoded data removed]",
            "text/plain": [
              "<Figure size 432x288 with 1 Axes>"
            ]
          },
          "metadata": {
            "tags": [],
            "needs_background": "light"
          }
        }
      ]
    },
    {
      "cell_type": "markdown",
      "metadata": {
        "id": "i9vN9dlHseIL",
        "colab_type": "text"
      },
      "source": [
        "The loss magnitude is decrease sharply. In real world complex problem, the loss magnitude may not converge as fast as this. Anyway, the loss magnitude is decrease near to 0 which is good sign."
      ]
    },
    {
      "cell_type": "code",
      "metadata": {
        "id": "DgsT-NZRrViS",
        "colab_type": "code",
        "colab": {
          "base_uri": "https://localhost:8080/",
          "height": 68
        },
        "outputId": "b0ffe71b-df97-4f4f-d4e4-f07e6e0258ed"
      },
      "source": [
        "m, c = layer_0.get_weights()\n",
        "print(\"These are the layer variables: {}\".format(layer_0.get_weights()))\n",
        "print(\"m : %f\" %m)\n",
        "print(\"b : %f\" %c)"
      ],
      "execution_count": 24,
      "outputs": [
        {
          "output_type": "stream",
          "text": [
            "These are the layer variables: [array([[1.021037]], dtype=float32), array([-0.448875], dtype=float32)]\n",
            "m : 1.021037\n",
            "b : -0.448875\n"
          ],
          "name": "stdout"
        }
      ]
    },
    {
      "cell_type": "markdown",
      "metadata": {
        "id": "NX2_PvUau5Ll",
        "colab_type": "text"
      },
      "source": [
        "We can plot the variables that learned by the neural network and check if it is fit to the data points."
      ]
    },
    {
      "cell_type": "code",
      "metadata": {
        "id": "CdjLquyisyt8",
        "colab_type": "code",
        "colab": {
          "base_uri": "https://localhost:8080/",
          "height": 279
        },
        "outputId": "7c097358-df37-4f63-96b3-0b32170c64a7"
      },
      "source": [
        "data.plot(x='x', y='y', style='o')  \n",
        "plt.plot(X, (m * X)+c, c='red')\n",
        "plt.show()"
      ],
      "execution_count": 25,
      "outputs": [
        {
          "output_type": "display_data",
          "data": {
            "image/png": "[encoded data removed]",
            "text/plain": [
              "<Figure size 432x288 with 1 Axes>"
            ]
          },
          "metadata": {
            "tags": [],
            "needs_background": "light"
          }
        }
      ]
    },
    {
      "cell_type": "markdown",
      "metadata": {
        "id": "Q6iRkE3Zutga",
        "colab_type": "text"
      },
      "source": [
        "Awesome! The neural network model training perform well. Compare to the [work](https://github.com/EeYeoKeat/Machine_Learning_Mathematics/blob/master/Linear_Regression/Univariate_Linear_Regression.ipynb) which using self-build linear regression model, neural network perform much more better."
      ]
    }
  ]
}